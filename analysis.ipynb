{
 "metadata": {
  "language_info": {
   "codemirror_mode": {
    "name": "ipython",
    "version": 3
   },
   "file_extension": ".py",
   "mimetype": "text/x-python",
   "name": "python",
   "nbconvert_exporter": "python",
   "pygments_lexer": "ipython3",
   "version": "3.7.0"
  },
  "orig_nbformat": 2,
  "kernelspec": {
   "name": "python37032bit609734c49ca14e26a118541c06650490",
   "display_name": "Python 3.7.0 32-bit"
  },
  "metadata": {
   "interpreter": {
    "hash": "a9f0e5242b76620d354f2acae913d66ded7e850a66e3cb2e130e3aa882d33a20"
   }
  }
 },
 "nbformat": 4,
 "nbformat_minor": 2,
 "cells": [
  {
   "cell_type": "code",
   "execution_count": 222,
   "metadata": {},
   "outputs": [],
   "source": [
    "import pandas as pd\n",
    "import numpy as np\n",
    "from sklearn.model_selection import train_test_split\n",
    "import seaborn as sns\n",
    "import itertools\n"
   ]
  },
  {
   "cell_type": "code",
   "execution_count": 2,
   "metadata": {},
   "outputs": [],
   "source": [
    "df = pd.read_csv(\"tough_dataset.csv\")\n",
    "backup = df"
   ]
  },
  {
   "cell_type": "code",
   "execution_count": 3,
   "metadata": {},
   "outputs": [
    {
     "output_type": "execute_result",
     "data": {
      "text/plain": [
       "(2946, 69)"
      ]
     },
     "metadata": {},
     "execution_count": 3
    }
   ],
   "source": [
    "df.shape"
   ]
  },
  {
   "cell_type": "code",
   "execution_count": 185,
   "metadata": {},
   "outputs": [],
   "source": [
    "\n",
    "pd.options.display.max_columns = None\n",
    "pd.options.display.max_rows = None\n"
   ]
  },
  {
   "cell_type": "code",
   "execution_count": 5,
   "metadata": {},
   "outputs": [
    {
     "output_type": "execute_result",
     "data": {
      "text/plain": [
       "Index(['id', 'Target A', 'Target B', 'LOAN_AMT', 'Business Title',\n",
       "       'Civil Service Title', 'Division/Work Unit', 'Job Description',\n",
       "       'Minimum Qual Requirements', 'Preferred Skills',\n",
       "       'Additional Information', 'To Apply', 'Hours/Shift',\n",
       "       'Residency Requirement', 'Posting Date', 'Posting Updated',\n",
       "       'Process Date', 'FormalEducation', 'UndergradMajor', 'CompanySize',\n",
       "       'DevType', 'YearsCoding', 'YearsCodingProf', 'HopeFiveYears',\n",
       "       'JobSearchStatus', 'LastNewJob', 'UpdateCV', 'CommunicationTools',\n",
       "       'TimeFullyProductive', 'EducationTypes', 'SelfTaughtTypes',\n",
       "       'TimeAfterBootcamp', 'HackathonReasons', 'AgreeDisagree1',\n",
       "       'AgreeDisagree2', 'AgreeDisagree3', 'LanguageWorkedWith',\n",
       "       'LanguageDesireNextYear', 'DatabaseWorkedWith',\n",
       "       'DatabaseDesireNextYear', 'PlatformWorkedWith',\n",
       "       'PlatformDesireNextYear', 'FrameworkWorkedWith',\n",
       "       'FrameworkDesireNextYear', 'IDE', 'OperatingSystem', 'Methodology',\n",
       "       'VersionControl', 'CheckInCode', 'AIDangerous', 'AIInteresting',\n",
       "       'AIResponsible', 'AIFuture', 'Age', 'term', 'emp_length', 'loan_status',\n",
       "       'pymnt_plan', 'url', 'purpose', 'title', 'zip_code', 'addr_state',\n",
       "       'dti', 'earliest_cr_line', 'last_pymnt_d', 'last_pymnt_amnt',\n",
       "       'next_pymnt_d', 'last_credit_pull_d'],\n",
       "      dtype='object')"
      ]
     },
     "metadata": {},
     "execution_count": 5
    }
   ],
   "source": [
    "df.columns"
   ]
  },
  {
   "cell_type": "code",
   "execution_count": 6,
   "metadata": {},
   "outputs": [
    {
     "output_type": "execute_result",
     "data": {
      "text/plain": [
       "                 id       Target A     Target B      LOAN_AMT          dti  \\\n",
       "count  2.946000e+03    2946.000000  2946.000000   2946.000000  2946.000000   \n",
       "mean   6.830623e+07   58904.139794     0.210115  15345.663612    19.444117   \n",
       "std    1.814269e+06   26986.575936     0.407460   8636.391303     8.628543   \n",
       "min    3.617740e+05       0.000000     0.000000   1000.000000     0.000000   \n",
       "25%    6.837622e+07   49390.000000     0.000000   8681.250000    13.035000   \n",
       "50%    6.846507e+07   58440.000000     0.000000  14400.000000    18.905000   \n",
       "75%    6.853764e+07   73171.750000     0.000000  20000.000000    25.580000   \n",
       "max    6.861706e+07  218587.000000     1.000000  35000.000000    51.200000   \n",
       "\n",
       "       last_pymnt_amnt  \n",
       "count      2946.000000  \n",
       "mean       4663.227026  \n",
       "std        6855.297610  \n",
       "min           0.030000  \n",
       "25%         362.980000  \n",
       "50%         842.235000  \n",
       "75%        6832.185000  \n",
       "max       35467.750000  "
      ],
      "text/html": "<div>\n<style scoped>\n    .dataframe tbody tr th:only-of-type {\n        vertical-align: middle;\n    }\n\n    .dataframe tbody tr th {\n        vertical-align: top;\n    }\n\n    .dataframe thead th {\n        text-align: right;\n    }\n</style>\n<table border=\"1\" class=\"dataframe\">\n  <thead>\n    <tr style=\"text-align: right;\">\n      <th></th>\n      <th>id</th>\n      <th>Target A</th>\n      <th>Target B</th>\n      <th>LOAN_AMT</th>\n      <th>dti</th>\n      <th>last_pymnt_amnt</th>\n    </tr>\n  </thead>\n  <tbody>\n    <tr>\n      <th>count</th>\n      <td>2.946000e+03</td>\n      <td>2946.000000</td>\n      <td>2946.000000</td>\n      <td>2946.000000</td>\n      <td>2946.000000</td>\n      <td>2946.000000</td>\n    </tr>\n    <tr>\n      <th>mean</th>\n      <td>6.830623e+07</td>\n      <td>58904.139794</td>\n      <td>0.210115</td>\n      <td>15345.663612</td>\n      <td>19.444117</td>\n      <td>4663.227026</td>\n    </tr>\n    <tr>\n      <th>std</th>\n      <td>1.814269e+06</td>\n      <td>26986.575936</td>\n      <td>0.407460</td>\n      <td>8636.391303</td>\n      <td>8.628543</td>\n      <td>6855.297610</td>\n    </tr>\n    <tr>\n      <th>min</th>\n      <td>3.617740e+05</td>\n      <td>0.000000</td>\n      <td>0.000000</td>\n      <td>1000.000000</td>\n      <td>0.000000</td>\n      <td>0.030000</td>\n    </tr>\n    <tr>\n      <th>25%</th>\n      <td>6.837622e+07</td>\n      <td>49390.000000</td>\n      <td>0.000000</td>\n      <td>8681.250000</td>\n      <td>13.035000</td>\n      <td>362.980000</td>\n    </tr>\n    <tr>\n      <th>50%</th>\n      <td>6.846507e+07</td>\n      <td>58440.000000</td>\n      <td>0.000000</td>\n      <td>14400.000000</td>\n      <td>18.905000</td>\n      <td>842.235000</td>\n    </tr>\n    <tr>\n      <th>75%</th>\n      <td>6.853764e+07</td>\n      <td>73171.750000</td>\n      <td>0.000000</td>\n      <td>20000.000000</td>\n      <td>25.580000</td>\n      <td>6832.185000</td>\n    </tr>\n    <tr>\n      <th>max</th>\n      <td>6.861706e+07</td>\n      <td>218587.000000</td>\n      <td>1.000000</td>\n      <td>35000.000000</td>\n      <td>51.200000</td>\n      <td>35467.750000</td>\n    </tr>\n  </tbody>\n</table>\n</div>"
     },
     "metadata": {},
     "execution_count": 6
    }
   ],
   "source": [
    "df.describe()"
   ]
  },
  {
   "cell_type": "code",
   "execution_count": 7,
   "metadata": {},
   "outputs": [
    {
     "output_type": "execute_result",
     "data": {
      "text/plain": [
       "id                           False\n",
       "Target A                     False\n",
       "Target B                     False\n",
       "LOAN_AMT                     False\n",
       "Business Title               False\n",
       "Civil Service Title          False\n",
       "Division/Work Unit           False\n",
       "Job Description              False\n",
       "Minimum Qual Requirements     True\n",
       "Preferred Skills              True\n",
       "Additional Information        True\n",
       "To Apply                      True\n",
       "Hours/Shift                   True\n",
       "Residency Requirement         True\n",
       "Posting Date                  True\n",
       "Posting Updated               True\n",
       "Process Date                  True\n",
       "FormalEducation               True\n",
       "UndergradMajor                True\n",
       "CompanySize                  False\n",
       "DevType                       True\n",
       "YearsCoding                   True\n",
       "YearsCodingProf               True\n",
       "HopeFiveYears                 True\n",
       "JobSearchStatus               True\n",
       "LastNewJob                    True\n",
       "UpdateCV                      True\n",
       "CommunicationTools            True\n",
       "TimeFullyProductive           True\n",
       "EducationTypes                True\n",
       "                             ...  \n",
       "DatabaseDesireNextYear        True\n",
       "PlatformWorkedWith            True\n",
       "PlatformDesireNextYear        True\n",
       "FrameworkWorkedWith           True\n",
       "FrameworkDesireNextYear       True\n",
       "IDE                           True\n",
       "OperatingSystem               True\n",
       "Methodology                   True\n",
       "VersionControl                True\n",
       "CheckInCode                   True\n",
       "AIDangerous                   True\n",
       "AIInteresting                 True\n",
       "AIResponsible                 True\n",
       "AIFuture                      True\n",
       "Age                           True\n",
       "term                         False\n",
       "emp_length                    True\n",
       "loan_status                  False\n",
       "pymnt_plan                   False\n",
       "url                          False\n",
       "purpose                      False\n",
       "title                         True\n",
       "zip_code                     False\n",
       "addr_state                   False\n",
       "dti                          False\n",
       "earliest_cr_line             False\n",
       "last_pymnt_d                 False\n",
       "last_pymnt_amnt              False\n",
       "next_pymnt_d                  True\n",
       "last_credit_pull_d           False\n",
       "Length: 69, dtype: bool"
      ]
     },
     "metadata": {},
     "execution_count": 7
    }
   ],
   "source": [
    "df.isnull().any()"
   ]
  },
  {
   "cell_type": "code",
   "execution_count": 8,
   "metadata": {},
   "outputs": [],
   "source": [
    "train, test = train_test_split(df, test_size = 0.2)"
   ]
  },
  {
   "cell_type": "code",
   "execution_count": 9,
   "metadata": {},
   "outputs": [
    {
     "output_type": "execute_result",
     "data": {
      "text/plain": [
       "         id  Target A  Target B  LOAN_AMT  \\\n",
       "0  68407277  42405.00         0      3600   \n",
       "1  68355089  60740.00         1     24700   \n",
       "2  68341763  51907.68         0     20000   \n",
       "3  66310712  51907.68         0     35000   \n",
       "4  68476807     35.00         1     10400   \n",
       "\n",
       "                                      Business Title  \\\n",
       "0                                    Account Manager   \n",
       "1           EXECUTIVE DIRECTOR, BUSINESS DEVELOPMENT   \n",
       "2  Maintenance Worker - Technical Services-Heatin...   \n",
       "3  Maintenance Worker - Technical Services-Heatin...   \n",
       "4                                  Temporary Painter   \n",
       "\n",
       "              Civil Service Title              Division/Work Unit  \\\n",
       "0  CONTRACT REVIEWER (OFFICE OF L            Strategy & Analytics   \n",
       "1  ADMINISTRATIVE BUSINESS PROMOT            Tech Talent Pipeline   \n",
       "2              MAINTENANCE WORKER  Management Services Department   \n",
       "3              MAINTENANCE WORKER  Management Services Department   \n",
       "4                         PAINTER   Dept of Management & Planning   \n",
       "\n",
       "                                     Job Description  \\\n",
       "0  Division of Economic & Financial Opportunity (...   \n",
       "1  The New York City Department of Small Business...   \n",
       "2  Under direct supervision, assist in the routin...   \n",
       "3  Under direct supervision, assist in the routin...   \n",
       "4  Responsibilities of selected candidates will i...   \n",
       "\n",
       "                           Minimum Qual Requirements  \\\n",
       "0  1.\\tA baccalaureate degree from an accredited ...   \n",
       "1  1. A baccalaureate degree from an accredited c...   \n",
       "2  1. Three years of full-time satisfactory exper...   \n",
       "3  1. Three years of full-time satisfactory exper...   \n",
       "4  1. Five years of full-time satisfactory experi...   \n",
       "\n",
       "                                    Preferred Skills        ...          \\\n",
       "0  â€¢\\tExcellent interpersonal and organizationa...        ...           \n",
       "1                                                NaN        ...           \n",
       "2  1.  A High School Diploma or GED.  2.  CDL Dri...        ...           \n",
       "3  1.  A High School Diploma or GED.  2.  CDL Dri...        ...           \n",
       "4                                                NaN        ...           \n",
       "\n",
       "              purpose               title zip_code addr_state    dti  \\\n",
       "0  debt_consolidation  Debt consolidation    190xx         PA   5.91   \n",
       "1      small_business            Business    577xx         SD  16.06   \n",
       "2    home_improvement                 NaN    605xx         IL  10.78   \n",
       "3  debt_consolidation  Debt consolidation    076xx         NJ  17.06   \n",
       "4      major_purchase      Major purchase    174xx         PA  25.37   \n",
       "\n",
       "  earliest_cr_line last_pymnt_d last_pymnt_amnt next_pymnt_d  \\\n",
       "0            3-Aug       19-Jan          122.67          NaN   \n",
       "1           Dec-99       16-Jun          926.35          NaN   \n",
       "2           Aug-00       17-Jun        15813.30          NaN   \n",
       "3            8-Sep       19-Feb          829.90       19-Apr   \n",
       "4           Jun-98       16-Jul        10128.96          NaN   \n",
       "\n",
       "  last_credit_pull_d  \n",
       "0             19-Mar  \n",
       "1             19-Mar  \n",
       "2             19-Mar  \n",
       "3             19-Mar  \n",
       "4             18-Mar  \n",
       "\n",
       "[5 rows x 69 columns]"
      ],
      "text/html": "<div>\n<style scoped>\n    .dataframe tbody tr th:only-of-type {\n        vertical-align: middle;\n    }\n\n    .dataframe tbody tr th {\n        vertical-align: top;\n    }\n\n    .dataframe thead th {\n        text-align: right;\n    }\n</style>\n<table border=\"1\" class=\"dataframe\">\n  <thead>\n    <tr style=\"text-align: right;\">\n      <th></th>\n      <th>id</th>\n      <th>Target A</th>\n      <th>Target B</th>\n      <th>LOAN_AMT</th>\n      <th>Business Title</th>\n      <th>Civil Service Title</th>\n      <th>Division/Work Unit</th>\n      <th>Job Description</th>\n      <th>Minimum Qual Requirements</th>\n      <th>Preferred Skills</th>\n      <th>...</th>\n      <th>purpose</th>\n      <th>title</th>\n      <th>zip_code</th>\n      <th>addr_state</th>\n      <th>dti</th>\n      <th>earliest_cr_line</th>\n      <th>last_pymnt_d</th>\n      <th>last_pymnt_amnt</th>\n      <th>next_pymnt_d</th>\n      <th>last_credit_pull_d</th>\n    </tr>\n  </thead>\n  <tbody>\n    <tr>\n      <th>0</th>\n      <td>68407277</td>\n      <td>42405.00</td>\n      <td>0</td>\n      <td>3600</td>\n      <td>Account Manager</td>\n      <td>CONTRACT REVIEWER (OFFICE OF L</td>\n      <td>Strategy &amp; Analytics</td>\n      <td>Division of Economic &amp; Financial Opportunity (...</td>\n      <td>1.\\tA baccalaureate degree from an accredited ...</td>\n      <td>â€¢\\tExcellent interpersonal and organizationa...</td>\n      <td>...</td>\n      <td>debt_consolidation</td>\n      <td>Debt consolidation</td>\n      <td>190xx</td>\n      <td>PA</td>\n      <td>5.91</td>\n      <td>3-Aug</td>\n      <td>19-Jan</td>\n      <td>122.67</td>\n      <td>NaN</td>\n      <td>19-Mar</td>\n    </tr>\n    <tr>\n      <th>1</th>\n      <td>68355089</td>\n      <td>60740.00</td>\n      <td>1</td>\n      <td>24700</td>\n      <td>EXECUTIVE DIRECTOR, BUSINESS DEVELOPMENT</td>\n      <td>ADMINISTRATIVE BUSINESS PROMOT</td>\n      <td>Tech Talent Pipeline</td>\n      <td>The New York City Department of Small Business...</td>\n      <td>1. A baccalaureate degree from an accredited c...</td>\n      <td>NaN</td>\n      <td>...</td>\n      <td>small_business</td>\n      <td>Business</td>\n      <td>577xx</td>\n      <td>SD</td>\n      <td>16.06</td>\n      <td>Dec-99</td>\n      <td>16-Jun</td>\n      <td>926.35</td>\n      <td>NaN</td>\n      <td>19-Mar</td>\n    </tr>\n    <tr>\n      <th>2</th>\n      <td>68341763</td>\n      <td>51907.68</td>\n      <td>0</td>\n      <td>20000</td>\n      <td>Maintenance Worker - Technical Services-Heatin...</td>\n      <td>MAINTENANCE WORKER</td>\n      <td>Management Services Department</td>\n      <td>Under direct supervision, assist in the routin...</td>\n      <td>1. Three years of full-time satisfactory exper...</td>\n      <td>1.  A High School Diploma or GED.  2.  CDL Dri...</td>\n      <td>...</td>\n      <td>home_improvement</td>\n      <td>NaN</td>\n      <td>605xx</td>\n      <td>IL</td>\n      <td>10.78</td>\n      <td>Aug-00</td>\n      <td>17-Jun</td>\n      <td>15813.30</td>\n      <td>NaN</td>\n      <td>19-Mar</td>\n    </tr>\n    <tr>\n      <th>3</th>\n      <td>66310712</td>\n      <td>51907.68</td>\n      <td>0</td>\n      <td>35000</td>\n      <td>Maintenance Worker - Technical Services-Heatin...</td>\n      <td>MAINTENANCE WORKER</td>\n      <td>Management Services Department</td>\n      <td>Under direct supervision, assist in the routin...</td>\n      <td>1. Three years of full-time satisfactory exper...</td>\n      <td>1.  A High School Diploma or GED.  2.  CDL Dri...</td>\n      <td>...</td>\n      <td>debt_consolidation</td>\n      <td>Debt consolidation</td>\n      <td>076xx</td>\n      <td>NJ</td>\n      <td>17.06</td>\n      <td>8-Sep</td>\n      <td>19-Feb</td>\n      <td>829.90</td>\n      <td>19-Apr</td>\n      <td>19-Mar</td>\n    </tr>\n    <tr>\n      <th>4</th>\n      <td>68476807</td>\n      <td>35.00</td>\n      <td>1</td>\n      <td>10400</td>\n      <td>Temporary Painter</td>\n      <td>PAINTER</td>\n      <td>Dept of Management &amp; Planning</td>\n      <td>Responsibilities of selected candidates will i...</td>\n      <td>1. Five years of full-time satisfactory experi...</td>\n      <td>NaN</td>\n      <td>...</td>\n      <td>major_purchase</td>\n      <td>Major purchase</td>\n      <td>174xx</td>\n      <td>PA</td>\n      <td>25.37</td>\n      <td>Jun-98</td>\n      <td>16-Jul</td>\n      <td>10128.96</td>\n      <td>NaN</td>\n      <td>18-Mar</td>\n    </tr>\n  </tbody>\n</table>\n<p>5 rows × 69 columns</p>\n</div>"
     },
     "metadata": {},
     "execution_count": 9
    }
   ],
   "source": [
    "df.head()"
   ]
  },
  {
   "cell_type": "code",
   "execution_count": 10,
   "metadata": {},
   "outputs": [
    {
     "output_type": "execute_result",
     "data": {
      "text/plain": [
       "Assistant Civil Engineer                                                                                 33\n",
       "Project Manager                                                                                          29\n",
       "College Aide                                                                                             24\n",
       "Construction Project Manager                                                                             22\n",
       "ACCOUNTABLE MANAGER                                                                                      20\n",
       "Confidential Investigator                                                                                18\n",
       "Watershed Maintainer                                                                                     17\n",
       "Investigator                                                                                             17\n",
       "Prosecuting Attorney                                                                                     16\n",
       "Senior Project Manager                                                                                   15\n",
       "Stationary Engineer (Electric)                                                                           13\n",
       "COMPUTER SPECIALIST (SOFTWARE)                                                                           12\n",
       "Civil Engineer 2                                                                                         12\n",
       "Budget Analyst                                                                                           12\n",
       "Civil Engineer 3                                                                                         11\n",
       "Administrative Assistant                                                                                 11\n",
       "Deputy Director                                                                                          11\n",
       "Data Scientist                                                                                           11\n",
       "Assistant General Counsel                                                                                10\n",
       "Information Representative                                                                               10\n",
       "PROGRAM MANAGER                                                                                          10\n",
       "Agency Attorney                                                                                          10\n",
       "Engineering Technician I                                                                                 10\n",
       "Community Coordinator                                                                                    10\n",
       "Policy Analyst                                                                                           10\n",
       "Electrician                                                                                               9\n",
       "Executive Director                                                                                        8\n",
       "CONTRACTS ATTORNEY                                                                                        8\n",
       "Assistant Environmental Engineer                                                                          8\n",
       "Mechanical Engineer                                                                                       8\n",
       "                                                                                                         ..\n",
       "Staff Inspector                                                                                           1\n",
       "Clerical Associate, Bureau of Communicable Diseases                                                       1\n",
       "Deputy Director of Payroll and Timekeeping                                                                1\n",
       "Cyber Security Identity Lifecycle Engineer                                                                1\n",
       "Stock Worker II                                                                                           1\n",
       "Agency Implementation and Support Program Evaluator                                                       1\n",
       "Collections Data Analyst                                                                                  1\n",
       "Chief Analyst/Project Manager                                                                             1\n",
       "FMS Acceptance Coordinator                                                                                1\n",
       "Assistant Director, CA PERT                                                                               1\n",
       "Senior Network Design Engineer                                                                            1\n",
       "SPECIAL EQUIPMENT UNIT HELP DESK REPRESENTATIVE                                                           1\n",
       "Deputy ACCO                                                                                               1\n",
       "Associate Chemist                                                                                         1\n",
       "TIMEKEEPER                                                                                                1\n",
       "Instructor, Division of Environmental Health, Bureau of Environmental Administration (Health Academy)     1\n",
       "Deputy Chief of Payments and Procurement                                                                  1\n",
       "Civilian Investigator                                                                                     1\n",
       "Medical Facilities Administrative Analyst                                                                 1\n",
       "OTPS Budget Manager                                                                                       1\n",
       "BUDGET SUPPORT ASSISTANT                                                                                  1\n",
       "Clerical Associate - Level IV                                                                             1\n",
       "Project Development Coordinator for Manhattan Ballfields                                                  1\n",
       "Application Support Reporting Specialist                                                                  1\n",
       "Staff Analyst 2                                                                                           1\n",
       "PARALEGAL                                                                                                 1\n",
       "Special Advisor to the Director, Neighborhood Development Areas (NDA) Initiative                          1\n",
       "Youth  Justice Coordinator                                                                                1\n",
       "EXECUTIVE DIRECTOR, QM & APPLICATION SUPPORT TECHNOLOGY ENABLEMENT                                        1\n",
       "Staten Island Design Director                                                                             1\n",
       "Name: Business Title, Length: 1244, dtype: int64"
      ]
     },
     "metadata": {},
     "execution_count": 10
    }
   ],
   "source": [
    "df['Business Title'].value_counts()"
   ]
  },
  {
   "cell_type": "code",
   "execution_count": 11,
   "metadata": {},
   "outputs": [
    {
     "output_type": "execute_result",
     "data": {
      "text/plain": [
       "Executive Management              56\n",
       "Central Brookly City Operation    36\n",
       "Law Department                    32\n",
       "Administration                    31\n",
       "Citywide Cybersecurity            29\n",
       "Default                           28\n",
       "Green Infrastructure              25\n",
       "W   S/Connections Permitting      25\n",
       "Dept of Environment Protection    24\n",
       "Information Technology            24\n",
       "Prosecution Division              22\n",
       "Asset Management                  20\n",
       "Human Resources                   20\n",
       "Office of Energy Conservatio      20\n",
       "OCME-Admin                        19\n",
       "Blue Belt Unit                    19\n",
       "Environmental Health & Safety     18\n",
       "Lead Hazard Control Department    18\n",
       "Pub Bldgs/Corrections             18\n",
       "Executive Deputy Com              18\n",
       "Civilian Complaint Review Bd      17\n",
       "Sidewalk/inspection Management    17\n",
       "WSO-OGI Maintenance               17\n",
       "Mis Admin,Network Sysms Dvlpmt    17\n",
       "Plant Construction                16\n",
       "Executive                         16\n",
       "Information Systems-Admin         16\n",
       "Law Enforc.Bureau Executive       16\n",
       "Borough President - Queens        16\n",
       "Infra-Coastal Resiliency          16\n",
       "                                  ..\n",
       "Tax Mapping Unit                   1\n",
       "Land Use Review                    1\n",
       "Traffic Deputy Commissioner        1\n",
       "Water Register/Inspect Bklyn       1\n",
       "Sys Oper South East Hudson U       1\n",
       "Brooklyn Business Center           1\n",
       "Audit Metro Personal IncomeTax     1\n",
       "Communicable Diseases              1\n",
       "Strategy & Analytics               1\n",
       "Health Support Services            1\n",
       "Hasa Hiv/Aids Svcs Admin-NM        1\n",
       "Infrastructure MGMT Admin          1\n",
       "C.E.D - B03,B04, B05, B06/Civ      1\n",
       "OCMC                               1\n",
       "Capital Planning Development       1\n",
       "Wireless Technologies              1\n",
       "MN BORO COMMISSIONER               1\n",
       "Compass SONYC                      1\n",
       "Deputy Comm Mgt & Budget Civ       1\n",
       "Tax Audit Enforcement              1\n",
       "DORMANT                            1\n",
       "Adm/Human Resources & Training     1\n",
       "Public Safety IT Programs          1\n",
       "Prop Clerk Div Bklyn/Civ and C     1\n",
       "Vital Statistics/Vital Recor       1\n",
       "IT Operations Admind               1\n",
       "Risk Mitigation Divison/Civ        1\n",
       "Citywide System Analysis           1\n",
       "A/C Prop Exemp Adm                 1\n",
       "Personnel Bureau/Civ & Cad         1\n",
       "Name: Division/Work Unit, Length: 678, dtype: int64"
      ]
     },
     "metadata": {},
     "execution_count": 11
    }
   ],
   "source": [
    "df['Division/Work Unit'].value_counts()"
   ]
  },
  {
   "cell_type": "code",
   "execution_count": 12,
   "metadata": {},
   "outputs": [],
   "source": [
    "df.loc[~df['Preferred Skills'].isnull(), 'skills y/n'] = 1\n",
    "df.loc[df['Preferred Skills'].isnull(), 'skills y/n'] = 0"
   ]
  },
  {
   "cell_type": "code",
   "execution_count": 13,
   "metadata": {},
   "outputs": [
    {
     "output_type": "execute_result",
     "data": {
      "text/plain": [
       "35 Hours                                                                                                                                                                                                                                                   134\n",
       "35 hours per week                                                                                                                                                                                                                                           47\n",
       "Day - Due to the necessary technical support duties of this position in a 24/7 operation, candidate may be required to work various shifts such as weekends and/or nights/evenings.                                                                         38\n",
       "35 hours per week / day                                                                                                                                                                                                                                     36\n",
       "35hrs                                                                                                                                                                                                                                                       33\n",
       "Unless otherwise indicated, all positions require a five-day workweek.                                                                                                                                                                                      24\n",
       "DAY, 9-5; ON OCCASION, CANDIDATES WILL BE REQUIRED TO WORK EVENINGS AND/OR ON WEEKENDS TO SUPPORT THE DUTIES OF THE POSITION.                                                                                                                               22\n",
       "Monday â€“ Friday, 9am to 5pm.                                                                                                                                                                                                                              19\n",
       "35 hours                                                                                                                                                                                                                                                    18\n",
       "35 hours per week.                                                                                                                                                                                                                                          17\n",
       "Day - Due to the necessary technical management duties of this position in a 24/7 operation, candidate may be required to be on call and/or work various shifts such as weekends and/or nights/evenings.                                                    15\n",
       "Day                                                                                                                                                                                                                                                         13\n",
       "35 Hours Per Week (minimum)                                                                                                                                                                                                                                 12\n",
       "Day - Due to the necessary support duties of this position in a 24/7 operation, candidate may be required to work various shifts such as weekends and/or nights/evenings.                                                                                   11\n",
       "Shift depends on the Command.                                                                                                                                                                                                                               11\n",
       "35 Hours per week                                                                                                                                                                                                                                           11\n",
       "40 hours per week / day                                                                                                                                                                                                                                     11\n",
       "TBD                                                                                                                                                                                                                                                         10\n",
       "35 Hours per week / May be required to work shifts including nights, Saturdays, Sundays, and holidays.                                                                                                                                                      10\n",
       "35 Hours Per Week                                                                                                                                                                                                                                            9\n",
       "35 Hours Per Week.                                                                                                                                                                                                                                           8\n",
       "35 hours per week / To be determined                                                                                                                                                                                                                         8\n",
       "35 Hours Weekly                                                                                                                                                                                                                                              8\n",
       "35 Hours/ To Be Determined                                                                                                                                                                                                                                   7\n",
       "35 Hours Week/Day Shift                                                                                                                                                                                                                                      7\n",
       "This is a full time position consisting of 35 hours per week.                                                                                                                                                                                                6\n",
       "To Be Determined                                                                                                                                                                                                                                             6\n",
       "9:00 AM - 5:00 PM                                                                                                                                                                                                                                            6\n",
       "Monday â€“ Friday, 9am to 5pm                                                                                                                                                                                                                                6\n",
       "35 hours a week.                                                                                                                                                                                                                                             6\n",
       "                                                                                                                                                                                                                                                          ... \n",
       "Day - Due to the necessary technical duties of this position in a 24/7 operation, candidate may be required to work various shifts such as weekends and/or nights/evenings.                                                                                  1\n",
       "35 Hours/8:30AM to 4:30PM                                                                                                                                                                                                                                    1\n",
       "40 hours per week (Nights)                                                                                                                                                                                                                                   1\n",
       "35 Hours per Week                                                                                                                                                                                                                                            1\n",
       "M-F / 9-5                                                                                                                                                                                                                                                    1\n",
       "35 Hours per week/Day shift                                                                                                                                                                                                                                  1\n",
       "35 hours/Monday-Friday                                                                                                                                                                                                                                       1\n",
       "Monday - Friday 0900 to 1700 hours.                                                                                                                                                                                                                          1\n",
       "Day - Due to the necessary technical management duties of this position in a 24/7 operation, candidate may be required to work various shifts such as weekends and/or nights/evenings.                                                                       1\n",
       "Monday â€“ Friday/8:30am to 4:30pm                                                                                                                                                                                                                           1\n",
       "Due to the necessary duties of this position in a 24/7 operation, candidate may be required to work various shifts such as weekends and/or nights/evenings. It is anticipated that this position will start as an evening Call Center Manager position.      1\n",
       "35 Hours / TBD                                                                                                                                                                                                                                               1\n",
       "Monday through Friday  9;00 am - 5:00 pm                                                                                                                                                                                                                     1\n",
       "40 Hours per week / Shift work including nights, weekends and holidays.                                                                                                                                                                                      1\n",
       "Day - Due to the necessary management duties of this position in a 24/7 operation, candidate may be required to be on call and/or work various shifts such as weekends and/or nights/evenings.                                                               1\n",
       "35 Hrs./ 9:00amâ€“5:00pm/ M-F                                                                                                                                                                                                                                1\n",
       "35hours week                                                                                                                                                                                                                                                 1\n",
       "Monday through Friday from 9:00 a.m. to 5:00 p.m.                                                                                                                                                                                                            1\n",
       "Shift depends on the command.                                                                                                                                                                                                                                1\n",
       "3rd Platoon 1530 x  2330 hrs.                                                                                                                                                                                                                                1\n",
       "40 Hours per week / Shift TBD                                                                                                                                                                                                                                1\n",
       "Shift Depends on the Commands.                                                                                                                                                                                                                               1\n",
       "Monday through Friday, 35 hours per week                                                                                                                                                                                                                     1\n",
       "35 Hrs./Shift TBD                                                                                                                                                                                                                                            1\n",
       "Monday - Friday;  9 AM - 5 PM                                                                                                                                                                                                                                1\n",
       "Monday-Friday; 9 AM - 5 PM                                                                                                                                                                                                                                   1\n",
       "Marine Engineers (Uniformed-Fire Department) may be required to work shifts including nights, Saturdays, Sundays, and holidays.                                                                                                                              1\n",
       "40 hours per week/day                                                                                                                                                                                                                                        1\n",
       "0900 x 1700 Hours                                                                                                                                                                                                                                            1\n",
       "Tours of duty vary and may include Saturday and Sunday.                                                                                                                                                                                                      1\n",
       "Name: Hours/Shift, Length: 181, dtype: int64"
      ]
     },
     "metadata": {},
     "execution_count": 13
    }
   ],
   "source": [
    "df['Hours/Shift'].value_counts()"
   ]
  },
  {
   "cell_type": "code",
   "execution_count": 14,
   "metadata": {},
   "outputs": [],
   "source": [
    "df.loc[~df['Hours/Shift'].isnull(), 'hrs'] = 1\n",
    "df.loc[df['Hours/Shift'].isnull(), 'hrs'] = 0"
   ]
  },
  {
   "cell_type": "code",
   "execution_count": 15,
   "metadata": {},
   "outputs": [
    {
     "output_type": "execute_result",
     "data": {
      "text/plain": [
       "0.0    2062\n",
       "1.0     884\n",
       "Name: hrs, dtype: int64"
      ]
     },
     "metadata": {},
     "execution_count": 15
    }
   ],
   "source": [
    "df.hrs.value_counts()"
   ]
  },
  {
   "cell_type": "code",
   "execution_count": 16,
   "metadata": {},
   "outputs": [
    {
     "output_type": "execute_result",
     "data": {
      "text/plain": [
       "y employer with a strong commitment to the diversity of our organization and workforce. Your voluntary response to the NYCAPS on-line application section for referral information will assist us tremendously in our ability to track the success of our outreach and recruitment efforts. Please be sure to indicate your source of referral to this job.                                                                                                                                                                                                                                                                                                                                                                          2\n",
       "New York City Residency is not required for this position      DEP is an equal opportunity employer with a strong commitment to the diversity of our organization and workforce. Your voluntary response to the NYCAPS on-line application section for referral information will assist us tremendously in our ability to track the success of our outreach and recruitment efforts. Please be sure to indicate your source of referral to this job.                                                                                                                                                                                                                                                                                                                                                                            2\n",
       "New York City residency required within 90 days of appointment                                                                                                                                                                                                                                                                                                                                                                                                                                                                                                                                                                                                                                                                                                                                                                  2\n",
       "PLEASE NOTE: New York City residency is generally required within 90 days of appointment. However, City Employees in certain titles who have worked for the City for 2 continuous years may also be eligible to reside in Nassau, Suffolk, Putnam, Westchester, Rockland, or Orange County.                                                                                                                                                                                                                                                                                                                                                                                                                                                                                                                                     2\n",
       "New York City Residency is not required for this position.            DEP is an equal opportunity employer with a strong commitment to the diversity of our organization and workforce. Your voluntary response to the NYCAPS on-line application section for referral information will assist us tremendously in our ability to track the success of our outreach and recruitment efforts. Please be sure to indicate your source of referral to this job.                                                                                                                                                                                                                                                                                                                                                                     2\n",
       "NYC Residency is required for this position within 90 days of appointment.                                                                                                                                                                                                                                                                                                                                                                                                                                                                                                                                                                                                                                                                                                                                                      2\n",
       "New York Residency requirement is not required for this position.  However, you must reside in New York State.                                                                                                                                                                                                                                                                                                                                                                                                                                                                                                                                                                                                                                                                                                                  2\n",
       "New York City residency is not required for this position. However, you must reside in New York State                                                                                                                                                                                                                                                                                                                                                                                                                                                                                                                                                                                                                                                                                                                           2\n",
       "New York City residency is not required for this position. However, you must reside in New York State.                                                                                                                                                                                                                                                                                                                                                                                                                                                                                                                                                                                                                                                                                                                          2\n",
       "New York City residency is generally required within 90 days of appointment. However, City Employees in certain titles who have worked for the City for 2 continuous years may also be eligible to reside in Nassau, Suffolk, Putnam, Westchester, Rockland, or Orange County. To determine if the residency requirement applies to you, please discuss with the agency representative at the time of interview. To determine if the residency requirement applies to you, please discuss with the agency representative at the time of interview.                                                                                                                                                                                                                                                                              2\n",
       "New York City residency required within 90 days of appointment.                                                                                                                                                                                                                                                                                                                                                                                                                                                                                                                                                                                                                                                                                                                                                                 2\n",
       "The candidate selected for this position must be a resident of the City of New York or become a resident within 90 days of appointment.                                                                                                                                                                                                                                                                                                                                                                                                                                                                                                                                                                                                                                                                                         2\n",
       "The is no residency requirement for the position.                                                                                                                                                                                                                                                                                                                                                                                                                                                                                                                                                                                                                                                                                                                                                                               2\n",
       "**A person serving in a mayoral agency in any of the following civil service titles shall be a resident of the city on the date that he or she assumes such title or shall establish City Residence within ninety days after such date and shall thereafter maintain City residency for as long as he or she serves in such title: agency heads,  including but not limited to Commissioner, First Deputy Commissioner, Executive Deputy Commissioner, Deputy Commissioner, General Counsel, Assistant Deputy Commissioner, Associate Commissioner, Assistant Commissioner.                                                                                                                                                                                                                                                     2\n",
       "Note:  New York City Residency is not required for this position; however, you must reside in New York State.  *Funded position subject to annual renewal.                                                                                                                                                                                                                                                                                                                                                                                                                                                                                                                                                                                                                                                                      2\n",
       "Must be a resident of New York State.                                                                                                                                                                                                                                                                                                                                                                                                                                                                                                                                                                                                                                                                                                                                                                                           2\n",
       "NEW YORK CITY RESIDENCY IS REQUIRED WITHIN 90 DAYS OF APPOINTMENT Candidates with two (2) years of City service may reside in New York City, Nassau, Orange, Rockland, Suffolk, Putnam or Westchester counties.                                                                                                                                                                                                                                                                                                                                                                                                                                                                                                                                                                                                                 2\n",
       "New York City residency is generally required within 90 days of appointment. However, City Employees in certain titles who have worked for the City for 2 continuous years may also be eligible to reside in Nassau, Suffolk, Putnam, Westchester, Rockland, or Orange County. To determine if the residency requirement applies to you, please discuss with the agency representative at the time of interview.   EEPC is an equal opportunity employer with a strong commitment to the diversity of our organization and workforce. Your voluntary response to the NYCAPS on-line application section for demographic and referral information will assist us tremendously in our ability to track the success of our outreach and recruitment efforts. Please be sure to indicate your source of referral to this job.       2\n",
       "019New York City Residency is not required for this position                                                                                                                                                                                                                                                                                                                                                                                                                                                                                                                                                                                                                                                                                                                                                                    2\n",
       "New York City Residency is not required for this position  NYCERS is an Equal Opportunity Employer  M/F/H/V                                                                                                                                                                                                                                                                                                                                                                                                                                                                                                                                                                                                                                                                                                                     2\n",
       "The candidate selected for this position must be a resident of the City of New York or become a resident within 90 days of appointment.  Authorization to work in the United States is required for this position.   Sponsorship is not available for this position.  THE RICHMOND COUNTY DISTIRCT ATTORNEY IS AN EQUAL OPPORTUNITY EMPLOYER AND A COPY OF THE EQUAL OPPORTUNITY PROGRAMS IS AVAILABLE IN THE HUMAN CAPITAL DIVISION. THE DEPARTMENT MAKES AVAILABLE ACCOMMODATIONS FOR DISABLED APPLICANTS                                                                                                                                                                                                                                                                                                                     2\n",
       "NYCHA has no Residency Requirements.                                                                                                                                                                                                                                                                                                                                                                                                                                                                                                                                                                                                                                                                                                                                                                                            2\n",
       "New York City residency is generally required within 90 days of appointment. However, City Employees in certain titles who have worked for the City for 2 continuous years may also be eligible to reside in Nassau, Suffolk, Putnam, Westchester, Rockland, or Orange County. To determine if the residency requirement applies to you, please discuss with the agency representative at the time of the interview.                                                                                                                                                                                                                                                                                                                                                                                                            1\n",
       "The candidate selected for this position must be a resident of the City of New York or become a resident within 90 days of appointment.  Authorization to work in the United States is required for this position.   Sponsorship is not available for this position.  THE RICHMOND COUNTY DISTRICT ATTORNEY IS AN EQUAL OPPORTUNITY EMPLOYER AND A COPY OF THE EQUAL OPPORTUNITY PROGRAMS IS AVAILABLE IN THE HUMAN CAPITAL DIVISION. THE DEPARTMENT MAKES AVAILABLE ACCOMMODATIONS FOR DISABLED APPLICANTS                                                                                                                                                                                                                                                                                                                     1\n",
       "NYCHA has residency requirements.                                                                                                                                                                                                                                                                                                                                                                                                                                                                                                                                                                                                                                                                                                                                                                                               1\n",
       "Name: Residency Requirement, dtype: int64"
      ]
     },
     "metadata": {},
     "execution_count": 16
    }
   ],
   "source": [
    "df['Residency Requirement'].value_counts()"
   ]
  },
  {
   "cell_type": "code",
   "execution_count": 17,
   "metadata": {},
   "outputs": [
    {
     "output_type": "execute_result",
     "data": {
      "text/plain": [
       "2019-12-17T00:00:00.000    2942\n",
       "Name: Process Date, dtype: int64"
      ]
     },
     "metadata": {},
     "execution_count": 17
    }
   ],
   "source": [
    "df['Process Date'].value_counts()"
   ]
  },
  {
   "cell_type": "code",
   "execution_count": 18,
   "metadata": {},
   "outputs": [],
   "source": [
    "df['Posting Date'] = df['Posting Date'].apply(lambda x: str(x)[0:4])"
   ]
  },
  {
   "cell_type": "code",
   "execution_count": 19,
   "metadata": {},
   "outputs": [],
   "source": [
    "df['Posting Updated'] = df['Posting Updated'].apply(lambda x: str(x)[0:4])"
   ]
  },
  {
   "cell_type": "code",
   "execution_count": 20,
   "metadata": {},
   "outputs": [
    {
     "output_type": "execute_result",
     "data": {
      "text/plain": [
       "2019    2232\n",
       "2018     347\n",
       "2017     174\n",
       "2016     140\n",
       "2015      29\n",
       "2014      14\n",
       "nan        4\n",
       "2013       4\n",
       "2012       1\n",
       "2011       1\n",
       "Name: Posting Date, dtype: int64"
      ]
     },
     "metadata": {},
     "execution_count": 20
    }
   ],
   "source": [
    "df['Posting Date'].value_counts()"
   ]
  },
  {
   "cell_type": "code",
   "execution_count": 21,
   "metadata": {},
   "outputs": [],
   "source": [
    "df.loc[df['Posting Date'] == 'nan', 'Posting Date'] = 2019"
   ]
  },
  {
   "cell_type": "code",
   "execution_count": 22,
   "metadata": {},
   "outputs": [
    {
     "output_type": "execute_result",
     "data": {
      "text/plain": [
       "2019    2232\n",
       "2018     347\n",
       "2017     174\n",
       "2016     140\n",
       "2015      29\n",
       "2014      14\n",
       "2019       4\n",
       "2013       4\n",
       "2012       1\n",
       "2011       1\n",
       "Name: Posting Date, dtype: int64"
      ]
     },
     "metadata": {},
     "execution_count": 22
    }
   ],
   "source": [
    "df['Posting Date'].value_counts()"
   ]
  },
  {
   "cell_type": "code",
   "execution_count": 23,
   "metadata": {},
   "outputs": [
    {
     "output_type": "execute_result",
     "data": {
      "text/plain": [
       "0       2011\n",
       "1       2012\n",
       "2       2013\n",
       "3       2013\n",
       "4       2014\n",
       "5       2014\n",
       "6       2013\n",
       "7       2013\n",
       "8       2014\n",
       "9       2014\n",
       "10      2014\n",
       "11      2014\n",
       "12      2014\n",
       "13      2014\n",
       "14      2014\n",
       "15      2014\n",
       "16      2014\n",
       "17      2014\n",
       "18      2014\n",
       "19      2014\n",
       "20      2015\n",
       "21      2015\n",
       "22      2015\n",
       "23      2015\n",
       "24      2015\n",
       "25      2015\n",
       "26      2015\n",
       "27      2015\n",
       "28      2015\n",
       "29      2015\n",
       "        ... \n",
       "2916    2019\n",
       "2917    2019\n",
       "2918    2019\n",
       "2919    2019\n",
       "2920    2019\n",
       "2921    2019\n",
       "2922    2019\n",
       "2923    2019\n",
       "2924    2019\n",
       "2925    2019\n",
       "2926    2019\n",
       "2927    2019\n",
       "2928    2019\n",
       "2929    2019\n",
       "2930    2019\n",
       "2931    2019\n",
       "2932    2019\n",
       "2933    2019\n",
       "2934    2019\n",
       "2935    2019\n",
       "2936    2019\n",
       "2937    2019\n",
       "2938    2019\n",
       "2939    2019\n",
       "2940    2019\n",
       "2941    2019\n",
       "2942    2019\n",
       "2943    2019\n",
       "2944    2019\n",
       "2945    2019\n",
       "Name: Posting Date, Length: 2946, dtype: object"
      ]
     },
     "metadata": {},
     "execution_count": 23
    }
   ],
   "source": [
    "df['Posting Date']"
   ]
  },
  {
   "cell_type": "code",
   "execution_count": 24,
   "metadata": {},
   "outputs": [
    {
     "output_type": "execute_result",
     "data": {
      "text/plain": [
       "52"
      ]
     },
     "metadata": {},
     "execution_count": 24
    }
   ],
   "source": [
    "df['FormalEducation'].isnull().sum()"
   ]
  },
  {
   "cell_type": "code",
   "execution_count": 25,
   "metadata": {},
   "outputs": [
    {
     "output_type": "execute_result",
     "data": {
      "text/plain": [
       "Bachelor’s degree (BA, BS, B.Eng., etc.)                                              1442\n",
       "Master’s degree (MA, MS, M.Eng., MBA, etc.)                                            716\n",
       "Some college/university study without earning a degree                                 319\n",
       "Secondary school (e.g. American high school, German Realschule or Gymnasium, etc.)     179\n",
       "Associate degree                                                                        92\n",
       "Other doctoral degree (Ph.D, Ed.D., etc.)                                               75\n",
       "Professional degree (JD, MD, etc.)                                                      43\n",
       "Primary/elementary school                                                               17\n",
       "I never completed any formal education                                                  11\n",
       "Name: FormalEducation, dtype: int64"
      ]
     },
     "metadata": {},
     "execution_count": 25
    }
   ],
   "source": [
    "df['FormalEducation'].value_counts()"
   ]
  },
  {
   "cell_type": "code",
   "execution_count": 26,
   "metadata": {},
   "outputs": [],
   "source": [
    "df.loc[df['FormalEducation'].isnull(), 'FormalEducation'] = 'I never completed any formal education'"
   ]
  },
  {
   "cell_type": "code",
   "execution_count": 27,
   "metadata": {},
   "outputs": [
    {
     "output_type": "execute_result",
     "data": {
      "text/plain": [
       "322"
      ]
     },
     "metadata": {},
     "execution_count": 27
    }
   ],
   "source": [
    "df['UndergradMajor'].isnull().sum()"
   ]
  },
  {
   "cell_type": "code",
   "execution_count": 28,
   "metadata": {},
   "outputs": [
    {
     "output_type": "execute_result",
     "data": {
      "text/plain": [
       "Computer science, computer engineering, or software engineering          1698\n",
       "Information systems, information technology, or system administration     247\n",
       "Another engineering discipline (ex. civil, electrical, mechanical)        205\n",
       "A natural science (ex. biology, chemistry, physics)                       109\n",
       "Mathematics or statistics                                                  86\n",
       "A business discipline (ex. accounting, finance, marketing)                 65\n",
       "Web development or web design                                              64\n",
       "A humanities discipline (ex. literature, history, philosophy)              48\n",
       "A social science (ex. anthropology, psychology, political science)         38\n",
       "Fine arts or performing arts (ex. graphic design, music, studio art)       38\n",
       "I never declared a major                                                   23\n",
       "A health science (ex. nursing, pharmacy, radiology)                         3\n",
       "Name: UndergradMajor, dtype: int64"
      ]
     },
     "metadata": {},
     "execution_count": 28
    }
   ],
   "source": [
    "df['UndergradMajor'].value_counts()"
   ]
  },
  {
   "cell_type": "code",
   "execution_count": 29,
   "metadata": {},
   "outputs": [],
   "source": [
    "df.loc[df['UndergradMajor'].isnull(), 'UndergradMajor'] = 'I never declared a major'"
   ]
  },
  {
   "cell_type": "code",
   "execution_count": 30,
   "metadata": {},
   "outputs": [
    {
     "output_type": "execute_result",
     "data": {
      "text/plain": [
       "20 to 99 employees          719\n",
       "100 to 499 employees        580\n",
       "10,000 or more employees    387\n",
       "10 to 19 employees          329\n",
       "1,000 to 4,999 employees    316\n",
       "Fewer than 10 employees     304\n",
       "500 to 999 employees        205\n",
       "5,000 to 9,999 employees    106\n",
       "Name: CompanySize, dtype: int64"
      ]
     },
     "metadata": {},
     "execution_count": 30
    }
   ],
   "source": [
    "df['CompanySize'].value_counts()"
   ]
  },
  {
   "cell_type": "code",
   "execution_count": 31,
   "metadata": {},
   "outputs": [],
   "source": [
    "df.loc[df['CompanySize'] == '20 to 99 employees', 'CompanySize'] = 60\n",
    "df.loc[df['CompanySize'] == '100 to 499 employees', 'CompanySize'] = 300\n",
    "df.loc[df['CompanySize'] == '10,000 or more employees', 'CompanySize'] = 15000\n",
    "df.loc[df['CompanySize'] == '10 to 19 employees', 'CompanySize'] = 15\n",
    "df.loc[df['CompanySize'] == '1,000 to 4,999 employees', 'CompanySize'] = 3000\n",
    "df.loc[df['CompanySize'] == 'Fewer than 10 employees', 'CompanySize'] = 5\n",
    "df.loc[df['CompanySize'] == '500 to 999 employees', 'CompanySize'] = 750\n",
    "df.loc[df['CompanySize'] == '5,000 to 9,999 employees', 'CompanySize'] = 75000"
   ]
  },
  {
   "cell_type": "code",
   "execution_count": 32,
   "metadata": {},
   "outputs": [
    {
     "output_type": "execute_result",
     "data": {
      "text/plain": [
       "45"
      ]
     },
     "metadata": {},
     "execution_count": 32
    }
   ],
   "source": [
    "df['DevType'].isnull().sum()"
   ]
  },
  {
   "cell_type": "code",
   "execution_count": 33,
   "metadata": {},
   "outputs": [
    {
     "output_type": "execute_result",
     "data": {
      "text/plain": [
       "Full-stack developer                                                                                                                                                                                        225\n",
       "Back-end developer                                                                                                                                                                                          219\n",
       "Back-end developer;Front-end developer;Full-stack developer                                                                                                                                                 180\n",
       "Mobile developer                                                                                                                                                                                            141\n",
       "Back-end developer;Full-stack developer                                                                                                                                                                     120\n",
       "Front-end developer                                                                                                                                                                                         110\n",
       "Back-end developer;Front-end developer                                                                                                                                                                       38\n",
       "Front-end developer;Full-stack developer                                                                                                                                                                     37\n",
       "Back-end developer;Front-end developer;Full-stack developer;Mobile developer                                                                                                                                 36\n",
       "Back-end developer;Desktop or enterprise applications developer;Front-end developer;Full-stack developer                                                                                                     35\n",
       "Data scientist or machine learning specialist                                                                                                                                                                31\n",
       "Desktop or enterprise applications developer                                                                                                                                                                 29\n",
       "Embedded applications or devices developer                                                                                                                                                                   27\n",
       "Back-end developer;Desktop or enterprise applications developer                                                                                                                                              23\n",
       "Front-end developer;Mobile developer                                                                                                                                                                         22\n",
       "Student                                                                                                                                                                                                      21\n",
       "Back-end developer;DevOps specialist                                                                                                                                                                         21\n",
       "Back-end developer;Desktop or enterprise applications developer;Full-stack developer                                                                                                                         20\n",
       "Designer;Front-end developer                                                                                                                                                                                 19\n",
       "C-suite executive (CEO, CTO, etc.)                                                                                                                                                                           18\n",
       "Back-end developer;Desktop or enterprise applications developer;Front-end developer;Full-stack developer;Mobile developer                                                                                    18\n",
       "Back-end developer;Database administrator;Front-end developer;Full-stack developer                                                                                                                           17\n",
       "DevOps specialist                                                                                                                                                                                            17\n",
       "Data or business analyst                                                                                                                                                                                     16\n",
       "Back-end developer;DevOps specialist;Full-stack developer                                                                                                                                                    16\n",
       "Data or business analyst;Data scientist or machine learning specialist                                                                                                                                       16\n",
       "System administrator                                                                                                                                                                                         16\n",
       "Back-end developer;Mobile developer                                                                                                                                                                          15\n",
       "Back-end developer;Designer;Front-end developer;Full-stack developer                                                                                                                                         15\n",
       "Full-stack developer;Mobile developer                                                                                                                                                                        15\n",
       "                                                                                                                                                                                                           ... \n",
       "Back-end developer;Data scientist or machine learning specialist;Educator or academic researcher;Front-end developer;Full-stack developer                                                                     1\n",
       "C-suite executive (CEO, CTO, etc.);Desktop or enterprise applications developer;Marketing or sales professional;Product manager                                                                               1\n",
       "Back-end developer;Desktop or enterprise applications developer;Embedded applications or devices developer;Full-stack developer                                                                               1\n",
       "Desktop or enterprise applications developer;Full-stack developer;QA or test developer                                                                                                                        1\n",
       "Back-end developer;Desktop or enterprise applications developer;Front-end developer;Full-stack developer;Mobile developer;Product manager;System administrator                                                1\n",
       "Data scientist or machine learning specialist;Embedded applications or devices developer;Student                                                                                                              1\n",
       "Database administrator;Designer;Desktop or enterprise applications developer;Full-stack developer                                                                                                             1\n",
       "Back-end developer;Database administrator;Marketing or sales professional;Student                                                                                                                             1\n",
       "Back-end developer;C-suite executive (CEO, CTO, etc.);DevOps specialist;Engineering manager                                                                                                                   1\n",
       "Back-end developer;Data or business analyst;Database administrator;DevOps specialist;Engineering manager;Front-end developer;Full-stack developer;System administrator                                        1\n",
       "Back-end developer;Data or business analyst;Designer;Desktop or enterprise applications developer                                                                                                             1\n",
       "Back-end developer;Desktop or enterprise applications developer;Front-end developer;Student                                                                                                                   1\n",
       "Back-end developer;Database administrator;Designer;Embedded applications or devices developer;Front-end developer;Mobile developer                                                                            1\n",
       "Back-end developer;Data or business analyst;Database administrator;Desktop or enterprise applications developer;Front-end developer;Full-stack developer                                                      1\n",
       "Back-end developer;Data scientist or machine learning specialist;Designer;Student                                                                                                                             1\n",
       "Back-end developer;Desktop or enterprise applications developer;DevOps specialist;Front-end developer;Full-stack developer;System administrator                                                               1\n",
       "Full-stack developer;Mobile developer;Product manager                                                                                                                                                         1\n",
       "Back-end developer;Database administrator;Designer;DevOps specialist;Front-end developer;Full-stack developer;QA or test developer;System administrator                                                       1\n",
       "Desktop or enterprise applications developer;Embedded applications or devices developer;QA or test developer                                                                                                  1\n",
       "Back-end developer;Database administrator;DevOps specialist;Front-end developer;Full-stack developer;Mobile developer                                                                                         1\n",
       "Back-end developer;Data or business analyst;DevOps specialist;Embedded applications or devices developer                                                                                                      1\n",
       "Database administrator;Designer;Educator or academic researcher;Engineering manager;Front-end developer;Game or graphics developer;Marketing or sales professional;Mobile developer;QA or test developer      1\n",
       "Back-end developer;Designer;Desktop or enterprise applications developer;Educator or academic researcher;Front-end developer                                                                                  1\n",
       "Back-end developer;Database administrator;Designer                                                                                                                                                            1\n",
       "Back-end developer;Engineering manager;Front-end developer;Full-stack developer;Mobile developer;Product manager                                                                                              1\n",
       "Desktop or enterprise applications developer;Full-stack developer;Student                                                                                                                                     1\n",
       "Back-end developer;Database administrator;Front-end developer;Marketing or sales professional;Product manager;System administrator                                                                            1\n",
       "Data or business analyst;Marketing or sales professional                                                                                                                                                      1\n",
       "Game or graphics developer;Marketing or sales professional                                                                                                                                                    1\n",
       "Back-end developer;DevOps specialist;Embedded applications or devices developer;Student                                                                                                                       1\n",
       "Name: DevType, Length: 810, dtype: int64"
      ]
     },
     "metadata": {},
     "execution_count": 33
    }
   ],
   "source": [
    "df['DevType'].value_counts()"
   ]
  },
  {
   "cell_type": "code",
   "execution_count": 34,
   "metadata": {},
   "outputs": [
    {
     "output_type": "execute_result",
     "data": {
      "text/plain": [
       "3"
      ]
     },
     "metadata": {},
     "execution_count": 34
    }
   ],
   "source": [
    "df['YearsCoding'].isnull().sum()"
   ]
  },
  {
   "cell_type": "code",
   "execution_count": 35,
   "metadata": {},
   "outputs": [
    {
     "output_type": "execute_result",
     "data": {
      "text/plain": [
       "3-5 years           699\n",
       "6-8 years           630\n",
       "9-11 years          443\n",
       "12-14 years         277\n",
       "0-2 years           248\n",
       "15-17 years         205\n",
       "18-20 years         179\n",
       "30 or more years     93\n",
       "21-23 years          82\n",
       "24-26 years          54\n",
       "27-29 years          33\n",
       "Name: YearsCoding, dtype: int64"
      ]
     },
     "metadata": {},
     "execution_count": 35
    }
   ],
   "source": [
    "df['YearsCoding'].value_counts()"
   ]
  },
  {
   "cell_type": "code",
   "execution_count": 36,
   "metadata": {},
   "outputs": [],
   "source": [
    "df.loc[df['YearsCoding'] == '3-5 years', 'YearsCoding'] = 4\n",
    "df.loc[df['YearsCoding'] == '6-8 years', 'YearsCoding'] = 7\n",
    "df.loc[df['YearsCoding'] == '9-11 years', 'YearsCoding'] = 10\n",
    "df.loc[df['YearsCoding'] == '12-14 years', 'YearsCoding'] = 13\n",
    "df.loc[df['YearsCoding'] == '0-2 years', 'YearsCoding'] = 1\n",
    "df.loc[df['YearsCoding'] == '15-17 years', 'YearsCoding'] = 16\n",
    "df.loc[df['YearsCoding'] == '18-20 years', 'YearsCoding'] = 19\n",
    "df.loc[df['YearsCoding'] == '30 or more years', 'YearsCoding'] = 31\n",
    "df.loc[df['YearsCoding'] == '21-23 years', 'YearsCoding'] = 22\n",
    "df.loc[df['YearsCoding'] == '24-26 years', 'YearsCoding'] = 25\n",
    "df.loc[df['YearsCoding'] == '27-29 years', 'YearsCoding'] = 28\n",
    "df.loc[df['YearsCoding'].isnull(), 'YearsCoding'] = 0\n"
   ]
  },
  {
   "cell_type": "code",
   "execution_count": 37,
   "metadata": {},
   "outputs": [
    {
     "output_type": "execute_result",
     "data": {
      "text/plain": [
       "408"
      ]
     },
     "metadata": {},
     "execution_count": 37
    }
   ],
   "source": [
    "df['YearsCodingProf'].isnull().sum()"
   ]
  },
  {
   "cell_type": "code",
   "execution_count": 38,
   "metadata": {},
   "outputs": [
    {
     "output_type": "execute_result",
     "data": {
      "text/plain": [
       "3-5 years           791\n",
       "0-2 years           653\n",
       "6-8 years           401\n",
       "9-11 years          249\n",
       "12-14 years         139\n",
       "15-17 years         103\n",
       "18-20 years          89\n",
       "21-23 years          42\n",
       "30 or more years     38\n",
       "24-26 years          23\n",
       "27-29 years          10\n",
       "Name: YearsCodingProf, dtype: int64"
      ]
     },
     "metadata": {},
     "execution_count": 38
    }
   ],
   "source": [
    "df['YearsCodingProf'].value_counts()"
   ]
  },
  {
   "cell_type": "code",
   "execution_count": 39,
   "metadata": {},
   "outputs": [],
   "source": [
    "df.loc[df['YearsCodingProf'] == '3-5 years', 'YearsCodingProf'] = 4\n",
    "df.loc[df['YearsCodingProf'] == '6-8 years', 'YearsCodingProf'] = 7\n",
    "df.loc[df['YearsCodingProf'] == '9-11 years', 'YearsCodingProf'] = 10\n",
    "df.loc[df['YearsCodingProf'] == '12-14 years', 'YearsCodingProf'] = 13\n",
    "df.loc[df['YearsCodingProf'] == '0-2 years', 'YearsCodingProf'] = 1\n",
    "df.loc[df['YearsCodingProf'] == '15-17 years', 'YearsCodingProf'] = 16\n",
    "df.loc[df['YearsCodingProf'] == '18-20 years', 'YearsCodingProf'] = 19\n",
    "df.loc[df['YearsCodingProf'] == '30 or more years', 'YearsCodingProf'] = 31\n",
    "df.loc[df['YearsCodingProf'] == '21-23 years', 'YearsCodingProf'] = 22\n",
    "df.loc[df['YearsCodingProf'] == '24-26 years', 'YearsCodingProf'] = 25\n",
    "df.loc[df['YearsCodingProf'] == '27-29 years', 'YearsCodingProf'] = 28\n",
    "df.loc[df['YearsCodingProf'].isnull(), 'YearsCodingProf'] = 0"
   ]
  },
  {
   "cell_type": "code",
   "execution_count": 40,
   "metadata": {},
   "outputs": [
    {
     "output_type": "execute_result",
     "data": {
      "text/plain": [
       "469"
      ]
     },
     "metadata": {},
     "execution_count": 40
    }
   ],
   "source": [
    "df['HopeFiveYears'].isnull().sum()"
   ]
  },
  {
   "cell_type": "code",
   "execution_count": 41,
   "metadata": {},
   "outputs": [
    {
     "output_type": "execute_result",
     "data": {
      "text/plain": [
       "Working in a different or more specialized technical role than the one I'm in now    872\n",
       "Working as a founder or co-founder of my own company                                 599\n",
       "Doing the same work                                                                  496\n",
       "Working as an engineering manager or other functional manager                        251\n",
       "Working as a product manager or project manager                                      164\n",
       "Working in a career completely unrelated to software development                      60\n",
       "Retirement                                                                            35\n",
       "Name: HopeFiveYears, dtype: int64"
      ]
     },
     "metadata": {},
     "execution_count": 41
    }
   ],
   "source": [
    "df['HopeFiveYears'].value_counts()"
   ]
  },
  {
   "cell_type": "code",
   "execution_count": 42,
   "metadata": {},
   "outputs": [],
   "source": [
    "df.loc[df['HopeFiveYears'].isnull(), 'HopeFiveYears'] = 'Hopeless'"
   ]
  },
  {
   "cell_type": "code",
   "execution_count": 43,
   "metadata": {},
   "outputs": [
    {
     "output_type": "execute_result",
     "data": {
      "text/plain": [
       "435"
      ]
     },
     "metadata": {},
     "execution_count": 43
    }
   ],
   "source": [
    "df['JobSearchStatus'].isnull().sum()"
   ]
  },
  {
   "cell_type": "code",
   "execution_count": 44,
   "metadata": {},
   "outputs": [
    {
     "output_type": "execute_result",
     "data": {
      "text/plain": [
       "I’m not actively looking, but I am open to new opportunities    1542\n",
       "I am not interested in new job opportunities                     645\n",
       "I am actively looking for a job                                  324\n",
       "Name: JobSearchStatus, dtype: int64"
      ]
     },
     "metadata": {},
     "execution_count": 44
    }
   ],
   "source": [
    "df['JobSearchStatus'].value_counts()"
   ]
  },
  {
   "cell_type": "code",
   "execution_count": 45,
   "metadata": {},
   "outputs": [],
   "source": [
    "df.loc[df['JobSearchStatus'].isnull(), 'JobSearchStatus'] = 'I am not interested in new job opportunities'"
   ]
  },
  {
   "cell_type": "code",
   "execution_count": 46,
   "metadata": {},
   "outputs": [
    {
     "output_type": "execute_result",
     "data": {
      "text/plain": [
       "447"
      ]
     },
     "metadata": {},
     "execution_count": 46
    }
   ],
   "source": [
    "df['LastNewJob'].isnull().sum()"
   ]
  },
  {
   "cell_type": "code",
   "execution_count": 47,
   "metadata": {},
   "outputs": [
    {
     "output_type": "execute_result",
     "data": {
      "text/plain": [
       "Less than a year ago         895\n",
       "Between 1 and 2 years ago    585\n",
       "Between 2 and 4 years ago    528\n",
       "More than 4 years ago        488\n",
       "I've never had a job           3\n",
       "Name: LastNewJob, dtype: int64"
      ]
     },
     "metadata": {},
     "execution_count": 47
    }
   ],
   "source": [
    "df['LastNewJob'].value_counts()"
   ]
  },
  {
   "cell_type": "code",
   "execution_count": 48,
   "metadata": {},
   "outputs": [],
   "source": [
    "df.loc[df['LastNewJob'].isnull(), 'LastNewJob'] = \"I've never had a job\""
   ]
  },
  {
   "cell_type": "code",
   "execution_count": 49,
   "metadata": {},
   "outputs": [],
   "source": [
    "df.loc[df['LastNewJob'] == 'Less than a year ago', 'LastNewJob'] = 0.5\n",
    "df.loc[df['LastNewJob'] == 'Between 1 and 2 years ago', 'LastNewJob'] = 1.5\n",
    "df.loc[df['LastNewJob'] == 'Between 2 and 4 years ago', 'LastNewJob'] = 3\n",
    "df.loc[df['LastNewJob'] == 'More than 4 years ago', 'LastNewJob'] = 4.5\n",
    "df.loc[df['LastNewJob'] == \"I've never had a job\", 'LastNewJob'] = 0\n"
   ]
  },
  {
   "cell_type": "code",
   "execution_count": 50,
   "metadata": {},
   "outputs": [
    {
     "output_type": "execute_result",
     "data": {
      "text/plain": [
       "857"
      ]
     },
     "metadata": {},
     "execution_count": 50
    }
   ],
   "source": [
    "df['UpdateCV'].isnull().sum()"
   ]
  },
  {
   "cell_type": "code",
   "execution_count": 51,
   "metadata": {},
   "outputs": [
    {
     "output_type": "execute_result",
     "data": {
      "text/plain": [
       "My job status or other personal status changed                      825\n",
       "A recruiter contacted me                                            300\n",
       "I had a negative experience or interaction at work                  283\n",
       "A friend told me about a job opportunity                            225\n",
       "I saw an employer’s advertisement                                   191\n",
       "I did not receive an expected change in compensation                149\n",
       "I received bad news about the future of my company or department    109\n",
       "I received negative feedback on my job performance                    7\n",
       "Name: UpdateCV, dtype: int64"
      ]
     },
     "metadata": {},
     "execution_count": 51
    }
   ],
   "source": [
    "df['UpdateCV'].value_counts()"
   ]
  },
  {
   "cell_type": "code",
   "execution_count": 52,
   "metadata": {},
   "outputs": [
    {
     "output_type": "execute_result",
     "data": {
      "text/plain": [
       "894"
      ]
     },
     "metadata": {},
     "execution_count": 52
    }
   ],
   "source": [
    "df['TimeFullyProductive'].isnull().sum()"
   ]
  },
  {
   "cell_type": "code",
   "execution_count": 53,
   "metadata": {},
   "outputs": [
    {
     "output_type": "execute_result",
     "data": {
      "text/plain": [
       "One to three months      909\n",
       "Less than a month        643\n",
       "Three to six months      347\n",
       "Six to nine months       111\n",
       "Nine months to a year     25\n",
       "More than a year          17\n",
       "Name: TimeFullyProductive, dtype: int64"
      ]
     },
     "metadata": {},
     "execution_count": 53
    }
   ],
   "source": [
    "df['TimeFullyProductive'].value_counts()"
   ]
  },
  {
   "cell_type": "code",
   "execution_count": 54,
   "metadata": {},
   "outputs": [],
   "source": [
    "df.loc[df['TimeFullyProductive'] == 'One to three months', 'TimeFullyProductive'] = 1.5\n",
    "df.loc[df['TimeFullyProductive'] == 'Less than a month', 'TimeFullyProductive'] = 0\n",
    "df.loc[df['TimeFullyProductive'] == 'Three to six months', 'TimeFullyProductive'] = 4.5\n",
    "df.loc[df['TimeFullyProductive'] == 'Six to nine months', 'TimeFullyProductive'] = 7.5\n",
    "df.loc[df['TimeFullyProductive'] == 'Nine months to a year', 'TimeFullyProductive'] = 10.5\n",
    "df.loc[df['TimeFullyProductive'] == 'More than a year', 'TimeFullyProductive'] = 13.5\n",
    "df.loc[df['TimeFullyProductive'].isnull(), 'TimeFullyProductive'] = 0"
   ]
  },
  {
   "cell_type": "code",
   "execution_count": 55,
   "metadata": {},
   "outputs": [
    {
     "output_type": "execute_result",
     "data": {
      "text/plain": [
       "2725"
      ]
     },
     "metadata": {},
     "execution_count": 55
    }
   ],
   "source": [
    "df['TimeAfterBootcamp'].isnull().sum()"
   ]
  },
  {
   "cell_type": "code",
   "execution_count": 56,
   "metadata": {},
   "outputs": [
    {
     "output_type": "execute_result",
     "data": {
      "text/plain": [
       "I already had a full-time job as a developer when I began the program    112\n",
       "Immediately after graduating                                              36\n",
       "One to three months                                                       25\n",
       "Less than a month                                                         19\n",
       "Four to six months                                                        11\n",
       "Six months to a year                                                       9\n",
       "Longer than a year                                                         5\n",
       "I haven’t gotten a developer job                                           4\n",
       "Name: TimeAfterBootcamp, dtype: int64"
      ]
     },
     "metadata": {},
     "execution_count": 56
    }
   ],
   "source": [
    "df['TimeAfterBootcamp'].value_counts()"
   ]
  },
  {
   "cell_type": "code",
   "execution_count": 57,
   "metadata": {},
   "outputs": [
    {
     "output_type": "execute_result",
     "data": {
      "text/plain": [
       "2097"
      ]
     },
     "metadata": {},
     "execution_count": 57
    }
   ],
   "source": [
    "df['HackathonReasons'].isnull().sum()"
   ]
  },
  {
   "cell_type": "code",
   "execution_count": 58,
   "metadata": {},
   "outputs": [
    {
     "output_type": "execute_result",
     "data": {
      "text/plain": [
       "813"
      ]
     },
     "metadata": {},
     "execution_count": 58
    }
   ],
   "source": [
    "df['AgreeDisagree1'].isnull().sum()"
   ]
  },
  {
   "cell_type": "code",
   "execution_count": 59,
   "metadata": {},
   "outputs": [
    {
     "output_type": "execute_result",
     "data": {
      "text/plain": [
       "Agree                         1166\n",
       "Neither Agree nor Disagree     418\n",
       "Strongly agree                 382\n",
       "Disagree                       126\n",
       "Strongly disagree               41\n",
       "Name: AgreeDisagree1, dtype: int64"
      ]
     },
     "metadata": {},
     "execution_count": 59
    }
   ],
   "source": [
    "df['AgreeDisagree1'].value_counts()"
   ]
  },
  {
   "cell_type": "code",
   "execution_count": 60,
   "metadata": {},
   "outputs": [],
   "source": [
    "df.loc[df['AgreeDisagree1'].isnull(), 'AgreeDisagree1'] = 'Neither Agree nor Disagree'"
   ]
  },
  {
   "cell_type": "code",
   "execution_count": 61,
   "metadata": {},
   "outputs": [
    {
     "output_type": "execute_result",
     "data": {
      "text/plain": [
       "813"
      ]
     },
     "metadata": {},
     "execution_count": 61
    }
   ],
   "source": [
    "df['AgreeDisagree2'].isnull().sum()"
   ]
  },
  {
   "cell_type": "code",
   "execution_count": 62,
   "metadata": {},
   "outputs": [
    {
     "output_type": "execute_result",
     "data": {
      "text/plain": [
       "Agree                         575\n",
       "Neither Agree nor Disagree    567\n",
       "Disagree                      563\n",
       "Strongly disagree             268\n",
       "Strongly agree                160\n",
       "Name: AgreeDisagree2, dtype: int64"
      ]
     },
     "metadata": {},
     "execution_count": 62
    }
   ],
   "source": [
    "df['AgreeDisagree2'].value_counts()"
   ]
  },
  {
   "cell_type": "code",
   "execution_count": 63,
   "metadata": {},
   "outputs": [],
   "source": [
    "df.loc[df['AgreeDisagree2'].isnull(), 'AgreeDisagree2'] = 'Neither Agree nor Disagree'"
   ]
  },
  {
   "cell_type": "code",
   "execution_count": 64,
   "metadata": {},
   "outputs": [
    {
     "output_type": "execute_result",
     "data": {
      "text/plain": [
       "807"
      ]
     },
     "metadata": {},
     "execution_count": 64
    }
   ],
   "source": [
    "df['AgreeDisagree3'].isnull().sum()"
   ]
  },
  {
   "cell_type": "code",
   "execution_count": 65,
   "metadata": {},
   "outputs": [
    {
     "output_type": "execute_result",
     "data": {
      "text/plain": [
       "Disagree                      766\n",
       "Neither Agree nor Disagree    512\n",
       "Strongly disagree             496\n",
       "Agree                         298\n",
       "Strongly agree                 67\n",
       "Name: AgreeDisagree3, dtype: int64"
      ]
     },
     "metadata": {},
     "execution_count": 65
    }
   ],
   "source": [
    "df['AgreeDisagree3'].value_counts()"
   ]
  },
  {
   "cell_type": "code",
   "execution_count": 66,
   "metadata": {},
   "outputs": [],
   "source": [
    "df.loc[df['AgreeDisagree3'].isnull(), 'AgreeDisagree3'] = 'Neither Agree nor Disagree'"
   ]
  },
  {
   "cell_type": "code",
   "execution_count": 67,
   "metadata": {},
   "outputs": [],
   "source": [
    "df.loc[df['AgreeDisagree1'] == 'Neither Agree nor Disagree', 'AgreeDisagree1'] = 0\n",
    "df.loc[df['AgreeDisagree1'] == 'Disagree', 'AgreeDisagree1'] = -1\n",
    "df.loc[df['AgreeDisagree1'] == 'Strongly disagree', 'AgreeDisagree1'] = -2\n",
    "df.loc[df['AgreeDisagree1'] == 'Agree', 'AgreeDisagree1'] = 1\n",
    "df.loc[df['AgreeDisagree1'] == 'Strongly agree', 'AgreeDisagree1'] = 2\n",
    "\n"
   ]
  },
  {
   "cell_type": "code",
   "execution_count": 68,
   "metadata": {},
   "outputs": [],
   "source": [
    "df.loc[df['AgreeDisagree2'] == 'Neither Agree nor Disagree', 'AgreeDisagree2'] = 0\n",
    "df.loc[df['AgreeDisagree2'] == 'Disagree', 'AgreeDisagree2'] = -1\n",
    "df.loc[df['AgreeDisagree2'] == 'Strongly disagree', 'AgreeDisagree2'] = -2\n",
    "df.loc[df['AgreeDisagree2'] == 'Agree', 'AgreeDisagree2'] = 1\n",
    "df.loc[df['AgreeDisagree2'] == 'Strongly agree', 'AgreeDisagree2'] = 2"
   ]
  },
  {
   "cell_type": "code",
   "execution_count": 69,
   "metadata": {},
   "outputs": [],
   "source": [
    "df.loc[df['AgreeDisagree3'] == 'Neither Agree nor Disagree', 'AgreeDisagree3'] = 0\n",
    "df.loc[df['AgreeDisagree3'] == 'Disagree', 'AgreeDisagree3'] = -1\n",
    "df.loc[df['AgreeDisagree3'] == 'Strongly disagree', 'AgreeDisagree3'] = -2\n",
    "df.loc[df['AgreeDisagree3'] == 'Agree', 'AgreeDisagree3'] = 1\n",
    "df.loc[df['AgreeDisagree3'] == 'Strongly agree', 'AgreeDisagree3'] = 2"
   ]
  },
  {
   "cell_type": "code",
   "execution_count": 70,
   "metadata": {},
   "outputs": [
    {
     "output_type": "execute_result",
     "data": {
      "text/plain": [
       "Windows        1151\n",
       "MacOS           683\n",
       "Linux-based     538\n",
       "BSD/Unix          5\n",
       "Name: OperatingSystem, dtype: int64"
      ]
     },
     "metadata": {},
     "execution_count": 70
    }
   ],
   "source": [
    "df['OperatingSystem'].value_counts()"
   ]
  },
  {
   "cell_type": "code",
   "execution_count": 71,
   "metadata": {},
   "outputs": [
    {
     "output_type": "execute_result",
     "data": {
      "text/plain": [
       "569"
      ]
     },
     "metadata": {},
     "execution_count": 71
    }
   ],
   "source": [
    "df['OperatingSystem'].isnull().sum()"
   ]
  },
  {
   "cell_type": "code",
   "execution_count": 72,
   "metadata": {},
   "outputs": [],
   "source": [
    "df.loc[df['OperatingSystem'].isnull(), 'OperatingSystem'] = 'None of the given'"
   ]
  },
  {
   "cell_type": "code",
   "execution_count": 73,
   "metadata": {},
   "outputs": [
    {
     "output_type": "execute_result",
     "data": {
      "text/plain": [
       "627"
      ]
     },
     "metadata": {},
     "execution_count": 73
    }
   ],
   "source": [
    "df['CheckInCode'].isnull().sum()"
   ]
  },
  {
   "cell_type": "code",
   "execution_count": 74,
   "metadata": {},
   "outputs": [
    {
     "output_type": "execute_result",
     "data": {
      "text/plain": [
       "Multiple times per day             1485\n",
       "A few times per week                406\n",
       "Once a day                          212\n",
       "Weekly or a few times per month     139\n",
       "Less than once per month             51\n",
       "Never                                26\n",
       "Name: CheckInCode, dtype: int64"
      ]
     },
     "metadata": {},
     "execution_count": 74
    }
   ],
   "source": [
    "df['CheckInCode'].value_counts()"
   ]
  },
  {
   "cell_type": "code",
   "execution_count": 75,
   "metadata": {},
   "outputs": [],
   "source": [
    "df.loc[df['CheckInCode'].isnull(), 'CheckInCode'] = 'Never'"
   ]
  },
  {
   "cell_type": "code",
   "execution_count": 76,
   "metadata": {},
   "outputs": [],
   "source": [
    "df.loc[df['CheckInCode'] == 'Multiple times per day', 'CheckInCode'] = 5\n",
    "df.loc[df['CheckInCode'] == 'Once a day', 'CheckInCode'] = 4\n",
    "df.loc[df['CheckInCode'] == 'A few times per week', 'CheckInCode'] = 3\n",
    "df.loc[df['CheckInCode'] == 'Weekly or a few times per month', 'CheckInCode'] = 2\n",
    "df.loc[df['CheckInCode'] == 'Less than once per month', 'CheckInCode'] = 1\n",
    "df.loc[df['CheckInCode'] == 'Never', 'CheckInCode'] = 5"
   ]
  },
  {
   "cell_type": "code",
   "execution_count": 77,
   "metadata": {},
   "outputs": [
    {
     "output_type": "execute_result",
     "data": {
      "text/plain": [
       "946"
      ]
     },
     "metadata": {},
     "execution_count": 77
    }
   ],
   "source": [
    "df['AIDangerous'].isnull().sum()"
   ]
  },
  {
   "cell_type": "code",
   "execution_count": 78,
   "metadata": {},
   "outputs": [
    {
     "output_type": "execute_result",
     "data": {
      "text/plain": [
       "Algorithms making important decisions                                        598\n",
       "Artificial intelligence surpassing human intelligence (\"the singularity\")    528\n",
       "Evolving definitions of \"fairness\" in algorithmic versus human decisions     482\n",
       "Increasing automation of jobs                                                392\n",
       "Name: AIDangerous, dtype: int64"
      ]
     },
     "metadata": {},
     "execution_count": 78
    }
   ],
   "source": [
    "df['AIDangerous'].value_counts()"
   ]
  },
  {
   "cell_type": "code",
   "execution_count": 79,
   "metadata": {},
   "outputs": [
    {
     "output_type": "execute_result",
     "data": {
      "text/plain": [
       "'\\ndf.loc[df[\\'AIDangerous\\'] == \\'Algorithms making important decisions\\', \\'AIDangerous\\'] = 2\\ndf.loc[df[\\'AIDangerous\\'] == \\'Artificial intelligence surpassing human intelligence (\"the singularity\")\\', \\'AIDangerous\\'] = 4\\ndf.loc[df[\\'AIDangerous\\'] == \\'Evolving definitions of \"fairness\" in algorithmic versus human decisions\\', \\'AIDangerous\\'] = 3\\ndf.loc[df[\\'AIDangerous\\'] == \\'Increasing automation of jobs\\', \\'AIDangerous\\'] = 1\\ndf.loc[df[\\'AIDangerous\\'] == \\'Algorithms making important decisions\\', \\'AIDangerous\\'] = \\n'"
      ]
     },
     "metadata": {},
     "execution_count": 79
    }
   ],
   "source": [
    "\"\"\"\n",
    "df.loc[df['AIDangerous'] == 'Algorithms making important decisions', 'AIDangerous'] = 2\n",
    "df.loc[df['AIDangerous'] == 'Artificial intelligence surpassing human intelligence (\"the singularity\")', 'AIDangerous'] = 4\n",
    "df.loc[df['AIDangerous'] == 'Evolving definitions of \"fairness\" in algorithmic versus human decisions', 'AIDangerous'] = 3\n",
    "df.loc[df['AIDangerous'] == 'Increasing automation of jobs', 'AIDangerous'] = 1\n",
    "df.loc[df['AIDangerous'] == 'Algorithms making important decisions', 'AIDangerous'] = \n",
    "\"\"\"\n"
   ]
  },
  {
   "cell_type": "code",
   "execution_count": 80,
   "metadata": {},
   "outputs": [
    {
     "output_type": "execute_result",
     "data": {
      "text/plain": [
       "870"
      ]
     },
     "metadata": {},
     "execution_count": 80
    }
   ],
   "source": [
    "df['AIInteresting'].isnull().sum()"
   ]
  },
  {
   "cell_type": "code",
   "execution_count": 81,
   "metadata": {},
   "outputs": [
    {
     "output_type": "execute_result",
     "data": {
      "text/plain": [
       "Increasing automation of jobs                                                871\n",
       "Artificial intelligence surpassing human intelligence (\"the singularity\")    478\n",
       "Algorithms making important decisions                                        469\n",
       "Evolving definitions of \"fairness\" in algorithmic versus human decisions     258\n",
       "Name: AIInteresting, dtype: int64"
      ]
     },
     "metadata": {},
     "execution_count": 81
    }
   ],
   "source": [
    "df['AIInteresting'].value_counts()"
   ]
  },
  {
   "cell_type": "code",
   "execution_count": 82,
   "metadata": {},
   "outputs": [
    {
     "output_type": "execute_result",
     "data": {
      "text/plain": [
       "'\\ndf.loc[df[\\'AIInteresting\\'] == \\'Algorithms making important decisions\\', \\'AIInteresting\\'] = 2\\ndf.loc[df[\\'AIInteresting\\'] == \\'Artificial intelligence surpassing human intelligence (\"the singularity\")\\', \\'AIInteresting\\'] = 4\\ndf.loc[df[\\'AIInteresting\\'] == \\'Evolving definitions of \"fairness\" in algorithmic versus human decisions\\', \\'AIInteresting\\'] = 3\\ndf.loc[df[\\'AIInteresting\\'] == \\'Increasing automation of jobs\\', \\'AIInteresting\\'] = 1\\ndf.loc[df[\\'AIInteresting\\'] == \\'Algorithms making important decisions\\', \\'AIInteresting\\'] = \\n'"
      ]
     },
     "metadata": {},
     "execution_count": 82
    }
   ],
   "source": [
    "\"\"\"\n",
    "df.loc[df['AIInteresting'] == 'Algorithms making important decisions', 'AIInteresting'] = 2\n",
    "df.loc[df['AIInteresting'] == 'Artificial intelligence surpassing human intelligence (\"the singularity\")', 'AIInteresting'] = 4\n",
    "df.loc[df['AIInteresting'] == 'Evolving definitions of \"fairness\" in algorithmic versus human decisions', 'AIInteresting'] = 3\n",
    "df.loc[df['AIInteresting'] == 'Increasing automation of jobs', 'AIInteresting'] = 1\n",
    "df.loc[df['AIInteresting'] == 'Algorithms making important decisions', 'AIInteresting'] = \n",
    "\"\"\""
   ]
  },
  {
   "cell_type": "code",
   "execution_count": 83,
   "metadata": {},
   "outputs": [
    {
     "output_type": "execute_result",
     "data": {
      "text/plain": [
       "876"
      ]
     },
     "metadata": {},
     "execution_count": 83
    }
   ],
   "source": [
    "df['AIResponsible'].isnull().sum()"
   ]
  },
  {
   "cell_type": "code",
   "execution_count": 84,
   "metadata": {},
   "outputs": [
    {
     "output_type": "execute_result",
     "data": {
      "text/plain": [
       "The developers or the people creating the AI    992\n",
       "A governmental or other regulatory body         597\n",
       "Prominent industry leaders                      316\n",
       "Nobody                                          165\n",
       "Name: AIResponsible, dtype: int64"
      ]
     },
     "metadata": {},
     "execution_count": 84
    }
   ],
   "source": [
    "df['AIResponsible'].value_counts()"
   ]
  },
  {
   "cell_type": "code",
   "execution_count": 85,
   "metadata": {},
   "outputs": [
    {
     "output_type": "execute_result",
     "data": {
      "text/plain": [
       "\"\\ndf.loc[df['AIResponsible'].isnull(), 'AIResponsible'] = 'Nobody'\\n\""
      ]
     },
     "metadata": {},
     "execution_count": 85
    }
   ],
   "source": [
    "\"\"\"\n",
    "df.loc[df['AIResponsible'].isnull(), 'AIResponsible'] = 'Nobody'\n",
    "\"\"\""
   ]
  },
  {
   "cell_type": "code",
   "execution_count": 86,
   "metadata": {},
   "outputs": [
    {
     "output_type": "execute_result",
     "data": {
      "text/plain": [
       "750"
      ]
     },
     "metadata": {},
     "execution_count": 86
    }
   ],
   "source": [
    "df['AIFuture'].isnull().sum()"
   ]
  },
  {
   "cell_type": "code",
   "execution_count": 87,
   "metadata": {},
   "outputs": [
    {
     "output_type": "execute_result",
     "data": {
      "text/plain": [
       "I'm excited about the possibilities more than worried about the dangers.        1601\n",
       "I'm worried about the dangers more than I'm excited about the possibilities.     402\n",
       "I don't care about it, or I haven't thought about it.                            193\n",
       "Name: AIFuture, dtype: int64"
      ]
     },
     "metadata": {},
     "execution_count": 87
    }
   ],
   "source": [
    "df['AIFuture'].value_counts()"
   ]
  },
  {
   "cell_type": "code",
   "execution_count": 88,
   "metadata": {},
   "outputs": [
    {
     "output_type": "execute_result",
     "data": {
      "text/plain": [
       "'\\ndf.loc[df[\\'AIFuture\\'].isnull(), \\'AIFuture\\'] = \"I don\\'t care about it, or I haven\\'t thought about it.\"\\n'"
      ]
     },
     "metadata": {},
     "execution_count": 88
    }
   ],
   "source": [
    "\"\"\"\n",
    "df.loc[df['AIFuture'].isnull(), 'AIFuture'] = \"I don't care about it, or I haven't thought about it.\"\n",
    "\"\"\""
   ]
  },
  {
   "cell_type": "code",
   "execution_count": 89,
   "metadata": {},
   "outputs": [
    {
     "output_type": "execute_result",
     "data": {
      "text/plain": [
       "919"
      ]
     },
     "metadata": {},
     "execution_count": 89
    }
   ],
   "source": [
    "df['Age'].isnull().sum()"
   ]
  },
  {
   "cell_type": "code",
   "execution_count": 90,
   "metadata": {},
   "outputs": [
    {
     "output_type": "execute_result",
     "data": {
      "text/plain": [
       "25 - 34 years old     1117\n",
       "18 - 24 years old      421\n",
       "35 - 44 years old      364\n",
       "45 - 54 years old       93\n",
       "55 - 64 years old       23\n",
       "Under 18 years old       9\n",
       "Name: Age, dtype: int64"
      ]
     },
     "metadata": {},
     "execution_count": 90
    }
   ],
   "source": [
    "df['Age'].value_counts()"
   ]
  },
  {
   "cell_type": "code",
   "execution_count": 91,
   "metadata": {},
   "outputs": [
    {
     "output_type": "execute_result",
     "data": {
      "text/plain": [
       "Age\n",
       "18 - 24 years old      5.332542\n",
       "25 - 34 years old      8.914951\n",
       "35 - 44 years old     17.195055\n",
       "45 - 54 years old     26.193548\n",
       "55 - 64 years old     30.608696\n",
       "Under 18 years old     6.333333\n",
       "Name: YearsCoding, dtype: float64"
      ]
     },
     "metadata": {},
     "execution_count": 91
    }
   ],
   "source": [
    "df.groupby('Age')['YearsCoding'].mean()"
   ]
  },
  {
   "cell_type": "code",
   "execution_count": 93,
   "metadata": {},
   "outputs": [],
   "source": [
    "df.loc[df['Age'] == '18 - 24 years old', 'Age'] = 20\n",
    "df.loc[df['Age'] == '25 - 34 years old', 'Age'] = 30\n",
    "df.loc[df['Age'] == '35 - 44 years old', 'Age'] = 40\n",
    "df.loc[df['Age'] == '45 - 54 years old', 'Age'] = 50\n",
    "df.loc[df['Age'] == '55 - 64 years old', 'Age'] = 60\n",
    "df.loc[df['Age'] == 'Under 18 years old', 'Age'] = 20"
   ]
  },
  {
   "cell_type": "code",
   "execution_count": 94,
   "metadata": {},
   "outputs": [],
   "source": [
    "df.loc[(df['Age'].isnull()) & (df['YearsCoding'] <= 7), 'Age'] = 20\n",
    "df.loc[(df['Age'].isnull()) & (df['YearsCoding'] > 7) & (df['YearsCoding'] <= 13), 'Age'] = 30\n",
    "df.loc[(df['Age'].isnull()) & (df['YearsCoding'] > 13) & (df['YearsCoding'] <= 21 ), 'Age'] = 40\n",
    "df.loc[(df['Age'].isnull()) & (df['YearsCoding'] > 21) & (df['YearsCoding'] <= 28 ), 'Age'] = 50\n",
    "df.loc[(df['Age'].isnull()) & (df['YearsCoding'] > 28), 'Age'] = 60"
   ]
  },
  {
   "cell_type": "code",
   "execution_count": 95,
   "metadata": {},
   "outputs": [
    {
     "output_type": "execute_result",
     "data": {
      "text/plain": [
       " 36 months    2059\n",
       " 60 months     887\n",
       "Name: term, dtype: int64"
      ]
     },
     "metadata": {},
     "execution_count": 95
    }
   ],
   "source": [
    "df['term'].value_counts()"
   ]
  },
  {
   "cell_type": "code",
   "execution_count": 96,
   "metadata": {},
   "outputs": [
    {
     "output_type": "execute_result",
     "data": {
      "text/plain": [
       "0     36 months\n",
       "1     36 months\n",
       "2     60 months\n",
       "3     60 months\n",
       "4     60 months\n",
       "Name: term, dtype: object"
      ]
     },
     "metadata": {},
     "execution_count": 96
    }
   ],
   "source": [
    "df['term'].head()\n"
   ]
  },
  {
   "cell_type": "code",
   "execution_count": 97,
   "metadata": {},
   "outputs": [
    {
     "output_type": "execute_result",
     "data": {
      "text/plain": [
       "133"
      ]
     },
     "metadata": {},
     "execution_count": 97
    }
   ],
   "source": [
    "df['emp_length'].isnull().sum()"
   ]
  },
  {
   "cell_type": "code",
   "execution_count": 98,
   "metadata": {},
   "outputs": [
    {
     "output_type": "execute_result",
     "data": {
      "text/plain": [
       "10+ years    1017\n",
       "< 1 year      277\n",
       "2 years       265\n",
       "3 years       261\n",
       "5 years       183\n",
       "1 year        180\n",
       "4 years       170\n",
       "8 years       148\n",
       "6 years       118\n",
       "9 years       100\n",
       "7 years        94\n",
       "Name: emp_length, dtype: int64"
      ]
     },
     "metadata": {},
     "execution_count": 98
    }
   ],
   "source": [
    "df['emp_length'].value_counts()"
   ]
  },
  {
   "cell_type": "code",
   "execution_count": 99,
   "metadata": {},
   "outputs": [],
   "source": [
    "df.loc[df['emp_length'] == '10+ years', 'emp_length'] = 10\n",
    "df.loc[df['emp_length'] == '< 1 year', 'emp_length'] = 0\n",
    "df.loc[df['emp_length'] == '2 years', 'emp_length'] = 2\n",
    "df.loc[df['emp_length'] == '3 years', 'emp_length'] = 3\n",
    "df.loc[df['emp_length'] == '5 years', 'emp_length'] = 5\n",
    "df.loc[df['emp_length'] == '1 year', 'emp_length'] = 1\n",
    "df.loc[df['emp_length'] == '4 years', 'emp_length'] = 4\n",
    "df.loc[df['emp_length'] == '8 years', 'emp_length'] = 8\n",
    "df.loc[df['emp_length'] == '6 years', 'emp_length'] = 6\n",
    "df.loc[df['emp_length'] == '9 years', 'emp_length'] = 9\n",
    "df.loc[df['emp_length'] == '7 years', 'emp_length'] = 7"
   ]
  },
  {
   "cell_type": "code",
   "execution_count": 100,
   "metadata": {},
   "outputs": [
    {
     "output_type": "execute_result",
     "data": {
      "text/plain": [
       "Fully Paid            2154\n",
       "Charged Off            456\n",
       "Current                319\n",
       "Late (31-120 days)      14\n",
       "In Grace Period          2\n",
       "Late (16-30 days)        1\n",
       "Name: loan_status, dtype: int64"
      ]
     },
     "metadata": {},
     "execution_count": 100
    }
   ],
   "source": [
    "df['loan_status'].value_counts()"
   ]
  },
  {
   "cell_type": "code",
   "execution_count": 101,
   "metadata": {},
   "outputs": [
    {
     "output_type": "execute_result",
     "data": {
      "text/plain": [
       "n    2946\n",
       "Name: pymnt_plan, dtype: int64"
      ]
     },
     "metadata": {},
     "execution_count": 101
    }
   ],
   "source": [
    "df['pymnt_plan'].value_counts()"
   ]
  },
  {
   "cell_type": "code",
   "execution_count": 102,
   "metadata": {},
   "outputs": [
    {
     "output_type": "execute_result",
     "data": {
      "text/plain": [
       "debt_consolidation    1731\n",
       "credit_card            718\n",
       "home_improvement       160\n",
       "other                  149\n",
       "major_purchase          55\n",
       "small_business          33\n",
       "car                     31\n",
       "medical                 21\n",
       "vacation                17\n",
       "house                   17\n",
       "moving                  13\n",
       "renewable_energy         1\n",
       "Name: purpose, dtype: int64"
      ]
     },
     "metadata": {},
     "execution_count": 102
    }
   ],
   "source": [
    "df['purpose'].value_counts()"
   ]
  },
  {
   "cell_type": "code",
   "execution_count": 103,
   "metadata": {},
   "outputs": [
    {
     "output_type": "execute_result",
     "data": {
      "text/plain": [
       "64"
      ]
     },
     "metadata": {},
     "execution_count": 103
    }
   ],
   "source": [
    "df['title'].isnull().sum()"
   ]
  },
  {
   "cell_type": "code",
   "execution_count": 104,
   "metadata": {},
   "outputs": [
    {
     "output_type": "execute_result",
     "data": {
      "text/plain": [
       "Debt consolidation         1699\n",
       "Credit card refinancing     699\n",
       "Home improvement            156\n",
       "Other                       141\n",
       "Major purchase               55\n",
       "Business                     33\n",
       "Car financing                30\n",
       "Medical expenses             21\n",
       "Vacation                     17\n",
       "Home buying                  17\n",
       "Moving and relocation        13\n",
       "Green loan                    1\n",
       "Name: title, dtype: int64"
      ]
     },
     "metadata": {},
     "execution_count": 104
    }
   ],
   "source": [
    "df['title'].value_counts()"
   ]
  },
  {
   "cell_type": "code",
   "execution_count": 105,
   "metadata": {},
   "outputs": [
    {
     "output_type": "execute_result",
     "data": {
      "text/plain": [
       "300xx    34\n",
       "112xx    34\n",
       "750xx    32\n",
       "606xx    32\n",
       "770xx    30\n",
       "945xx    29\n",
       "117xx    25\n",
       "104xx    24\n",
       "917xx    24\n",
       "921xx    23\n",
       "900xx    21\n",
       "331xx    21\n",
       "070xx    20\n",
       "207xx    20\n",
       "481xx    19\n",
       "853xx    18\n",
       "100xx    18\n",
       "891xx    18\n",
       "021xx    18\n",
       "802xx    18\n",
       "925xx    18\n",
       "212xx    17\n",
       "774xx    16\n",
       "480xx    16\n",
       "210xx    16\n",
       "760xx    16\n",
       "553xx    16\n",
       "850xx    16\n",
       "282xx    15\n",
       "301xx    15\n",
       "         ..\n",
       "049xx     1\n",
       "264xx     1\n",
       "683xx     1\n",
       "041xx     1\n",
       "390xx     1\n",
       "196xx     1\n",
       "825xx     1\n",
       "611xx     1\n",
       "309xx     1\n",
       "261xx     1\n",
       "393xx     1\n",
       "499xx     1\n",
       "252xx     1\n",
       "816xx     1\n",
       "254xx     1\n",
       "549xx     1\n",
       "128xx     1\n",
       "820xx     1\n",
       "137xx     1\n",
       "159xx     1\n",
       "664xx     1\n",
       "594xx     1\n",
       "625xx     1\n",
       "256xx     1\n",
       "794xx     1\n",
       "298xx     1\n",
       "844xx     1\n",
       "161xx     1\n",
       "558xx     1\n",
       "614xx     1\n",
       "Name: zip_code, Length: 629, dtype: int64"
      ]
     },
     "metadata": {},
     "execution_count": 105
    }
   ],
   "source": [
    "df['zip_code'].value_counts()"
   ]
  },
  {
   "cell_type": "code",
   "execution_count": 106,
   "metadata": {},
   "outputs": [],
   "source": [
    "df['zip_code'] = df['zip_code'].apply(lambda x: int(str(x)[0:3]))"
   ]
  },
  {
   "cell_type": "code",
   "execution_count": 107,
   "metadata": {},
   "outputs": [
    {
     "output_type": "execute_result",
     "data": {
      "text/plain": [
       "addr_state\n",
       "AK    995.000000\n",
       "AL    356.428571\n",
       "AR    723.666667\n",
       "AZ    852.612903\n",
       "CA    927.246499\n",
       "CO    803.791045\n",
       "CT     81.160000\n",
       "DC    200.000000\n",
       "DE    198.000000\n",
       "FL    333.233503\n",
       "GA    304.870000\n",
       "HI    967.235294\n",
       "IL    606.433962\n",
       "IN    466.361702\n",
       "KS    666.346154\n",
       "KY    407.071429\n",
       "LA    706.444444\n",
       "MA     19.482759\n",
       "MD    210.575758\n",
       "ME     42.428571\n",
       "MI    485.397590\n",
       "MN    553.526316\n",
       "MO    639.650000\n",
       "MS    391.000000\n",
       "MT    594.666667\n",
       "NC    278.987805\n",
       "ND    584.200000\n",
       "NE    682.222222\n",
       "NH     33.461538\n",
       "NJ     78.218750\n",
       "NM    875.545455\n",
       "NV    891.692308\n",
       "NY    117.878151\n",
       "OH    441.377358\n",
       "OK    738.250000\n",
       "OR    971.794872\n",
       "PA    174.484211\n",
       "RI     28.285714\n",
       "SC    294.023810\n",
       "SD    573.000000\n",
       "TN    376.549020\n",
       "TX    768.955466\n",
       "UT    840.500000\n",
       "VA    228.116505\n",
       "VT     55.375000\n",
       "WA    984.233333\n",
       "WI    538.212121\n",
       "WV    260.083333\n",
       "WY    824.000000\n",
       "Name: zip_code, dtype: float64"
      ]
     },
     "metadata": {},
     "execution_count": 107
    }
   ],
   "source": [
    "df.groupby(['addr_state'])['zip_code'].mean()"
   ]
  },
  {
   "cell_type": "code",
   "execution_count": 108,
   "metadata": {},
   "outputs": [
    {
     "output_type": "execute_result",
     "data": {
      "text/plain": [
       "3-Aug     29\n",
       "4-Sep     27\n",
       "2-Sep     27\n",
       "3-Sep     27\n",
       "Nov-99    27\n",
       "4-Oct     25\n",
       "3-Jul     25\n",
       "4-Nov     23\n",
       "3-Mar     22\n",
       "Nov-00    22\n",
       "Oct-99    21\n",
       "2-Aug     21\n",
       "Nov-94    21\n",
       "4-Aug     21\n",
       "3-Nov     20\n",
       "2-Oct     20\n",
       "1-Oct     20\n",
       "1-May     20\n",
       "2-Mar     19\n",
       "1-Jul     19\n",
       "1-Jun     19\n",
       "1-Aug     19\n",
       "2-Jun     19\n",
       "3-Oct     19\n",
       "2-Dec     18\n",
       "3-May     18\n",
       "Oct-00    18\n",
       "5-Feb     18\n",
       "Oct-96    17\n",
       "Sep-95    17\n",
       "          ..\n",
       "Oct-79     1\n",
       "Dec-75     1\n",
       "Mar-73     1\n",
       "Jun-69     1\n",
       "Jan-72     1\n",
       "Jul-68     1\n",
       "Mar-78     1\n",
       "12-Sep     1\n",
       "Jan-82     1\n",
       "May-78     1\n",
       "8-Dec      1\n",
       "12-Nov     1\n",
       "Aug-78     1\n",
       "Aug-64     1\n",
       "May-85     1\n",
       "Apr-70     1\n",
       "Apr-74     1\n",
       "Feb-77     1\n",
       "May-86     1\n",
       "Mar-87     1\n",
       "Sep-79     1\n",
       "Feb-83     1\n",
       "Aug-77     1\n",
       "Jul-74     1\n",
       "Jan-57     1\n",
       "Oct-73     1\n",
       "Nov-69     1\n",
       "Sep-64     1\n",
       "Apr-73     1\n",
       "12-Jan     1\n",
       "Name: earliest_cr_line, Length: 426, dtype: int64"
      ]
     },
     "metadata": {},
     "execution_count": 108
    }
   ],
   "source": [
    "df['earliest_cr_line'].value_counts()"
   ]
  },
  {
   "cell_type": "code",
   "execution_count": 109,
   "metadata": {},
   "outputs": [],
   "source": [
    "df['earliest_cr_line'] = df['earliest_cr_line'].apply(lambda x: x.split('-'))"
   ]
  },
  {
   "cell_type": "code",
   "execution_count": 110,
   "metadata": {},
   "outputs": [],
   "source": [
    "def findmonth(list_):\n",
    "    for i in list_:\n",
    "        if (len(i) == 3):\n",
    "            return i\n",
    "        "
   ]
  },
  {
   "cell_type": "code",
   "execution_count": 111,
   "metadata": {
    "tags": []
   },
   "outputs": [],
   "source": [
    "df['ecl'] = df['earliest_cr_line'].apply(findmonth)"
   ]
  },
  {
   "cell_type": "code",
   "execution_count": 112,
   "metadata": {},
   "outputs": [
    {
     "output_type": "execute_result",
     "data": {
      "text/plain": [
       "19-Jan    444\n",
       "19-Feb    284\n",
       "19-Mar    128\n",
       "18-Dec    104\n",
       "18-Mar     78\n",
       "17-Sep     73\n",
       "17-Jan     71\n",
       "17-Nov     69\n",
       "17-May     69\n",
       "17-Feb     68\n",
       "17-Aug     67\n",
       "18-Jan     67\n",
       "17-Apr     66\n",
       "17-Jun     64\n",
       "16-Oct     64\n",
       "17-Mar     64\n",
       "17-Dec     64\n",
       "16-Dec     64\n",
       "18-Jul     62\n",
       "18-Sep     62\n",
       "17-Jul     58\n",
       "18-Feb     58\n",
       "18-Apr     58\n",
       "16-Sep     57\n",
       "18-Aug     55\n",
       "16-Jul     54\n",
       "16-Aug     54\n",
       "18-Nov     53\n",
       "18-May     52\n",
       "17-Oct     52\n",
       "18-Jun     52\n",
       "18-Oct     52\n",
       "16-May     49\n",
       "16-Nov     48\n",
       "16-Jun     44\n",
       "16-Mar     42\n",
       "16-Apr     41\n",
       "16-Feb     26\n",
       "16-Jan      9\n",
       "Name: last_pymnt_d, dtype: int64"
      ]
     },
     "metadata": {},
     "execution_count": 112
    }
   ],
   "source": [
    "df['last_pymnt_d'].value_counts()"
   ]
  },
  {
   "cell_type": "code",
   "execution_count": 113,
   "metadata": {},
   "outputs": [],
   "source": [
    "df['last_pymnt_d'] = df['last_pymnt_d'].apply(lambda x: x.split('-')[1])"
   ]
  },
  {
   "cell_type": "code",
   "execution_count": 114,
   "metadata": {},
   "outputs": [
    {
     "output_type": "execute_result",
     "data": {
      "text/plain": [
       "2610"
      ]
     },
     "metadata": {},
     "execution_count": 114
    }
   ],
   "source": [
    "df['next_pymnt_d'].isnull().sum()"
   ]
  },
  {
   "cell_type": "code",
   "execution_count": 115,
   "metadata": {},
   "outputs": [
    {
     "output_type": "execute_result",
     "data": {
      "text/plain": [
       "19-Apr    335\n",
       "19-Mar      1\n",
       "Name: next_pymnt_d, dtype: int64"
      ]
     },
     "metadata": {},
     "execution_count": 115
    }
   ],
   "source": [
    "df['next_pymnt_d'].value_counts()"
   ]
  },
  {
   "cell_type": "code",
   "execution_count": 116,
   "metadata": {},
   "outputs": [
    {
     "output_type": "execute_result",
     "data": {
      "text/plain": [
       "19-Mar    1287\n",
       "18-Dec     237\n",
       "19-Jan     166\n",
       "19-Feb     155\n",
       "18-Jul      95\n",
       "18-Nov      73\n",
       "18-Oct      69\n",
       "18-Sep      58\n",
       "18-Aug      56\n",
       "18-Mar      53\n",
       "17-Oct      50\n",
       "18-Jan      49\n",
       "17-Sep      47\n",
       "18-May      42\n",
       "17-Feb      40\n",
       "17-Aug      38\n",
       "17-Nov      38\n",
       "18-Apr      37\n",
       "17-Jun      36\n",
       "17-Jul      35\n",
       "18-Feb      34\n",
       "17-Apr      32\n",
       "17-Dec      31\n",
       "17-Jan      25\n",
       "16-Dec      24\n",
       "16-Oct      23\n",
       "17-May      22\n",
       "17-Mar      19\n",
       "16-Jun      11\n",
       "16-Jul      11\n",
       "18-Jun       9\n",
       "16-Feb       9\n",
       "16-Aug       7\n",
       "16-Apr       7\n",
       "16-Jan       6\n",
       "16-Nov       4\n",
       "16-May       4\n",
       "16-Sep       3\n",
       "16-Mar       2\n",
       "15-Dec       2\n",
       "Name: last_credit_pull_d, dtype: int64"
      ]
     },
     "metadata": {},
     "execution_count": 116
    }
   ],
   "source": [
    "df['last_credit_pull_d'].value_counts()"
   ]
  },
  {
   "cell_type": "code",
   "execution_count": 117,
   "metadata": {},
   "outputs": [],
   "source": [
    "df['last_credit_pull_d'] = df['last_credit_pull_d'].apply(lambda x: x.split('-')[1])"
   ]
  },
  {
   "cell_type": "code",
   "execution_count": 123,
   "metadata": {},
   "outputs": [
    {
     "output_type": "execute_result",
     "data": {
      "text/plain": [
       "<matplotlib.axes._subplots.AxesSubplot at 0x1efd3f10>"
      ]
     },
     "metadata": {},
     "execution_count": 123
    },
    {
     "output_type": "display_data",
     "data": {
      "text/plain": "<Figure size 432x288 with 2 Axes>",
      "image/svg+xml": "<?xml version=\"1.0\" encoding=\"utf-8\" standalone=\"no\"?>\r\n<!DOCTYPE svg PUBLIC \"-//W3C//DTD SVG 1.1//EN\"\r\n  \"http://www.w3.org/Graphics/SVG/1.1/DTD/svg11.dtd\">\r\n<!-- Created with matplotlib (https://matplotlib.org/) -->\r\n<svg height=\"329.067344pt\" version=\"1.1\" viewBox=\"0 0 434.562937 329.067344\" width=\"434.562937pt\" xmlns=\"http://www.w3.org/2000/svg\" xmlns:xlink=\"http://www.w3.org/1999/xlink\">\r\n <defs>\r\n  <style type=\"text/css\">\r\n*{stroke-linecap:butt;stroke-linejoin:round;}\r\n  </style>\r\n </defs>\r\n <g id=\"figure_1\">\r\n  <g id=\"patch_1\">\r\n   <path d=\"M 0 329.067344 \r\nL 434.562937 329.067344 \r\nL 434.562937 0 \r\nL 0 0 \r\nz\r\n\" style=\"fill:none;\"/>\r\n  </g>\r\n  <g id=\"axes_1\">\r\n   <g id=\"patch_2\">\r\n    <path d=\"M 100.628125 228.439219 \r\nL 368.468125 228.439219 \r\nL 368.468125 10.999219 \r\nL 100.628125 10.999219 \r\nz\r\n\" style=\"fill:#ffffff;\"/>\r\n   </g>\r\n   <g id=\"QuadMesh_1\">\r\n    <path clip-path=\"url(#p80eeea68d9)\" d=\"M 100.628125 10.999219 \r\nL 116.383419 10.999219 \r\nL 116.383419 23.789807 \r\nL 100.628125 23.789807 \r\nL 100.628125 10.999219 \r\n\" style=\"fill:#800000;\"/>\r\n    <path clip-path=\"url(#p80eeea68d9)\" d=\"M 116.383419 10.999219 \r\nL 132.138713 10.999219 \r\nL 132.138713 23.789807 \r\nL 116.383419 23.789807 \r\nL 116.383419 10.999219 \r\n\" style=\"fill:#0000d8;\"/>\r\n    <path clip-path=\"url(#p80eeea68d9)\" d=\"M 132.138713 10.999219 \r\nL 147.894007 10.999219 \r\nL 147.894007 23.789807 \r\nL 132.138713 23.789807 \r\nL 132.138713 10.999219 \r\n\" style=\"fill:#0000e6;\"/>\r\n    <path clip-path=\"url(#p80eeea68d9)\" d=\"M 147.894007 10.999219 \r\nL 163.649301 10.999219 \r\nL 163.649301 23.789807 \r\nL 147.894007 23.789807 \r\nL 147.894007 10.999219 \r\n\" style=\"fill:#0000e1;\"/>\r\n    <path clip-path=\"url(#p80eeea68d9)\" d=\"M 163.649301 10.999219 \r\nL 179.404596 10.999219 \r\nL 179.404596 23.789807 \r\nL 163.649301 23.789807 \r\nL 163.649301 10.999219 \r\n\" style=\"fill:#0000e4;\"/>\r\n    <path clip-path=\"url(#p80eeea68d9)\" d=\"M 179.404596 10.999219 \r\nL 195.15989 10.999219 \r\nL 195.15989 23.789807 \r\nL 179.404596 23.789807 \r\nL 179.404596 10.999219 \r\n\" style=\"fill:#0000e1;\"/>\r\n    <path clip-path=\"url(#p80eeea68d9)\" d=\"M 195.15989 10.999219 \r\nL 210.915184 10.999219 \r\nL 210.915184 23.789807 \r\nL 195.15989 23.789807 \r\nL 195.15989 10.999219 \r\n\" style=\"fill:#0000de;\"/>\r\n    <path clip-path=\"url(#p80eeea68d9)\" d=\"M 210.915184 10.999219 \r\nL 226.670478 10.999219 \r\nL 226.670478 23.789807 \r\nL 210.915184 23.789807 \r\nL 210.915184 10.999219 \r\n\" style=\"fill:#0000db;\"/>\r\n    <path clip-path=\"url(#p80eeea68d9)\" d=\"M 226.670478 10.999219 \r\nL 242.425772 10.999219 \r\nL 242.425772 23.789807 \r\nL 226.670478 23.789807 \r\nL 226.670478 10.999219 \r\n\" style=\"fill:#0000c5;\"/>\r\n    <path clip-path=\"url(#p80eeea68d9)\" d=\"M 242.425772 10.999219 \r\nL 258.181066 10.999219 \r\nL 258.181066 23.789807 \r\nL 242.425772 23.789807 \r\nL 242.425772 10.999219 \r\n\" style=\"fill:#0000db;\"/>\r\n    <path clip-path=\"url(#p80eeea68d9)\" d=\"M 258.181066 10.999219 \r\nL 273.93636 10.999219 \r\nL 273.93636 23.789807 \r\nL 258.181066 23.789807 \r\nL 258.181066 10.999219 \r\n\" style=\"fill:#0000d8;\"/>\r\n    <path clip-path=\"url(#p80eeea68d9)\" d=\"M 273.93636 10.999219 \r\nL 289.691654 10.999219 \r\nL 289.691654 23.789807 \r\nL 273.93636 23.789807 \r\nL 273.93636 10.999219 \r\n\" style=\"fill:#0000e1;\"/>\r\n    <path clip-path=\"url(#p80eeea68d9)\" d=\"M 289.691654 10.999219 \r\nL 305.446949 10.999219 \r\nL 305.446949 23.789807 \r\nL 289.691654 23.789807 \r\nL 289.691654 10.999219 \r\n\" style=\"fill:#0000e1;\"/>\r\n    <path clip-path=\"url(#p80eeea68d9)\" d=\"M 305.446949 10.999219 \r\nL 321.202243 10.999219 \r\nL 321.202243 23.789807 \r\nL 305.446949 23.789807 \r\nL 305.446949 10.999219 \r\n\" style=\"fill:#0000f2;\"/>\r\n    <path clip-path=\"url(#p80eeea68d9)\" d=\"M 321.202243 10.999219 \r\nL 336.957537 10.999219 \r\nL 336.957537 23.789807 \r\nL 321.202243 23.789807 \r\nL 321.202243 10.999219 \r\n\" style=\"fill:#0000d3;\"/>\r\n    <path clip-path=\"url(#p80eeea68d9)\" d=\"M 336.957537 10.999219 \r\nL 352.712831 10.999219 \r\nL 352.712831 23.789807 \r\nL 336.957537 23.789807 \r\nL 336.957537 10.999219 \r\n\" style=\"fill:#0000ef;\"/>\r\n    <path clip-path=\"url(#p80eeea68d9)\" d=\"M 352.712831 10.999219 \r\nL 368.468125 10.999219 \r\nL 368.468125 23.789807 \r\nL 352.712831 23.789807 \r\nL 352.712831 10.999219 \r\n\" style=\"fill:#0000d6;\"/>\r\n    <path clip-path=\"url(#p80eeea68d9)\" d=\"M 100.628125 23.789807 \r\nL 116.383419 23.789807 \r\nL 116.383419 36.580395 \r\nL 100.628125 36.580395 \r\nL 100.628125 23.789807 \r\n\" style=\"fill:#0000d8;\"/>\r\n    <path clip-path=\"url(#p80eeea68d9)\" d=\"M 116.383419 23.789807 \r\nL 132.138713 23.789807 \r\nL 132.138713 36.580395 \r\nL 116.383419 36.580395 \r\nL 116.383419 23.789807 \r\n\" style=\"fill:#800000;\"/>\r\n    <path clip-path=\"url(#p80eeea68d9)\" d=\"M 132.138713 23.789807 \r\nL 147.894007 23.789807 \r\nL 147.894007 36.580395 \r\nL 132.138713 36.580395 \r\nL 132.138713 23.789807 \r\n\" style=\"fill:#0000e1;\"/>\r\n    <path clip-path=\"url(#p80eeea68d9)\" d=\"M 147.894007 23.789807 \r\nL 163.649301 23.789807 \r\nL 163.649301 36.580395 \r\nL 147.894007 36.580395 \r\nL 147.894007 23.789807 \r\n\" style=\"fill:#0000db;\"/>\r\n    <path clip-path=\"url(#p80eeea68d9)\" d=\"M 163.649301 23.789807 \r\nL 179.404596 23.789807 \r\nL 179.404596 36.580395 \r\nL 163.649301 36.580395 \r\nL 163.649301 23.789807 \r\n\" style=\"fill:#0000e1;\"/>\r\n    <path clip-path=\"url(#p80eeea68d9)\" d=\"M 179.404596 23.789807 \r\nL 195.15989 23.789807 \r\nL 195.15989 36.580395 \r\nL 179.404596 36.580395 \r\nL 179.404596 23.789807 \r\n\" style=\"fill:#0000d6;\"/>\r\n    <path clip-path=\"url(#p80eeea68d9)\" d=\"M 195.15989 23.789807 \r\nL 210.915184 23.789807 \r\nL 210.915184 36.580395 \r\nL 195.15989 36.580395 \r\nL 195.15989 23.789807 \r\n\" style=\"fill:#0000db;\"/>\r\n    <path clip-path=\"url(#p80eeea68d9)\" d=\"M 210.915184 23.789807 \r\nL 226.670478 23.789807 \r\nL 226.670478 36.580395 \r\nL 210.915184 36.580395 \r\nL 210.915184 23.789807 \r\n\" style=\"fill:#0000d0;\"/>\r\n    <path clip-path=\"url(#p80eeea68d9)\" d=\"M 226.670478 23.789807 \r\nL 242.425772 23.789807 \r\nL 242.425772 36.580395 \r\nL 226.670478 36.580395 \r\nL 226.670478 23.789807 \r\n\" style=\"fill:#0000e6;\"/>\r\n    <path clip-path=\"url(#p80eeea68d9)\" d=\"M 242.425772 23.789807 \r\nL 258.181066 23.789807 \r\nL 258.181066 36.580395 \r\nL 242.425772 36.580395 \r\nL 242.425772 23.789807 \r\n\" style=\"fill:#0000e9;\"/>\r\n    <path clip-path=\"url(#p80eeea68d9)\" d=\"M 258.181066 23.789807 \r\nL 273.93636 23.789807 \r\nL 273.93636 36.580395 \r\nL 258.181066 36.580395 \r\nL 258.181066 23.789807 \r\n\" style=\"fill:#0000d8;\"/>\r\n    <path clip-path=\"url(#p80eeea68d9)\" d=\"M 273.93636 23.789807 \r\nL 289.691654 23.789807 \r\nL 289.691654 36.580395 \r\nL 273.93636 36.580395 \r\nL 273.93636 23.789807 \r\n\" style=\"fill:#0000e1;\"/>\r\n    <path clip-path=\"url(#p80eeea68d9)\" d=\"M 289.691654 23.789807 \r\nL 305.446949 23.789807 \r\nL 305.446949 36.580395 \r\nL 289.691654 36.580395 \r\nL 289.691654 23.789807 \r\n\" style=\"fill:#0000d3;\"/>\r\n    <path clip-path=\"url(#p80eeea68d9)\" d=\"M 305.446949 23.789807 \r\nL 321.202243 23.789807 \r\nL 321.202243 36.580395 \r\nL 305.446949 36.580395 \r\nL 305.446949 23.789807 \r\n\" style=\"fill:#0000de;\"/>\r\n    <path clip-path=\"url(#p80eeea68d9)\" d=\"M 321.202243 23.789807 \r\nL 336.957537 23.789807 \r\nL 336.957537 36.580395 \r\nL 321.202243 36.580395 \r\nL 321.202243 23.789807 \r\n\" style=\"fill:#0000e4;\"/>\r\n    <path clip-path=\"url(#p80eeea68d9)\" d=\"M 336.957537 23.789807 \r\nL 352.712831 23.789807 \r\nL 352.712831 36.580395 \r\nL 336.957537 36.580395 \r\nL 336.957537 23.789807 \r\n\" style=\"fill:#7171ff;\"/>\r\n    <path clip-path=\"url(#p80eeea68d9)\" d=\"M 352.712831 23.789807 \r\nL 368.468125 23.789807 \r\nL 368.468125 36.580395 \r\nL 352.712831 36.580395 \r\nL 352.712831 23.789807 \r\n\" style=\"fill:#0000db;\"/>\r\n    <path clip-path=\"url(#p80eeea68d9)\" d=\"M 100.628125 36.580395 \r\nL 116.383419 36.580395 \r\nL 116.383419 49.370983 \r\nL 100.628125 49.370983 \r\nL 100.628125 36.580395 \r\n\" style=\"fill:#0000e6;\"/>\r\n    <path clip-path=\"url(#p80eeea68d9)\" d=\"M 116.383419 36.580395 \r\nL 132.138713 36.580395 \r\nL 132.138713 49.370983 \r\nL 116.383419 49.370983 \r\nL 116.383419 36.580395 \r\n\" style=\"fill:#0000e1;\"/>\r\n    <path clip-path=\"url(#p80eeea68d9)\" d=\"M 132.138713 36.580395 \r\nL 147.894007 36.580395 \r\nL 147.894007 49.370983 \r\nL 132.138713 49.370983 \r\nL 132.138713 36.580395 \r\n\" style=\"fill:#800000;\"/>\r\n    <path clip-path=\"url(#p80eeea68d9)\" d=\"M 147.894007 36.580395 \r\nL 163.649301 36.580395 \r\nL 163.649301 49.370983 \r\nL 147.894007 49.370983 \r\nL 147.894007 36.580395 \r\n\" style=\"fill:#0000bf;\"/>\r\n    <path clip-path=\"url(#p80eeea68d9)\" d=\"M 163.649301 36.580395 \r\nL 179.404596 36.580395 \r\nL 179.404596 49.370983 \r\nL 163.649301 49.370983 \r\nL 163.649301 36.580395 \r\n\" style=\"fill:#0000e9;\"/>\r\n    <path clip-path=\"url(#p80eeea68d9)\" d=\"M 179.404596 36.580395 \r\nL 195.15989 36.580395 \r\nL 195.15989 49.370983 \r\nL 179.404596 49.370983 \r\nL 179.404596 36.580395 \r\n\" style=\"fill:#0000e4;\"/>\r\n    <path clip-path=\"url(#p80eeea68d9)\" d=\"M 195.15989 36.580395 \r\nL 210.915184 36.580395 \r\nL 210.915184 49.370983 \r\nL 195.15989 49.370983 \r\nL 195.15989 36.580395 \r\n\" style=\"fill:#0000e4;\"/>\r\n    <path clip-path=\"url(#p80eeea68d9)\" d=\"M 210.915184 36.580395 \r\nL 226.670478 36.580395 \r\nL 226.670478 49.370983 \r\nL 210.915184 49.370983 \r\nL 210.915184 36.580395 \r\n\" style=\"fill:#0000d8;\"/>\r\n    <path clip-path=\"url(#p80eeea68d9)\" d=\"M 226.670478 36.580395 \r\nL 242.425772 36.580395 \r\nL 242.425772 49.370983 \r\nL 226.670478 49.370983 \r\nL 226.670478 36.580395 \r\n\" style=\"fill:#0000e1;\"/>\r\n    <path clip-path=\"url(#p80eeea68d9)\" d=\"M 242.425772 36.580395 \r\nL 258.181066 36.580395 \r\nL 258.181066 49.370983 \r\nL 242.425772 49.370983 \r\nL 242.425772 36.580395 \r\n\" style=\"fill:#0000db;\"/>\r\n    <path clip-path=\"url(#p80eeea68d9)\" d=\"M 258.181066 36.580395 \r\nL 273.93636 36.580395 \r\nL 273.93636 49.370983 \r\nL 258.181066 49.370983 \r\nL 258.181066 36.580395 \r\n\" style=\"fill:#0000d3;\"/>\r\n    <path clip-path=\"url(#p80eeea68d9)\" d=\"M 273.93636 36.580395 \r\nL 289.691654 36.580395 \r\nL 289.691654 49.370983 \r\nL 273.93636 49.370983 \r\nL 273.93636 36.580395 \r\n\" style=\"fill:#0000e1;\"/>\r\n    <path clip-path=\"url(#p80eeea68d9)\" d=\"M 289.691654 36.580395 \r\nL 305.446949 36.580395 \r\nL 305.446949 49.370983 \r\nL 289.691654 49.370983 \r\nL 289.691654 36.580395 \r\n\" style=\"fill:#0000c8;\"/>\r\n    <path clip-path=\"url(#p80eeea68d9)\" d=\"M 305.446949 36.580395 \r\nL 321.202243 36.580395 \r\nL 321.202243 49.370983 \r\nL 305.446949 49.370983 \r\nL 305.446949 36.580395 \r\n\" style=\"fill:#0000de;\"/>\r\n    <path clip-path=\"url(#p80eeea68d9)\" d=\"M 321.202243 36.580395 \r\nL 336.957537 36.580395 \r\nL 336.957537 49.370983 \r\nL 321.202243 49.370983 \r\nL 321.202243 36.580395 \r\n\" style=\"fill:#0000c2;\"/>\r\n    <path clip-path=\"url(#p80eeea68d9)\" d=\"M 336.957537 36.580395 \r\nL 352.712831 36.580395 \r\nL 352.712831 49.370983 \r\nL 336.957537 49.370983 \r\nL 336.957537 36.580395 \r\n\" style=\"fill:#0000e6;\"/>\r\n    <path clip-path=\"url(#p80eeea68d9)\" d=\"M 352.712831 36.580395 \r\nL 368.468125 36.580395 \r\nL 368.468125 49.370983 \r\nL 352.712831 49.370983 \r\nL 352.712831 36.580395 \r\n\" style=\"fill:#0000e6;\"/>\r\n    <path clip-path=\"url(#p80eeea68d9)\" d=\"M 100.628125 49.370983 \r\nL 116.383419 49.370983 \r\nL 116.383419 62.161572 \r\nL 100.628125 62.161572 \r\nL 100.628125 49.370983 \r\n\" style=\"fill:#0000e1;\"/>\r\n    <path clip-path=\"url(#p80eeea68d9)\" d=\"M 116.383419 49.370983 \r\nL 132.138713 49.370983 \r\nL 132.138713 62.161572 \r\nL 116.383419 62.161572 \r\nL 116.383419 49.370983 \r\n\" style=\"fill:#0000db;\"/>\r\n    <path clip-path=\"url(#p80eeea68d9)\" d=\"M 132.138713 49.370983 \r\nL 147.894007 49.370983 \r\nL 147.894007 62.161572 \r\nL 132.138713 62.161572 \r\nL 132.138713 49.370983 \r\n\" style=\"fill:#0000bf;\"/>\r\n    <path clip-path=\"url(#p80eeea68d9)\" d=\"M 147.894007 49.370983 \r\nL 163.649301 49.370983 \r\nL 163.649301 62.161572 \r\nL 147.894007 62.161572 \r\nL 147.894007 49.370983 \r\n\" style=\"fill:#800000;\"/>\r\n    <path clip-path=\"url(#p80eeea68d9)\" d=\"M 163.649301 49.370983 \r\nL 179.404596 49.370983 \r\nL 179.404596 62.161572 \r\nL 163.649301 62.161572 \r\nL 163.649301 49.370983 \r\n\" style=\"fill:#0000e9;\"/>\r\n    <path clip-path=\"url(#p80eeea68d9)\" d=\"M 179.404596 49.370983 \r\nL 195.15989 49.370983 \r\nL 195.15989 62.161572 \r\nL 179.404596 62.161572 \r\nL 179.404596 49.370983 \r\n\" style=\"fill:#0000e1;\"/>\r\n    <path clip-path=\"url(#p80eeea68d9)\" d=\"M 195.15989 49.370983 \r\nL 210.915184 49.370983 \r\nL 210.915184 62.161572 \r\nL 195.15989 62.161572 \r\nL 195.15989 49.370983 \r\n\" style=\"fill:#0000e6;\"/>\r\n    <path clip-path=\"url(#p80eeea68d9)\" d=\"M 210.915184 49.370983 \r\nL 226.670478 49.370983 \r\nL 226.670478 62.161572 \r\nL 210.915184 62.161572 \r\nL 210.915184 49.370983 \r\n\" style=\"fill:#0000d3;\"/>\r\n    <path clip-path=\"url(#p80eeea68d9)\" d=\"M 226.670478 49.370983 \r\nL 242.425772 49.370983 \r\nL 242.425772 62.161572 \r\nL 226.670478 62.161572 \r\nL 226.670478 49.370983 \r\n\" style=\"fill:#0000e9;\"/>\r\n    <path clip-path=\"url(#p80eeea68d9)\" d=\"M 242.425772 49.370983 \r\nL 258.181066 49.370983 \r\nL 258.181066 62.161572 \r\nL 242.425772 62.161572 \r\nL 242.425772 49.370983 \r\n\" style=\"fill:#0000d3;\"/>\r\n    <path clip-path=\"url(#p80eeea68d9)\" d=\"M 258.181066 49.370983 \r\nL 273.93636 49.370983 \r\nL 273.93636 62.161572 \r\nL 258.181066 62.161572 \r\nL 258.181066 49.370983 \r\n\" style=\"fill:#0000e9;\"/>\r\n    <path clip-path=\"url(#p80eeea68d9)\" d=\"M 273.93636 49.370983 \r\nL 289.691654 49.370983 \r\nL 289.691654 62.161572 \r\nL 273.93636 62.161572 \r\nL 273.93636 49.370983 \r\n\" style=\"fill:#0000e4;\"/>\r\n    <path clip-path=\"url(#p80eeea68d9)\" d=\"M 289.691654 49.370983 \r\nL 305.446949 49.370983 \r\nL 305.446949 62.161572 \r\nL 289.691654 62.161572 \r\nL 289.691654 49.370983 \r\n\" style=\"fill:#0000cd;\"/>\r\n    <path clip-path=\"url(#p80eeea68d9)\" d=\"M 305.446949 49.370983 \r\nL 321.202243 49.370983 \r\nL 321.202243 62.161572 \r\nL 305.446949 62.161572 \r\nL 305.446949 49.370983 \r\n\" style=\"fill:#0000f4;\"/>\r\n    <path clip-path=\"url(#p80eeea68d9)\" d=\"M 321.202243 49.370983 \r\nL 336.957537 49.370983 \r\nL 336.957537 62.161572 \r\nL 321.202243 62.161572 \r\nL 321.202243 49.370983 \r\n\" style=\"fill:#ffc9c9;\"/>\r\n    <path clip-path=\"url(#p80eeea68d9)\" d=\"M 336.957537 49.370983 \r\nL 352.712831 49.370983 \r\nL 352.712831 62.161572 \r\nL 336.957537 62.161572 \r\nL 336.957537 49.370983 \r\n\" style=\"fill:#0000db;\"/>\r\n    <path clip-path=\"url(#p80eeea68d9)\" d=\"M 352.712831 49.370983 \r\nL 368.468125 49.370983 \r\nL 368.468125 62.161572 \r\nL 352.712831 62.161572 \r\nL 352.712831 49.370983 \r\n\" style=\"fill:#0000de;\"/>\r\n    <path clip-path=\"url(#p80eeea68d9)\" d=\"M 100.628125 62.161572 \r\nL 116.383419 62.161572 \r\nL 116.383419 74.95216 \r\nL 100.628125 74.95216 \r\nL 100.628125 62.161572 \r\n\" style=\"fill:#0000e4;\"/>\r\n    <path clip-path=\"url(#p80eeea68d9)\" d=\"M 116.383419 62.161572 \r\nL 132.138713 62.161572 \r\nL 132.138713 74.95216 \r\nL 116.383419 74.95216 \r\nL 116.383419 62.161572 \r\n\" style=\"fill:#0000e1;\"/>\r\n    <path clip-path=\"url(#p80eeea68d9)\" d=\"M 132.138713 62.161572 \r\nL 147.894007 62.161572 \r\nL 147.894007 74.95216 \r\nL 132.138713 74.95216 \r\nL 132.138713 62.161572 \r\n\" style=\"fill:#0000e9;\"/>\r\n    <path clip-path=\"url(#p80eeea68d9)\" d=\"M 147.894007 62.161572 \r\nL 163.649301 62.161572 \r\nL 163.649301 74.95216 \r\nL 147.894007 74.95216 \r\nL 147.894007 62.161572 \r\n\" style=\"fill:#0000e9;\"/>\r\n    <path clip-path=\"url(#p80eeea68d9)\" d=\"M 163.649301 62.161572 \r\nL 179.404596 62.161572 \r\nL 179.404596 74.95216 \r\nL 163.649301 74.95216 \r\nL 163.649301 62.161572 \r\n\" style=\"fill:#800000;\"/>\r\n    <path clip-path=\"url(#p80eeea68d9)\" d=\"M 179.404596 62.161572 \r\nL 195.15989 62.161572 \r\nL 195.15989 74.95216 \r\nL 179.404596 74.95216 \r\nL 179.404596 62.161572 \r\n\" style=\"fill:#0101ff;\"/>\r\n    <path clip-path=\"url(#p80eeea68d9)\" d=\"M 195.15989 62.161572 \r\nL 210.915184 62.161572 \r\nL 210.915184 74.95216 \r\nL 195.15989 74.95216 \r\nL 195.15989 62.161572 \r\n\" style=\"fill:#0000ec;\"/>\r\n    <path clip-path=\"url(#p80eeea68d9)\" d=\"M 210.915184 62.161572 \r\nL 226.670478 62.161572 \r\nL 226.670478 74.95216 \r\nL 210.915184 74.95216 \r\nL 210.915184 62.161572 \r\n\" style=\"fill:#0000ec;\"/>\r\n    <path clip-path=\"url(#p80eeea68d9)\" d=\"M 226.670478 62.161572 \r\nL 242.425772 62.161572 \r\nL 242.425772 74.95216 \r\nL 226.670478 74.95216 \r\nL 226.670478 62.161572 \r\n\" style=\"fill:#0000db;\"/>\r\n    <path clip-path=\"url(#p80eeea68d9)\" d=\"M 242.425772 62.161572 \r\nL 258.181066 62.161572 \r\nL 258.181066 74.95216 \r\nL 242.425772 74.95216 \r\nL 242.425772 62.161572 \r\n\" style=\"fill:#0000de;\"/>\r\n    <path clip-path=\"url(#p80eeea68d9)\" d=\"M 258.181066 62.161572 \r\nL 273.93636 62.161572 \r\nL 273.93636 74.95216 \r\nL 258.181066 74.95216 \r\nL 258.181066 62.161572 \r\n\" style=\"fill:#0000a9;\"/>\r\n    <path clip-path=\"url(#p80eeea68d9)\" d=\"M 273.93636 62.161572 \r\nL 289.691654 62.161572 \r\nL 289.691654 74.95216 \r\nL 273.93636 74.95216 \r\nL 273.93636 62.161572 \r\n\" style=\"fill:#0000fd;\"/>\r\n    <path clip-path=\"url(#p80eeea68d9)\" d=\"M 289.691654 62.161572 \r\nL 305.446949 62.161572 \r\nL 305.446949 74.95216 \r\nL 289.691654 74.95216 \r\nL 289.691654 62.161572 \r\n\" style=\"fill:#0000e4;\"/>\r\n    <path clip-path=\"url(#p80eeea68d9)\" d=\"M 305.446949 62.161572 \r\nL 321.202243 62.161572 \r\nL 321.202243 74.95216 \r\nL 305.446949 74.95216 \r\nL 305.446949 62.161572 \r\n\" style=\"fill:#0000e6;\"/>\r\n    <path clip-path=\"url(#p80eeea68d9)\" d=\"M 321.202243 62.161572 \r\nL 336.957537 62.161572 \r\nL 336.957537 74.95216 \r\nL 321.202243 74.95216 \r\nL 321.202243 62.161572 \r\n\" style=\"fill:#0000db;\"/>\r\n    <path clip-path=\"url(#p80eeea68d9)\" d=\"M 336.957537 62.161572 \r\nL 352.712831 62.161572 \r\nL 352.712831 74.95216 \r\nL 336.957537 74.95216 \r\nL 336.957537 62.161572 \r\n\" style=\"fill:#0000e1;\"/>\r\n    <path clip-path=\"url(#p80eeea68d9)\" d=\"M 352.712831 62.161572 \r\nL 368.468125 62.161572 \r\nL 368.468125 74.95216 \r\nL 352.712831 74.95216 \r\nL 352.712831 62.161572 \r\n\" style=\"fill:#0000d0;\"/>\r\n    <path clip-path=\"url(#p80eeea68d9)\" d=\"M 100.628125 74.95216 \r\nL 116.383419 74.95216 \r\nL 116.383419 87.742748 \r\nL 100.628125 87.742748 \r\nL 100.628125 74.95216 \r\n\" style=\"fill:#0000e1;\"/>\r\n    <path clip-path=\"url(#p80eeea68d9)\" d=\"M 116.383419 74.95216 \r\nL 132.138713 74.95216 \r\nL 132.138713 87.742748 \r\nL 116.383419 87.742748 \r\nL 116.383419 74.95216 \r\n\" style=\"fill:#0000d6;\"/>\r\n    <path clip-path=\"url(#p80eeea68d9)\" d=\"M 132.138713 74.95216 \r\nL 147.894007 74.95216 \r\nL 147.894007 87.742748 \r\nL 132.138713 87.742748 \r\nL 132.138713 74.95216 \r\n\" style=\"fill:#0000e4;\"/>\r\n    <path clip-path=\"url(#p80eeea68d9)\" d=\"M 147.894007 74.95216 \r\nL 163.649301 74.95216 \r\nL 163.649301 87.742748 \r\nL 147.894007 87.742748 \r\nL 147.894007 74.95216 \r\n\" style=\"fill:#0000e1;\"/>\r\n    <path clip-path=\"url(#p80eeea68d9)\" d=\"M 163.649301 74.95216 \r\nL 179.404596 74.95216 \r\nL 179.404596 87.742748 \r\nL 163.649301 87.742748 \r\nL 163.649301 74.95216 \r\n\" style=\"fill:#0101ff;\"/>\r\n    <path clip-path=\"url(#p80eeea68d9)\" d=\"M 179.404596 74.95216 \r\nL 195.15989 74.95216 \r\nL 195.15989 87.742748 \r\nL 179.404596 87.742748 \r\nL 179.404596 74.95216 \r\n\" style=\"fill:#800000;\"/>\r\n    <path clip-path=\"url(#p80eeea68d9)\" d=\"M 195.15989 74.95216 \r\nL 210.915184 74.95216 \r\nL 210.915184 87.742748 \r\nL 195.15989 87.742748 \r\nL 195.15989 74.95216 \r\n\" style=\"fill:#dc0000;\"/>\r\n    <path clip-path=\"url(#p80eeea68d9)\" d=\"M 210.915184 74.95216 \r\nL 226.670478 74.95216 \r\nL 226.670478 87.742748 \r\nL 210.915184 87.742748 \r\nL 210.915184 74.95216 \r\n\" style=\"fill:#3131ff;\"/>\r\n    <path clip-path=\"url(#p80eeea68d9)\" d=\"M 226.670478 74.95216 \r\nL 242.425772 74.95216 \r\nL 242.425772 87.742748 \r\nL 226.670478 87.742748 \r\nL 226.670478 74.95216 \r\n\" style=\"fill:#0000a6;\"/>\r\n    <path clip-path=\"url(#p80eeea68d9)\" d=\"M 242.425772 74.95216 \r\nL 258.181066 74.95216 \r\nL 258.181066 87.742748 \r\nL 242.425772 87.742748 \r\nL 242.425772 74.95216 \r\n\" style=\"fill:#000055;\"/>\r\n    <path clip-path=\"url(#p80eeea68d9)\" d=\"M 258.181066 74.95216 \r\nL 273.93636 74.95216 \r\nL 273.93636 87.742748 \r\nL 258.181066 87.742748 \r\nL 258.181066 74.95216 \r\n\" style=\"fill:#0000d8;\"/>\r\n    <path clip-path=\"url(#p80eeea68d9)\" d=\"M 273.93636 74.95216 \r\nL 289.691654 74.95216 \r\nL 289.691654 87.742748 \r\nL 273.93636 87.742748 \r\nL 273.93636 74.95216 \r\n\" style=\"fill:#d30000;\"/>\r\n    <path clip-path=\"url(#p80eeea68d9)\" d=\"M 289.691654 74.95216 \r\nL 305.446949 74.95216 \r\nL 305.446949 87.742748 \r\nL 289.691654 87.742748 \r\nL 289.691654 74.95216 \r\n\" style=\"fill:#0000e4;\"/>\r\n    <path clip-path=\"url(#p80eeea68d9)\" d=\"M 305.446949 74.95216 \r\nL 321.202243 74.95216 \r\nL 321.202243 87.742748 \r\nL 305.446949 87.742748 \r\nL 305.446949 74.95216 \r\n\" style=\"fill:#0000d6;\"/>\r\n    <path clip-path=\"url(#p80eeea68d9)\" d=\"M 321.202243 74.95216 \r\nL 336.957537 74.95216 \r\nL 336.957537 87.742748 \r\nL 321.202243 87.742748 \r\nL 321.202243 74.95216 \r\n\" style=\"fill:#0000d0;\"/>\r\n    <path clip-path=\"url(#p80eeea68d9)\" d=\"M 336.957537 74.95216 \r\nL 352.712831 74.95216 \r\nL 352.712831 87.742748 \r\nL 336.957537 87.742748 \r\nL 336.957537 74.95216 \r\n\" style=\"fill:#0000e6;\"/>\r\n    <path clip-path=\"url(#p80eeea68d9)\" d=\"M 352.712831 74.95216 \r\nL 368.468125 74.95216 \r\nL 368.468125 87.742748 \r\nL 352.712831 87.742748 \r\nL 352.712831 74.95216 \r\n\" style=\"fill:#0000de;\"/>\r\n    <path clip-path=\"url(#p80eeea68d9)\" d=\"M 100.628125 87.742748 \r\nL 116.383419 87.742748 \r\nL 116.383419 100.533336 \r\nL 100.628125 100.533336 \r\nL 100.628125 87.742748 \r\n\" style=\"fill:#0000de;\"/>\r\n    <path clip-path=\"url(#p80eeea68d9)\" d=\"M 116.383419 87.742748 \r\nL 132.138713 87.742748 \r\nL 132.138713 100.533336 \r\nL 116.383419 100.533336 \r\nL 116.383419 87.742748 \r\n\" style=\"fill:#0000db;\"/>\r\n    <path clip-path=\"url(#p80eeea68d9)\" d=\"M 132.138713 87.742748 \r\nL 147.894007 87.742748 \r\nL 147.894007 100.533336 \r\nL 132.138713 100.533336 \r\nL 132.138713 87.742748 \r\n\" style=\"fill:#0000e4;\"/>\r\n    <path clip-path=\"url(#p80eeea68d9)\" d=\"M 147.894007 87.742748 \r\nL 163.649301 87.742748 \r\nL 163.649301 100.533336 \r\nL 147.894007 100.533336 \r\nL 147.894007 87.742748 \r\n\" style=\"fill:#0000e6;\"/>\r\n    <path clip-path=\"url(#p80eeea68d9)\" d=\"M 163.649301 87.742748 \r\nL 179.404596 87.742748 \r\nL 179.404596 100.533336 \r\nL 163.649301 100.533336 \r\nL 163.649301 87.742748 \r\n\" style=\"fill:#0000ec;\"/>\r\n    <path clip-path=\"url(#p80eeea68d9)\" d=\"M 179.404596 87.742748 \r\nL 195.15989 87.742748 \r\nL 195.15989 100.533336 \r\nL 179.404596 100.533336 \r\nL 179.404596 87.742748 \r\n\" style=\"fill:#dc0000;\"/>\r\n    <path clip-path=\"url(#p80eeea68d9)\" d=\"M 195.15989 87.742748 \r\nL 210.915184 87.742748 \r\nL 210.915184 100.533336 \r\nL 195.15989 100.533336 \r\nL 195.15989 87.742748 \r\n\" style=\"fill:#800000;\"/>\r\n    <path clip-path=\"url(#p80eeea68d9)\" d=\"M 210.915184 87.742748 \r\nL 226.670478 87.742748 \r\nL 226.670478 100.533336 \r\nL 210.915184 100.533336 \r\nL 210.915184 87.742748 \r\n\" style=\"fill:#5555ff;\"/>\r\n    <path clip-path=\"url(#p80eeea68d9)\" d=\"M 226.670478 87.742748 \r\nL 242.425772 87.742748 \r\nL 242.425772 100.533336 \r\nL 226.670478 100.533336 \r\nL 226.670478 87.742748 \r\n\" style=\"fill:#0000ac;\"/>\r\n    <path clip-path=\"url(#p80eeea68d9)\" d=\"M 242.425772 87.742748 \r\nL 258.181066 87.742748 \r\nL 258.181066 100.533336 \r\nL 242.425772 100.533336 \r\nL 242.425772 87.742748 \r\n\" style=\"fill:#00004c;\"/>\r\n    <path clip-path=\"url(#p80eeea68d9)\" d=\"M 258.181066 87.742748 \r\nL 273.93636 87.742748 \r\nL 273.93636 100.533336 \r\nL 258.181066 100.533336 \r\nL 258.181066 87.742748 \r\n\" style=\"fill:#0000ef;\"/>\r\n    <path clip-path=\"url(#p80eeea68d9)\" d=\"M 273.93636 87.742748 \r\nL 289.691654 87.742748 \r\nL 289.691654 100.533336 \r\nL 273.93636 100.533336 \r\nL 273.93636 87.742748 \r\n\" style=\"fill:#f60000;\"/>\r\n    <path clip-path=\"url(#p80eeea68d9)\" d=\"M 289.691654 87.742748 \r\nL 305.446949 87.742748 \r\nL 305.446949 100.533336 \r\nL 289.691654 100.533336 \r\nL 289.691654 87.742748 \r\n\" style=\"fill:#0000e4;\"/>\r\n    <path clip-path=\"url(#p80eeea68d9)\" d=\"M 305.446949 87.742748 \r\nL 321.202243 87.742748 \r\nL 321.202243 100.533336 \r\nL 305.446949 100.533336 \r\nL 305.446949 87.742748 \r\n\" style=\"fill:#0000de;\"/>\r\n    <path clip-path=\"url(#p80eeea68d9)\" d=\"M 321.202243 87.742748 \r\nL 336.957537 87.742748 \r\nL 336.957537 100.533336 \r\nL 321.202243 100.533336 \r\nL 321.202243 87.742748 \r\n\" style=\"fill:#0000d6;\"/>\r\n    <path clip-path=\"url(#p80eeea68d9)\" d=\"M 336.957537 87.742748 \r\nL 352.712831 87.742748 \r\nL 352.712831 100.533336 \r\nL 336.957537 100.533336 \r\nL 336.957537 87.742748 \r\n\" style=\"fill:#0000db;\"/>\r\n    <path clip-path=\"url(#p80eeea68d9)\" d=\"M 352.712831 87.742748 \r\nL 368.468125 87.742748 \r\nL 368.468125 100.533336 \r\nL 352.712831 100.533336 \r\nL 352.712831 87.742748 \r\n\" style=\"fill:#0000d8;\"/>\r\n    <path clip-path=\"url(#p80eeea68d9)\" d=\"M 100.628125 100.533336 \r\nL 116.383419 100.533336 \r\nL 116.383419 113.323925 \r\nL 100.628125 113.323925 \r\nL 100.628125 100.533336 \r\n\" style=\"fill:#0000db;\"/>\r\n    <path clip-path=\"url(#p80eeea68d9)\" d=\"M 116.383419 100.533336 \r\nL 132.138713 100.533336 \r\nL 132.138713 113.323925 \r\nL 116.383419 113.323925 \r\nL 116.383419 100.533336 \r\n\" style=\"fill:#0000d0;\"/>\r\n    <path clip-path=\"url(#p80eeea68d9)\" d=\"M 132.138713 100.533336 \r\nL 147.894007 100.533336 \r\nL 147.894007 113.323925 \r\nL 132.138713 113.323925 \r\nL 132.138713 100.533336 \r\n\" style=\"fill:#0000d8;\"/>\r\n    <path clip-path=\"url(#p80eeea68d9)\" d=\"M 147.894007 100.533336 \r\nL 163.649301 100.533336 \r\nL 163.649301 113.323925 \r\nL 147.894007 113.323925 \r\nL 147.894007 100.533336 \r\n\" style=\"fill:#0000d3;\"/>\r\n    <path clip-path=\"url(#p80eeea68d9)\" d=\"M 163.649301 100.533336 \r\nL 179.404596 100.533336 \r\nL 179.404596 113.323925 \r\nL 163.649301 113.323925 \r\nL 163.649301 100.533336 \r\n\" style=\"fill:#0000ec;\"/>\r\n    <path clip-path=\"url(#p80eeea68d9)\" d=\"M 179.404596 100.533336 \r\nL 195.15989 100.533336 \r\nL 195.15989 113.323925 \r\nL 179.404596 113.323925 \r\nL 179.404596 100.533336 \r\n\" style=\"fill:#3131ff;\"/>\r\n    <path clip-path=\"url(#p80eeea68d9)\" d=\"M 195.15989 100.533336 \r\nL 210.915184 100.533336 \r\nL 210.915184 113.323925 \r\nL 195.15989 113.323925 \r\nL 195.15989 100.533336 \r\n\" style=\"fill:#5555ff;\"/>\r\n    <path clip-path=\"url(#p80eeea68d9)\" d=\"M 210.915184 100.533336 \r\nL 226.670478 100.533336 \r\nL 226.670478 113.323925 \r\nL 210.915184 113.323925 \r\nL 210.915184 100.533336 \r\n\" style=\"fill:#800000;\"/>\r\n    <path clip-path=\"url(#p80eeea68d9)\" d=\"M 226.670478 100.533336 \r\nL 242.425772 100.533336 \r\nL 242.425772 113.323925 \r\nL 226.670478 113.323925 \r\nL 226.670478 100.533336 \r\n\" style=\"fill:#0000ef;\"/>\r\n    <path clip-path=\"url(#p80eeea68d9)\" d=\"M 242.425772 100.533336 \r\nL 258.181066 100.533336 \r\nL 258.181066 113.323925 \r\nL 242.425772 113.323925 \r\nL 242.425772 100.533336 \r\n\" style=\"fill:#00007f;\"/>\r\n    <path clip-path=\"url(#p80eeea68d9)\" d=\"M 258.181066 100.533336 \r\nL 273.93636 100.533336 \r\nL 273.93636 113.323925 \r\nL 258.181066 113.323925 \r\nL 258.181066 100.533336 \r\n\" style=\"fill:#0000ba;\"/>\r\n    <path clip-path=\"url(#p80eeea68d9)\" d=\"M 273.93636 100.533336 \r\nL 289.691654 100.533336 \r\nL 289.691654 113.323925 \r\nL 273.93636 113.323925 \r\nL 273.93636 100.533336 \r\n\" style=\"fill:#3939ff;\"/>\r\n    <path clip-path=\"url(#p80eeea68d9)\" d=\"M 289.691654 100.533336 \r\nL 305.446949 100.533336 \r\nL 305.446949 113.323925 \r\nL 289.691654 113.323925 \r\nL 289.691654 100.533336 \r\n\" style=\"fill:#0000d3;\"/>\r\n    <path clip-path=\"url(#p80eeea68d9)\" d=\"M 305.446949 100.533336 \r\nL 321.202243 100.533336 \r\nL 321.202243 113.323925 \r\nL 305.446949 113.323925 \r\nL 305.446949 100.533336 \r\n\" style=\"fill:#0000d6;\"/>\r\n    <path clip-path=\"url(#p80eeea68d9)\" d=\"M 321.202243 100.533336 \r\nL 336.957537 100.533336 \r\nL 336.957537 113.323925 \r\nL 321.202243 113.323925 \r\nL 321.202243 100.533336 \r\n\" style=\"fill:#0000d8;\"/>\r\n    <path clip-path=\"url(#p80eeea68d9)\" d=\"M 336.957537 100.533336 \r\nL 352.712831 100.533336 \r\nL 352.712831 113.323925 \r\nL 336.957537 113.323925 \r\nL 336.957537 100.533336 \r\n\" style=\"fill:#0000bf;\"/>\r\n    <path clip-path=\"url(#p80eeea68d9)\" d=\"M 352.712831 100.533336 \r\nL 368.468125 100.533336 \r\nL 368.468125 113.323925 \r\nL 352.712831 113.323925 \r\nL 352.712831 100.533336 \r\n\" style=\"fill:#0000cd;\"/>\r\n    <path clip-path=\"url(#p80eeea68d9)\" d=\"M 100.628125 113.323925 \r\nL 116.383419 113.323925 \r\nL 116.383419 126.114513 \r\nL 100.628125 126.114513 \r\nL 100.628125 113.323925 \r\n\" style=\"fill:#0000c5;\"/>\r\n    <path clip-path=\"url(#p80eeea68d9)\" d=\"M 116.383419 113.323925 \r\nL 132.138713 113.323925 \r\nL 132.138713 126.114513 \r\nL 116.383419 126.114513 \r\nL 116.383419 113.323925 \r\n\" style=\"fill:#0000e6;\"/>\r\n    <path clip-path=\"url(#p80eeea68d9)\" d=\"M 132.138713 113.323925 \r\nL 147.894007 113.323925 \r\nL 147.894007 126.114513 \r\nL 132.138713 126.114513 \r\nL 132.138713 113.323925 \r\n\" style=\"fill:#0000e1;\"/>\r\n    <path clip-path=\"url(#p80eeea68d9)\" d=\"M 147.894007 113.323925 \r\nL 163.649301 113.323925 \r\nL 163.649301 126.114513 \r\nL 147.894007 126.114513 \r\nL 147.894007 113.323925 \r\n\" style=\"fill:#0000e9;\"/>\r\n    <path clip-path=\"url(#p80eeea68d9)\" d=\"M 163.649301 113.323925 \r\nL 179.404596 113.323925 \r\nL 179.404596 126.114513 \r\nL 163.649301 126.114513 \r\nL 163.649301 113.323925 \r\n\" style=\"fill:#0000db;\"/>\r\n    <path clip-path=\"url(#p80eeea68d9)\" d=\"M 179.404596 113.323925 \r\nL 195.15989 113.323925 \r\nL 195.15989 126.114513 \r\nL 179.404596 126.114513 \r\nL 179.404596 113.323925 \r\n\" style=\"fill:#0000a6;\"/>\r\n    <path clip-path=\"url(#p80eeea68d9)\" d=\"M 195.15989 113.323925 \r\nL 210.915184 113.323925 \r\nL 210.915184 126.114513 \r\nL 195.15989 126.114513 \r\nL 195.15989 113.323925 \r\n\" style=\"fill:#0000ac;\"/>\r\n    <path clip-path=\"url(#p80eeea68d9)\" d=\"M 210.915184 113.323925 \r\nL 226.670478 113.323925 \r\nL 226.670478 126.114513 \r\nL 210.915184 126.114513 \r\nL 210.915184 113.323925 \r\n\" style=\"fill:#0000ef;\"/>\r\n    <path clip-path=\"url(#p80eeea68d9)\" d=\"M 226.670478 113.323925 \r\nL 242.425772 113.323925 \r\nL 242.425772 126.114513 \r\nL 226.670478 126.114513 \r\nL 226.670478 113.323925 \r\n\" style=\"fill:#800000;\"/>\r\n    <path clip-path=\"url(#p80eeea68d9)\" d=\"M 242.425772 113.323925 \r\nL 258.181066 113.323925 \r\nL 258.181066 126.114513 \r\nL 242.425772 126.114513 \r\nL 242.425772 113.323925 \r\n\" style=\"fill:#0000e1;\"/>\r\n    <path clip-path=\"url(#p80eeea68d9)\" d=\"M 258.181066 113.323925 \r\nL 273.93636 113.323925 \r\nL 273.93636 126.114513 \r\nL 258.181066 126.114513 \r\nL 258.181066 113.323925 \r\n\" style=\"fill:#0000db;\"/>\r\n    <path clip-path=\"url(#p80eeea68d9)\" d=\"M 273.93636 113.323925 \r\nL 289.691654 113.323925 \r\nL 289.691654 126.114513 \r\nL 273.93636 126.114513 \r\nL 273.93636 113.323925 \r\n\" style=\"fill:#0000a6;\"/>\r\n    <path clip-path=\"url(#p80eeea68d9)\" d=\"M 289.691654 113.323925 \r\nL 305.446949 113.323925 \r\nL 305.446949 126.114513 \r\nL 289.691654 126.114513 \r\nL 289.691654 113.323925 \r\n\" style=\"fill:#0000f7;\"/>\r\n    <path clip-path=\"url(#p80eeea68d9)\" d=\"M 305.446949 113.323925 \r\nL 321.202243 113.323925 \r\nL 321.202243 126.114513 \r\nL 305.446949 126.114513 \r\nL 305.446949 113.323925 \r\n\" style=\"fill:#0000cd;\"/>\r\n    <path clip-path=\"url(#p80eeea68d9)\" d=\"M 321.202243 113.323925 \r\nL 336.957537 113.323925 \r\nL 336.957537 126.114513 \r\nL 321.202243 126.114513 \r\nL 321.202243 113.323925 \r\n\" style=\"fill:#0000db;\"/>\r\n    <path clip-path=\"url(#p80eeea68d9)\" d=\"M 336.957537 113.323925 \r\nL 352.712831 113.323925 \r\nL 352.712831 126.114513 \r\nL 336.957537 126.114513 \r\nL 336.957537 113.323925 \r\n\" style=\"fill:#0000d3;\"/>\r\n    <path clip-path=\"url(#p80eeea68d9)\" d=\"M 352.712831 113.323925 \r\nL 368.468125 113.323925 \r\nL 368.468125 126.114513 \r\nL 352.712831 126.114513 \r\nL 352.712831 113.323925 \r\n\" style=\"fill:#0000cd;\"/>\r\n    <path clip-path=\"url(#p80eeea68d9)\" d=\"M 100.628125 126.114513 \r\nL 116.383419 126.114513 \r\nL 116.383419 138.905101 \r\nL 100.628125 138.905101 \r\nL 100.628125 126.114513 \r\n\" style=\"fill:#0000db;\"/>\r\n    <path clip-path=\"url(#p80eeea68d9)\" d=\"M 116.383419 126.114513 \r\nL 132.138713 126.114513 \r\nL 132.138713 138.905101 \r\nL 116.383419 138.905101 \r\nL 116.383419 126.114513 \r\n\" style=\"fill:#0000e9;\"/>\r\n    <path clip-path=\"url(#p80eeea68d9)\" d=\"M 132.138713 126.114513 \r\nL 147.894007 126.114513 \r\nL 147.894007 138.905101 \r\nL 132.138713 138.905101 \r\nL 132.138713 126.114513 \r\n\" style=\"fill:#0000db;\"/>\r\n    <path clip-path=\"url(#p80eeea68d9)\" d=\"M 147.894007 126.114513 \r\nL 163.649301 126.114513 \r\nL 163.649301 138.905101 \r\nL 147.894007 138.905101 \r\nL 147.894007 126.114513 \r\n\" style=\"fill:#0000d3;\"/>\r\n    <path clip-path=\"url(#p80eeea68d9)\" d=\"M 163.649301 126.114513 \r\nL 179.404596 126.114513 \r\nL 179.404596 138.905101 \r\nL 163.649301 138.905101 \r\nL 163.649301 126.114513 \r\n\" style=\"fill:#0000de;\"/>\r\n    <path clip-path=\"url(#p80eeea68d9)\" d=\"M 179.404596 126.114513 \r\nL 195.15989 126.114513 \r\nL 195.15989 138.905101 \r\nL 179.404596 138.905101 \r\nL 179.404596 126.114513 \r\n\" style=\"fill:#000055;\"/>\r\n    <path clip-path=\"url(#p80eeea68d9)\" d=\"M 195.15989 126.114513 \r\nL 210.915184 126.114513 \r\nL 210.915184 138.905101 \r\nL 195.15989 138.905101 \r\nL 195.15989 126.114513 \r\n\" style=\"fill:#00004c;\"/>\r\n    <path clip-path=\"url(#p80eeea68d9)\" d=\"M 210.915184 126.114513 \r\nL 226.670478 126.114513 \r\nL 226.670478 138.905101 \r\nL 210.915184 138.905101 \r\nL 210.915184 126.114513 \r\n\" style=\"fill:#00007f;\"/>\r\n    <path clip-path=\"url(#p80eeea68d9)\" d=\"M 226.670478 126.114513 \r\nL 242.425772 126.114513 \r\nL 242.425772 138.905101 \r\nL 226.670478 138.905101 \r\nL 226.670478 126.114513 \r\n\" style=\"fill:#0000e1;\"/>\r\n    <path clip-path=\"url(#p80eeea68d9)\" d=\"M 242.425772 126.114513 \r\nL 258.181066 126.114513 \r\nL 258.181066 138.905101 \r\nL 242.425772 138.905101 \r\nL 242.425772 126.114513 \r\n\" style=\"fill:#800000;\"/>\r\n    <path clip-path=\"url(#p80eeea68d9)\" d=\"M 258.181066 126.114513 \r\nL 273.93636 126.114513 \r\nL 273.93636 138.905101 \r\nL 258.181066 138.905101 \r\nL 258.181066 126.114513 \r\n\" style=\"fill:#0000d0;\"/>\r\n    <path clip-path=\"url(#p80eeea68d9)\" d=\"M 273.93636 126.114513 \r\nL 289.691654 126.114513 \r\nL 289.691654 138.905101 \r\nL 273.93636 138.905101 \r\nL 273.93636 126.114513 \r\n\" style=\"fill:#000079;\"/>\r\n    <path clip-path=\"url(#p80eeea68d9)\" d=\"M 289.691654 126.114513 \r\nL 305.446949 126.114513 \r\nL 305.446949 138.905101 \r\nL 289.691654 138.905101 \r\nL 289.691654 126.114513 \r\n\" style=\"fill:#0000d3;\"/>\r\n    <path clip-path=\"url(#p80eeea68d9)\" d=\"M 305.446949 126.114513 \r\nL 321.202243 126.114513 \r\nL 321.202243 138.905101 \r\nL 305.446949 138.905101 \r\nL 305.446949 126.114513 \r\n\" style=\"fill:#0000fa;\"/>\r\n    <path clip-path=\"url(#p80eeea68d9)\" d=\"M 321.202243 126.114513 \r\nL 336.957537 126.114513 \r\nL 336.957537 138.905101 \r\nL 321.202243 138.905101 \r\nL 321.202243 126.114513 \r\n\" style=\"fill:#0000c8;\"/>\r\n    <path clip-path=\"url(#p80eeea68d9)\" d=\"M 336.957537 126.114513 \r\nL 352.712831 126.114513 \r\nL 352.712831 138.905101 \r\nL 336.957537 138.905101 \r\nL 336.957537 126.114513 \r\n\" style=\"fill:#0000ef;\"/>\r\n    <path clip-path=\"url(#p80eeea68d9)\" d=\"M 352.712831 126.114513 \r\nL 368.468125 126.114513 \r\nL 368.468125 138.905101 \r\nL 352.712831 138.905101 \r\nL 352.712831 126.114513 \r\n\" style=\"fill:#0000ef;\"/>\r\n    <path clip-path=\"url(#p80eeea68d9)\" d=\"M 100.628125 138.905101 \r\nL 116.383419 138.905101 \r\nL 116.383419 151.695689 \r\nL 100.628125 151.695689 \r\nL 100.628125 138.905101 \r\n\" style=\"fill:#0000d8;\"/>\r\n    <path clip-path=\"url(#p80eeea68d9)\" d=\"M 116.383419 138.905101 \r\nL 132.138713 138.905101 \r\nL 132.138713 151.695689 \r\nL 116.383419 151.695689 \r\nL 116.383419 138.905101 \r\n\" style=\"fill:#0000d8;\"/>\r\n    <path clip-path=\"url(#p80eeea68d9)\" d=\"M 132.138713 138.905101 \r\nL 147.894007 138.905101 \r\nL 147.894007 151.695689 \r\nL 132.138713 151.695689 \r\nL 132.138713 138.905101 \r\n\" style=\"fill:#0000d3;\"/>\r\n    <path clip-path=\"url(#p80eeea68d9)\" d=\"M 147.894007 138.905101 \r\nL 163.649301 138.905101 \r\nL 163.649301 151.695689 \r\nL 147.894007 151.695689 \r\nL 147.894007 138.905101 \r\n\" style=\"fill:#0000e9;\"/>\r\n    <path clip-path=\"url(#p80eeea68d9)\" d=\"M 163.649301 138.905101 \r\nL 179.404596 138.905101 \r\nL 179.404596 151.695689 \r\nL 163.649301 151.695689 \r\nL 163.649301 138.905101 \r\n\" style=\"fill:#0000a9;\"/>\r\n    <path clip-path=\"url(#p80eeea68d9)\" d=\"M 179.404596 138.905101 \r\nL 195.15989 138.905101 \r\nL 195.15989 151.695689 \r\nL 179.404596 151.695689 \r\nL 179.404596 138.905101 \r\n\" style=\"fill:#0000d8;\"/>\r\n    <path clip-path=\"url(#p80eeea68d9)\" d=\"M 195.15989 138.905101 \r\nL 210.915184 138.905101 \r\nL 210.915184 151.695689 \r\nL 195.15989 151.695689 \r\nL 195.15989 138.905101 \r\n\" style=\"fill:#0000ef;\"/>\r\n    <path clip-path=\"url(#p80eeea68d9)\" d=\"M 210.915184 138.905101 \r\nL 226.670478 138.905101 \r\nL 226.670478 151.695689 \r\nL 210.915184 151.695689 \r\nL 210.915184 138.905101 \r\n\" style=\"fill:#0000ba;\"/>\r\n    <path clip-path=\"url(#p80eeea68d9)\" d=\"M 226.670478 138.905101 \r\nL 242.425772 138.905101 \r\nL 242.425772 151.695689 \r\nL 226.670478 151.695689 \r\nL 226.670478 138.905101 \r\n\" style=\"fill:#0000db;\"/>\r\n    <path clip-path=\"url(#p80eeea68d9)\" d=\"M 242.425772 138.905101 \r\nL 258.181066 138.905101 \r\nL 258.181066 151.695689 \r\nL 242.425772 151.695689 \r\nL 242.425772 138.905101 \r\n\" style=\"fill:#0000d0;\"/>\r\n    <path clip-path=\"url(#p80eeea68d9)\" d=\"M 258.181066 138.905101 \r\nL 273.93636 138.905101 \r\nL 273.93636 151.695689 \r\nL 258.181066 151.695689 \r\nL 258.181066 138.905101 \r\n\" style=\"fill:#800000;\"/>\r\n    <path clip-path=\"url(#p80eeea68d9)\" d=\"M 273.93636 138.905101 \r\nL 289.691654 138.905101 \r\nL 289.691654 151.695689 \r\nL 273.93636 151.695689 \r\nL 273.93636 138.905101 \r\n\" style=\"fill:#0000ba;\"/>\r\n    <path clip-path=\"url(#p80eeea68d9)\" d=\"M 289.691654 138.905101 \r\nL 305.446949 138.905101 \r\nL 305.446949 151.695689 \r\nL 289.691654 151.695689 \r\nL 289.691654 138.905101 \r\n\" style=\"fill:#0000d3;\"/>\r\n    <path clip-path=\"url(#p80eeea68d9)\" d=\"M 305.446949 138.905101 \r\nL 321.202243 138.905101 \r\nL 321.202243 151.695689 \r\nL 305.446949 151.695689 \r\nL 305.446949 138.905101 \r\n\" style=\"fill:#0000ec;\"/>\r\n    <path clip-path=\"url(#p80eeea68d9)\" d=\"M 321.202243 138.905101 \r\nL 336.957537 138.905101 \r\nL 336.957537 151.695689 \r\nL 321.202243 151.695689 \r\nL 321.202243 138.905101 \r\n\" style=\"fill:#0000f7;\"/>\r\n    <path clip-path=\"url(#p80eeea68d9)\" d=\"M 336.957537 138.905101 \r\nL 352.712831 138.905101 \r\nL 352.712831 151.695689 \r\nL 336.957537 151.695689 \r\nL 336.957537 138.905101 \r\n\" style=\"fill:#0000e6;\"/>\r\n    <path clip-path=\"url(#p80eeea68d9)\" d=\"M 352.712831 138.905101 \r\nL 368.468125 138.905101 \r\nL 368.468125 151.695689 \r\nL 352.712831 151.695689 \r\nL 352.712831 138.905101 \r\n\" style=\"fill:#0000cd;\"/>\r\n    <path clip-path=\"url(#p80eeea68d9)\" d=\"M 100.628125 151.695689 \r\nL 116.383419 151.695689 \r\nL 116.383419 164.486278 \r\nL 100.628125 164.486278 \r\nL 100.628125 151.695689 \r\n\" style=\"fill:#0000e1;\"/>\r\n    <path clip-path=\"url(#p80eeea68d9)\" d=\"M 116.383419 151.695689 \r\nL 132.138713 151.695689 \r\nL 132.138713 164.486278 \r\nL 116.383419 164.486278 \r\nL 116.383419 151.695689 \r\n\" style=\"fill:#0000e1;\"/>\r\n    <path clip-path=\"url(#p80eeea68d9)\" d=\"M 132.138713 151.695689 \r\nL 147.894007 151.695689 \r\nL 147.894007 164.486278 \r\nL 132.138713 164.486278 \r\nL 132.138713 151.695689 \r\n\" style=\"fill:#0000e1;\"/>\r\n    <path clip-path=\"url(#p80eeea68d9)\" d=\"M 147.894007 151.695689 \r\nL 163.649301 151.695689 \r\nL 163.649301 164.486278 \r\nL 147.894007 164.486278 \r\nL 147.894007 151.695689 \r\n\" style=\"fill:#0000e4;\"/>\r\n    <path clip-path=\"url(#p80eeea68d9)\" d=\"M 163.649301 151.695689 \r\nL 179.404596 151.695689 \r\nL 179.404596 164.486278 \r\nL 163.649301 164.486278 \r\nL 163.649301 151.695689 \r\n\" style=\"fill:#0000fd;\"/>\r\n    <path clip-path=\"url(#p80eeea68d9)\" d=\"M 179.404596 151.695689 \r\nL 195.15989 151.695689 \r\nL 195.15989 164.486278 \r\nL 179.404596 164.486278 \r\nL 179.404596 151.695689 \r\n\" style=\"fill:#d30000;\"/>\r\n    <path clip-path=\"url(#p80eeea68d9)\" d=\"M 195.15989 151.695689 \r\nL 210.915184 151.695689 \r\nL 210.915184 164.486278 \r\nL 195.15989 164.486278 \r\nL 195.15989 151.695689 \r\n\" style=\"fill:#f60000;\"/>\r\n    <path clip-path=\"url(#p80eeea68d9)\" d=\"M 210.915184 151.695689 \r\nL 226.670478 151.695689 \r\nL 226.670478 164.486278 \r\nL 210.915184 164.486278 \r\nL 210.915184 151.695689 \r\n\" style=\"fill:#3939ff;\"/>\r\n    <path clip-path=\"url(#p80eeea68d9)\" d=\"M 226.670478 151.695689 \r\nL 242.425772 151.695689 \r\nL 242.425772 164.486278 \r\nL 226.670478 164.486278 \r\nL 226.670478 151.695689 \r\n\" style=\"fill:#0000a6;\"/>\r\n    <path clip-path=\"url(#p80eeea68d9)\" d=\"M 242.425772 151.695689 \r\nL 258.181066 151.695689 \r\nL 258.181066 164.486278 \r\nL 242.425772 164.486278 \r\nL 242.425772 151.695689 \r\n\" style=\"fill:#000079;\"/>\r\n    <path clip-path=\"url(#p80eeea68d9)\" d=\"M 258.181066 151.695689 \r\nL 273.93636 151.695689 \r\nL 273.93636 164.486278 \r\nL 258.181066 164.486278 \r\nL 258.181066 151.695689 \r\n\" style=\"fill:#0000ba;\"/>\r\n    <path clip-path=\"url(#p80eeea68d9)\" d=\"M 273.93636 151.695689 \r\nL 289.691654 151.695689 \r\nL 289.691654 164.486278 \r\nL 273.93636 164.486278 \r\nL 273.93636 151.695689 \r\n\" style=\"fill:#800000;\"/>\r\n    <path clip-path=\"url(#p80eeea68d9)\" d=\"M 289.691654 151.695689 \r\nL 305.446949 151.695689 \r\nL 305.446949 164.486278 \r\nL 289.691654 164.486278 \r\nL 289.691654 151.695689 \r\n\" style=\"fill:#0000e1;\"/>\r\n    <path clip-path=\"url(#p80eeea68d9)\" d=\"M 305.446949 151.695689 \r\nL 321.202243 151.695689 \r\nL 321.202243 164.486278 \r\nL 305.446949 164.486278 \r\nL 305.446949 151.695689 \r\n\" style=\"fill:#0000db;\"/>\r\n    <path clip-path=\"url(#p80eeea68d9)\" d=\"M 321.202243 151.695689 \r\nL 336.957537 151.695689 \r\nL 336.957537 164.486278 \r\nL 321.202243 164.486278 \r\nL 321.202243 151.695689 \r\n\" style=\"fill:#0000ca;\"/>\r\n    <path clip-path=\"url(#p80eeea68d9)\" d=\"M 336.957537 151.695689 \r\nL 352.712831 151.695689 \r\nL 352.712831 164.486278 \r\nL 336.957537 164.486278 \r\nL 336.957537 151.695689 \r\n\" style=\"fill:#0000ef;\"/>\r\n    <path clip-path=\"url(#p80eeea68d9)\" d=\"M 352.712831 151.695689 \r\nL 368.468125 151.695689 \r\nL 368.468125 164.486278 \r\nL 352.712831 164.486278 \r\nL 352.712831 151.695689 \r\n\" style=\"fill:#0000de;\"/>\r\n    <path clip-path=\"url(#p80eeea68d9)\" d=\"M 100.628125 164.486278 \r\nL 116.383419 164.486278 \r\nL 116.383419 177.276866 \r\nL 100.628125 177.276866 \r\nL 100.628125 164.486278 \r\n\" style=\"fill:#0000e1;\"/>\r\n    <path clip-path=\"url(#p80eeea68d9)\" d=\"M 116.383419 164.486278 \r\nL 132.138713 164.486278 \r\nL 132.138713 177.276866 \r\nL 116.383419 177.276866 \r\nL 116.383419 164.486278 \r\n\" style=\"fill:#0000d3;\"/>\r\n    <path clip-path=\"url(#p80eeea68d9)\" d=\"M 132.138713 164.486278 \r\nL 147.894007 164.486278 \r\nL 147.894007 177.276866 \r\nL 132.138713 177.276866 \r\nL 132.138713 164.486278 \r\n\" style=\"fill:#0000c8;\"/>\r\n    <path clip-path=\"url(#p80eeea68d9)\" d=\"M 147.894007 164.486278 \r\nL 163.649301 164.486278 \r\nL 163.649301 177.276866 \r\nL 147.894007 177.276866 \r\nL 147.894007 164.486278 \r\n\" style=\"fill:#0000cd;\"/>\r\n    <path clip-path=\"url(#p80eeea68d9)\" d=\"M 163.649301 164.486278 \r\nL 179.404596 164.486278 \r\nL 179.404596 177.276866 \r\nL 163.649301 177.276866 \r\nL 163.649301 164.486278 \r\n\" style=\"fill:#0000e4;\"/>\r\n    <path clip-path=\"url(#p80eeea68d9)\" d=\"M 179.404596 164.486278 \r\nL 195.15989 164.486278 \r\nL 195.15989 177.276866 \r\nL 179.404596 177.276866 \r\nL 179.404596 164.486278 \r\n\" style=\"fill:#0000e4;\"/>\r\n    <path clip-path=\"url(#p80eeea68d9)\" d=\"M 195.15989 164.486278 \r\nL 210.915184 164.486278 \r\nL 210.915184 177.276866 \r\nL 195.15989 177.276866 \r\nL 195.15989 164.486278 \r\n\" style=\"fill:#0000e4;\"/>\r\n    <path clip-path=\"url(#p80eeea68d9)\" d=\"M 210.915184 164.486278 \r\nL 226.670478 164.486278 \r\nL 226.670478 177.276866 \r\nL 210.915184 177.276866 \r\nL 210.915184 164.486278 \r\n\" style=\"fill:#0000d3;\"/>\r\n    <path clip-path=\"url(#p80eeea68d9)\" d=\"M 226.670478 164.486278 \r\nL 242.425772 164.486278 \r\nL 242.425772 177.276866 \r\nL 226.670478 177.276866 \r\nL 226.670478 164.486278 \r\n\" style=\"fill:#0000f7;\"/>\r\n    <path clip-path=\"url(#p80eeea68d9)\" d=\"M 242.425772 164.486278 \r\nL 258.181066 164.486278 \r\nL 258.181066 177.276866 \r\nL 242.425772 177.276866 \r\nL 242.425772 164.486278 \r\n\" style=\"fill:#0000d3;\"/>\r\n    <path clip-path=\"url(#p80eeea68d9)\" d=\"M 258.181066 164.486278 \r\nL 273.93636 164.486278 \r\nL 273.93636 177.276866 \r\nL 258.181066 177.276866 \r\nL 258.181066 164.486278 \r\n\" style=\"fill:#0000d3;\"/>\r\n    <path clip-path=\"url(#p80eeea68d9)\" d=\"M 273.93636 164.486278 \r\nL 289.691654 164.486278 \r\nL 289.691654 177.276866 \r\nL 273.93636 177.276866 \r\nL 273.93636 164.486278 \r\n\" style=\"fill:#0000e1;\"/>\r\n    <path clip-path=\"url(#p80eeea68d9)\" d=\"M 289.691654 164.486278 \r\nL 305.446949 164.486278 \r\nL 305.446949 177.276866 \r\nL 289.691654 177.276866 \r\nL 289.691654 164.486278 \r\n\" style=\"fill:#800000;\"/>\r\n    <path clip-path=\"url(#p80eeea68d9)\" d=\"M 305.446949 164.486278 \r\nL 321.202243 164.486278 \r\nL 321.202243 177.276866 \r\nL 305.446949 177.276866 \r\nL 305.446949 164.486278 \r\n\" style=\"fill:#0000d6;\"/>\r\n    <path clip-path=\"url(#p80eeea68d9)\" d=\"M 321.202243 164.486278 \r\nL 336.957537 164.486278 \r\nL 336.957537 177.276866 \r\nL 321.202243 177.276866 \r\nL 321.202243 164.486278 \r\n\" style=\"fill:#0000e4;\"/>\r\n    <path clip-path=\"url(#p80eeea68d9)\" d=\"M 336.957537 164.486278 \r\nL 352.712831 164.486278 \r\nL 352.712831 177.276866 \r\nL 336.957537 177.276866 \r\nL 336.957537 164.486278 \r\n\" style=\"fill:#0000d3;\"/>\r\n    <path clip-path=\"url(#p80eeea68d9)\" d=\"M 352.712831 164.486278 \r\nL 368.468125 164.486278 \r\nL 368.468125 177.276866 \r\nL 352.712831 177.276866 \r\nL 352.712831 164.486278 \r\n\" style=\"fill:#0000db;\"/>\r\n    <path clip-path=\"url(#p80eeea68d9)\" d=\"M 100.628125 177.276866 \r\nL 116.383419 177.276866 \r\nL 116.383419 190.067454 \r\nL 100.628125 190.067454 \r\nL 100.628125 177.276866 \r\n\" style=\"fill:#0000f2;\"/>\r\n    <path clip-path=\"url(#p80eeea68d9)\" d=\"M 116.383419 177.276866 \r\nL 132.138713 177.276866 \r\nL 132.138713 190.067454 \r\nL 116.383419 190.067454 \r\nL 116.383419 177.276866 \r\n\" style=\"fill:#0000de;\"/>\r\n    <path clip-path=\"url(#p80eeea68d9)\" d=\"M 132.138713 177.276866 \r\nL 147.894007 177.276866 \r\nL 147.894007 190.067454 \r\nL 132.138713 190.067454 \r\nL 132.138713 177.276866 \r\n\" style=\"fill:#0000de;\"/>\r\n    <path clip-path=\"url(#p80eeea68d9)\" d=\"M 147.894007 177.276866 \r\nL 163.649301 177.276866 \r\nL 163.649301 190.067454 \r\nL 147.894007 190.067454 \r\nL 147.894007 177.276866 \r\n\" style=\"fill:#0000f4;\"/>\r\n    <path clip-path=\"url(#p80eeea68d9)\" d=\"M 163.649301 177.276866 \r\nL 179.404596 177.276866 \r\nL 179.404596 190.067454 \r\nL 163.649301 190.067454 \r\nL 163.649301 177.276866 \r\n\" style=\"fill:#0000e6;\"/>\r\n    <path clip-path=\"url(#p80eeea68d9)\" d=\"M 179.404596 177.276866 \r\nL 195.15989 177.276866 \r\nL 195.15989 190.067454 \r\nL 179.404596 190.067454 \r\nL 179.404596 177.276866 \r\n\" style=\"fill:#0000d6;\"/>\r\n    <path clip-path=\"url(#p80eeea68d9)\" d=\"M 195.15989 177.276866 \r\nL 210.915184 177.276866 \r\nL 210.915184 190.067454 \r\nL 195.15989 190.067454 \r\nL 195.15989 177.276866 \r\n\" style=\"fill:#0000de;\"/>\r\n    <path clip-path=\"url(#p80eeea68d9)\" d=\"M 210.915184 177.276866 \r\nL 226.670478 177.276866 \r\nL 226.670478 190.067454 \r\nL 210.915184 190.067454 \r\nL 210.915184 177.276866 \r\n\" style=\"fill:#0000d6;\"/>\r\n    <path clip-path=\"url(#p80eeea68d9)\" d=\"M 226.670478 177.276866 \r\nL 242.425772 177.276866 \r\nL 242.425772 190.067454 \r\nL 226.670478 190.067454 \r\nL 226.670478 177.276866 \r\n\" style=\"fill:#0000cd;\"/>\r\n    <path clip-path=\"url(#p80eeea68d9)\" d=\"M 242.425772 177.276866 \r\nL 258.181066 177.276866 \r\nL 258.181066 190.067454 \r\nL 242.425772 190.067454 \r\nL 242.425772 177.276866 \r\n\" style=\"fill:#0000fa;\"/>\r\n    <path clip-path=\"url(#p80eeea68d9)\" d=\"M 258.181066 177.276866 \r\nL 273.93636 177.276866 \r\nL 273.93636 190.067454 \r\nL 258.181066 190.067454 \r\nL 258.181066 177.276866 \r\n\" style=\"fill:#0000ec;\"/>\r\n    <path clip-path=\"url(#p80eeea68d9)\" d=\"M 273.93636 177.276866 \r\nL 289.691654 177.276866 \r\nL 289.691654 190.067454 \r\nL 273.93636 190.067454 \r\nL 273.93636 177.276866 \r\n\" style=\"fill:#0000db;\"/>\r\n    <path clip-path=\"url(#p80eeea68d9)\" d=\"M 289.691654 177.276866 \r\nL 305.446949 177.276866 \r\nL 305.446949 190.067454 \r\nL 289.691654 190.067454 \r\nL 289.691654 177.276866 \r\n\" style=\"fill:#0000d6;\"/>\r\n    <path clip-path=\"url(#p80eeea68d9)\" d=\"M 305.446949 177.276866 \r\nL 321.202243 177.276866 \r\nL 321.202243 190.067454 \r\nL 305.446949 190.067454 \r\nL 305.446949 177.276866 \r\n\" style=\"fill:#800000;\"/>\r\n    <path clip-path=\"url(#p80eeea68d9)\" d=\"M 321.202243 177.276866 \r\nL 336.957537 177.276866 \r\nL 336.957537 190.067454 \r\nL 321.202243 190.067454 \r\nL 321.202243 177.276866 \r\n\" style=\"fill:#0000c2;\"/>\r\n    <path clip-path=\"url(#p80eeea68d9)\" d=\"M 336.957537 177.276866 \r\nL 352.712831 177.276866 \r\nL 352.712831 190.067454 \r\nL 336.957537 190.067454 \r\nL 336.957537 177.276866 \r\n\" style=\"fill:#0000d8;\"/>\r\n    <path clip-path=\"url(#p80eeea68d9)\" d=\"M 352.712831 177.276866 \r\nL 368.468125 177.276866 \r\nL 368.468125 190.067454 \r\nL 352.712831 190.067454 \r\nL 352.712831 177.276866 \r\n\" style=\"fill:#0000e6;\"/>\r\n    <path clip-path=\"url(#p80eeea68d9)\" d=\"M 100.628125 190.067454 \r\nL 116.383419 190.067454 \r\nL 116.383419 202.858042 \r\nL 100.628125 202.858042 \r\nL 100.628125 190.067454 \r\n\" style=\"fill:#0000d3;\"/>\r\n    <path clip-path=\"url(#p80eeea68d9)\" d=\"M 116.383419 190.067454 \r\nL 132.138713 190.067454 \r\nL 132.138713 202.858042 \r\nL 116.383419 202.858042 \r\nL 116.383419 190.067454 \r\n\" style=\"fill:#0000e4;\"/>\r\n    <path clip-path=\"url(#p80eeea68d9)\" d=\"M 132.138713 190.067454 \r\nL 147.894007 190.067454 \r\nL 147.894007 202.858042 \r\nL 132.138713 202.858042 \r\nL 132.138713 190.067454 \r\n\" style=\"fill:#0000c2;\"/>\r\n    <path clip-path=\"url(#p80eeea68d9)\" d=\"M 147.894007 190.067454 \r\nL 163.649301 190.067454 \r\nL 163.649301 202.858042 \r\nL 147.894007 202.858042 \r\nL 147.894007 190.067454 \r\n\" style=\"fill:#ffc9c9;\"/>\r\n    <path clip-path=\"url(#p80eeea68d9)\" d=\"M 163.649301 190.067454 \r\nL 179.404596 190.067454 \r\nL 179.404596 202.858042 \r\nL 163.649301 202.858042 \r\nL 163.649301 190.067454 \r\n\" style=\"fill:#0000db;\"/>\r\n    <path clip-path=\"url(#p80eeea68d9)\" d=\"M 179.404596 190.067454 \r\nL 195.15989 190.067454 \r\nL 195.15989 202.858042 \r\nL 179.404596 202.858042 \r\nL 179.404596 190.067454 \r\n\" style=\"fill:#0000d0;\"/>\r\n    <path clip-path=\"url(#p80eeea68d9)\" d=\"M 195.15989 190.067454 \r\nL 210.915184 190.067454 \r\nL 210.915184 202.858042 \r\nL 195.15989 202.858042 \r\nL 195.15989 190.067454 \r\n\" style=\"fill:#0000d6;\"/>\r\n    <path clip-path=\"url(#p80eeea68d9)\" d=\"M 210.915184 190.067454 \r\nL 226.670478 190.067454 \r\nL 226.670478 202.858042 \r\nL 210.915184 202.858042 \r\nL 210.915184 190.067454 \r\n\" style=\"fill:#0000d8;\"/>\r\n    <path clip-path=\"url(#p80eeea68d9)\" d=\"M 226.670478 190.067454 \r\nL 242.425772 190.067454 \r\nL 242.425772 202.858042 \r\nL 226.670478 202.858042 \r\nL 226.670478 190.067454 \r\n\" style=\"fill:#0000db;\"/>\r\n    <path clip-path=\"url(#p80eeea68d9)\" d=\"M 242.425772 190.067454 \r\nL 258.181066 190.067454 \r\nL 258.181066 202.858042 \r\nL 242.425772 202.858042 \r\nL 242.425772 190.067454 \r\n\" style=\"fill:#0000c8;\"/>\r\n    <path clip-path=\"url(#p80eeea68d9)\" d=\"M 258.181066 190.067454 \r\nL 273.93636 190.067454 \r\nL 273.93636 202.858042 \r\nL 258.181066 202.858042 \r\nL 258.181066 190.067454 \r\n\" style=\"fill:#0000f7;\"/>\r\n    <path clip-path=\"url(#p80eeea68d9)\" d=\"M 273.93636 190.067454 \r\nL 289.691654 190.067454 \r\nL 289.691654 202.858042 \r\nL 273.93636 202.858042 \r\nL 273.93636 190.067454 \r\n\" style=\"fill:#0000ca;\"/>\r\n    <path clip-path=\"url(#p80eeea68d9)\" d=\"M 289.691654 190.067454 \r\nL 305.446949 190.067454 \r\nL 305.446949 202.858042 \r\nL 289.691654 202.858042 \r\nL 289.691654 190.067454 \r\n\" style=\"fill:#0000e4;\"/>\r\n    <path clip-path=\"url(#p80eeea68d9)\" d=\"M 305.446949 190.067454 \r\nL 321.202243 190.067454 \r\nL 321.202243 202.858042 \r\nL 305.446949 202.858042 \r\nL 305.446949 190.067454 \r\n\" style=\"fill:#0000c2;\"/>\r\n    <path clip-path=\"url(#p80eeea68d9)\" d=\"M 321.202243 190.067454 \r\nL 336.957537 190.067454 \r\nL 336.957537 202.858042 \r\nL 321.202243 202.858042 \r\nL 321.202243 190.067454 \r\n\" style=\"fill:#800000;\"/>\r\n    <path clip-path=\"url(#p80eeea68d9)\" d=\"M 336.957537 190.067454 \r\nL 352.712831 190.067454 \r\nL 352.712831 202.858042 \r\nL 336.957537 202.858042 \r\nL 336.957537 190.067454 \r\n\" style=\"fill:#0000de;\"/>\r\n    <path clip-path=\"url(#p80eeea68d9)\" d=\"M 352.712831 190.067454 \r\nL 368.468125 190.067454 \r\nL 368.468125 202.858042 \r\nL 352.712831 202.858042 \r\nL 352.712831 190.067454 \r\n\" style=\"fill:#0000e1;\"/>\r\n    <path clip-path=\"url(#p80eeea68d9)\" d=\"M 100.628125 202.858042 \r\nL 116.383419 202.858042 \r\nL 116.383419 215.648631 \r\nL 100.628125 215.648631 \r\nL 100.628125 202.858042 \r\n\" style=\"fill:#0000ef;\"/>\r\n    <path clip-path=\"url(#p80eeea68d9)\" d=\"M 116.383419 202.858042 \r\nL 132.138713 202.858042 \r\nL 132.138713 215.648631 \r\nL 116.383419 215.648631 \r\nL 116.383419 202.858042 \r\n\" style=\"fill:#7171ff;\"/>\r\n    <path clip-path=\"url(#p80eeea68d9)\" d=\"M 132.138713 202.858042 \r\nL 147.894007 202.858042 \r\nL 147.894007 215.648631 \r\nL 132.138713 215.648631 \r\nL 132.138713 202.858042 \r\n\" style=\"fill:#0000e6;\"/>\r\n    <path clip-path=\"url(#p80eeea68d9)\" d=\"M 147.894007 202.858042 \r\nL 163.649301 202.858042 \r\nL 163.649301 215.648631 \r\nL 147.894007 215.648631 \r\nL 147.894007 202.858042 \r\n\" style=\"fill:#0000db;\"/>\r\n    <path clip-path=\"url(#p80eeea68d9)\" d=\"M 163.649301 202.858042 \r\nL 179.404596 202.858042 \r\nL 179.404596 215.648631 \r\nL 163.649301 215.648631 \r\nL 163.649301 202.858042 \r\n\" style=\"fill:#0000e1;\"/>\r\n    <path clip-path=\"url(#p80eeea68d9)\" d=\"M 179.404596 202.858042 \r\nL 195.15989 202.858042 \r\nL 195.15989 215.648631 \r\nL 179.404596 215.648631 \r\nL 179.404596 202.858042 \r\n\" style=\"fill:#0000e6;\"/>\r\n    <path clip-path=\"url(#p80eeea68d9)\" d=\"M 195.15989 202.858042 \r\nL 210.915184 202.858042 \r\nL 210.915184 215.648631 \r\nL 195.15989 215.648631 \r\nL 195.15989 202.858042 \r\n\" style=\"fill:#0000db;\"/>\r\n    <path clip-path=\"url(#p80eeea68d9)\" d=\"M 210.915184 202.858042 \r\nL 226.670478 202.858042 \r\nL 226.670478 215.648631 \r\nL 210.915184 215.648631 \r\nL 210.915184 202.858042 \r\n\" style=\"fill:#0000bf;\"/>\r\n    <path clip-path=\"url(#p80eeea68d9)\" d=\"M 226.670478 202.858042 \r\nL 242.425772 202.858042 \r\nL 242.425772 215.648631 \r\nL 226.670478 215.648631 \r\nL 226.670478 202.858042 \r\n\" style=\"fill:#0000d3;\"/>\r\n    <path clip-path=\"url(#p80eeea68d9)\" d=\"M 242.425772 202.858042 \r\nL 258.181066 202.858042 \r\nL 258.181066 215.648631 \r\nL 242.425772 215.648631 \r\nL 242.425772 202.858042 \r\n\" style=\"fill:#0000ef;\"/>\r\n    <path clip-path=\"url(#p80eeea68d9)\" d=\"M 258.181066 202.858042 \r\nL 273.93636 202.858042 \r\nL 273.93636 215.648631 \r\nL 258.181066 215.648631 \r\nL 258.181066 202.858042 \r\n\" style=\"fill:#0000e6;\"/>\r\n    <path clip-path=\"url(#p80eeea68d9)\" d=\"M 273.93636 202.858042 \r\nL 289.691654 202.858042 \r\nL 289.691654 215.648631 \r\nL 273.93636 215.648631 \r\nL 273.93636 202.858042 \r\n\" style=\"fill:#0000ef;\"/>\r\n    <path clip-path=\"url(#p80eeea68d9)\" d=\"M 289.691654 202.858042 \r\nL 305.446949 202.858042 \r\nL 305.446949 215.648631 \r\nL 289.691654 215.648631 \r\nL 289.691654 202.858042 \r\n\" style=\"fill:#0000d3;\"/>\r\n    <path clip-path=\"url(#p80eeea68d9)\" d=\"M 305.446949 202.858042 \r\nL 321.202243 202.858042 \r\nL 321.202243 215.648631 \r\nL 305.446949 215.648631 \r\nL 305.446949 202.858042 \r\n\" style=\"fill:#0000d8;\"/>\r\n    <path clip-path=\"url(#p80eeea68d9)\" d=\"M 321.202243 202.858042 \r\nL 336.957537 202.858042 \r\nL 336.957537 215.648631 \r\nL 321.202243 215.648631 \r\nL 321.202243 202.858042 \r\n\" style=\"fill:#0000de;\"/>\r\n    <path clip-path=\"url(#p80eeea68d9)\" d=\"M 336.957537 202.858042 \r\nL 352.712831 202.858042 \r\nL 352.712831 215.648631 \r\nL 336.957537 215.648631 \r\nL 336.957537 202.858042 \r\n\" style=\"fill:#800000;\"/>\r\n    <path clip-path=\"url(#p80eeea68d9)\" d=\"M 352.712831 202.858042 \r\nL 368.468125 202.858042 \r\nL 368.468125 215.648631 \r\nL 352.712831 215.648631 \r\nL 352.712831 202.858042 \r\n\" style=\"fill:#0000fa;\"/>\r\n    <path clip-path=\"url(#p80eeea68d9)\" d=\"M 100.628125 215.648631 \r\nL 116.383419 215.648631 \r\nL 116.383419 228.439219 \r\nL 100.628125 228.439219 \r\nL 100.628125 215.648631 \r\n\" style=\"fill:#0000d6;\"/>\r\n    <path clip-path=\"url(#p80eeea68d9)\" d=\"M 116.383419 215.648631 \r\nL 132.138713 215.648631 \r\nL 132.138713 228.439219 \r\nL 116.383419 228.439219 \r\nL 116.383419 215.648631 \r\n\" style=\"fill:#0000db;\"/>\r\n    <path clip-path=\"url(#p80eeea68d9)\" d=\"M 132.138713 215.648631 \r\nL 147.894007 215.648631 \r\nL 147.894007 228.439219 \r\nL 132.138713 228.439219 \r\nL 132.138713 215.648631 \r\n\" style=\"fill:#0000e6;\"/>\r\n    <path clip-path=\"url(#p80eeea68d9)\" d=\"M 147.894007 215.648631 \r\nL 163.649301 215.648631 \r\nL 163.649301 228.439219 \r\nL 147.894007 228.439219 \r\nL 147.894007 215.648631 \r\n\" style=\"fill:#0000de;\"/>\r\n    <path clip-path=\"url(#p80eeea68d9)\" d=\"M 163.649301 215.648631 \r\nL 179.404596 215.648631 \r\nL 179.404596 228.439219 \r\nL 163.649301 228.439219 \r\nL 163.649301 215.648631 \r\n\" style=\"fill:#0000d0;\"/>\r\n    <path clip-path=\"url(#p80eeea68d9)\" d=\"M 179.404596 215.648631 \r\nL 195.15989 215.648631 \r\nL 195.15989 228.439219 \r\nL 179.404596 228.439219 \r\nL 179.404596 215.648631 \r\n\" style=\"fill:#0000de;\"/>\r\n    <path clip-path=\"url(#p80eeea68d9)\" d=\"M 195.15989 215.648631 \r\nL 210.915184 215.648631 \r\nL 210.915184 228.439219 \r\nL 195.15989 228.439219 \r\nL 195.15989 215.648631 \r\n\" style=\"fill:#0000d8;\"/>\r\n    <path clip-path=\"url(#p80eeea68d9)\" d=\"M 210.915184 215.648631 \r\nL 226.670478 215.648631 \r\nL 226.670478 228.439219 \r\nL 210.915184 228.439219 \r\nL 210.915184 215.648631 \r\n\" style=\"fill:#0000cd;\"/>\r\n    <path clip-path=\"url(#p80eeea68d9)\" d=\"M 226.670478 215.648631 \r\nL 242.425772 215.648631 \r\nL 242.425772 228.439219 \r\nL 226.670478 228.439219 \r\nL 226.670478 215.648631 \r\n\" style=\"fill:#0000cd;\"/>\r\n    <path clip-path=\"url(#p80eeea68d9)\" d=\"M 242.425772 215.648631 \r\nL 258.181066 215.648631 \r\nL 258.181066 228.439219 \r\nL 242.425772 228.439219 \r\nL 242.425772 215.648631 \r\n\" style=\"fill:#0000ef;\"/>\r\n    <path clip-path=\"url(#p80eeea68d9)\" d=\"M 258.181066 215.648631 \r\nL 273.93636 215.648631 \r\nL 273.93636 228.439219 \r\nL 258.181066 228.439219 \r\nL 258.181066 215.648631 \r\n\" style=\"fill:#0000cd;\"/>\r\n    <path clip-path=\"url(#p80eeea68d9)\" d=\"M 273.93636 215.648631 \r\nL 289.691654 215.648631 \r\nL 289.691654 228.439219 \r\nL 273.93636 228.439219 \r\nL 273.93636 215.648631 \r\n\" style=\"fill:#0000de;\"/>\r\n    <path clip-path=\"url(#p80eeea68d9)\" d=\"M 289.691654 215.648631 \r\nL 305.446949 215.648631 \r\nL 305.446949 228.439219 \r\nL 289.691654 228.439219 \r\nL 289.691654 215.648631 \r\n\" style=\"fill:#0000db;\"/>\r\n    <path clip-path=\"url(#p80eeea68d9)\" d=\"M 305.446949 215.648631 \r\nL 321.202243 215.648631 \r\nL 321.202243 228.439219 \r\nL 305.446949 228.439219 \r\nL 305.446949 215.648631 \r\n\" style=\"fill:#0000e6;\"/>\r\n    <path clip-path=\"url(#p80eeea68d9)\" d=\"M 321.202243 215.648631 \r\nL 336.957537 215.648631 \r\nL 336.957537 228.439219 \r\nL 321.202243 228.439219 \r\nL 321.202243 215.648631 \r\n\" style=\"fill:#0000e1;\"/>\r\n    <path clip-path=\"url(#p80eeea68d9)\" d=\"M 336.957537 215.648631 \r\nL 352.712831 215.648631 \r\nL 352.712831 228.439219 \r\nL 336.957537 228.439219 \r\nL 336.957537 215.648631 \r\n\" style=\"fill:#0000fa;\"/>\r\n    <path clip-path=\"url(#p80eeea68d9)\" d=\"M 352.712831 215.648631 \r\nL 368.468125 215.648631 \r\nL 368.468125 228.439219 \r\nL 352.712831 228.439219 \r\nL 352.712831 215.648631 \r\n\" style=\"fill:#800000;\"/>\r\n   </g>\r\n   <g id=\"matplotlib.axis_1\">\r\n    <g id=\"xtick_1\">\r\n     <g id=\"line2d_1\">\r\n      <defs>\r\n       <path d=\"M 0 0 \r\nL 0 3.5 \r\n\" id=\"m5606f3faa3\" style=\"stroke:#000000;stroke-width:0.8;\"/>\r\n      </defs>\r\n      <g>\r\n       <use style=\"stroke:#000000;stroke-width:0.8;\" x=\"108.505772\" xlink:href=\"#m5606f3faa3\" y=\"228.439219\"/>\r\n      </g>\r\n     </g>\r\n     <g id=\"text_1\">\r\n      <!-- id -->\r\n      <defs>\r\n       <path d=\"M 9.421875 54.6875 \r\nL 18.40625 54.6875 \r\nL 18.40625 0 \r\nL 9.421875 0 \r\nz\r\nM 9.421875 75.984375 \r\nL 18.40625 75.984375 \r\nL 18.40625 64.59375 \r\nL 9.421875 64.59375 \r\nz\r\n\" id=\"DejaVuSans-105\"/>\r\n       <path d=\"M 45.40625 46.390625 \r\nL 45.40625 75.984375 \r\nL 54.390625 75.984375 \r\nL 54.390625 0 \r\nL 45.40625 0 \r\nL 45.40625 8.203125 \r\nQ 42.578125 3.328125 38.25 0.953125 \r\nQ 33.9375 -1.421875 27.875 -1.421875 \r\nQ 17.96875 -1.421875 11.734375 6.484375 \r\nQ 5.515625 14.40625 5.515625 27.296875 \r\nQ 5.515625 40.1875 11.734375 48.09375 \r\nQ 17.96875 56 27.875 56 \r\nQ 33.9375 56 38.25 53.625 \r\nQ 42.578125 51.265625 45.40625 46.390625 \r\nz\r\nM 14.796875 27.296875 \r\nQ 14.796875 17.390625 18.875 11.75 \r\nQ 22.953125 6.109375 30.078125 6.109375 \r\nQ 37.203125 6.109375 41.296875 11.75 \r\nQ 45.40625 17.390625 45.40625 27.296875 \r\nQ 45.40625 37.203125 41.296875 42.84375 \r\nQ 37.203125 48.484375 30.078125 48.484375 \r\nQ 22.953125 48.484375 18.875 42.84375 \r\nQ 14.796875 37.203125 14.796875 27.296875 \r\nz\r\n\" id=\"DejaVuSans-100\"/>\r\n      </defs>\r\n      <g transform=\"translate(111.265147 244.565781)rotate(-90)scale(0.1 -0.1)\">\r\n       <use xlink:href=\"#DejaVuSans-105\"/>\r\n       <use x=\"27.783203\" xlink:href=\"#DejaVuSans-100\"/>\r\n      </g>\r\n     </g>\r\n    </g>\r\n    <g id=\"xtick_2\">\r\n     <g id=\"line2d_2\">\r\n      <g>\r\n       <use style=\"stroke:#000000;stroke-width:0.8;\" x=\"124.261066\" xlink:href=\"#m5606f3faa3\" y=\"228.439219\"/>\r\n      </g>\r\n     </g>\r\n     <g id=\"text_2\">\r\n      <!-- Target A -->\r\n      <defs>\r\n       <path d=\"M -0.296875 72.90625 \r\nL 61.375 72.90625 \r\nL 61.375 64.59375 \r\nL 35.5 64.59375 \r\nL 35.5 0 \r\nL 25.59375 0 \r\nL 25.59375 64.59375 \r\nL -0.296875 64.59375 \r\nz\r\n\" id=\"DejaVuSans-84\"/>\r\n       <path d=\"M 34.28125 27.484375 \r\nQ 23.390625 27.484375 19.1875 25 \r\nQ 14.984375 22.515625 14.984375 16.5 \r\nQ 14.984375 11.71875 18.140625 8.90625 \r\nQ 21.296875 6.109375 26.703125 6.109375 \r\nQ 34.1875 6.109375 38.703125 11.40625 \r\nQ 43.21875 16.703125 43.21875 25.484375 \r\nL 43.21875 27.484375 \r\nz\r\nM 52.203125 31.203125 \r\nL 52.203125 0 \r\nL 43.21875 0 \r\nL 43.21875 8.296875 \r\nQ 40.140625 3.328125 35.546875 0.953125 \r\nQ 30.953125 -1.421875 24.3125 -1.421875 \r\nQ 15.921875 -1.421875 10.953125 3.296875 \r\nQ 6 8.015625 6 15.921875 \r\nQ 6 25.140625 12.171875 29.828125 \r\nQ 18.359375 34.515625 30.609375 34.515625 \r\nL 43.21875 34.515625 \r\nL 43.21875 35.40625 \r\nQ 43.21875 41.609375 39.140625 45 \r\nQ 35.0625 48.390625 27.6875 48.390625 \r\nQ 23 48.390625 18.546875 47.265625 \r\nQ 14.109375 46.140625 10.015625 43.890625 \r\nL 10.015625 52.203125 \r\nQ 14.9375 54.109375 19.578125 55.046875 \r\nQ 24.21875 56 28.609375 56 \r\nQ 40.484375 56 46.34375 49.84375 \r\nQ 52.203125 43.703125 52.203125 31.203125 \r\nz\r\n\" id=\"DejaVuSans-97\"/>\r\n       <path d=\"M 41.109375 46.296875 \r\nQ 39.59375 47.171875 37.8125 47.578125 \r\nQ 36.03125 48 33.890625 48 \r\nQ 26.265625 48 22.1875 43.046875 \r\nQ 18.109375 38.09375 18.109375 28.8125 \r\nL 18.109375 0 \r\nL 9.078125 0 \r\nL 9.078125 54.6875 \r\nL 18.109375 54.6875 \r\nL 18.109375 46.1875 \r\nQ 20.953125 51.171875 25.484375 53.578125 \r\nQ 30.03125 56 36.53125 56 \r\nQ 37.453125 56 38.578125 55.875 \r\nQ 39.703125 55.765625 41.0625 55.515625 \r\nz\r\n\" id=\"DejaVuSans-114\"/>\r\n       <path d=\"M 45.40625 27.984375 \r\nQ 45.40625 37.75 41.375 43.109375 \r\nQ 37.359375 48.484375 30.078125 48.484375 \r\nQ 22.859375 48.484375 18.828125 43.109375 \r\nQ 14.796875 37.75 14.796875 27.984375 \r\nQ 14.796875 18.265625 18.828125 12.890625 \r\nQ 22.859375 7.515625 30.078125 7.515625 \r\nQ 37.359375 7.515625 41.375 12.890625 \r\nQ 45.40625 18.265625 45.40625 27.984375 \r\nz\r\nM 54.390625 6.78125 \r\nQ 54.390625 -7.171875 48.1875 -13.984375 \r\nQ 42 -20.796875 29.203125 -20.796875 \r\nQ 24.46875 -20.796875 20.265625 -20.09375 \r\nQ 16.0625 -19.390625 12.109375 -17.921875 \r\nL 12.109375 -9.1875 \r\nQ 16.0625 -11.328125 19.921875 -12.34375 \r\nQ 23.78125 -13.375 27.78125 -13.375 \r\nQ 36.625 -13.375 41.015625 -8.765625 \r\nQ 45.40625 -4.15625 45.40625 5.171875 \r\nL 45.40625 9.625 \r\nQ 42.625 4.78125 38.28125 2.390625 \r\nQ 33.9375 0 27.875 0 \r\nQ 17.828125 0 11.671875 7.65625 \r\nQ 5.515625 15.328125 5.515625 27.984375 \r\nQ 5.515625 40.671875 11.671875 48.328125 \r\nQ 17.828125 56 27.875 56 \r\nQ 33.9375 56 38.28125 53.609375 \r\nQ 42.625 51.21875 45.40625 46.390625 \r\nL 45.40625 54.6875 \r\nL 54.390625 54.6875 \r\nz\r\n\" id=\"DejaVuSans-103\"/>\r\n       <path d=\"M 56.203125 29.59375 \r\nL 56.203125 25.203125 \r\nL 14.890625 25.203125 \r\nQ 15.484375 15.921875 20.484375 11.0625 \r\nQ 25.484375 6.203125 34.421875 6.203125 \r\nQ 39.59375 6.203125 44.453125 7.46875 \r\nQ 49.3125 8.734375 54.109375 11.28125 \r\nL 54.109375 2.78125 \r\nQ 49.265625 0.734375 44.1875 -0.34375 \r\nQ 39.109375 -1.421875 33.890625 -1.421875 \r\nQ 20.796875 -1.421875 13.15625 6.1875 \r\nQ 5.515625 13.8125 5.515625 26.8125 \r\nQ 5.515625 40.234375 12.765625 48.109375 \r\nQ 20.015625 56 32.328125 56 \r\nQ 43.359375 56 49.78125 48.890625 \r\nQ 56.203125 41.796875 56.203125 29.59375 \r\nz\r\nM 47.21875 32.234375 \r\nQ 47.125 39.59375 43.09375 43.984375 \r\nQ 39.0625 48.390625 32.421875 48.390625 \r\nQ 24.90625 48.390625 20.390625 44.140625 \r\nQ 15.875 39.890625 15.1875 32.171875 \r\nz\r\n\" id=\"DejaVuSans-101\"/>\r\n       <path d=\"M 18.3125 70.21875 \r\nL 18.3125 54.6875 \r\nL 36.8125 54.6875 \r\nL 36.8125 47.703125 \r\nL 18.3125 47.703125 \r\nL 18.3125 18.015625 \r\nQ 18.3125 11.328125 20.140625 9.421875 \r\nQ 21.96875 7.515625 27.59375 7.515625 \r\nL 36.8125 7.515625 \r\nL 36.8125 0 \r\nL 27.59375 0 \r\nQ 17.1875 0 13.234375 3.875 \r\nQ 9.28125 7.765625 9.28125 18.015625 \r\nL 9.28125 47.703125 \r\nL 2.6875 47.703125 \r\nL 2.6875 54.6875 \r\nL 9.28125 54.6875 \r\nL 9.28125 70.21875 \r\nz\r\n\" id=\"DejaVuSans-116\"/>\r\n       <path id=\"DejaVuSans-32\"/>\r\n       <path d=\"M 34.1875 63.1875 \r\nL 20.796875 26.90625 \r\nL 47.609375 26.90625 \r\nz\r\nM 28.609375 72.90625 \r\nL 39.796875 72.90625 \r\nL 67.578125 0 \r\nL 57.328125 0 \r\nL 50.6875 18.703125 \r\nL 17.828125 18.703125 \r\nL 11.1875 0 \r\nL 0.78125 0 \r\nz\r\n\" id=\"DejaVuSans-65\"/>\r\n      </defs>\r\n      <g transform=\"translate(127.020441 276.401719)rotate(-90)scale(0.1 -0.1)\">\r\n       <use xlink:href=\"#DejaVuSans-84\"/>\r\n       <use x=\"44.583984\" xlink:href=\"#DejaVuSans-97\"/>\r\n       <use x=\"105.863281\" xlink:href=\"#DejaVuSans-114\"/>\r\n       <use x=\"145.226562\" xlink:href=\"#DejaVuSans-103\"/>\r\n       <use x=\"208.703125\" xlink:href=\"#DejaVuSans-101\"/>\r\n       <use x=\"270.226562\" xlink:href=\"#DejaVuSans-116\"/>\r\n       <use x=\"309.435547\" xlink:href=\"#DejaVuSans-32\"/>\r\n       <use x=\"341.222656\" xlink:href=\"#DejaVuSans-65\"/>\r\n      </g>\r\n     </g>\r\n    </g>\r\n    <g id=\"xtick_3\">\r\n     <g id=\"line2d_3\">\r\n      <g>\r\n       <use style=\"stroke:#000000;stroke-width:0.8;\" x=\"140.01636\" xlink:href=\"#m5606f3faa3\" y=\"228.439219\"/>\r\n      </g>\r\n     </g>\r\n     <g id=\"text_3\">\r\n      <!-- Target B -->\r\n      <defs>\r\n       <path d=\"M 19.671875 34.8125 \r\nL 19.671875 8.109375 \r\nL 35.5 8.109375 \r\nQ 43.453125 8.109375 47.28125 11.40625 \r\nQ 51.125 14.703125 51.125 21.484375 \r\nQ 51.125 28.328125 47.28125 31.5625 \r\nQ 43.453125 34.8125 35.5 34.8125 \r\nz\r\nM 19.671875 64.796875 \r\nL 19.671875 42.828125 \r\nL 34.28125 42.828125 \r\nQ 41.5 42.828125 45.03125 45.53125 \r\nQ 48.578125 48.25 48.578125 53.8125 \r\nQ 48.578125 59.328125 45.03125 62.0625 \r\nQ 41.5 64.796875 34.28125 64.796875 \r\nz\r\nM 9.8125 72.90625 \r\nL 35.015625 72.90625 \r\nQ 46.296875 72.90625 52.390625 68.21875 \r\nQ 58.5 63.53125 58.5 54.890625 \r\nQ 58.5 48.1875 55.375 44.234375 \r\nQ 52.25 40.28125 46.1875 39.3125 \r\nQ 53.46875 37.75 57.5 32.78125 \r\nQ 61.53125 27.828125 61.53125 20.40625 \r\nQ 61.53125 10.640625 54.890625 5.3125 \r\nQ 48.25 0 35.984375 0 \r\nL 9.8125 0 \r\nz\r\n\" id=\"DejaVuSans-66\"/>\r\n      </defs>\r\n      <g transform=\"translate(142.775735 276.422031)rotate(-90)scale(0.1 -0.1)\">\r\n       <use xlink:href=\"#DejaVuSans-84\"/>\r\n       <use x=\"44.583984\" xlink:href=\"#DejaVuSans-97\"/>\r\n       <use x=\"105.863281\" xlink:href=\"#DejaVuSans-114\"/>\r\n       <use x=\"145.226562\" xlink:href=\"#DejaVuSans-103\"/>\r\n       <use x=\"208.703125\" xlink:href=\"#DejaVuSans-101\"/>\r\n       <use x=\"270.226562\" xlink:href=\"#DejaVuSans-116\"/>\r\n       <use x=\"309.435547\" xlink:href=\"#DejaVuSans-32\"/>\r\n       <use x=\"341.222656\" xlink:href=\"#DejaVuSans-66\"/>\r\n      </g>\r\n     </g>\r\n    </g>\r\n    <g id=\"xtick_4\">\r\n     <g id=\"line2d_4\">\r\n      <g>\r\n       <use style=\"stroke:#000000;stroke-width:0.8;\" x=\"155.771654\" xlink:href=\"#m5606f3faa3\" y=\"228.439219\"/>\r\n      </g>\r\n     </g>\r\n     <g id=\"text_4\">\r\n      <!-- LOAN_AMT -->\r\n      <defs>\r\n       <path d=\"M 9.8125 72.90625 \r\nL 19.671875 72.90625 \r\nL 19.671875 8.296875 \r\nL 55.171875 8.296875 \r\nL 55.171875 0 \r\nL 9.8125 0 \r\nz\r\n\" id=\"DejaVuSans-76\"/>\r\n       <path d=\"M 39.40625 66.21875 \r\nQ 28.65625 66.21875 22.328125 58.203125 \r\nQ 16.015625 50.203125 16.015625 36.375 \r\nQ 16.015625 22.609375 22.328125 14.59375 \r\nQ 28.65625 6.59375 39.40625 6.59375 \r\nQ 50.140625 6.59375 56.421875 14.59375 \r\nQ 62.703125 22.609375 62.703125 36.375 \r\nQ 62.703125 50.203125 56.421875 58.203125 \r\nQ 50.140625 66.21875 39.40625 66.21875 \r\nz\r\nM 39.40625 74.21875 \r\nQ 54.734375 74.21875 63.90625 63.9375 \r\nQ 73.09375 53.65625 73.09375 36.375 \r\nQ 73.09375 19.140625 63.90625 8.859375 \r\nQ 54.734375 -1.421875 39.40625 -1.421875 \r\nQ 24.03125 -1.421875 14.8125 8.828125 \r\nQ 5.609375 19.09375 5.609375 36.375 \r\nQ 5.609375 53.65625 14.8125 63.9375 \r\nQ 24.03125 74.21875 39.40625 74.21875 \r\nz\r\n\" id=\"DejaVuSans-79\"/>\r\n       <path d=\"M 9.8125 72.90625 \r\nL 23.09375 72.90625 \r\nL 55.421875 11.921875 \r\nL 55.421875 72.90625 \r\nL 64.984375 72.90625 \r\nL 64.984375 0 \r\nL 51.703125 0 \r\nL 19.390625 60.984375 \r\nL 19.390625 0 \r\nL 9.8125 0 \r\nz\r\n\" id=\"DejaVuSans-78\"/>\r\n       <path d=\"M 50.984375 -16.609375 \r\nL 50.984375 -23.578125 \r\nL -0.984375 -23.578125 \r\nL -0.984375 -16.609375 \r\nz\r\n\" id=\"DejaVuSans-95\"/>\r\n       <path d=\"M 9.8125 72.90625 \r\nL 24.515625 72.90625 \r\nL 43.109375 23.296875 \r\nL 61.8125 72.90625 \r\nL 76.515625 72.90625 \r\nL 76.515625 0 \r\nL 66.890625 0 \r\nL 66.890625 64.015625 \r\nL 48.09375 14.015625 \r\nL 38.1875 14.015625 \r\nL 19.390625 64.015625 \r\nL 19.390625 0 \r\nL 9.8125 0 \r\nz\r\n\" id=\"DejaVuSans-77\"/>\r\n      </defs>\r\n      <g transform=\"translate(158.303686 289.243906)rotate(-90)scale(0.1 -0.1)\">\r\n       <use xlink:href=\"#DejaVuSans-76\"/>\r\n       <use x=\"52.087891\" xlink:href=\"#DejaVuSans-79\"/>\r\n       <use x=\"129.048828\" xlink:href=\"#DejaVuSans-65\"/>\r\n       <use x=\"197.457031\" xlink:href=\"#DejaVuSans-78\"/>\r\n       <use x=\"272.261719\" xlink:href=\"#DejaVuSans-95\"/>\r\n       <use x=\"322.261719\" xlink:href=\"#DejaVuSans-65\"/>\r\n       <use x=\"390.669922\" xlink:href=\"#DejaVuSans-77\"/>\r\n       <use x=\"476.949219\" xlink:href=\"#DejaVuSans-84\"/>\r\n      </g>\r\n     </g>\r\n    </g>\r\n    <g id=\"xtick_5\">\r\n     <g id=\"line2d_5\">\r\n      <g>\r\n       <use style=\"stroke:#000000;stroke-width:0.8;\" x=\"171.526949\" xlink:href=\"#m5606f3faa3\" y=\"228.439219\"/>\r\n      </g>\r\n     </g>\r\n     <g id=\"text_5\">\r\n      <!-- CompanySize -->\r\n      <defs>\r\n       <path d=\"M 64.40625 67.28125 \r\nL 64.40625 56.890625 \r\nQ 59.421875 61.53125 53.78125 63.8125 \r\nQ 48.140625 66.109375 41.796875 66.109375 \r\nQ 29.296875 66.109375 22.65625 58.46875 \r\nQ 16.015625 50.828125 16.015625 36.375 \r\nQ 16.015625 21.96875 22.65625 14.328125 \r\nQ 29.296875 6.6875 41.796875 6.6875 \r\nQ 48.140625 6.6875 53.78125 8.984375 \r\nQ 59.421875 11.28125 64.40625 15.921875 \r\nL 64.40625 5.609375 \r\nQ 59.234375 2.09375 53.4375 0.328125 \r\nQ 47.65625 -1.421875 41.21875 -1.421875 \r\nQ 24.65625 -1.421875 15.125 8.703125 \r\nQ 5.609375 18.84375 5.609375 36.375 \r\nQ 5.609375 53.953125 15.125 64.078125 \r\nQ 24.65625 74.21875 41.21875 74.21875 \r\nQ 47.75 74.21875 53.53125 72.484375 \r\nQ 59.328125 70.75 64.40625 67.28125 \r\nz\r\n\" id=\"DejaVuSans-67\"/>\r\n       <path d=\"M 30.609375 48.390625 \r\nQ 23.390625 48.390625 19.1875 42.75 \r\nQ 14.984375 37.109375 14.984375 27.296875 \r\nQ 14.984375 17.484375 19.15625 11.84375 \r\nQ 23.34375 6.203125 30.609375 6.203125 \r\nQ 37.796875 6.203125 41.984375 11.859375 \r\nQ 46.1875 17.53125 46.1875 27.296875 \r\nQ 46.1875 37.015625 41.984375 42.703125 \r\nQ 37.796875 48.390625 30.609375 48.390625 \r\nz\r\nM 30.609375 56 \r\nQ 42.328125 56 49.015625 48.375 \r\nQ 55.71875 40.765625 55.71875 27.296875 \r\nQ 55.71875 13.875 49.015625 6.21875 \r\nQ 42.328125 -1.421875 30.609375 -1.421875 \r\nQ 18.84375 -1.421875 12.171875 6.21875 \r\nQ 5.515625 13.875 5.515625 27.296875 \r\nQ 5.515625 40.765625 12.171875 48.375 \r\nQ 18.84375 56 30.609375 56 \r\nz\r\n\" id=\"DejaVuSans-111\"/>\r\n       <path d=\"M 52 44.1875 \r\nQ 55.375 50.25 60.0625 53.125 \r\nQ 64.75 56 71.09375 56 \r\nQ 79.640625 56 84.28125 50.015625 \r\nQ 88.921875 44.046875 88.921875 33.015625 \r\nL 88.921875 0 \r\nL 79.890625 0 \r\nL 79.890625 32.71875 \r\nQ 79.890625 40.578125 77.09375 44.375 \r\nQ 74.3125 48.1875 68.609375 48.1875 \r\nQ 61.625 48.1875 57.5625 43.546875 \r\nQ 53.515625 38.921875 53.515625 30.90625 \r\nL 53.515625 0 \r\nL 44.484375 0 \r\nL 44.484375 32.71875 \r\nQ 44.484375 40.625 41.703125 44.40625 \r\nQ 38.921875 48.1875 33.109375 48.1875 \r\nQ 26.21875 48.1875 22.15625 43.53125 \r\nQ 18.109375 38.875 18.109375 30.90625 \r\nL 18.109375 0 \r\nL 9.078125 0 \r\nL 9.078125 54.6875 \r\nL 18.109375 54.6875 \r\nL 18.109375 46.1875 \r\nQ 21.1875 51.21875 25.484375 53.609375 \r\nQ 29.78125 56 35.6875 56 \r\nQ 41.65625 56 45.828125 52.96875 \r\nQ 50 49.953125 52 44.1875 \r\nz\r\n\" id=\"DejaVuSans-109\"/>\r\n       <path d=\"M 18.109375 8.203125 \r\nL 18.109375 -20.796875 \r\nL 9.078125 -20.796875 \r\nL 9.078125 54.6875 \r\nL 18.109375 54.6875 \r\nL 18.109375 46.390625 \r\nQ 20.953125 51.265625 25.265625 53.625 \r\nQ 29.59375 56 35.59375 56 \r\nQ 45.5625 56 51.78125 48.09375 \r\nQ 58.015625 40.1875 58.015625 27.296875 \r\nQ 58.015625 14.40625 51.78125 6.484375 \r\nQ 45.5625 -1.421875 35.59375 -1.421875 \r\nQ 29.59375 -1.421875 25.265625 0.953125 \r\nQ 20.953125 3.328125 18.109375 8.203125 \r\nz\r\nM 48.6875 27.296875 \r\nQ 48.6875 37.203125 44.609375 42.84375 \r\nQ 40.53125 48.484375 33.40625 48.484375 \r\nQ 26.265625 48.484375 22.1875 42.84375 \r\nQ 18.109375 37.203125 18.109375 27.296875 \r\nQ 18.109375 17.390625 22.1875 11.75 \r\nQ 26.265625 6.109375 33.40625 6.109375 \r\nQ 40.53125 6.109375 44.609375 11.75 \r\nQ 48.6875 17.390625 48.6875 27.296875 \r\nz\r\n\" id=\"DejaVuSans-112\"/>\r\n       <path d=\"M 54.890625 33.015625 \r\nL 54.890625 0 \r\nL 45.90625 0 \r\nL 45.90625 32.71875 \r\nQ 45.90625 40.484375 42.875 44.328125 \r\nQ 39.84375 48.1875 33.796875 48.1875 \r\nQ 26.515625 48.1875 22.3125 43.546875 \r\nQ 18.109375 38.921875 18.109375 30.90625 \r\nL 18.109375 0 \r\nL 9.078125 0 \r\nL 9.078125 54.6875 \r\nL 18.109375 54.6875 \r\nL 18.109375 46.1875 \r\nQ 21.34375 51.125 25.703125 53.5625 \r\nQ 30.078125 56 35.796875 56 \r\nQ 45.21875 56 50.046875 50.171875 \r\nQ 54.890625 44.34375 54.890625 33.015625 \r\nz\r\n\" id=\"DejaVuSans-110\"/>\r\n       <path d=\"M 32.171875 -5.078125 \r\nQ 28.375 -14.84375 24.75 -17.8125 \r\nQ 21.140625 -20.796875 15.09375 -20.796875 \r\nL 7.90625 -20.796875 \r\nL 7.90625 -13.28125 \r\nL 13.1875 -13.28125 \r\nQ 16.890625 -13.28125 18.9375 -11.515625 \r\nQ 21 -9.765625 23.484375 -3.21875 \r\nL 25.09375 0.875 \r\nL 2.984375 54.6875 \r\nL 12.5 54.6875 \r\nL 29.59375 11.921875 \r\nL 46.6875 54.6875 \r\nL 56.203125 54.6875 \r\nz\r\n\" id=\"DejaVuSans-121\"/>\r\n       <path d=\"M 53.515625 70.515625 \r\nL 53.515625 60.890625 \r\nQ 47.90625 63.578125 42.921875 64.890625 \r\nQ 37.9375 66.21875 33.296875 66.21875 \r\nQ 25.25 66.21875 20.875 63.09375 \r\nQ 16.5 59.96875 16.5 54.203125 \r\nQ 16.5 49.359375 19.40625 46.890625 \r\nQ 22.3125 44.4375 30.421875 42.921875 \r\nL 36.375 41.703125 \r\nQ 47.40625 39.59375 52.65625 34.296875 \r\nQ 57.90625 29 57.90625 20.125 \r\nQ 57.90625 9.515625 50.796875 4.046875 \r\nQ 43.703125 -1.421875 29.984375 -1.421875 \r\nQ 24.8125 -1.421875 18.96875 -0.25 \r\nQ 13.140625 0.921875 6.890625 3.21875 \r\nL 6.890625 13.375 \r\nQ 12.890625 10.015625 18.65625 8.296875 \r\nQ 24.421875 6.59375 29.984375 6.59375 \r\nQ 38.421875 6.59375 43.015625 9.90625 \r\nQ 47.609375 13.234375 47.609375 19.390625 \r\nQ 47.609375 24.75 44.3125 27.78125 \r\nQ 41.015625 30.8125 33.5 32.328125 \r\nL 27.484375 33.5 \r\nQ 16.453125 35.6875 11.515625 40.375 \r\nQ 6.59375 45.0625 6.59375 53.421875 \r\nQ 6.59375 63.09375 13.40625 68.65625 \r\nQ 20.21875 74.21875 32.171875 74.21875 \r\nQ 37.3125 74.21875 42.625 73.28125 \r\nQ 47.953125 72.359375 53.515625 70.515625 \r\nz\r\n\" id=\"DejaVuSans-83\"/>\r\n       <path d=\"M 5.515625 54.6875 \r\nL 48.1875 54.6875 \r\nL 48.1875 46.484375 \r\nL 14.40625 7.171875 \r\nL 48.1875 7.171875 \r\nL 48.1875 0 \r\nL 4.296875 0 \r\nL 4.296875 8.203125 \r\nL 38.09375 47.515625 \r\nL 5.515625 47.515625 \r\nz\r\n\" id=\"DejaVuSans-122\"/>\r\n      </defs>\r\n      <g transform=\"translate(174.286324 303.542344)rotate(-90)scale(0.1 -0.1)\">\r\n       <use xlink:href=\"#DejaVuSans-67\"/>\r\n       <use x=\"69.824219\" xlink:href=\"#DejaVuSans-111\"/>\r\n       <use x=\"131.005859\" xlink:href=\"#DejaVuSans-109\"/>\r\n       <use x=\"228.417969\" xlink:href=\"#DejaVuSans-112\"/>\r\n       <use x=\"291.894531\" xlink:href=\"#DejaVuSans-97\"/>\r\n       <use x=\"353.173828\" xlink:href=\"#DejaVuSans-110\"/>\r\n       <use x=\"416.552734\" xlink:href=\"#DejaVuSans-121\"/>\r\n       <use x=\"475.732422\" xlink:href=\"#DejaVuSans-83\"/>\r\n       <use x=\"539.208984\" xlink:href=\"#DejaVuSans-105\"/>\r\n       <use x=\"566.992188\" xlink:href=\"#DejaVuSans-122\"/>\r\n       <use x=\"619.482422\" xlink:href=\"#DejaVuSans-101\"/>\r\n      </g>\r\n     </g>\r\n    </g>\r\n    <g id=\"xtick_6\">\r\n     <g id=\"line2d_6\">\r\n      <g>\r\n       <use style=\"stroke:#000000;stroke-width:0.8;\" x=\"187.282243\" xlink:href=\"#m5606f3faa3\" y=\"228.439219\"/>\r\n      </g>\r\n     </g>\r\n     <g id=\"text_6\">\r\n      <!-- YearsCoding -->\r\n      <defs>\r\n       <path d=\"M -0.203125 72.90625 \r\nL 10.40625 72.90625 \r\nL 30.609375 42.921875 \r\nL 50.6875 72.90625 \r\nL 61.28125 72.90625 \r\nL 35.5 34.71875 \r\nL 35.5 0 \r\nL 25.59375 0 \r\nL 25.59375 34.71875 \r\nz\r\n\" id=\"DejaVuSans-89\"/>\r\n       <path d=\"M 44.28125 53.078125 \r\nL 44.28125 44.578125 \r\nQ 40.484375 46.53125 36.375 47.5 \r\nQ 32.28125 48.484375 27.875 48.484375 \r\nQ 21.1875 48.484375 17.84375 46.4375 \r\nQ 14.5 44.390625 14.5 40.28125 \r\nQ 14.5 37.15625 16.890625 35.375 \r\nQ 19.28125 33.59375 26.515625 31.984375 \r\nL 29.59375 31.296875 \r\nQ 39.15625 29.25 43.1875 25.515625 \r\nQ 47.21875 21.78125 47.21875 15.09375 \r\nQ 47.21875 7.46875 41.1875 3.015625 \r\nQ 35.15625 -1.421875 24.609375 -1.421875 \r\nQ 20.21875 -1.421875 15.453125 -0.5625 \r\nQ 10.6875 0.296875 5.421875 2 \r\nL 5.421875 11.28125 \r\nQ 10.40625 8.6875 15.234375 7.390625 \r\nQ 20.0625 6.109375 24.8125 6.109375 \r\nQ 31.15625 6.109375 34.5625 8.28125 \r\nQ 37.984375 10.453125 37.984375 14.40625 \r\nQ 37.984375 18.0625 35.515625 20.015625 \r\nQ 33.0625 21.96875 24.703125 23.78125 \r\nL 21.578125 24.515625 \r\nQ 13.234375 26.265625 9.515625 29.90625 \r\nQ 5.8125 33.546875 5.8125 39.890625 \r\nQ 5.8125 47.609375 11.28125 51.796875 \r\nQ 16.75 56 26.8125 56 \r\nQ 31.78125 56 36.171875 55.265625 \r\nQ 40.578125 54.546875 44.28125 53.078125 \r\nz\r\n\" id=\"DejaVuSans-115\"/>\r\n      </defs>\r\n      <g transform=\"translate(190.041618 296.737656)rotate(-90)scale(0.1 -0.1)\">\r\n       <use xlink:href=\"#DejaVuSans-89\"/>\r\n       <use x=\"47.833984\" xlink:href=\"#DejaVuSans-101\"/>\r\n       <use x=\"109.357422\" xlink:href=\"#DejaVuSans-97\"/>\r\n       <use x=\"170.636719\" xlink:href=\"#DejaVuSans-114\"/>\r\n       <use x=\"211.75\" xlink:href=\"#DejaVuSans-115\"/>\r\n       <use x=\"263.849609\" xlink:href=\"#DejaVuSans-67\"/>\r\n       <use x=\"333.673828\" xlink:href=\"#DejaVuSans-111\"/>\r\n       <use x=\"394.855469\" xlink:href=\"#DejaVuSans-100\"/>\r\n       <use x=\"458.332031\" xlink:href=\"#DejaVuSans-105\"/>\r\n       <use x=\"486.115234\" xlink:href=\"#DejaVuSans-110\"/>\r\n       <use x=\"549.494141\" xlink:href=\"#DejaVuSans-103\"/>\r\n      </g>\r\n     </g>\r\n    </g>\r\n    <g id=\"xtick_7\">\r\n     <g id=\"line2d_7\">\r\n      <g>\r\n       <use style=\"stroke:#000000;stroke-width:0.8;\" x=\"203.037537\" xlink:href=\"#m5606f3faa3\" y=\"228.439219\"/>\r\n      </g>\r\n     </g>\r\n     <g id=\"text_7\">\r\n      <!-- YearsCodingProf -->\r\n      <defs>\r\n       <path d=\"M 19.671875 64.796875 \r\nL 19.671875 37.40625 \r\nL 32.078125 37.40625 \r\nQ 38.96875 37.40625 42.71875 40.96875 \r\nQ 46.484375 44.53125 46.484375 51.125 \r\nQ 46.484375 57.671875 42.71875 61.234375 \r\nQ 38.96875 64.796875 32.078125 64.796875 \r\nz\r\nM 9.8125 72.90625 \r\nL 32.078125 72.90625 \r\nQ 44.34375 72.90625 50.609375 67.359375 \r\nQ 56.890625 61.8125 56.890625 51.125 \r\nQ 56.890625 40.328125 50.609375 34.8125 \r\nQ 44.34375 29.296875 32.078125 29.296875 \r\nL 19.671875 29.296875 \r\nL 19.671875 0 \r\nL 9.8125 0 \r\nz\r\n\" id=\"DejaVuSans-80\"/>\r\n       <path d=\"M 37.109375 75.984375 \r\nL 37.109375 68.5 \r\nL 28.515625 68.5 \r\nQ 23.6875 68.5 21.796875 66.546875 \r\nQ 19.921875 64.59375 19.921875 59.515625 \r\nL 19.921875 54.6875 \r\nL 34.71875 54.6875 \r\nL 34.71875 47.703125 \r\nL 19.921875 47.703125 \r\nL 19.921875 0 \r\nL 10.890625 0 \r\nL 10.890625 47.703125 \r\nL 2.296875 47.703125 \r\nL 2.296875 54.6875 \r\nL 10.890625 54.6875 \r\nL 10.890625 58.5 \r\nQ 10.890625 67.625 15.140625 71.796875 \r\nQ 19.390625 75.984375 28.609375 75.984375 \r\nz\r\n\" id=\"DejaVuSans-102\"/>\r\n      </defs>\r\n      <g transform=\"translate(205.796912 316.117344)rotate(-90)scale(0.1 -0.1)\">\r\n       <use xlink:href=\"#DejaVuSans-89\"/>\r\n       <use x=\"47.833984\" xlink:href=\"#DejaVuSans-101\"/>\r\n       <use x=\"109.357422\" xlink:href=\"#DejaVuSans-97\"/>\r\n       <use x=\"170.636719\" xlink:href=\"#DejaVuSans-114\"/>\r\n       <use x=\"211.75\" xlink:href=\"#DejaVuSans-115\"/>\r\n       <use x=\"263.849609\" xlink:href=\"#DejaVuSans-67\"/>\r\n       <use x=\"333.673828\" xlink:href=\"#DejaVuSans-111\"/>\r\n       <use x=\"394.855469\" xlink:href=\"#DejaVuSans-100\"/>\r\n       <use x=\"458.332031\" xlink:href=\"#DejaVuSans-105\"/>\r\n       <use x=\"486.115234\" xlink:href=\"#DejaVuSans-110\"/>\r\n       <use x=\"549.494141\" xlink:href=\"#DejaVuSans-103\"/>\r\n       <use x=\"612.970703\" xlink:href=\"#DejaVuSans-80\"/>\r\n       <use x=\"671.523438\" xlink:href=\"#DejaVuSans-114\"/>\r\n       <use x=\"710.386719\" xlink:href=\"#DejaVuSans-111\"/>\r\n       <use x=\"771.568359\" xlink:href=\"#DejaVuSans-102\"/>\r\n      </g>\r\n     </g>\r\n    </g>\r\n    <g id=\"xtick_8\">\r\n     <g id=\"line2d_8\">\r\n      <g>\r\n       <use style=\"stroke:#000000;stroke-width:0.8;\" x=\"218.792831\" xlink:href=\"#m5606f3faa3\" y=\"228.439219\"/>\r\n      </g>\r\n     </g>\r\n     <g id=\"text_8\">\r\n      <!-- AgreeDisagree1 -->\r\n      <defs>\r\n       <path d=\"M 19.671875 64.796875 \r\nL 19.671875 8.109375 \r\nL 31.59375 8.109375 \r\nQ 46.6875 8.109375 53.6875 14.9375 \r\nQ 60.6875 21.78125 60.6875 36.53125 \r\nQ 60.6875 51.171875 53.6875 57.984375 \r\nQ 46.6875 64.796875 31.59375 64.796875 \r\nz\r\nM 9.8125 72.90625 \r\nL 30.078125 72.90625 \r\nQ 51.265625 72.90625 61.171875 64.09375 \r\nQ 71.09375 55.28125 71.09375 36.53125 \r\nQ 71.09375 17.671875 61.125 8.828125 \r\nQ 51.171875 0 30.078125 0 \r\nL 9.8125 0 \r\nz\r\n\" id=\"DejaVuSans-68\"/>\r\n       <path d=\"M 12.40625 8.296875 \r\nL 28.515625 8.296875 \r\nL 28.515625 63.921875 \r\nL 10.984375 60.40625 \r\nL 10.984375 69.390625 \r\nL 28.421875 72.90625 \r\nL 38.28125 72.90625 \r\nL 38.28125 8.296875 \r\nL 54.390625 8.296875 \r\nL 54.390625 0 \r\nL 12.40625 0 \r\nz\r\n\" id=\"DejaVuSans-49\"/>\r\n      </defs>\r\n      <g transform=\"translate(221.552206 315.539219)rotate(-90)scale(0.1 -0.1)\">\r\n       <use xlink:href=\"#DejaVuSans-65\"/>\r\n       <use x=\"68.408203\" xlink:href=\"#DejaVuSans-103\"/>\r\n       <use x=\"131.884766\" xlink:href=\"#DejaVuSans-114\"/>\r\n       <use x=\"170.748047\" xlink:href=\"#DejaVuSans-101\"/>\r\n       <use x=\"232.271484\" xlink:href=\"#DejaVuSans-101\"/>\r\n       <use x=\"293.794922\" xlink:href=\"#DejaVuSans-68\"/>\r\n       <use x=\"370.796875\" xlink:href=\"#DejaVuSans-105\"/>\r\n       <use x=\"398.580078\" xlink:href=\"#DejaVuSans-115\"/>\r\n       <use x=\"450.679688\" xlink:href=\"#DejaVuSans-97\"/>\r\n       <use x=\"511.958984\" xlink:href=\"#DejaVuSans-103\"/>\r\n       <use x=\"575.435547\" xlink:href=\"#DejaVuSans-114\"/>\r\n       <use x=\"614.298828\" xlink:href=\"#DejaVuSans-101\"/>\r\n       <use x=\"675.822266\" xlink:href=\"#DejaVuSans-101\"/>\r\n       <use x=\"737.345703\" xlink:href=\"#DejaVuSans-49\"/>\r\n      </g>\r\n     </g>\r\n    </g>\r\n    <g id=\"xtick_9\">\r\n     <g id=\"line2d_9\">\r\n      <g>\r\n       <use style=\"stroke:#000000;stroke-width:0.8;\" x=\"234.548125\" xlink:href=\"#m5606f3faa3\" y=\"228.439219\"/>\r\n      </g>\r\n     </g>\r\n     <g id=\"text_9\">\r\n      <!-- AgreeDisagree2 -->\r\n      <defs>\r\n       <path d=\"M 19.1875 8.296875 \r\nL 53.609375 8.296875 \r\nL 53.609375 0 \r\nL 7.328125 0 \r\nL 7.328125 8.296875 \r\nQ 12.9375 14.109375 22.625 23.890625 \r\nQ 32.328125 33.6875 34.8125 36.53125 \r\nQ 39.546875 41.84375 41.421875 45.53125 \r\nQ 43.3125 49.21875 43.3125 52.78125 \r\nQ 43.3125 58.59375 39.234375 62.25 \r\nQ 35.15625 65.921875 28.609375 65.921875 \r\nQ 23.96875 65.921875 18.8125 64.3125 \r\nQ 13.671875 62.703125 7.8125 59.421875 \r\nL 7.8125 69.390625 \r\nQ 13.765625 71.78125 18.9375 73 \r\nQ 24.125 74.21875 28.421875 74.21875 \r\nQ 39.75 74.21875 46.484375 68.546875 \r\nQ 53.21875 62.890625 53.21875 53.421875 \r\nQ 53.21875 48.921875 51.53125 44.890625 \r\nQ 49.859375 40.875 45.40625 35.40625 \r\nQ 44.1875 33.984375 37.640625 27.21875 \r\nQ 31.109375 20.453125 19.1875 8.296875 \r\nz\r\n\" id=\"DejaVuSans-50\"/>\r\n      </defs>\r\n      <g transform=\"translate(237.3075 315.539219)rotate(-90)scale(0.1 -0.1)\">\r\n       <use xlink:href=\"#DejaVuSans-65\"/>\r\n       <use x=\"68.408203\" xlink:href=\"#DejaVuSans-103\"/>\r\n       <use x=\"131.884766\" xlink:href=\"#DejaVuSans-114\"/>\r\n       <use x=\"170.748047\" xlink:href=\"#DejaVuSans-101\"/>\r\n       <use x=\"232.271484\" xlink:href=\"#DejaVuSans-101\"/>\r\n       <use x=\"293.794922\" xlink:href=\"#DejaVuSans-68\"/>\r\n       <use x=\"370.796875\" xlink:href=\"#DejaVuSans-105\"/>\r\n       <use x=\"398.580078\" xlink:href=\"#DejaVuSans-115\"/>\r\n       <use x=\"450.679688\" xlink:href=\"#DejaVuSans-97\"/>\r\n       <use x=\"511.958984\" xlink:href=\"#DejaVuSans-103\"/>\r\n       <use x=\"575.435547\" xlink:href=\"#DejaVuSans-114\"/>\r\n       <use x=\"614.298828\" xlink:href=\"#DejaVuSans-101\"/>\r\n       <use x=\"675.822266\" xlink:href=\"#DejaVuSans-101\"/>\r\n       <use x=\"737.345703\" xlink:href=\"#DejaVuSans-50\"/>\r\n      </g>\r\n     </g>\r\n    </g>\r\n    <g id=\"xtick_10\">\r\n     <g id=\"line2d_10\">\r\n      <g>\r\n       <use style=\"stroke:#000000;stroke-width:0.8;\" x=\"250.303419\" xlink:href=\"#m5606f3faa3\" y=\"228.439219\"/>\r\n      </g>\r\n     </g>\r\n     <g id=\"text_10\">\r\n      <!-- AgreeDisagree3 -->\r\n      <defs>\r\n       <path d=\"M 40.578125 39.3125 \r\nQ 47.65625 37.796875 51.625 33 \r\nQ 55.609375 28.21875 55.609375 21.1875 \r\nQ 55.609375 10.40625 48.1875 4.484375 \r\nQ 40.765625 -1.421875 27.09375 -1.421875 \r\nQ 22.515625 -1.421875 17.65625 -0.515625 \r\nQ 12.796875 0.390625 7.625 2.203125 \r\nL 7.625 11.71875 \r\nQ 11.71875 9.328125 16.59375 8.109375 \r\nQ 21.484375 6.890625 26.8125 6.890625 \r\nQ 36.078125 6.890625 40.9375 10.546875 \r\nQ 45.796875 14.203125 45.796875 21.1875 \r\nQ 45.796875 27.640625 41.28125 31.265625 \r\nQ 36.765625 34.90625 28.71875 34.90625 \r\nL 20.21875 34.90625 \r\nL 20.21875 43.015625 \r\nL 29.109375 43.015625 \r\nQ 36.375 43.015625 40.234375 45.921875 \r\nQ 44.09375 48.828125 44.09375 54.296875 \r\nQ 44.09375 59.90625 40.109375 62.90625 \r\nQ 36.140625 65.921875 28.71875 65.921875 \r\nQ 24.65625 65.921875 20.015625 65.03125 \r\nQ 15.375 64.15625 9.8125 62.3125 \r\nL 9.8125 71.09375 \r\nQ 15.4375 72.65625 20.34375 73.4375 \r\nQ 25.25 74.21875 29.59375 74.21875 \r\nQ 40.828125 74.21875 47.359375 69.109375 \r\nQ 53.90625 64.015625 53.90625 55.328125 \r\nQ 53.90625 49.265625 50.4375 45.09375 \r\nQ 46.96875 40.921875 40.578125 39.3125 \r\nz\r\n\" id=\"DejaVuSans-51\"/>\r\n      </defs>\r\n      <g transform=\"translate(253.062794 315.539219)rotate(-90)scale(0.1 -0.1)\">\r\n       <use xlink:href=\"#DejaVuSans-65\"/>\r\n       <use x=\"68.408203\" xlink:href=\"#DejaVuSans-103\"/>\r\n       <use x=\"131.884766\" xlink:href=\"#DejaVuSans-114\"/>\r\n       <use x=\"170.748047\" xlink:href=\"#DejaVuSans-101\"/>\r\n       <use x=\"232.271484\" xlink:href=\"#DejaVuSans-101\"/>\r\n       <use x=\"293.794922\" xlink:href=\"#DejaVuSans-68\"/>\r\n       <use x=\"370.796875\" xlink:href=\"#DejaVuSans-105\"/>\r\n       <use x=\"398.580078\" xlink:href=\"#DejaVuSans-115\"/>\r\n       <use x=\"450.679688\" xlink:href=\"#DejaVuSans-97\"/>\r\n       <use x=\"511.958984\" xlink:href=\"#DejaVuSans-103\"/>\r\n       <use x=\"575.435547\" xlink:href=\"#DejaVuSans-114\"/>\r\n       <use x=\"614.298828\" xlink:href=\"#DejaVuSans-101\"/>\r\n       <use x=\"675.822266\" xlink:href=\"#DejaVuSans-101\"/>\r\n       <use x=\"737.345703\" xlink:href=\"#DejaVuSans-51\"/>\r\n      </g>\r\n     </g>\r\n    </g>\r\n    <g id=\"xtick_11\">\r\n     <g id=\"line2d_11\">\r\n      <g>\r\n       <use style=\"stroke:#000000;stroke-width:0.8;\" x=\"266.058713\" xlink:href=\"#m5606f3faa3\" y=\"228.439219\"/>\r\n      </g>\r\n     </g>\r\n     <g id=\"text_11\">\r\n      <!-- CheckInCode -->\r\n      <defs>\r\n       <path d=\"M 54.890625 33.015625 \r\nL 54.890625 0 \r\nL 45.90625 0 \r\nL 45.90625 32.71875 \r\nQ 45.90625 40.484375 42.875 44.328125 \r\nQ 39.84375 48.1875 33.796875 48.1875 \r\nQ 26.515625 48.1875 22.3125 43.546875 \r\nQ 18.109375 38.921875 18.109375 30.90625 \r\nL 18.109375 0 \r\nL 9.078125 0 \r\nL 9.078125 75.984375 \r\nL 18.109375 75.984375 \r\nL 18.109375 46.1875 \r\nQ 21.34375 51.125 25.703125 53.5625 \r\nQ 30.078125 56 35.796875 56 \r\nQ 45.21875 56 50.046875 50.171875 \r\nQ 54.890625 44.34375 54.890625 33.015625 \r\nz\r\n\" id=\"DejaVuSans-104\"/>\r\n       <path d=\"M 48.78125 52.59375 \r\nL 48.78125 44.1875 \r\nQ 44.96875 46.296875 41.140625 47.34375 \r\nQ 37.3125 48.390625 33.40625 48.390625 \r\nQ 24.65625 48.390625 19.8125 42.84375 \r\nQ 14.984375 37.3125 14.984375 27.296875 \r\nQ 14.984375 17.28125 19.8125 11.734375 \r\nQ 24.65625 6.203125 33.40625 6.203125 \r\nQ 37.3125 6.203125 41.140625 7.25 \r\nQ 44.96875 8.296875 48.78125 10.40625 \r\nL 48.78125 2.09375 \r\nQ 45.015625 0.34375 40.984375 -0.53125 \r\nQ 36.96875 -1.421875 32.421875 -1.421875 \r\nQ 20.0625 -1.421875 12.78125 6.34375 \r\nQ 5.515625 14.109375 5.515625 27.296875 \r\nQ 5.515625 40.671875 12.859375 48.328125 \r\nQ 20.21875 56 33.015625 56 \r\nQ 37.15625 56 41.109375 55.140625 \r\nQ 45.0625 54.296875 48.78125 52.59375 \r\nz\r\n\" id=\"DejaVuSans-99\"/>\r\n       <path d=\"M 9.078125 75.984375 \r\nL 18.109375 75.984375 \r\nL 18.109375 31.109375 \r\nL 44.921875 54.6875 \r\nL 56.390625 54.6875 \r\nL 27.390625 29.109375 \r\nL 57.625 0 \r\nL 45.90625 0 \r\nL 18.109375 26.703125 \r\nL 18.109375 0 \r\nL 9.078125 0 \r\nz\r\n\" id=\"DejaVuSans-107\"/>\r\n       <path d=\"M 9.8125 72.90625 \r\nL 19.671875 72.90625 \r\nL 19.671875 0 \r\nL 9.8125 0 \r\nz\r\n\" id=\"DejaVuSans-73\"/>\r\n      </defs>\r\n      <g transform=\"translate(268.818088 301.092344)rotate(-90)scale(0.1 -0.1)\">\r\n       <use xlink:href=\"#DejaVuSans-67\"/>\r\n       <use x=\"69.824219\" xlink:href=\"#DejaVuSans-104\"/>\r\n       <use x=\"133.203125\" xlink:href=\"#DejaVuSans-101\"/>\r\n       <use x=\"194.726562\" xlink:href=\"#DejaVuSans-99\"/>\r\n       <use x=\"249.707031\" xlink:href=\"#DejaVuSans-107\"/>\r\n       <use x=\"307.617188\" xlink:href=\"#DejaVuSans-73\"/>\r\n       <use x=\"337.109375\" xlink:href=\"#DejaVuSans-110\"/>\r\n       <use x=\"400.488281\" xlink:href=\"#DejaVuSans-67\"/>\r\n       <use x=\"470.3125\" xlink:href=\"#DejaVuSans-111\"/>\r\n       <use x=\"531.494141\" xlink:href=\"#DejaVuSans-100\"/>\r\n       <use x=\"594.970703\" xlink:href=\"#DejaVuSans-101\"/>\r\n      </g>\r\n     </g>\r\n    </g>\r\n    <g id=\"xtick_12\">\r\n     <g id=\"line2d_12\">\r\n      <g>\r\n       <use style=\"stroke:#000000;stroke-width:0.8;\" x=\"281.814007\" xlink:href=\"#m5606f3faa3\" y=\"228.439219\"/>\r\n      </g>\r\n     </g>\r\n     <g id=\"text_12\">\r\n      <!-- Age -->\r\n      <g transform=\"translate(284.573382 254.781406)rotate(-90)scale(0.1 -0.1)\">\r\n       <use xlink:href=\"#DejaVuSans-65\"/>\r\n       <use x=\"68.408203\" xlink:href=\"#DejaVuSans-103\"/>\r\n       <use x=\"131.884766\" xlink:href=\"#DejaVuSans-101\"/>\r\n      </g>\r\n     </g>\r\n    </g>\r\n    <g id=\"xtick_13\">\r\n     <g id=\"line2d_13\">\r\n      <g>\r\n       <use style=\"stroke:#000000;stroke-width:0.8;\" x=\"297.569301\" xlink:href=\"#m5606f3faa3\" y=\"228.439219\"/>\r\n      </g>\r\n     </g>\r\n     <g id=\"text_13\">\r\n      <!-- zip_code -->\r\n      <g transform=\"translate(300.189614 278.932969)rotate(-90)scale(0.1 -0.1)\">\r\n       <use xlink:href=\"#DejaVuSans-122\"/>\r\n       <use x=\"52.490234\" xlink:href=\"#DejaVuSans-105\"/>\r\n       <use x=\"80.273438\" xlink:href=\"#DejaVuSans-112\"/>\r\n       <use x=\"143.75\" xlink:href=\"#DejaVuSans-95\"/>\r\n       <use x=\"193.75\" xlink:href=\"#DejaVuSans-99\"/>\r\n       <use x=\"248.730469\" xlink:href=\"#DejaVuSans-111\"/>\r\n       <use x=\"309.912109\" xlink:href=\"#DejaVuSans-100\"/>\r\n       <use x=\"373.388672\" xlink:href=\"#DejaVuSans-101\"/>\r\n      </g>\r\n     </g>\r\n    </g>\r\n    <g id=\"xtick_14\">\r\n     <g id=\"line2d_14\">\r\n      <g>\r\n       <use style=\"stroke:#000000;stroke-width:0.8;\" x=\"313.324596\" xlink:href=\"#m5606f3faa3\" y=\"228.439219\"/>\r\n      </g>\r\n     </g>\r\n     <g id=\"text_14\">\r\n      <!-- dti -->\r\n      <g transform=\"translate(316.083971 248.486094)rotate(-90)scale(0.1 -0.1)\">\r\n       <use xlink:href=\"#DejaVuSans-100\"/>\r\n       <use x=\"63.476562\" xlink:href=\"#DejaVuSans-116\"/>\r\n       <use x=\"102.685547\" xlink:href=\"#DejaVuSans-105\"/>\r\n      </g>\r\n     </g>\r\n    </g>\r\n    <g id=\"xtick_15\">\r\n     <g id=\"line2d_15\">\r\n      <g>\r\n       <use style=\"stroke:#000000;stroke-width:0.8;\" x=\"329.07989\" xlink:href=\"#m5606f3faa3\" y=\"228.439219\"/>\r\n      </g>\r\n     </g>\r\n     <g id=\"text_15\">\r\n      <!-- last_pymnt_amnt -->\r\n      <defs>\r\n       <path d=\"M 9.421875 75.984375 \r\nL 18.40625 75.984375 \r\nL 18.40625 0 \r\nL 9.421875 0 \r\nz\r\n\" id=\"DejaVuSans-108\"/>\r\n      </defs>\r\n      <g transform=\"translate(331.700202 321.867344)rotate(-90)scale(0.1 -0.1)\">\r\n       <use xlink:href=\"#DejaVuSans-108\"/>\r\n       <use x=\"27.783203\" xlink:href=\"#DejaVuSans-97\"/>\r\n       <use x=\"89.0625\" xlink:href=\"#DejaVuSans-115\"/>\r\n       <use x=\"141.162109\" xlink:href=\"#DejaVuSans-116\"/>\r\n       <use x=\"180.371094\" xlink:href=\"#DejaVuSans-95\"/>\r\n       <use x=\"230.371094\" xlink:href=\"#DejaVuSans-112\"/>\r\n       <use x=\"293.847656\" xlink:href=\"#DejaVuSans-121\"/>\r\n       <use x=\"353.027344\" xlink:href=\"#DejaVuSans-109\"/>\r\n       <use x=\"450.439453\" xlink:href=\"#DejaVuSans-110\"/>\r\n       <use x=\"513.818359\" xlink:href=\"#DejaVuSans-116\"/>\r\n       <use x=\"553.027344\" xlink:href=\"#DejaVuSans-95\"/>\r\n       <use x=\"603.027344\" xlink:href=\"#DejaVuSans-97\"/>\r\n       <use x=\"664.306641\" xlink:href=\"#DejaVuSans-109\"/>\r\n       <use x=\"761.71875\" xlink:href=\"#DejaVuSans-110\"/>\r\n       <use x=\"825.097656\" xlink:href=\"#DejaVuSans-116\"/>\r\n      </g>\r\n     </g>\r\n    </g>\r\n    <g id=\"xtick_16\">\r\n     <g id=\"line2d_16\">\r\n      <g>\r\n       <use style=\"stroke:#000000;stroke-width:0.8;\" x=\"344.835184\" xlink:href=\"#m5606f3faa3\" y=\"228.439219\"/>\r\n      </g>\r\n     </g>\r\n     <g id=\"text_16\">\r\n      <!-- skills y/n -->\r\n      <defs>\r\n       <path d=\"M 25.390625 72.90625 \r\nL 33.6875 72.90625 \r\nL 8.296875 -9.28125 \r\nL 0 -9.28125 \r\nz\r\n\" id=\"DejaVuSans-47\"/>\r\n      </defs>\r\n      <g transform=\"translate(347.594559 278.786094)rotate(-90)scale(0.1 -0.1)\">\r\n       <use xlink:href=\"#DejaVuSans-115\"/>\r\n       <use x=\"52.099609\" xlink:href=\"#DejaVuSans-107\"/>\r\n       <use x=\"110.009766\" xlink:href=\"#DejaVuSans-105\"/>\r\n       <use x=\"137.792969\" xlink:href=\"#DejaVuSans-108\"/>\r\n       <use x=\"165.576172\" xlink:href=\"#DejaVuSans-108\"/>\r\n       <use x=\"193.359375\" xlink:href=\"#DejaVuSans-115\"/>\r\n       <use x=\"245.458984\" xlink:href=\"#DejaVuSans-32\"/>\r\n       <use x=\"277.246094\" xlink:href=\"#DejaVuSans-121\"/>\r\n       <use x=\"336.425781\" xlink:href=\"#DejaVuSans-47\"/>\r\n       <use x=\"370.117188\" xlink:href=\"#DejaVuSans-110\"/>\r\n      </g>\r\n     </g>\r\n    </g>\r\n    <g id=\"xtick_17\">\r\n     <g id=\"line2d_17\">\r\n      <g>\r\n       <use style=\"stroke:#000000;stroke-width:0.8;\" x=\"360.590478\" xlink:href=\"#m5606f3faa3\" y=\"228.439219\"/>\r\n      </g>\r\n     </g>\r\n     <g id=\"text_17\">\r\n      <!-- hrs -->\r\n      <g transform=\"translate(363.349853 251.097031)rotate(-90)scale(0.1 -0.1)\">\r\n       <use xlink:href=\"#DejaVuSans-104\"/>\r\n       <use x=\"63.378906\" xlink:href=\"#DejaVuSans-114\"/>\r\n       <use x=\"104.492188\" xlink:href=\"#DejaVuSans-115\"/>\r\n      </g>\r\n     </g>\r\n    </g>\r\n   </g>\r\n   <g id=\"matplotlib.axis_2\">\r\n    <g id=\"ytick_1\">\r\n     <g id=\"line2d_18\">\r\n      <defs>\r\n       <path d=\"M 0 0 \r\nL -3.5 0 \r\n\" id=\"m91c1eb5a7a\" style=\"stroke:#000000;stroke-width:0.8;\"/>\r\n      </defs>\r\n      <g>\r\n       <use style=\"stroke:#000000;stroke-width:0.8;\" x=\"100.628125\" xlink:href=\"#m91c1eb5a7a\" y=\"17.394513\"/>\r\n      </g>\r\n     </g>\r\n     <g id=\"text_18\">\r\n      <!-- id -->\r\n      <g transform=\"translate(84.501563 21.193732)scale(0.1 -0.1)\">\r\n       <use xlink:href=\"#DejaVuSans-105\"/>\r\n       <use x=\"27.783203\" xlink:href=\"#DejaVuSans-100\"/>\r\n      </g>\r\n     </g>\r\n    </g>\r\n    <g id=\"ytick_2\">\r\n     <g id=\"line2d_19\">\r\n      <g>\r\n       <use style=\"stroke:#000000;stroke-width:0.8;\" x=\"100.628125\" xlink:href=\"#m91c1eb5a7a\" y=\"30.185101\"/>\r\n      </g>\r\n     </g>\r\n     <g id=\"text_19\">\r\n      <!-- Target A -->\r\n      <g transform=\"translate(52.665625 33.98432)scale(0.1 -0.1)\">\r\n       <use xlink:href=\"#DejaVuSans-84\"/>\r\n       <use x=\"44.583984\" xlink:href=\"#DejaVuSans-97\"/>\r\n       <use x=\"105.863281\" xlink:href=\"#DejaVuSans-114\"/>\r\n       <use x=\"145.226562\" xlink:href=\"#DejaVuSans-103\"/>\r\n       <use x=\"208.703125\" xlink:href=\"#DejaVuSans-101\"/>\r\n       <use x=\"270.226562\" xlink:href=\"#DejaVuSans-116\"/>\r\n       <use x=\"309.435547\" xlink:href=\"#DejaVuSans-32\"/>\r\n       <use x=\"341.222656\" xlink:href=\"#DejaVuSans-65\"/>\r\n      </g>\r\n     </g>\r\n    </g>\r\n    <g id=\"ytick_3\">\r\n     <g id=\"line2d_20\">\r\n      <g>\r\n       <use style=\"stroke:#000000;stroke-width:0.8;\" x=\"100.628125\" xlink:href=\"#m91c1eb5a7a\" y=\"42.975689\"/>\r\n      </g>\r\n     </g>\r\n     <g id=\"text_20\">\r\n      <!-- Target B -->\r\n      <g transform=\"translate(52.645313 46.774908)scale(0.1 -0.1)\">\r\n       <use xlink:href=\"#DejaVuSans-84\"/>\r\n       <use x=\"44.583984\" xlink:href=\"#DejaVuSans-97\"/>\r\n       <use x=\"105.863281\" xlink:href=\"#DejaVuSans-114\"/>\r\n       <use x=\"145.226562\" xlink:href=\"#DejaVuSans-103\"/>\r\n       <use x=\"208.703125\" xlink:href=\"#DejaVuSans-101\"/>\r\n       <use x=\"270.226562\" xlink:href=\"#DejaVuSans-116\"/>\r\n       <use x=\"309.435547\" xlink:href=\"#DejaVuSans-32\"/>\r\n       <use x=\"341.222656\" xlink:href=\"#DejaVuSans-66\"/>\r\n      </g>\r\n     </g>\r\n    </g>\r\n    <g id=\"ytick_4\">\r\n     <g id=\"line2d_21\">\r\n      <g>\r\n       <use style=\"stroke:#000000;stroke-width:0.8;\" x=\"100.628125\" xlink:href=\"#m91c1eb5a7a\" y=\"55.766278\"/>\r\n      </g>\r\n     </g>\r\n     <g id=\"text_21\">\r\n      <!-- LOAN_AMT -->\r\n      <g transform=\"translate(39.823438 59.477215)scale(0.1 -0.1)\">\r\n       <use xlink:href=\"#DejaVuSans-76\"/>\r\n       <use x=\"52.087891\" xlink:href=\"#DejaVuSans-79\"/>\r\n       <use x=\"129.048828\" xlink:href=\"#DejaVuSans-65\"/>\r\n       <use x=\"197.457031\" xlink:href=\"#DejaVuSans-78\"/>\r\n       <use x=\"272.261719\" xlink:href=\"#DejaVuSans-95\"/>\r\n       <use x=\"322.261719\" xlink:href=\"#DejaVuSans-65\"/>\r\n       <use x=\"390.669922\" xlink:href=\"#DejaVuSans-77\"/>\r\n       <use x=\"476.949219\" xlink:href=\"#DejaVuSans-84\"/>\r\n      </g>\r\n     </g>\r\n    </g>\r\n    <g id=\"ytick_5\">\r\n     <g id=\"line2d_22\">\r\n      <g>\r\n       <use style=\"stroke:#000000;stroke-width:0.8;\" x=\"100.628125\" xlink:href=\"#m91c1eb5a7a\" y=\"68.556866\"/>\r\n      </g>\r\n     </g>\r\n     <g id=\"text_22\">\r\n      <!-- CompanySize -->\r\n      <g transform=\"translate(25.525 72.356085)scale(0.1 -0.1)\">\r\n       <use xlink:href=\"#DejaVuSans-67\"/>\r\n       <use x=\"69.824219\" xlink:href=\"#DejaVuSans-111\"/>\r\n       <use x=\"131.005859\" xlink:href=\"#DejaVuSans-109\"/>\r\n       <use x=\"228.417969\" xlink:href=\"#DejaVuSans-112\"/>\r\n       <use x=\"291.894531\" xlink:href=\"#DejaVuSans-97\"/>\r\n       <use x=\"353.173828\" xlink:href=\"#DejaVuSans-110\"/>\r\n       <use x=\"416.552734\" xlink:href=\"#DejaVuSans-121\"/>\r\n       <use x=\"475.732422\" xlink:href=\"#DejaVuSans-83\"/>\r\n       <use x=\"539.208984\" xlink:href=\"#DejaVuSans-105\"/>\r\n       <use x=\"566.992188\" xlink:href=\"#DejaVuSans-122\"/>\r\n       <use x=\"619.482422\" xlink:href=\"#DejaVuSans-101\"/>\r\n      </g>\r\n     </g>\r\n    </g>\r\n    <g id=\"ytick_6\">\r\n     <g id=\"line2d_23\">\r\n      <g>\r\n       <use style=\"stroke:#000000;stroke-width:0.8;\" x=\"100.628125\" xlink:href=\"#m91c1eb5a7a\" y=\"81.347454\"/>\r\n      </g>\r\n     </g>\r\n     <g id=\"text_23\">\r\n      <!-- YearsCoding -->\r\n      <g transform=\"translate(32.329688 85.146673)scale(0.1 -0.1)\">\r\n       <use xlink:href=\"#DejaVuSans-89\"/>\r\n       <use x=\"47.833984\" xlink:href=\"#DejaVuSans-101\"/>\r\n       <use x=\"109.357422\" xlink:href=\"#DejaVuSans-97\"/>\r\n       <use x=\"170.636719\" xlink:href=\"#DejaVuSans-114\"/>\r\n       <use x=\"211.75\" xlink:href=\"#DejaVuSans-115\"/>\r\n       <use x=\"263.849609\" xlink:href=\"#DejaVuSans-67\"/>\r\n       <use x=\"333.673828\" xlink:href=\"#DejaVuSans-111\"/>\r\n       <use x=\"394.855469\" xlink:href=\"#DejaVuSans-100\"/>\r\n       <use x=\"458.332031\" xlink:href=\"#DejaVuSans-105\"/>\r\n       <use x=\"486.115234\" xlink:href=\"#DejaVuSans-110\"/>\r\n       <use x=\"549.494141\" xlink:href=\"#DejaVuSans-103\"/>\r\n      </g>\r\n     </g>\r\n    </g>\r\n    <g id=\"ytick_7\">\r\n     <g id=\"line2d_24\">\r\n      <g>\r\n       <use style=\"stroke:#000000;stroke-width:0.8;\" x=\"100.628125\" xlink:href=\"#m91c1eb5a7a\" y=\"94.138042\"/>\r\n      </g>\r\n     </g>\r\n     <g id=\"text_24\">\r\n      <!-- YearsCodingProf -->\r\n      <g transform=\"translate(12.95 97.937261)scale(0.1 -0.1)\">\r\n       <use xlink:href=\"#DejaVuSans-89\"/>\r\n       <use x=\"47.833984\" xlink:href=\"#DejaVuSans-101\"/>\r\n       <use x=\"109.357422\" xlink:href=\"#DejaVuSans-97\"/>\r\n       <use x=\"170.636719\" xlink:href=\"#DejaVuSans-114\"/>\r\n       <use x=\"211.75\" xlink:href=\"#DejaVuSans-115\"/>\r\n       <use x=\"263.849609\" xlink:href=\"#DejaVuSans-67\"/>\r\n       <use x=\"333.673828\" xlink:href=\"#DejaVuSans-111\"/>\r\n       <use x=\"394.855469\" xlink:href=\"#DejaVuSans-100\"/>\r\n       <use x=\"458.332031\" xlink:href=\"#DejaVuSans-105\"/>\r\n       <use x=\"486.115234\" xlink:href=\"#DejaVuSans-110\"/>\r\n       <use x=\"549.494141\" xlink:href=\"#DejaVuSans-103\"/>\r\n       <use x=\"612.970703\" xlink:href=\"#DejaVuSans-80\"/>\r\n       <use x=\"671.523438\" xlink:href=\"#DejaVuSans-114\"/>\r\n       <use x=\"710.386719\" xlink:href=\"#DejaVuSans-111\"/>\r\n       <use x=\"771.568359\" xlink:href=\"#DejaVuSans-102\"/>\r\n      </g>\r\n     </g>\r\n    </g>\r\n    <g id=\"ytick_8\">\r\n     <g id=\"line2d_25\">\r\n      <g>\r\n       <use style=\"stroke:#000000;stroke-width:0.8;\" x=\"100.628125\" xlink:href=\"#m91c1eb5a7a\" y=\"106.928631\"/>\r\n      </g>\r\n     </g>\r\n     <g id=\"text_25\">\r\n      <!-- AgreeDisagree1 -->\r\n      <g transform=\"translate(13.528125 110.727849)scale(0.1 -0.1)\">\r\n       <use xlink:href=\"#DejaVuSans-65\"/>\r\n       <use x=\"68.408203\" xlink:href=\"#DejaVuSans-103\"/>\r\n       <use x=\"131.884766\" xlink:href=\"#DejaVuSans-114\"/>\r\n       <use x=\"170.748047\" xlink:href=\"#DejaVuSans-101\"/>\r\n       <use x=\"232.271484\" xlink:href=\"#DejaVuSans-101\"/>\r\n       <use x=\"293.794922\" xlink:href=\"#DejaVuSans-68\"/>\r\n       <use x=\"370.796875\" xlink:href=\"#DejaVuSans-105\"/>\r\n       <use x=\"398.580078\" xlink:href=\"#DejaVuSans-115\"/>\r\n       <use x=\"450.679688\" xlink:href=\"#DejaVuSans-97\"/>\r\n       <use x=\"511.958984\" xlink:href=\"#DejaVuSans-103\"/>\r\n       <use x=\"575.435547\" xlink:href=\"#DejaVuSans-114\"/>\r\n       <use x=\"614.298828\" xlink:href=\"#DejaVuSans-101\"/>\r\n       <use x=\"675.822266\" xlink:href=\"#DejaVuSans-101\"/>\r\n       <use x=\"737.345703\" xlink:href=\"#DejaVuSans-49\"/>\r\n      </g>\r\n     </g>\r\n    </g>\r\n    <g id=\"ytick_9\">\r\n     <g id=\"line2d_26\">\r\n      <g>\r\n       <use style=\"stroke:#000000;stroke-width:0.8;\" x=\"100.628125\" xlink:href=\"#m91c1eb5a7a\" y=\"119.719219\"/>\r\n      </g>\r\n     </g>\r\n     <g id=\"text_26\">\r\n      <!-- AgreeDisagree2 -->\r\n      <g transform=\"translate(13.528125 123.518437)scale(0.1 -0.1)\">\r\n       <use xlink:href=\"#DejaVuSans-65\"/>\r\n       <use x=\"68.408203\" xlink:href=\"#DejaVuSans-103\"/>\r\n       <use x=\"131.884766\" xlink:href=\"#DejaVuSans-114\"/>\r\n       <use x=\"170.748047\" xlink:href=\"#DejaVuSans-101\"/>\r\n       <use x=\"232.271484\" xlink:href=\"#DejaVuSans-101\"/>\r\n       <use x=\"293.794922\" xlink:href=\"#DejaVuSans-68\"/>\r\n       <use x=\"370.796875\" xlink:href=\"#DejaVuSans-105\"/>\r\n       <use x=\"398.580078\" xlink:href=\"#DejaVuSans-115\"/>\r\n       <use x=\"450.679688\" xlink:href=\"#DejaVuSans-97\"/>\r\n       <use x=\"511.958984\" xlink:href=\"#DejaVuSans-103\"/>\r\n       <use x=\"575.435547\" xlink:href=\"#DejaVuSans-114\"/>\r\n       <use x=\"614.298828\" xlink:href=\"#DejaVuSans-101\"/>\r\n       <use x=\"675.822266\" xlink:href=\"#DejaVuSans-101\"/>\r\n       <use x=\"737.345703\" xlink:href=\"#DejaVuSans-50\"/>\r\n      </g>\r\n     </g>\r\n    </g>\r\n    <g id=\"ytick_10\">\r\n     <g id=\"line2d_27\">\r\n      <g>\r\n       <use style=\"stroke:#000000;stroke-width:0.8;\" x=\"100.628125\" xlink:href=\"#m91c1eb5a7a\" y=\"132.509807\"/>\r\n      </g>\r\n     </g>\r\n     <g id=\"text_27\">\r\n      <!-- AgreeDisagree3 -->\r\n      <g transform=\"translate(13.528125 136.309026)scale(0.1 -0.1)\">\r\n       <use xlink:href=\"#DejaVuSans-65\"/>\r\n       <use x=\"68.408203\" xlink:href=\"#DejaVuSans-103\"/>\r\n       <use x=\"131.884766\" xlink:href=\"#DejaVuSans-114\"/>\r\n       <use x=\"170.748047\" xlink:href=\"#DejaVuSans-101\"/>\r\n       <use x=\"232.271484\" xlink:href=\"#DejaVuSans-101\"/>\r\n       <use x=\"293.794922\" xlink:href=\"#DejaVuSans-68\"/>\r\n       <use x=\"370.796875\" xlink:href=\"#DejaVuSans-105\"/>\r\n       <use x=\"398.580078\" xlink:href=\"#DejaVuSans-115\"/>\r\n       <use x=\"450.679688\" xlink:href=\"#DejaVuSans-97\"/>\r\n       <use x=\"511.958984\" xlink:href=\"#DejaVuSans-103\"/>\r\n       <use x=\"575.435547\" xlink:href=\"#DejaVuSans-114\"/>\r\n       <use x=\"614.298828\" xlink:href=\"#DejaVuSans-101\"/>\r\n       <use x=\"675.822266\" xlink:href=\"#DejaVuSans-101\"/>\r\n       <use x=\"737.345703\" xlink:href=\"#DejaVuSans-51\"/>\r\n      </g>\r\n     </g>\r\n    </g>\r\n    <g id=\"ytick_11\">\r\n     <g id=\"line2d_28\">\r\n      <g>\r\n       <use style=\"stroke:#000000;stroke-width:0.8;\" x=\"100.628125\" xlink:href=\"#m91c1eb5a7a\" y=\"145.300395\"/>\r\n      </g>\r\n     </g>\r\n     <g id=\"text_28\">\r\n      <!-- CheckInCode -->\r\n      <g transform=\"translate(27.975 149.099614)scale(0.1 -0.1)\">\r\n       <use xlink:href=\"#DejaVuSans-67\"/>\r\n       <use x=\"69.824219\" xlink:href=\"#DejaVuSans-104\"/>\r\n       <use x=\"133.203125\" xlink:href=\"#DejaVuSans-101\"/>\r\n       <use x=\"194.726562\" xlink:href=\"#DejaVuSans-99\"/>\r\n       <use x=\"249.707031\" xlink:href=\"#DejaVuSans-107\"/>\r\n       <use x=\"307.617188\" xlink:href=\"#DejaVuSans-73\"/>\r\n       <use x=\"337.109375\" xlink:href=\"#DejaVuSans-110\"/>\r\n       <use x=\"400.488281\" xlink:href=\"#DejaVuSans-67\"/>\r\n       <use x=\"470.3125\" xlink:href=\"#DejaVuSans-111\"/>\r\n       <use x=\"531.494141\" xlink:href=\"#DejaVuSans-100\"/>\r\n       <use x=\"594.970703\" xlink:href=\"#DejaVuSans-101\"/>\r\n      </g>\r\n     </g>\r\n    </g>\r\n    <g id=\"ytick_12\">\r\n     <g id=\"line2d_29\">\r\n      <g>\r\n       <use style=\"stroke:#000000;stroke-width:0.8;\" x=\"100.628125\" xlink:href=\"#m91c1eb5a7a\" y=\"158.090983\"/>\r\n      </g>\r\n     </g>\r\n     <g id=\"text_29\">\r\n      <!-- Age -->\r\n      <g transform=\"translate(74.285938 161.890202)scale(0.1 -0.1)\">\r\n       <use xlink:href=\"#DejaVuSans-65\"/>\r\n       <use x=\"68.408203\" xlink:href=\"#DejaVuSans-103\"/>\r\n       <use x=\"131.884766\" xlink:href=\"#DejaVuSans-101\"/>\r\n      </g>\r\n     </g>\r\n    </g>\r\n    <g id=\"ytick_13\">\r\n     <g id=\"line2d_30\">\r\n      <g>\r\n       <use style=\"stroke:#000000;stroke-width:0.8;\" x=\"100.628125\" xlink:href=\"#m91c1eb5a7a\" y=\"170.881572\"/>\r\n      </g>\r\n     </g>\r\n     <g id=\"text_30\">\r\n      <!-- zip_code -->\r\n      <g transform=\"translate(50.134375 174.68079)scale(0.1 -0.1)\">\r\n       <use xlink:href=\"#DejaVuSans-122\"/>\r\n       <use x=\"52.490234\" xlink:href=\"#DejaVuSans-105\"/>\r\n       <use x=\"80.273438\" xlink:href=\"#DejaVuSans-112\"/>\r\n       <use x=\"143.75\" xlink:href=\"#DejaVuSans-95\"/>\r\n       <use x=\"193.75\" xlink:href=\"#DejaVuSans-99\"/>\r\n       <use x=\"248.730469\" xlink:href=\"#DejaVuSans-111\"/>\r\n       <use x=\"309.912109\" xlink:href=\"#DejaVuSans-100\"/>\r\n       <use x=\"373.388672\" xlink:href=\"#DejaVuSans-101\"/>\r\n      </g>\r\n     </g>\r\n    </g>\r\n    <g id=\"ytick_14\">\r\n     <g id=\"line2d_31\">\r\n      <g>\r\n       <use style=\"stroke:#000000;stroke-width:0.8;\" x=\"100.628125\" xlink:href=\"#m91c1eb5a7a\" y=\"183.67216\"/>\r\n      </g>\r\n     </g>\r\n     <g id=\"text_31\">\r\n      <!-- dti -->\r\n      <g transform=\"translate(80.58125 187.471379)scale(0.1 -0.1)\">\r\n       <use xlink:href=\"#DejaVuSans-100\"/>\r\n       <use x=\"63.476562\" xlink:href=\"#DejaVuSans-116\"/>\r\n       <use x=\"102.685547\" xlink:href=\"#DejaVuSans-105\"/>\r\n      </g>\r\n     </g>\r\n    </g>\r\n    <g id=\"ytick_15\">\r\n     <g id=\"line2d_32\">\r\n      <g>\r\n       <use style=\"stroke:#000000;stroke-width:0.8;\" x=\"100.628125\" xlink:href=\"#m91c1eb5a7a\" y=\"196.462748\"/>\r\n      </g>\r\n     </g>\r\n     <g id=\"text_32\">\r\n      <!-- last_pymnt_amnt -->\r\n      <g transform=\"translate(7.2 200.261967)scale(0.1 -0.1)\">\r\n       <use xlink:href=\"#DejaVuSans-108\"/>\r\n       <use x=\"27.783203\" xlink:href=\"#DejaVuSans-97\"/>\r\n       <use x=\"89.0625\" xlink:href=\"#DejaVuSans-115\"/>\r\n       <use x=\"141.162109\" xlink:href=\"#DejaVuSans-116\"/>\r\n       <use x=\"180.371094\" xlink:href=\"#DejaVuSans-95\"/>\r\n       <use x=\"230.371094\" xlink:href=\"#DejaVuSans-112\"/>\r\n       <use x=\"293.847656\" xlink:href=\"#DejaVuSans-121\"/>\r\n       <use x=\"353.027344\" xlink:href=\"#DejaVuSans-109\"/>\r\n       <use x=\"450.439453\" xlink:href=\"#DejaVuSans-110\"/>\r\n       <use x=\"513.818359\" xlink:href=\"#DejaVuSans-116\"/>\r\n       <use x=\"553.027344\" xlink:href=\"#DejaVuSans-95\"/>\r\n       <use x=\"603.027344\" xlink:href=\"#DejaVuSans-97\"/>\r\n       <use x=\"664.306641\" xlink:href=\"#DejaVuSans-109\"/>\r\n       <use x=\"761.71875\" xlink:href=\"#DejaVuSans-110\"/>\r\n       <use x=\"825.097656\" xlink:href=\"#DejaVuSans-116\"/>\r\n      </g>\r\n     </g>\r\n    </g>\r\n    <g id=\"ytick_16\">\r\n     <g id=\"line2d_33\">\r\n      <g>\r\n       <use style=\"stroke:#000000;stroke-width:0.8;\" x=\"100.628125\" xlink:href=\"#m91c1eb5a7a\" y=\"209.253336\"/>\r\n      </g>\r\n     </g>\r\n     <g id=\"text_33\">\r\n      <!-- skills y/n -->\r\n      <g transform=\"translate(50.28125 213.052555)scale(0.1 -0.1)\">\r\n       <use xlink:href=\"#DejaVuSans-115\"/>\r\n       <use x=\"52.099609\" xlink:href=\"#DejaVuSans-107\"/>\r\n       <use x=\"110.009766\" xlink:href=\"#DejaVuSans-105\"/>\r\n       <use x=\"137.792969\" xlink:href=\"#DejaVuSans-108\"/>\r\n       <use x=\"165.576172\" xlink:href=\"#DejaVuSans-108\"/>\r\n       <use x=\"193.359375\" xlink:href=\"#DejaVuSans-115\"/>\r\n       <use x=\"245.458984\" xlink:href=\"#DejaVuSans-32\"/>\r\n       <use x=\"277.246094\" xlink:href=\"#DejaVuSans-121\"/>\r\n       <use x=\"336.425781\" xlink:href=\"#DejaVuSans-47\"/>\r\n       <use x=\"370.117188\" xlink:href=\"#DejaVuSans-110\"/>\r\n      </g>\r\n     </g>\r\n    </g>\r\n    <g id=\"ytick_17\">\r\n     <g id=\"line2d_34\">\r\n      <g>\r\n       <use style=\"stroke:#000000;stroke-width:0.8;\" x=\"100.628125\" xlink:href=\"#m91c1eb5a7a\" y=\"222.043925\"/>\r\n      </g>\r\n     </g>\r\n     <g id=\"text_34\">\r\n      <!-- hrs -->\r\n      <g transform=\"translate(77.970313 225.843143)scale(0.1 -0.1)\">\r\n       <use xlink:href=\"#DejaVuSans-104\"/>\r\n       <use x=\"63.378906\" xlink:href=\"#DejaVuSans-114\"/>\r\n       <use x=\"104.492188\" xlink:href=\"#DejaVuSans-115\"/>\r\n      </g>\r\n     </g>\r\n    </g>\r\n   </g>\r\n  </g>\r\n  <g id=\"axes_2\">\r\n   <g id=\"patch_3\">\r\n    <path clip-path=\"url(#pb09eda36dd)\" d=\"M 385.208125 228.439219 \r\nL 385.208125 227.589844 \r\nL 385.208125 11.848594 \r\nL 385.208125 10.999219 \r\nL 396.080125 10.999219 \r\nL 396.080125 11.848594 \r\nL 396.080125 227.589844 \r\nL 396.080125 228.439219 \r\nz\r\n\" style=\"fill:#ffffff;stroke:#ffffff;stroke-linejoin:miter;stroke-width:0.01;\"/>\r\n   </g>\r\n   <image height=\"217\" id=\"image0dad0b5f12\" transform=\"scale(1 -1)translate(0 -217)\" width=\"11\" x=\"385\" xlink:href=\"data:image/png;base64,\r\niVBORw0KGgoAAAANSUhEUgAAAAsAAADZCAYAAAD2WsoCAAAABHNCSVQICAgIfAhkiAAAANZJREFUaIHtlkEKw0AMA+10W/K7/v8ngWaTXnOUDQatcM6DsSZisZt9bwO/YfZC2TD8LptMAssH3CLwh2MNEnUhGysG7PI/4S7/E5bvxooB64qkXX53v/GDagx48JrwvlOsQQLL25AP2DbSsLwN+YBtIw3L2+AI6HMGrq/NLnwNO88AfBxVk0lg+YBtIw3L25AP2DbSsLwN+YBtIwn77Q5fX36Z4acafqiVwrgLnp1JbMwIDBfDeALWrUGijsQGiboVbcj/7jr4F4FJni+SbpA8X13+LPwHSwWtzmVz8qkAAAAASUVORK5CYII=\" y=\"-11\"/>\r\n   <g id=\"matplotlib.axis_3\"/>\r\n   <g id=\"matplotlib.axis_4\">\r\n    <g id=\"ytick_18\">\r\n     <g id=\"line2d_35\">\r\n      <defs>\r\n       <path d=\"M 0 0 \r\nL 3.5 0 \r\n\" id=\"m3a87887138\" style=\"stroke:#000000;stroke-width:0.8;\"/>\r\n      </defs>\r\n      <g>\r\n       <use style=\"stroke:#000000;stroke-width:0.8;\" x=\"396.080125\" xlink:href=\"#m3a87887138\" y=\"218.584213\"/>\r\n      </g>\r\n     </g>\r\n     <g id=\"text_35\">\r\n      <!-- −0.2 -->\r\n      <defs>\r\n       <path d=\"M 10.59375 35.5 \r\nL 73.1875 35.5 \r\nL 73.1875 27.203125 \r\nL 10.59375 27.203125 \r\nz\r\n\" id=\"DejaVuSans-8722\"/>\r\n       <path d=\"M 31.78125 66.40625 \r\nQ 24.171875 66.40625 20.328125 58.90625 \r\nQ 16.5 51.421875 16.5 36.375 \r\nQ 16.5 21.390625 20.328125 13.890625 \r\nQ 24.171875 6.390625 31.78125 6.390625 \r\nQ 39.453125 6.390625 43.28125 13.890625 \r\nQ 47.125 21.390625 47.125 36.375 \r\nQ 47.125 51.421875 43.28125 58.90625 \r\nQ 39.453125 66.40625 31.78125 66.40625 \r\nz\r\nM 31.78125 74.21875 \r\nQ 44.046875 74.21875 50.515625 64.515625 \r\nQ 56.984375 54.828125 56.984375 36.375 \r\nQ 56.984375 17.96875 50.515625 8.265625 \r\nQ 44.046875 -1.421875 31.78125 -1.421875 \r\nQ 19.53125 -1.421875 13.0625 8.265625 \r\nQ 6.59375 17.96875 6.59375 36.375 \r\nQ 6.59375 54.828125 13.0625 64.515625 \r\nQ 19.53125 74.21875 31.78125 74.21875 \r\nz\r\n\" id=\"DejaVuSans-48\"/>\r\n       <path d=\"M 10.6875 12.40625 \r\nL 21 12.40625 \r\nL 21 0 \r\nL 10.6875 0 \r\nz\r\n\" id=\"DejaVuSans-46\"/>\r\n      </defs>\r\n      <g transform=\"translate(403.080125 222.383431)scale(0.1 -0.1)\">\r\n       <use xlink:href=\"#DejaVuSans-8722\"/>\r\n       <use x=\"83.789062\" xlink:href=\"#DejaVuSans-48\"/>\r\n       <use x=\"147.412109\" xlink:href=\"#DejaVuSans-46\"/>\r\n       <use x=\"179.199219\" xlink:href=\"#DejaVuSans-50\"/>\r\n      </g>\r\n     </g>\r\n    </g>\r\n    <g id=\"ytick_19\">\r\n     <g id=\"line2d_36\">\r\n      <g>\r\n       <use style=\"stroke:#000000;stroke-width:0.8;\" x=\"396.080125\" xlink:href=\"#m3a87887138\" y=\"183.986714\"/>\r\n      </g>\r\n     </g>\r\n     <g id=\"text_36\">\r\n      <!-- 0.0 -->\r\n      <g transform=\"translate(403.080125 187.785932)scale(0.1 -0.1)\">\r\n       <use xlink:href=\"#DejaVuSans-48\"/>\r\n       <use x=\"63.623047\" xlink:href=\"#DejaVuSans-46\"/>\r\n       <use x=\"95.410156\" xlink:href=\"#DejaVuSans-48\"/>\r\n      </g>\r\n     </g>\r\n    </g>\r\n    <g id=\"ytick_20\">\r\n     <g id=\"line2d_37\">\r\n      <g>\r\n       <use style=\"stroke:#000000;stroke-width:0.8;\" x=\"396.080125\" xlink:href=\"#m3a87887138\" y=\"149.389215\"/>\r\n      </g>\r\n     </g>\r\n     <g id=\"text_37\">\r\n      <!-- 0.2 -->\r\n      <g transform=\"translate(403.080125 153.188433)scale(0.1 -0.1)\">\r\n       <use xlink:href=\"#DejaVuSans-48\"/>\r\n       <use x=\"63.623047\" xlink:href=\"#DejaVuSans-46\"/>\r\n       <use x=\"95.410156\" xlink:href=\"#DejaVuSans-50\"/>\r\n      </g>\r\n     </g>\r\n    </g>\r\n    <g id=\"ytick_21\">\r\n     <g id=\"line2d_38\">\r\n      <g>\r\n       <use style=\"stroke:#000000;stroke-width:0.8;\" x=\"396.080125\" xlink:href=\"#m3a87887138\" y=\"114.791716\"/>\r\n      </g>\r\n     </g>\r\n     <g id=\"text_38\">\r\n      <!-- 0.4 -->\r\n      <defs>\r\n       <path d=\"M 37.796875 64.3125 \r\nL 12.890625 25.390625 \r\nL 37.796875 25.390625 \r\nz\r\nM 35.203125 72.90625 \r\nL 47.609375 72.90625 \r\nL 47.609375 25.390625 \r\nL 58.015625 25.390625 \r\nL 58.015625 17.1875 \r\nL 47.609375 17.1875 \r\nL 47.609375 0 \r\nL 37.796875 0 \r\nL 37.796875 17.1875 \r\nL 4.890625 17.1875 \r\nL 4.890625 26.703125 \r\nz\r\n\" id=\"DejaVuSans-52\"/>\r\n      </defs>\r\n      <g transform=\"translate(403.080125 118.590934)scale(0.1 -0.1)\">\r\n       <use xlink:href=\"#DejaVuSans-48\"/>\r\n       <use x=\"63.623047\" xlink:href=\"#DejaVuSans-46\"/>\r\n       <use x=\"95.410156\" xlink:href=\"#DejaVuSans-52\"/>\r\n      </g>\r\n     </g>\r\n    </g>\r\n    <g id=\"ytick_22\">\r\n     <g id=\"line2d_39\">\r\n      <g>\r\n       <use style=\"stroke:#000000;stroke-width:0.8;\" x=\"396.080125\" xlink:href=\"#m3a87887138\" y=\"80.194217\"/>\r\n      </g>\r\n     </g>\r\n     <g id=\"text_39\">\r\n      <!-- 0.6 -->\r\n      <defs>\r\n       <path d=\"M 33.015625 40.375 \r\nQ 26.375 40.375 22.484375 35.828125 \r\nQ 18.609375 31.296875 18.609375 23.390625 \r\nQ 18.609375 15.53125 22.484375 10.953125 \r\nQ 26.375 6.390625 33.015625 6.390625 \r\nQ 39.65625 6.390625 43.53125 10.953125 \r\nQ 47.40625 15.53125 47.40625 23.390625 \r\nQ 47.40625 31.296875 43.53125 35.828125 \r\nQ 39.65625 40.375 33.015625 40.375 \r\nz\r\nM 52.59375 71.296875 \r\nL 52.59375 62.3125 \r\nQ 48.875 64.0625 45.09375 64.984375 \r\nQ 41.3125 65.921875 37.59375 65.921875 \r\nQ 27.828125 65.921875 22.671875 59.328125 \r\nQ 17.53125 52.734375 16.796875 39.40625 \r\nQ 19.671875 43.65625 24.015625 45.921875 \r\nQ 28.375 48.1875 33.59375 48.1875 \r\nQ 44.578125 48.1875 50.953125 41.515625 \r\nQ 57.328125 34.859375 57.328125 23.390625 \r\nQ 57.328125 12.15625 50.6875 5.359375 \r\nQ 44.046875 -1.421875 33.015625 -1.421875 \r\nQ 20.359375 -1.421875 13.671875 8.265625 \r\nQ 6.984375 17.96875 6.984375 36.375 \r\nQ 6.984375 53.65625 15.1875 63.9375 \r\nQ 23.390625 74.21875 37.203125 74.21875 \r\nQ 40.921875 74.21875 44.703125 73.484375 \r\nQ 48.484375 72.75 52.59375 71.296875 \r\nz\r\n\" id=\"DejaVuSans-54\"/>\r\n      </defs>\r\n      <g transform=\"translate(403.080125 83.993435)scale(0.1 -0.1)\">\r\n       <use xlink:href=\"#DejaVuSans-48\"/>\r\n       <use x=\"63.623047\" xlink:href=\"#DejaVuSans-46\"/>\r\n       <use x=\"95.410156\" xlink:href=\"#DejaVuSans-54\"/>\r\n      </g>\r\n     </g>\r\n    </g>\r\n    <g id=\"ytick_23\">\r\n     <g id=\"line2d_40\">\r\n      <g>\r\n       <use style=\"stroke:#000000;stroke-width:0.8;\" x=\"396.080125\" xlink:href=\"#m3a87887138\" y=\"45.596718\"/>\r\n      </g>\r\n     </g>\r\n     <g id=\"text_40\">\r\n      <!-- 0.8 -->\r\n      <defs>\r\n       <path d=\"M 31.78125 34.625 \r\nQ 24.75 34.625 20.71875 30.859375 \r\nQ 16.703125 27.09375 16.703125 20.515625 \r\nQ 16.703125 13.921875 20.71875 10.15625 \r\nQ 24.75 6.390625 31.78125 6.390625 \r\nQ 38.8125 6.390625 42.859375 10.171875 \r\nQ 46.921875 13.96875 46.921875 20.515625 \r\nQ 46.921875 27.09375 42.890625 30.859375 \r\nQ 38.875 34.625 31.78125 34.625 \r\nz\r\nM 21.921875 38.8125 \r\nQ 15.578125 40.375 12.03125 44.71875 \r\nQ 8.5 49.078125 8.5 55.328125 \r\nQ 8.5 64.0625 14.71875 69.140625 \r\nQ 20.953125 74.21875 31.78125 74.21875 \r\nQ 42.671875 74.21875 48.875 69.140625 \r\nQ 55.078125 64.0625 55.078125 55.328125 \r\nQ 55.078125 49.078125 51.53125 44.71875 \r\nQ 48 40.375 41.703125 38.8125 \r\nQ 48.828125 37.15625 52.796875 32.3125 \r\nQ 56.78125 27.484375 56.78125 20.515625 \r\nQ 56.78125 9.90625 50.3125 4.234375 \r\nQ 43.84375 -1.421875 31.78125 -1.421875 \r\nQ 19.734375 -1.421875 13.25 4.234375 \r\nQ 6.78125 9.90625 6.78125 20.515625 \r\nQ 6.78125 27.484375 10.78125 32.3125 \r\nQ 14.796875 37.15625 21.921875 38.8125 \r\nz\r\nM 18.3125 54.390625 \r\nQ 18.3125 48.734375 21.84375 45.5625 \r\nQ 25.390625 42.390625 31.78125 42.390625 \r\nQ 38.140625 42.390625 41.71875 45.5625 \r\nQ 45.3125 48.734375 45.3125 54.390625 \r\nQ 45.3125 60.0625 41.71875 63.234375 \r\nQ 38.140625 66.40625 31.78125 66.40625 \r\nQ 25.390625 66.40625 21.84375 63.234375 \r\nQ 18.3125 60.0625 18.3125 54.390625 \r\nz\r\n\" id=\"DejaVuSans-56\"/>\r\n      </defs>\r\n      <g transform=\"translate(403.080125 49.395936)scale(0.1 -0.1)\">\r\n       <use xlink:href=\"#DejaVuSans-48\"/>\r\n       <use x=\"63.623047\" xlink:href=\"#DejaVuSans-46\"/>\r\n       <use x=\"95.410156\" xlink:href=\"#DejaVuSans-56\"/>\r\n      </g>\r\n     </g>\r\n    </g>\r\n    <g id=\"ytick_24\">\r\n     <g id=\"line2d_41\">\r\n      <g>\r\n       <use style=\"stroke:#000000;stroke-width:0.8;\" x=\"396.080125\" xlink:href=\"#m3a87887138\" y=\"10.999219\"/>\r\n      </g>\r\n     </g>\r\n     <g id=\"text_41\">\r\n      <!-- 1.0 -->\r\n      <g transform=\"translate(403.080125 14.798437)scale(0.1 -0.1)\">\r\n       <use xlink:href=\"#DejaVuSans-49\"/>\r\n       <use x=\"63.623047\" xlink:href=\"#DejaVuSans-46\"/>\r\n       <use x=\"95.410156\" xlink:href=\"#DejaVuSans-48\"/>\r\n      </g>\r\n     </g>\r\n    </g>\r\n   </g>\r\n   <g id=\"patch_4\">\r\n    <path d=\"M 385.208125 228.439219 \r\nL 385.208125 227.589844 \r\nL 385.208125 11.848594 \r\nL 385.208125 10.999219 \r\nL 396.080125 10.999219 \r\nL 396.080125 11.848594 \r\nL 396.080125 227.589844 \r\nL 396.080125 228.439219 \r\nz\r\n\" style=\"fill:none;\"/>\r\n   </g>\r\n  </g>\r\n </g>\r\n <defs>\r\n  <clipPath id=\"p80eeea68d9\">\r\n   <rect height=\"217.44\" width=\"267.84\" x=\"100.628125\" y=\"10.999219\"/>\r\n  </clipPath>\r\n  <clipPath id=\"pb09eda36dd\">\r\n   <rect height=\"217.44\" width=\"10.872\" x=\"385.208125\" y=\"10.999219\"/>\r\n  </clipPath>\r\n </defs>\r\n</svg>\r\n",
      "image/png": "[encoded data removed]"
     },
     "metadata": {
      "needs_background": "light"
     }
    }
   ],
   "source": [
    "sns.heatmap(df.corr(), annot = False, cmap = 'seismic')"
   ]
  },
  {
   "cell_type": "code",
   "execution_count": 122,
   "metadata": {},
   "outputs": [
    {
     "output_type": "execute_result",
     "data": {
      "text/plain": [
       "                       id  Target A  Target B  LOAN_AMT  CompanySize  \\\n",
       "id               1.000000 -0.010424  0.017360  0.004329     0.011000   \n",
       "Target A        -0.010424  1.000000  0.007766 -0.005426     0.003971   \n",
       "Target B         0.017360  0.007766  1.000000 -0.053278     0.020110   \n",
       "LOAN_AMT         0.004329 -0.005426 -0.053278  1.000000     0.020405   \n",
       "CompanySize      0.011000  0.003971  0.020110  0.020405     1.000000   \n",
       "YearsCoding      0.005848 -0.011682  0.009649  0.007861     0.058738   \n",
       "YearsCodingProf  0.001767 -0.002411  0.009920  0.017916     0.024480   \n",
       "AgreeDisagree1  -0.004702 -0.022783 -0.008969 -0.019232     0.027598   \n",
       "AgreeDisagree2  -0.044869  0.014924  0.006678  0.018441    -0.002840   \n",
       "AgreeDisagree3  -0.002566  0.020445 -0.002937 -0.018539    -0.001338   \n",
       "CheckInCode     -0.011170 -0.010110 -0.016855  0.022896    -0.092466   \n",
       "Age              0.004059  0.007666  0.003313  0.010352     0.056996   \n",
       "zip_code         0.008035 -0.019511 -0.036506 -0.030630     0.009924   \n",
       "dti              0.037443  0.002491  0.001063  0.038297     0.017449   \n",
       "last_pymnt_amnt -0.021086  0.009170 -0.049296  0.435464    -0.004652   \n",
       "skills y/n       0.029560  0.195064  0.013663 -0.001761     0.005612   \n",
       "hrs             -0.014163 -0.004422  0.013196  0.002300    -0.023516   \n",
       "\n",
       "                 YearsCoding  YearsCodingProf  AgreeDisagree1  AgreeDisagree2  \\\n",
       "id                  0.005848         0.001767       -0.004702       -0.044869   \n",
       "Target A           -0.011682        -0.002411       -0.022783        0.014924   \n",
       "Target B            0.009649         0.009920       -0.008969        0.006678   \n",
       "LOAN_AMT            0.007861         0.017916       -0.019232        0.018441   \n",
       "CompanySize         0.058738         0.024480        0.027598       -0.002840   \n",
       "YearsCoding         1.000000         0.773309        0.118470       -0.098320   \n",
       "YearsCodingProf     0.773309         1.000000        0.163089       -0.086091   \n",
       "AgreeDisagree1      0.118470         0.163089        1.000000        0.031774   \n",
       "AgreeDisagree2     -0.098320        -0.086091        0.031774        1.000000   \n",
       "AgreeDisagree3     -0.240996        -0.256969       -0.164274        0.007267   \n",
       "CheckInCode        -0.008423         0.031439       -0.060701       -0.005813   \n",
       "Age                 0.789597         0.708721        0.126839       -0.097387   \n",
       "zip_code            0.012117         0.010364       -0.017777        0.042964   \n",
       "dti                -0.015270        -0.001102       -0.016239       -0.026928   \n",
       "last_pymnt_amnt    -0.023049        -0.016193       -0.011239       -0.003058   \n",
       "skills y/n          0.015687        -0.002557       -0.052742       -0.018533   \n",
       "hrs                -0.000008        -0.009149       -0.029578       -0.027016   \n",
       "\n",
       "                 AgreeDisagree3  CheckInCode       Age  zip_code       dti  \\\n",
       "id                    -0.002566    -0.011170  0.004059  0.008035  0.037443   \n",
       "Target A               0.020445    -0.010110  0.007666 -0.019511  0.002491   \n",
       "Target B              -0.002937    -0.016855  0.003313 -0.036506  0.001063   \n",
       "LOAN_AMT              -0.018539     0.022896  0.010352 -0.030630  0.038297   \n",
       "CompanySize           -0.001338    -0.092466  0.056996  0.009924  0.017449   \n",
       "YearsCoding           -0.240996    -0.008423  0.789597  0.012117 -0.015270   \n",
       "YearsCodingProf       -0.256969     0.031439  0.708721  0.010364 -0.001102   \n",
       "AgreeDisagree1        -0.164274    -0.060701  0.126839 -0.017777 -0.016239   \n",
       "AgreeDisagree2         0.007267    -0.005813 -0.097387  0.042964 -0.026928   \n",
       "AgreeDisagree3         1.000000    -0.022262 -0.175388 -0.016417  0.047640   \n",
       "CheckInCode           -0.022262     1.000000 -0.064323 -0.016572  0.024209   \n",
       "Age                   -0.175388    -0.064323  1.000000  0.004198 -0.004887   \n",
       "zip_code              -0.016417    -0.016572  0.004198  1.000000 -0.013662   \n",
       "dti                    0.047640     0.024209 -0.004887 -0.013662  1.000000   \n",
       "last_pymnt_amnt       -0.040142     0.046345 -0.032294  0.008957 -0.050584   \n",
       "skills y/n             0.030250     0.013445  0.031116 -0.017754 -0.010541   \n",
       "hrs                    0.030753    -0.027514  0.001782 -0.002673  0.014581   \n",
       "\n",
       "                 last_pymnt_amnt  skills y/n       hrs  \n",
       "id                     -0.021086    0.029560 -0.014163  \n",
       "Target A                0.009170    0.195064 -0.004422  \n",
       "Target B               -0.049296    0.013663  0.013196  \n",
       "LOAN_AMT                0.435464   -0.001761  0.002300  \n",
       "CompanySize            -0.004652    0.005612 -0.023516  \n",
       "YearsCoding            -0.023049    0.015687 -0.000008  \n",
       "YearsCodingProf        -0.016193   -0.002557 -0.009149  \n",
       "AgreeDisagree1         -0.011239   -0.052742 -0.029578  \n",
       "AgreeDisagree2         -0.003058   -0.018533 -0.027016  \n",
       "AgreeDisagree3         -0.040142    0.030250  0.030753  \n",
       "CheckInCode             0.046345    0.013445 -0.027514  \n",
       "Age                    -0.032294    0.031116  0.001782  \n",
       "zip_code                0.008957   -0.017754 -0.002673  \n",
       "dti                    -0.050584   -0.010541  0.014581  \n",
       "last_pymnt_amnt         1.000000    0.001421  0.005134  \n",
       "skills y/n              0.001421    1.000000  0.049944  \n",
       "hrs                     0.005134    0.049944  1.000000  "
      ],
      "text/html": "<div>\n<style scoped>\n    .dataframe tbody tr th:only-of-type {\n        vertical-align: middle;\n    }\n\n    .dataframe tbody tr th {\n        vertical-align: top;\n    }\n\n    .dataframe thead th {\n        text-align: right;\n    }\n</style>\n<table border=\"1\" class=\"dataframe\">\n  <thead>\n    <tr style=\"text-align: right;\">\n      <th></th>\n      <th>id</th>\n      <th>Target A</th>\n      <th>Target B</th>\n      <th>LOAN_AMT</th>\n      <th>CompanySize</th>\n      <th>YearsCoding</th>\n      <th>YearsCodingProf</th>\n      <th>AgreeDisagree1</th>\n      <th>AgreeDisagree2</th>\n      <th>AgreeDisagree3</th>\n      <th>CheckInCode</th>\n      <th>Age</th>\n      <th>zip_code</th>\n      <th>dti</th>\n      <th>last_pymnt_amnt</th>\n      <th>skills y/n</th>\n      <th>hrs</th>\n    </tr>\n  </thead>\n  <tbody>\n    <tr>\n      <th>id</th>\n      <td>1.000000</td>\n      <td>-0.010424</td>\n      <td>0.017360</td>\n      <td>0.004329</td>\n      <td>0.011000</td>\n      <td>0.005848</td>\n      <td>0.001767</td>\n      <td>-0.004702</td>\n      <td>-0.044869</td>\n      <td>-0.002566</td>\n      <td>-0.011170</td>\n      <td>0.004059</td>\n      <td>0.008035</td>\n      <td>0.037443</td>\n      <td>-0.021086</td>\n      <td>0.029560</td>\n      <td>-0.014163</td>\n    </tr>\n    <tr>\n      <th>Target A</th>\n      <td>-0.010424</td>\n      <td>1.000000</td>\n      <td>0.007766</td>\n      <td>-0.005426</td>\n      <td>0.003971</td>\n      <td>-0.011682</td>\n      <td>-0.002411</td>\n      <td>-0.022783</td>\n      <td>0.014924</td>\n      <td>0.020445</td>\n      <td>-0.010110</td>\n      <td>0.007666</td>\n      <td>-0.019511</td>\n      <td>0.002491</td>\n      <td>0.009170</td>\n      <td>0.195064</td>\n      <td>-0.004422</td>\n    </tr>\n    <tr>\n      <th>Target B</th>\n      <td>0.017360</td>\n      <td>0.007766</td>\n      <td>1.000000</td>\n      <td>-0.053278</td>\n      <td>0.020110</td>\n      <td>0.009649</td>\n      <td>0.009920</td>\n      <td>-0.008969</td>\n      <td>0.006678</td>\n      <td>-0.002937</td>\n      <td>-0.016855</td>\n      <td>0.003313</td>\n      <td>-0.036506</td>\n      <td>0.001063</td>\n      <td>-0.049296</td>\n      <td>0.013663</td>\n      <td>0.013196</td>\n    </tr>\n    <tr>\n      <th>LOAN_AMT</th>\n      <td>0.004329</td>\n      <td>-0.005426</td>\n      <td>-0.053278</td>\n      <td>1.000000</td>\n      <td>0.020405</td>\n      <td>0.007861</td>\n      <td>0.017916</td>\n      <td>-0.019232</td>\n      <td>0.018441</td>\n      <td>-0.018539</td>\n      <td>0.022896</td>\n      <td>0.010352</td>\n      <td>-0.030630</td>\n      <td>0.038297</td>\n      <td>0.435464</td>\n      <td>-0.001761</td>\n      <td>0.002300</td>\n    </tr>\n    <tr>\n      <th>CompanySize</th>\n      <td>0.011000</td>\n      <td>0.003971</td>\n      <td>0.020110</td>\n      <td>0.020405</td>\n      <td>1.000000</td>\n      <td>0.058738</td>\n      <td>0.024480</td>\n      <td>0.027598</td>\n      <td>-0.002840</td>\n      <td>-0.001338</td>\n      <td>-0.092466</td>\n      <td>0.056996</td>\n      <td>0.009924</td>\n      <td>0.017449</td>\n      <td>-0.004652</td>\n      <td>0.005612</td>\n      <td>-0.023516</td>\n    </tr>\n    <tr>\n      <th>YearsCoding</th>\n      <td>0.005848</td>\n      <td>-0.011682</td>\n      <td>0.009649</td>\n      <td>0.007861</td>\n      <td>0.058738</td>\n      <td>1.000000</td>\n      <td>0.773309</td>\n      <td>0.118470</td>\n      <td>-0.098320</td>\n      <td>-0.240996</td>\n      <td>-0.008423</td>\n      <td>0.789597</td>\n      <td>0.012117</td>\n      <td>-0.015270</td>\n      <td>-0.023049</td>\n      <td>0.015687</td>\n      <td>-0.000008</td>\n    </tr>\n    <tr>\n      <th>YearsCodingProf</th>\n      <td>0.001767</td>\n      <td>-0.002411</td>\n      <td>0.009920</td>\n      <td>0.017916</td>\n      <td>0.024480</td>\n      <td>0.773309</td>\n      <td>1.000000</td>\n      <td>0.163089</td>\n      <td>-0.086091</td>\n      <td>-0.256969</td>\n      <td>0.031439</td>\n      <td>0.708721</td>\n      <td>0.010364</td>\n      <td>-0.001102</td>\n      <td>-0.016193</td>\n      <td>-0.002557</td>\n      <td>-0.009149</td>\n    </tr>\n    <tr>\n      <th>AgreeDisagree1</th>\n      <td>-0.004702</td>\n      <td>-0.022783</td>\n      <td>-0.008969</td>\n      <td>-0.019232</td>\n      <td>0.027598</td>\n      <td>0.118470</td>\n      <td>0.163089</td>\n      <td>1.000000</td>\n      <td>0.031774</td>\n      <td>-0.164274</td>\n      <td>-0.060701</td>\n      <td>0.126839</td>\n      <td>-0.017777</td>\n      <td>-0.016239</td>\n      <td>-0.011239</td>\n      <td>-0.052742</td>\n      <td>-0.029578</td>\n    </tr>\n    <tr>\n      <th>AgreeDisagree2</th>\n      <td>-0.044869</td>\n      <td>0.014924</td>\n      <td>0.006678</td>\n      <td>0.018441</td>\n      <td>-0.002840</td>\n      <td>-0.098320</td>\n      <td>-0.086091</td>\n      <td>0.031774</td>\n      <td>1.000000</td>\n      <td>0.007267</td>\n      <td>-0.005813</td>\n      <td>-0.097387</td>\n      <td>0.042964</td>\n      <td>-0.026928</td>\n      <td>-0.003058</td>\n      <td>-0.018533</td>\n      <td>-0.027016</td>\n    </tr>\n    <tr>\n      <th>AgreeDisagree3</th>\n      <td>-0.002566</td>\n      <td>0.020445</td>\n      <td>-0.002937</td>\n      <td>-0.018539</td>\n      <td>-0.001338</td>\n      <td>-0.240996</td>\n      <td>-0.256969</td>\n      <td>-0.164274</td>\n      <td>0.007267</td>\n      <td>1.000000</td>\n      <td>-0.022262</td>\n      <td>-0.175388</td>\n      <td>-0.016417</td>\n      <td>0.047640</td>\n      <td>-0.040142</td>\n      <td>0.030250</td>\n      <td>0.030753</td>\n    </tr>\n    <tr>\n      <th>CheckInCode</th>\n      <td>-0.011170</td>\n      <td>-0.010110</td>\n      <td>-0.016855</td>\n      <td>0.022896</td>\n      <td>-0.092466</td>\n      <td>-0.008423</td>\n      <td>0.031439</td>\n      <td>-0.060701</td>\n      <td>-0.005813</td>\n      <td>-0.022262</td>\n      <td>1.000000</td>\n      <td>-0.064323</td>\n      <td>-0.016572</td>\n      <td>0.024209</td>\n      <td>0.046345</td>\n      <td>0.013445</td>\n      <td>-0.027514</td>\n    </tr>\n    <tr>\n      <th>Age</th>\n      <td>0.004059</td>\n      <td>0.007666</td>\n      <td>0.003313</td>\n      <td>0.010352</td>\n      <td>0.056996</td>\n      <td>0.789597</td>\n      <td>0.708721</td>\n      <td>0.126839</td>\n      <td>-0.097387</td>\n      <td>-0.175388</td>\n      <td>-0.064323</td>\n      <td>1.000000</td>\n      <td>0.004198</td>\n      <td>-0.004887</td>\n      <td>-0.032294</td>\n      <td>0.031116</td>\n      <td>0.001782</td>\n    </tr>\n    <tr>\n      <th>zip_code</th>\n      <td>0.008035</td>\n      <td>-0.019511</td>\n      <td>-0.036506</td>\n      <td>-0.030630</td>\n      <td>0.009924</td>\n      <td>0.012117</td>\n      <td>0.010364</td>\n      <td>-0.017777</td>\n      <td>0.042964</td>\n      <td>-0.016417</td>\n      <td>-0.016572</td>\n      <td>0.004198</td>\n      <td>1.000000</td>\n      <td>-0.013662</td>\n      <td>0.008957</td>\n      <td>-0.017754</td>\n      <td>-0.002673</td>\n    </tr>\n    <tr>\n      <th>dti</th>\n      <td>0.037443</td>\n      <td>0.002491</td>\n      <td>0.001063</td>\n      <td>0.038297</td>\n      <td>0.017449</td>\n      <td>-0.015270</td>\n      <td>-0.001102</td>\n      <td>-0.016239</td>\n      <td>-0.026928</td>\n      <td>0.047640</td>\n      <td>0.024209</td>\n      <td>-0.004887</td>\n      <td>-0.013662</td>\n      <td>1.000000</td>\n      <td>-0.050584</td>\n      <td>-0.010541</td>\n      <td>0.014581</td>\n    </tr>\n    <tr>\n      <th>last_pymnt_amnt</th>\n      <td>-0.021086</td>\n      <td>0.009170</td>\n      <td>-0.049296</td>\n      <td>0.435464</td>\n      <td>-0.004652</td>\n      <td>-0.023049</td>\n      <td>-0.016193</td>\n      <td>-0.011239</td>\n      <td>-0.003058</td>\n      <td>-0.040142</td>\n      <td>0.046345</td>\n      <td>-0.032294</td>\n      <td>0.008957</td>\n      <td>-0.050584</td>\n      <td>1.000000</td>\n      <td>0.001421</td>\n      <td>0.005134</td>\n    </tr>\n    <tr>\n      <th>skills y/n</th>\n      <td>0.029560</td>\n      <td>0.195064</td>\n      <td>0.013663</td>\n      <td>-0.001761</td>\n      <td>0.005612</td>\n      <td>0.015687</td>\n      <td>-0.002557</td>\n      <td>-0.052742</td>\n      <td>-0.018533</td>\n      <td>0.030250</td>\n      <td>0.013445</td>\n      <td>0.031116</td>\n      <td>-0.017754</td>\n      <td>-0.010541</td>\n      <td>0.001421</td>\n      <td>1.000000</td>\n      <td>0.049944</td>\n    </tr>\n    <tr>\n      <th>hrs</th>\n      <td>-0.014163</td>\n      <td>-0.004422</td>\n      <td>0.013196</td>\n      <td>0.002300</td>\n      <td>-0.023516</td>\n      <td>-0.000008</td>\n      <td>-0.009149</td>\n      <td>-0.029578</td>\n      <td>-0.027016</td>\n      <td>0.030753</td>\n      <td>-0.027514</td>\n      <td>0.001782</td>\n      <td>-0.002673</td>\n      <td>0.014581</td>\n      <td>0.005134</td>\n      <td>0.049944</td>\n      <td>1.000000</td>\n    </tr>\n  </tbody>\n</table>\n</div>"
     },
     "metadata": {},
     "execution_count": 122
    }
   ],
   "source": [
    "df.corr()"
   ]
  },
  {
   "cell_type": "code",
   "execution_count": 173,
   "metadata": {},
   "outputs": [
    {
     "output_type": "execute_result",
     "data": {
      "text/plain": [
       "[Assistant, Civil, Engineer]                                                   33\n",
       "[Project, Manager]                                                             29\n",
       "[College, Aide]                                                                24\n",
       "[Construction, Project, Manager]                                               22\n",
       "[ACCOUNTABLE, MANAGER]                                                         20\n",
       "[Confidential, Investigator]                                                   18\n",
       "[Investigator]                                                                 17\n",
       "[Watershed, Maintainer]                                                        17\n",
       "[Prosecuting, Attorney]                                                        16\n",
       "[Senior, Project, Manager]                                                     15\n",
       "[Stationary, Engineer, (Electric)]                                             13\n",
       "[COMPUTER, SPECIALIST, (SOFTWARE)]                                             12\n",
       "[Budget, Analyst]                                                              12\n",
       "[Civil, Engineer, 2]                                                           12\n",
       "[Deputy, Director]                                                             11\n",
       "[Administrative, Assistant]                                                    11\n",
       "[Data, Scientist]                                                              11\n",
       "[Civil, Engineer, 3]                                                           11\n",
       "[Community, Coordinator]                                                       10\n",
       "[Engineering, Technician, I]                                                   10\n",
       "[Agency, Attorney]                                                             10\n",
       "[PROGRAM, MANAGER]                                                             10\n",
       "[Policy, Analyst]                                                              10\n",
       "[Information, Representative]                                                  10\n",
       "[Assistant, General, Counsel]                                                  10\n",
       "[Electrician]                                                                   9\n",
       "[Mechanical, Engineer]                                                          8\n",
       "[Director]                                                                      8\n",
       "[Assistant, Environmental, Engineer]                                            8\n",
       "[Community, Assistant]                                                          8\n",
       "[Assistant, Corporation, Counsel]                                               8\n",
       "[ASSISTANT, PROJECT, MANAGER]                                                   8\n",
       "[CONTRACTS, ATTORNEY]                                                           8\n",
       "[Executive, Director]                                                           8\n",
       "[Supervisor]                                                                    7\n",
       "[Police, Administrative, Aide]                                                  7\n",
       "[MECHANICAL, ENGINEERING, INTERN]                                               6\n",
       "[Procurement, Analyst]                                                          6\n",
       "[Policy, Advisor]                                                               6\n",
       "[Executive, Assistant]                                                          6\n",
       "[Payment, Analyst]                                                              6\n",
       "[Assistant, Project, Manager]                                                   6\n",
       "[ASSISTANT, CORPORATION, COUNSEL]                                               6\n",
       "[Project, Advocate]                                                             6\n",
       "[Application, Developer]                                                        6\n",
       "[Deputy, Chief, -, Enforcement]                                                 6\n",
       "[EEO, Investigator]                                                             6\n",
       "[Assistant, Landscape, Architect]                                               6\n",
       "[Deputy, General, Counsel]                                                      6\n",
       "[AGENCY, ATTORNEY, 03]                                                          6\n",
       "[Borough, Planner]                                                              6\n",
       "[Claim, Specialist]                                                             6\n",
       "[Education, Analyst]                                                            6\n",
       "[MACHINIST]                                                                     6\n",
       "[Program, Executive]                                                            6\n",
       "[Outreach, Intern]                                                              6\n",
       "[COMPUTER, SYSTEMS, MANAGER]                                                    6\n",
       "[PROJECT, MANAGER]                                                              6\n",
       "[Business, Analyst]                                                             6\n",
       "[Emergency, Manager]                                                            6\n",
       "[Associate, Project, Manager]                                                   6\n",
       "[Safety, Education, Outreach, Coordinator]                                      6\n",
       "[Senior, Construction, Contract, Analyst]                                       6\n",
       "[WATERSHED, MAINTAINER]                                                         6\n",
       "[Civil, Engineer, 1]                                                            6\n",
       "[Program, Manager]                                                              6\n",
       "[ELECTRICIAN]                                                                   6\n",
       "[Deputy, Press, Secretary]                                                      6\n",
       "[Clerical, Associate, III]                                                      5\n",
       "[Senior, Police, Administrative, Aide]                                          5\n",
       "[Staff, Analyst]                                                                5\n",
       "[Assistant, Inspector, General]                                                 5\n",
       "[Administrative, Engineer]                                                      5\n",
       "[Office, Manager]                                                               5\n",
       "[Senior, Counsel]                                                               5\n",
       "[Civil, Engineer]                                                               5\n",
       "[Data, Analyst]                                                                 5\n",
       "[Exterminator]                                                                  5\n",
       "[Construction, Inspector]                                                       5\n",
       "[Stationary, Engineer]                                                          5\n",
       "[Civil, Engineer, III]                                                          5\n",
       "[Computer, Associate]                                                           5\n",
       "[Procurement, Specialist]                                                       4\n",
       "[Civil, Engineer, II]                                                           4\n",
       "[Radio, Room, Operator]                                                         4\n",
       "[Quality, Assurance, Officer]                                                   4\n",
       "[Project, Manager, Intern]                                                      4\n",
       "[Principal, Administrative, Associate]                                          4\n",
       "[Environmental, Health, &, Safety, Auditor]                                     4\n",
       "[INSTRUMENTATION, SPECIALIST, I]                                                4\n",
       "[DEPUTY, PORTFOLIO, MANAGER]                                                    4\n",
       "[Public, Health, Inspector]                                                     4\n",
       "[Case, Manager]                                                                 4\n",
       "[Analyst, -, Business, Practices, Accountability, Unit]                         4\n",
       "[Program, Data, Analyst]                                                        4\n",
       "[Financial, Analyst]                                                            4\n",
       "[CERTIFIED, IT, ADMINISTRATOR, (LAN/WAN)]                                       4\n",
       "[AGENCY, COUNSEL]                                                               4\n",
       "[FOIL, and, eDiscovery, Specialist]                                             4\n",
       "[Seasonal, City, Park, Worker]                                                  4\n",
       "[Engineering, Intern]                                                           4\n",
       "[WEB, APPLICATION, DEVELOPER]                                                   4\n",
       "[Outreach, Coordinator]                                                         4\n",
       "[Traffic, Device, Maintainer]                                                   4\n",
       "[Division, Chief, of, Long, Term, Planning]                                     4\n",
       "[Civil, Engineering, Intern]                                                    4\n",
       "[Junior, Engineer, (Design)]                                                    4\n",
       "[Special, Projects, Program, Manager]                                           4\n",
       "[MAINTENANCE, WORKER]                                                           4\n",
       "[Mediation, Coordinator]                                                        4\n",
       "[Construction, Safety, and, Quality, Inspector]                                 4\n",
       "[Landscape, Architect]                                                          4\n",
       "[Senior, Contract, Analyst]                                                     4\n",
       "[Senior, Construction, Manager]                                                 4\n",
       "[Plumbing, Engineer]                                                            4\n",
       "[Civil, Engineer, I]                                                            4\n",
       "[Clerical, Associate, (Part-Time)]                                              4\n",
       "[Child, Protective, Manager]                                                    4\n",
       "[Data, Analyst, (NCU)]                                                          4\n",
       "[Building, Information, Modeling, (BIM), Manager]                               4\n",
       "[Chief, of, Staff]                                                              4\n",
       "[Accountable, Manager,, Resiliency, Coordination, and, I&I, Initiatives]        4\n",
       "[Quality, Analyst, Lead, -, Digital, Solutions]                                 4\n",
       "[ASSISTANT, CIVIL, ENGINEER]                                                    4\n",
       "[MACHINIST'S, HELPER]                                                           4\n",
       "[Assistant, Counsel]                                                            4\n",
       "[Community, Associate]                                                          4\n",
       "[Gardener]                                                                      4\n",
       "[ePMIS, Solutions, Manager]                                                     4\n",
       "[Budget, Analyst,, Bureau, of, Budget, and, Revenue/Budget, Administration]     4\n",
       "[City, Laborer]                                                                 4\n",
       "[Admin, Engineer, (NM)]                                                         4\n",
       "[Assistant, Deputy, Agency, Chief, Contracting, Officer]                        4\n",
       "[Design, Engineer]                                                              4\n",
       "[Executive, Agency, Counsel]                                                    4\n",
       "[Health, &, Safety, Specialist]                                                 4\n",
       "[Constituent, Services, Liaison]                                                4\n",
       "[Programs, Data, Manager]                                                       4\n",
       "[Senior, Advisor]                                                               4\n",
       "[Director, of, Program, Management]                                             4\n",
       "[Associate, Human, Rights, Specialist]                                          4\n",
       "[Deputy, Chief, of, Workforce, Development]                                     4\n",
       "[Machinist's, Helper]                                                           4\n",
       "[AGENCY, ATTORNEY, INTERNE]                                                     4\n",
       "[E-Learning, Content, Developer, (Per, Diem)]                                   4\n",
       "[Deputy, Chief, of, Recreation]                                                 4\n",
       "[Civil, Litigation, General, Litigation, Agency, Attorney, Level, III]          4\n",
       "[Electrical, Engineer, 1]                                                       4\n",
       "[CERTIFIED, IT, DEVELOPER, (APPLICATIONS)]                                      4\n",
       "[Human, Resources, Generalist]                                                  3\n",
       "Name: Business Title, dtype: int64"
      ]
     },
     "metadata": {},
     "execution_count": 173
    }
   ],
   "source": [
    "df['Business Title'].value_counts().head(150)"
   ]
  },
  {
   "cell_type": "code",
   "execution_count": 128,
   "metadata": {},
   "outputs": [],
   "source": [
    "df['Business Title'] = df['Business Title'].apply(lambda x: x.split(' '))"
   ]
  },
  {
   "cell_type": "code",
   "execution_count": 176,
   "metadata": {},
   "outputs": [],
   "source": [
    "def remove(string):\n",
    "    return string.replace(\" \", \"\")\n",
    "def find_bustitle(list_):\n",
    "    for i in list_:\n",
    "        j = remove(i.lower())\n",
    "        if(j == 'engineer'):\n",
    "            k = 'engineer'\n",
    "        elif(j == 'manager'):\n",
    "            k = 'manager'   \n",
    "        elif(j == 'aide'): \n",
    "            k = 'assistant'\n",
    "        elif(j == 'investigator'):  \n",
    "            k = 'investigator'\n",
    "        elif(j == 'maintainer'):\n",
    "            k = 'maintainer'  \n",
    "        elif(j == 'attorney'):\n",
    "            k = 'attorney'   \n",
    "        elif(j == 'specialist'):\n",
    "            k = 'specialist'  \n",
    "        elif(j == 'analyst'):\n",
    "            k = 'analyst'  \n",
    "        elif(j == 'director'):\n",
    "            k = 'director'  \n",
    "        elif(j == 'assistant'):\n",
    "            k = 'assistant'\n",
    "        elif(j == 'scientist'): \n",
    "            k = 'scientist'\n",
    "        elif(j == 'coordinator'): \n",
    "            k = 'coordinator'\n",
    "        elif(j == 'technician'): \n",
    "            k = 'technician'\n",
    "        elif(j == 'representative'): \n",
    "            k = 'representative'\n",
    "        elif(j == 'support'): \n",
    "            k = 'support'\n",
    "        elif(j == 'inspector'): \n",
    "            k = 'inspector' \n",
    "        elif(j == 'developer'): \n",
    "            k = 'developer'\n",
    "        elif(j == 'supervisor'):\n",
    "            k = 'supervisor'\n",
    "        elif(j == 'secretary'):\n",
    "            k = 'secretary'\n",
    "        elif(j == 'advisor'):\n",
    "            k = 'advisor'\n",
    "        elif(j == 'executive'):\n",
    "            k = 'executive'\n",
    "        elif(j == 'intern'):\n",
    "            k = 'intern'\n",
    "        elif(j == 'associate'):\n",
    "            k = 'associate'\n",
    "        elif(j == 'deputy'):\n",
    "            k = 'deputy'\n",
    "        else: \n",
    "            k = 'others'                   \n",
    "             \n",
    "    return k"
   ]
  },
  {
   "cell_type": "code",
   "execution_count": 177,
   "metadata": {},
   "outputs": [],
   "source": [
    "df['bustitle'] = df['Business Title'].apply(find_bustitle)"
   ]
  },
  {
   "cell_type": "code",
   "execution_count": 179,
   "metadata": {},
   "outputs": [
    {
     "output_type": "execute_result",
     "data": {
      "text/plain": [
       "others            1614\n",
       "manager            271\n",
       "analyst            191\n",
       "engineer           135\n",
       "specialist         107\n",
       "assistant           86\n",
       "coordinator         79\n",
       "director            61\n",
       "investigator        58\n",
       "attorney            51\n",
       "developer           42\n",
       "associate           38\n",
       "intern              36\n",
       "supervisor          34\n",
       "inspector           30\n",
       "maintainer          27\n",
       "advisor             19\n",
       "technician          16\n",
       "representative      14\n",
       "scientist           11\n",
       "executive           10\n",
       "support             10\n",
       "secretary            6\n",
       "Name: bustitle, dtype: int64"
      ]
     },
     "metadata": {},
     "execution_count": 179
    }
   ],
   "source": [
    "df.bustitle.value_counts()"
   ]
  },
  {
   "cell_type": "code",
   "execution_count": 180,
   "metadata": {},
   "outputs": [],
   "source": [
    "df['Civil Service Title'] = df['Civil Service Title'].apply(lambda x: x.split(' '))"
   ]
  },
  {
   "cell_type": "code",
   "execution_count": 181,
   "metadata": {},
   "outputs": [
    {
     "output_type": "execute_result",
     "data": {
      "text/plain": [
       "[COMMUNITY, COORDINATOR]                 182\n",
       "[AGENCY, ATTORNEY]                       112\n",
       "[CIVIL, ENGINEER]                         87\n",
       "[CITY, RESEARCH, SCIENTIST]               83\n",
       "[CONSTRUCTION, PROJECT, MANAGER]          72\n",
       "[CLERICAL, ASSOCIATE]                     72\n",
       "[COMMUNITY, ASSOCIATE]                    69\n",
       "[ADMINISTRATIVE, PROJECT, MANAGER]        58\n",
       "[COMPUTER, SYSTEMS, MANAGER]              57\n",
       "[ADMINISTRATIVE, STAFF, ANALYST, (]       53\n",
       "[PRINCIPAL, ADMINISTRATIVE, ASSOC]        53\n",
       "[COLLEGE, AIDE, (ALL, CITY, DEPTS)]       52\n",
       "[BUDGET, ANALYST, (OMB)]                  52\n",
       "[ADMINISTRATIVE, ENGINEER]                50\n",
       "[ADMINISTRATIVE, BUSINESS, PROMOT]        48\n",
       "[ASSISTANT, CIVIL, ENGINEER]              45\n",
       "[ASSOCIATE, PROJECT, MANAGER]             44\n",
       "[CONFIDENTIAL, INVESTIGATOR]              41\n",
       "[EXECUTIVE, AGENCY, COUNSEL]              41\n",
       "[COMPUTER, SPECIALIST, (SOFTWARE)]        39\n",
       "[STAFF, ANALYST]                          37\n",
       "[ASSOCIATE, STAFF, ANALYST]               35\n",
       "[ADMINISTRATIVE, CONSTRUCTION, PR]        34\n",
       "[PROJECT, MANAGER]                        33\n",
       "[ASSISTANT, CORPORATION, COUNSEL]         33\n",
       "[PROCUREMENT, ANALYST]                    32\n",
       "[AGENCY, ATTORNEY, INTERNE]               28\n",
       "[WATERSHED, MAINTAINER]                   27\n",
       "[RESEARCH, PROJECTS, COOR(MA)-MGR]        24\n",
       "[CERTIFIED, IT, ADMINISTRATOR, (LA]       24\n",
       "[IT, SECURITY, SPECIALIST]                23\n",
       "[ASSOCIATE, PUBLIC, HEALTH, SANITA]       23\n",
       "[COMPUTER, ASSOC, (SOFTWARE)]             22\n",
       "[ECONOMIST]                               22\n",
       "[CERT, IT, DEVELOPER, (APP)]              22\n",
       "[COMMUNITY, ASSISTANT]                    20\n",
       "[IT, PROJECT, SPECIALIST]                 18\n",
       "[ADM, ENGINEER, (NON, MGRL)]              18\n",
       "[MECHANICAL, ENGINEER]                    18\n",
       "[ENGINEERING, TECHNICIAN]                 18\n",
       "[ADM, MANAGER-NON-MGRL, FRM, M1/M2]       17\n",
       "[COMPUTER, ASSOC, (OPERATIONS)]           17\n",
       "[ADMINISTRATIVE, PROCUREMENT, ANA]        16\n",
       "[ASSOCIATE, HOUSING, DEVELOPMENT]         16\n",
       "[ELECTRICIAN]                             15\n",
       "[CONTRACT, SPECIALIST]                    14\n",
       "[ASSISTANT, ENVIRONMENTAL, ENGINE]        13\n",
       "[STATIONARY, ENGINEER, (ELECTRIC)]        13\n",
       "[COMPUTER, OPERATIONS, MANAGER, (S]       13\n",
       "[HOUSING, DEVELOPMENT, SPECIALIST]        12\n",
       "[IT, SERVICE, MANAGEMENT, SPECIALI]       12\n",
       "[ADM, CONSTRUCTION, PRJ, MGR-NM]          12\n",
       "[CITY, PLANNER]                           12\n",
       "[CIVIL, ENGINEERING, INTERN]              12\n",
       "[CHILD, AND, FAMILY, SPECIALIST]          12\n",
       "[ADMINISTRATIIVE, TAXI, &, LIMOUSI]       10\n",
       "[TELECOMMUNICATIONS, ASSOCIATE, (]        10\n",
       "[GEOLOGIST]                               10\n",
       "[MANAGEMENT, AUDITOR]                     10\n",
       "[INDUSTRIAL, HYGIENIST]                   10\n",
       "[ELECTRICAL, ENGINEER]                    10\n",
       "[CYBER, SECURITY, ANALYST]                10\n",
       "[PROJECT, MANAGER, INTERN#]               10\n",
       "[COMPUTER, PROGRAMMER, ANALYST]            9\n",
       "[CLAIM, SPECIALIST]                        9\n",
       "[COMMUNITY, SERVICE, AIDE]                 9\n",
       "[HIGHWAY, TRANSPORTATION, SPECIAL]         9\n",
       "[PUBLIC, HEALTH, SANITARIAN]               8\n",
       "[ASSISTANT, DISTRICT, ATTORNEY, (S]        8\n",
       "[PUBLIC, HEALTH, NURSE, (SCHOOL, HE]       8\n",
       "[ADMINISTRATIVE, INSPECTOR, (HOUS]         8\n",
       "[TELECOMMUNICATION, MANAGER]               8\n",
       "[ARCHITECT]                                8\n",
       "[INVESTMENT, ANALYST]                      8\n",
       "[MACHINIST'S, HELPER]                      8\n",
       "[SPEC, CONSULTANT, (MHSS), (AL, 2)]        8\n",
       "[MACHINIST]                                8\n",
       "[ASSISTANT, LANDSCAPE, ARCHITECT]          8\n",
       "[IT, INFRASTRUCTURE, ENGINEER]             8\n",
       "[SENIOR, IT, ARCHITECT]                    8\n",
       "[CRIMINALIST]                              7\n",
       "[ASSISTANT, MECHANICAL, ENGINEER]          7\n",
       "[ASSISTANT, ARCHITECT]                     7\n",
       "[ADMINISTRATIVE, CONTRACT, SPECIA]         7\n",
       "[POLICE, ADMINISTRATIVE, AIDE]             7\n",
       "[PARALEGAL, AIDE]                          7\n",
       "[ASSOCIATE, CHEMIST]                       7\n",
       "[PUBLIC, HEALTH, NURSE]                    7\n",
       "[DIRECTOR, OF, FIELD, OPERATIONS, (]       7\n",
       "[ACCOUNTANT]                               7\n",
       "[FORENSIC, MORTUARY, TECHNICIAN]           7\n",
       "[LANDSCAPE, ARCHITECT]                     7\n",
       "[ADMINISTRATIVE, PUBLIC, INFORMAT]         7\n",
       "[ASSOCIATE, WATER, USE, INSPECTOR]         6\n",
       "[CITY, MEDICAL, SPECIALIST, (PART-]        6\n",
       "[CITY, PARK, WORKER]                       6\n",
       "[COLLEGE, AIDE, -, ASSIGNMENT, LEVE]       6\n",
       "[INVESTIGATOR, (CCRB)]                     6\n",
       "[LABOR, RELATIONS, ANALYST]                6\n",
       "[ADMINISTRATIVE, SUPERVISOR, OF, B]        6\n",
       "[SPECIAL, CONSULTANT, (MENTAL, HEA]        6\n",
       "[ADM, CITY, PLANNER, (NON, MGRL)]          6\n",
       "[ADMINISTRATIVE, , PROGRAM, OFFICE]        6\n",
       "[PUBLIC, HEALTH, ADVISER]                  6\n",
       "[ADMIN, COMMUNITY, RELATIONS, SPEC]        6\n",
       "[ASSOCIATE, HUMAN, RIGHTS, SPECIAL]        6\n",
       "[MAINTENANCE, WORKER]                      6\n",
       "[GARDENER]                                 6\n",
       "[ASSISTANT, ELECTRICAL, ENGINEER]          6\n",
       "[ADMINISTRATIVE, REAL, PROPERTY, M]        6\n",
       "[INVESTIGATOR]                             6\n",
       "[MECHANICAL, ENGINEERING, INTERN]          6\n",
       "[SENIOR, POLICE, ADMINISTRATIVE, A]        5\n",
       "[EXTERMINATOR]                             5\n",
       "[ASSOCIATE, FIRE, PROTECTION, INSP]        5\n",
       "[STATIONARY, ENGINEER]                     5\n",
       "[LEGAL, SECRETARIAL, ASSISTANT, AL]        5\n",
       "[COMPUTER, ASSOC, (TECH, SUPP)]            5\n",
       "[FORESTER]                                 5\n",
       "[ASSOCIATE, CONTRACT, SPECIALIST]          5\n",
       "[CITY, SEASONAL, AIDE]                     5\n",
       "[CARETAKER, (HA)]                          5\n",
       "[GRAPHIC, ARTIST]                          4\n",
       "[SUPERVISOR, OF, MECHANICAL, INSTA]        4\n",
       "[CUSTODIAN]                                4\n",
       "[DEPUTY, INSPECTOR, GENERAL]               4\n",
       "[ELECTRICAL, ENGINEERING, INTERN]          4\n",
       "[OPERATIONS, COMMUNICATION, SPECI]         4\n",
       "[TRAFFIC, DEVICE, MAINTAINER]              4\n",
       "[ASSOCIATE, RETIREMENT, BENEFITS]          4\n",
       "[QUALITY, ASSURANCE, SPECIALIST]           4\n",
       "[SENIOR, ESTIMATOR, (GENERAL, CONS]        4\n",
       "[ENVIRONMENTAL, ENGINEER]                  4\n",
       "[CERTIFIED, IT, ADMINISTRATOR, LAN]        4\n",
       "[WATER, USE, INSPECTOR]                    4\n",
       "[YOUTH, COORDINATOR, (YOUTH, SERVI]        4\n",
       "[MOTOR, VEHICLE, OPERATOR]                 4\n",
       "[PLASTERER]                                4\n",
       "[STUDENT, LEGAL, SPECIALIST]               4\n",
       "[PROTECTION, AGENT, (ACS)]                 4\n",
       "[TAXI, AND, LIMOUSINE, INSPECTOR]          4\n",
       "[CITY, ATTENDANT]                          4\n",
       "[METAL, WORK, MECHANIC]                    4\n",
       "[DEPUTY, COMMISSIONER]                     4\n",
       "[ADMINISTRATIVE, ARCHITECT]                4\n",
       "[CHAPLAIN]                                 4\n",
       "[CHILD, WELFARE, SPECIALIST, SUPER]        4\n",
       "[INSTRUMENTATION, SPECIALIST]              4\n",
       "[INVESTMENT, MANAGER, (COMPTROLLE]         4\n",
       "[CERT., IT, ADMINISTRATOR, WAN]            4\n",
       "[ADMINISTRATIVE, CLAIM, EXAMINER]          4\n",
       "[RESEARCH, PROJECTS, COORDINATOR]          4\n",
       "[CITY, LABORER]                            4\n",
       "[ADMINISTRATIVE, HORTICULTURIST]           4\n",
       "[BUDGET, ANALYST, (OMB)-MANAGERIA]         4\n",
       "[ADMINISTRATIVE, ACCOUNTANT, (NON]         4\n",
       "[ADMINISTRATIVE, ACCOUNTANT]               4\n",
       "[DEPUTY, COMMISSIONER, (DEP)]              4\n",
       "[BRIDGE, OPERATOR]                         3\n",
       "[SUPERVISOR, (WATERSHED, MAINTENA]         3\n",
       "[STOCK, WORKER]                            3\n",
       "[INSPECTOR, (BOILERS)]                     3\n",
       "[CONTRACT, REVIEWER, (OFFICE, OF, L]       3\n",
       "[STRATEGIC, INITIATIVE, SPECIALIS]         3\n",
       "[INSPECTOR, (ELEVATORS)]                   3\n",
       "[ASBESTOS, HAZARD, INVESTIGATOR]           3\n",
       "[CITY, CUSTODIAL, ASSISTANT]               3\n",
       "[PROGRAM, EVALUATOR, (ACS)]                3\n",
       "[ADMINISTRATIVE, MANAGEMENT, AUDI]         3\n",
       "[SUPERVISING, DOCKMASTER]                  3\n",
       "[CLIMBER, &, PRUNER]                       3\n",
       "[CITY, TAX, AUDITOR]                       3\n",
       "[ADMIN, CONTRACT, SPECIALIST, (PYR]        3\n",
       "[COMPUTER, SPECIALIST, (OPERATION]         3\n",
       "[PRINICIPAL, HUMAN, RIGHTS, SPECIA]        2\n",
       "[BOOKKEEPER]                               2\n",
       "[DIRECTOR, OF, SECURITY, (HRA/DSS]         2\n",
       "[HUMAN, RIGHTS, SPECIALIST, (COMM]         2\n",
       "[PUBLIC, RECORDS, OFFICER]                 2\n",
       "[DOCKBUILDER]                              2\n",
       "[FAMILY, PUB, HEALTH, NURSE, (HMH)]        2\n",
       "[ADMINISTRATIVE, TAX, AUDITOR]             2\n",
       "[DIRECTOR, OF, CONTRACT, ADMINISTR]        2\n",
       "[ADMINISTRATIVE, PROJECT, DIRECTO]         2\n",
       "[COOK]                                     2\n",
       "[MEDICOLEGAL, ANALYST, (LAW, DEPT)]        2\n",
       "[DECKHAND]                                 2\n",
       "[SENIOR, ESTIMATOR, (ELECTRICAL)]          2\n",
       "[CRIME, ANALYST]                           2\n",
       "[TRAFFIC, CONTROL, INSPECTOR]              2\n",
       "[PAINTER]                                  2\n",
       "[CONFIDENTIAL, ASST, OFFICE]               2\n",
       "[ADMINISTRATIVE, PARKS, &, RECREA]         2\n",
       "[LANDMARKS, PRESERVATIONIST]               2\n",
       "[CORRECTIONAL, STANDARDS, REVIEW]          2\n",
       "[OIL, BURNER, SPECIALIST]                  2\n",
       "[AUTO, MECHANIC]                           2\n",
       "[ADMINISTRATIVE, PUBLIC, HEALTH, N]        2\n",
       "[EXEC, ASST, TO, THE, COMMISSIONER]        2\n",
       "[ASSOCIATE, PUBLIC, RECORDS, OFFIC]        2\n",
       "[SUPERVISOR, III, SOCIAL, WORK]            2\n",
       "[ADMINISTRATIVE, LANDMARKS, PRESE]         2\n",
       "[ASSOCIATE, INSPECTOR, (HIGHWAYS]          2\n",
       "[IT, AUTOMATION, AND, MONITORING, E]       2\n",
       "[MARINE, OILER(FERRY, OPERATIONS)]         2\n",
       "[HEALTH, SERVICES, MANAGER, NON, MA]       2\n",
       "[HIGH, PRESSURE, PLANT, TENDER]            2\n",
       "[CITY, ASSESSOR, (I,II,IIIA,IIIB)]         2\n",
       "[HOUSING, ASSISTANT, (HA)]                 2\n",
       "[ADMINISTRATIVE, PSYCHOLOGIST]             2\n",
       "[COMPUTER, AIDE]                           2\n",
       "[Asst, Comm-Prgm, Dev, Revw-HMH]           2\n",
       "[PROBATION, OFFICER, TRAINEE]              2\n",
       "[SUPERVISOR, OF, STOCK, WORKERS]           2\n",
       "[INVESTIGATOR(DISCP)(ONLY, FOR, P]         2\n",
       "[SCIENTIST, (WATER, ECOLOGY)]              2\n",
       "[STAFF, ANALYST, TRAINEE]                  2\n",
       "[ASSOCIATE, URBAN, DESIGNER]               2\n",
       "[EMERGENCY, PREPAREDNESS, MANAGER]         2\n",
       "[INSPECTOR, (MULTI-DISCIPLINE)]            2\n",
       "[SUPERVISOR, OF, ELEVATOR, MAINTEN]        2\n",
       "[SEWAGE, TREATMENT, WORKER]                2\n",
       "[NURSE, PRACTITIONER(DEPT, HEALTH]         2\n",
       "[ADMIN, ARCHITECT, (NON, MGRL), M-1]       2\n",
       "[ADMINISTRATIVE, COMMUNITY, RELAT]         2\n",
       "[CONSTRUCTION, LABORER]                    2\n",
       "[ELECTRICIAN, (AUTOMOBILE)]                2\n",
       "[DIRECTOR, OF, TECHNICAL, SERVICES]        2\n",
       "[BLACKSMITH'S, HELPER]                     2\n",
       "[CRIMINALIST, ASSISTANT, DIRECTOR]         2\n",
       "[DIRECTOR, OF, CONSUMER, INFORMATI]        2\n",
       "[ASSISTANT, COMMISSIONER, (EQUAL]          2\n",
       "[QUALITY, ASSURANCE, SPECIALIST, (]        2\n",
       "[ADMINISTRATIVE, INSPECTOR, (BUIL]         2\n",
       "[SUPERVISING, SPECIAL, OFFICER]            2\n",
       "[DEPUTY, COMMISSIONER, (HEALTH)]           2\n",
       "[CUSTOMER, INFORMATION, REP]               2\n",
       "[PLUMBER'S, HELPER]                        2\n",
       "[CITY, MEDICAL, SPECIALIST]                2\n",
       "[RESEARCH, AND, LIAISON, SPECIALIS]        2\n",
       "[ASSISTANT, RESIDENT, BUILDING, SU]        2\n",
       "[ADMINISTRATIVE, TRANSPORTATION]           2\n",
       "[ENVIRONMENTAL, ENGINEERING, INTE]         2\n",
       "[CONFIDENTIAL, STRATEGY, PLANNER]          2\n",
       "[ASSISTANT, URBAN, DESIGNER]               2\n",
       "[SENIOR, STATIONARY, ENGINEER]             2\n",
       "[ASSISTANT, COMMISSIONER, (ALTERN]         2\n",
       "[ASSISTANT, COMMISSIONER, (DEP)]           2\n",
       "[MARINER]                                  2\n",
       "[ADMINISTRATIVE, DIRECTOR, OF, RES]        2\n",
       "[PEST, CONTROL, AIDE]                      2\n",
       "[CARPENTER]                                2\n",
       "[SENIOR, GENERAL, DEPUTY, MANAGER]         2\n",
       "[RADIO, REPAIR, MECHANIC]                  2\n",
       "[JUNIOR, PUBLIC, HEALTH, NURSE]            2\n",
       "[DIRECTOR, OF, PROPERTY, MANAGEMEN]        2\n",
       "[POISON, INFORMATION, SPECIALIST(]         2\n",
       "[COUNSELOR, (ADDICTION, TREATMENT]         2\n",
       "[SUPERVISING, PUBLIC, HEALTH, ADVI]        2\n",
       "[ASSISTANT, COMMISSIONER, (DOC)]           2\n",
       "[ASSISTANT, EXECUTIVE, DIRECTOR, (]        2\n",
       "[ADMINISTRATIVE, DIRECTOR, OF, SOC]        2\n",
       "[SUMMER, COLLEGE, INTERN]                  2\n",
       "[TELECOMMUNICATIONS, MANAGER, (NO]         2\n",
       "[CASE, -, MANAGEMENT, NURSE, (FIRE]        2\n",
       "[EXECUTIVE, PROGRAM, SPECIALIST, (]        2\n",
       "[ADMINISTRATIVE, CITY, PLANNER]            2\n",
       "[SENIOR, CONSULTANT, (PUBLIC, HEAL]        2\n",
       "[SUPERINTENDENT, OF, WATER, AND, SE]       2\n",
       "[CHILD, WELFARE, SPECIALIST]               2\n",
       "[PORT, MARINE, ENGINEER, (DEP)]            2\n",
       "[MEDIA, SERVICES, TECHNICIAN]              2\n",
       "[SPECIAL, ASSISTANT, TO, THE, DEPUT]       2\n",
       "[SPECIAL, ASSISTANT, (DESIGN, AND]         2\n",
       "[THERMOSTAT, REPAIRER]                     2\n",
       "[PRINCIPAL, NUTRITION, CONSULTANT]         2\n",
       "[CONSULTANT, (EARLY, CHILDHOOD, ED]        2\n",
       "[CONFIDENTIAL, EXAMINER]                   2\n",
       "[PROJECT, MANAGER, (DBS)]                  2\n",
       "[LOCKSMITH]                                2\n",
       "[CERT, IT, ADMINISTRATOR, (DB)]            2\n",
       "[CONSTRUCTION, PROJECT, MANAGER, I]        2\n",
       "[LEAD, ABATEMENT, WORKER]                  2\n",
       "[COUNSEL, TO, THE, BOROUGH, PRESIDE]       2\n",
       "[ASSOCIATE, QUALITY, ASSURANCE, SP]        2\n",
       "[SUPERVISOR, II, SOCIAL, WORK]             2\n",
       "[ASSISTANT, COMMISSIONER, (ENERGY]         2\n",
       "[SENIOR, MENTAL, HEALTH, WORKER]           2\n",
       "[CIVILIANIZATION, MANAGER-PD]              1\n",
       "[PLUMBER]                                  1\n",
       "[ADMINISTRATIVE, MANAGER]                  1\n",
       "[CONGREG, CARE, SPEC-ACS(35, HR, WK]       1\n",
       "[SHEET, METAL, WORKER]                     1\n",
       "[COMPUTER, SERVICE, TECHNICIAN, (C]        1\n",
       "[ASSOCIATE, FRAUD, INVESTIGATOR, (]        1\n",
       "[ASSOC, SUPVR, OF, SCHL, SEC, (MGRL)]      1\n",
       "[ASSOCIATE, CALL, CENTER, REPRESEN]        1\n",
       "[CHILD, PROTECTIVE, SPECIALIST, (C]        1\n",
       "[DEPUTY, CHIEF, OF, OPERATIONS, (PA]       1\n",
       "[RESEARCH, ASSISTANT]                      1\n",
       "[MEMBER, OF, THE, ENVIRONMENTAL, CO]       1\n",
       "[WORKER'S, COMPENSATION, BENEFITS]         1\n",
       "[ADM, HOUSING, DEV, SPEC(NON, MGRL)]       1\n",
       "[STATISTICIAN]                             1\n",
       "[INVESTIGATOR, TRAINEE, (PYRL, NOT]        1\n",
       "[INSPECTOR, (CONSTRUCTION)]                1\n",
       "[SENIOR, STATIONARY, ENGINEER, (EL]        1\n",
       "[ASSOCIATE, INSPECTOR, (HOUSING)]          1\n",
       "[ADMINISTRATIVE, FIRE, PROTECTION]         1\n",
       "[MARINE, ENGINEER, (WITH, LICENSE)]        1\n",
       "[SUPERVISING, COMPUTER, SERVICE, T]        1\n",
       "[CASEWORKER]                               1\n",
       "Name: Civil Service Title, dtype: int64"
      ]
     },
     "metadata": {},
     "execution_count": 181
    }
   ],
   "source": [
    "df['Civil Service Title'].value_counts()"
   ]
  },
  {
   "cell_type": "code",
   "execution_count": 182,
   "metadata": {},
   "outputs": [],
   "source": [
    "df['cstitle'] = df['Civil Service Title'].apply(find_bustitle)"
   ]
  },
  {
   "cell_type": "code",
   "execution_count": 183,
   "metadata": {},
   "outputs": [
    {
     "output_type": "execute_result",
     "data": {
      "text/plain": [
       "others          1449\n",
       "manager          277\n",
       "engineer         242\n",
       "coordinator      186\n",
       "associate        141\n",
       "analyst          139\n",
       "attorney         112\n",
       "specialist       111\n",
       "scientist         83\n",
       "assistant         56\n",
       "investigator      50\n",
       "maintainer        31\n",
       "technician        27\n",
       "intern            24\n",
       "inspector         16\n",
       "director           2\n",
       "Name: cstitle, dtype: int64"
      ]
     },
     "metadata": {},
     "execution_count": 183
    }
   ],
   "source": [
    "df['cstitle'].value_counts()"
   ]
  },
  {
   "cell_type": "code",
   "execution_count": 184,
   "metadata": {},
   "outputs": [
    {
     "output_type": "execute_result",
     "data": {
      "text/plain": [
       " & Inclusion     6\n",
       "ACCO Office                        6\n",
       "Center Based Programs              6\n",
       "Trf Control & Eng Admin            6\n",
       "Information Systems                6\n",
       "Trial Division Central Suppo       6\n",
       "Capital and MGMT Systems           6\n",
       "Manhattan Office                   6\n",
       "Chief Diversity and Indust Rel     6\n",
       "Structural Engineering - IFA       6\n",
       "SH Reproductive Health             6\n",
       "Const. Safety & Quality Dept       6\n",
       "Alcohol, Drug Prev & Treatment     6\n",
       "Watshed Plan Protec/Ashokan        6\n",
       "Food Safety & Community Sanit      6\n",
       "Infra-Executive                    6\n",
       "General Counsel                    6\n",
       "Procurement                        6\n",
       "Enforcement Admin                  6\n",
       "Pub Bldgs/Various                  6\n",
       "Labor & Employment Law Div F       5\n",
       "Human Capital                      5\n",
       "Tort: Bronx                        5\n",
       "Quality Improvement (Qa)           5\n",
       "Brooklyn Property Management       5\n",
       "CENTRAL POP                        5\n",
       "Air Resource/Asbestos              5\n",
       "Develop & Integration Services     5\n",
       "Appeals                            5\n",
       "Family Court: Bronx                5\n",
       "Executive Office (Finance)         5\n",
       "World Trde Centr Hlth Registry     4\n",
       "OPS/HRP Technical Services         4\n",
       "Citywide User Support              4\n",
       "Off Of Supp Accountability-NM      4\n",
       "Office Of Design                   4\n",
       "VP PHO-BK, MF, QN/SI, P&PD         4\n",
       "Counsel                            4\n",
       "VP for CP QA & Admin               4\n",
       "Commissioners Office               4\n",
       "App. Dev. & DB Administration      4\n",
       "Construction Services              4\n",
       "EDP Audit -  Inspections           4\n",
       "Program Management Office          4\n",
       "Concrete Quality Control           4\n",
       "Eng, Design Const Supp             4\n",
       "Drainage Basin Monitoring          4\n",
       "Infra-Program Admin-Executive      4\n",
       "General Counsels Office            4\n",
       "Bureau of Tech Deve and Syst       4\n",
       "EVP for Compliance                 4\n",
       "Project Mgmt Dept Team 1           4\n",
       "SH Administration                  4\n",
       "Chaplaincy - Civilian              4\n",
       "Business Programs                  4\n",
       "Personnel                          4\n",
       "Community Development              4\n",
       "Motor Vehicle Inspectors           4\n",
       "TB Clinic Operations               4\n",
       "Headstart (ECE)                    4\n",
       "Admin, GC, PI & Exec               4\n",
       "STI Medical Services               4\n",
       "EEO                                4\n",
       "Motor Equipment Office             4\n",
       "Analysis & Reporting Dept          4\n",
       "Facilities (Admin)                 4\n",
       "Squad 2                            4\n",
       "FCH Administration                 4\n",
       "Equal Employment Practices C       4\n",
       "Path/Intake                        4\n",
       "Criminal Court                     4\n",
       "ITS                                4\n",
       "Analytics                          4\n",
       "Forestry & Horticulture            4\n",
       "Civ Serv & Prov Employees          4\n",
       "Training/Learning Center           4\n",
       "Budget                             4\n",
       "Manhattan Property Management      4\n",
       "Ferry Engineering                  4\n",
       "Fiscal Services                    4\n",
       "311 Operations                     4\n",
       "Prog Mgmt/Sss-Executive            4\n",
       "Budget Administration              4\n",
       "OPS/Business Support               4\n",
       "Administration/Executive           4\n",
       "Infra-Const-Various                4\n",
       "Disposition Programs               4\n",
       "SB1 Regulatory Reform              4\n",
       "Energy Group                       4\n",
       "HR-EEO Office                      4\n",
       "RMB Quality Assur. Div/Civ         4\n",
       "Preventive Maintenance             4\n",
       "Investigation Division             4\n",
       "Neighborhood Development           4\n",
       "Office of EVP - Operations         4\n",
       "Central Recreation                 4\n",
       "OGI- IFA                           4\n",
       "Water Supply/Test Operatns W       4\n",
       "Water Supply/Administration        4\n",
       "BEPA/MS4-Muni Sepa Strm Sew Sy     4\n",
       "Infra, Librar. And Cultural        4\n",
       "Board Staff                        4\n",
       "Wib                                4\n",
       "Richmond Chlortn Cty Oprtn Re      4\n",
       "Public Affairs                     4\n",
       "Banhaz Mat                         4\n",
       "Pest Control Services              4\n",
       "Public Safety IT Services          4\n",
       "Process Development                4\n",
       "Executive Support Staff            4\n",
       "OPS/SS Technical Services          4\n",
       "Croton Filtration Plant            4\n",
       "SH Medical                         4\n",
       "Administration of Justice          4\n",
       "Marine Section                     4\n",
       "Child Care                         4\n",
       "Administration/Lefrak              4\n",
       "Spec Advisor For Invstgtion-Cr     4\n",
       "Financial Planning & Analysis      4\n",
       "HCV Unit                           4\n",
       "MVEP/Gen'l Counsel                 4\n",
       "Office of The Commissioner         4\n",
       "AEP                                4\n",
       "Waterfront Permits                 4\n",
       "Special Applications               3\n",
       "SRM: Elig/Rpt/Sys Spprt-P&P        3\n",
       "Administration/P S Budget          3\n",
       "Sewer Maintenance - Q4             3\n",
       "Administration/Audits Account      3\n",
       "Elevator Services &Repair Dept     3\n",
       "Arsenal North Peps                 3\n",
       "Asst Comm Payments (Finance)       3\n",
       "Off Of Qual Asse-Fisc Int NM       3\n",
       "Medical                            3\n",
       "Horizon Juvenile Center            3\n",
       "Hw Ops-Quality Control             3\n",
       "Natural Resources Group            3\n",
       "Family Court Legal Svcs-Fcls       3\n",
       "Neighborhood Advisory Board        3\n",
       "Budget Division                    3\n",
       "General Services                   3\n",
       "Materials Mgmt Dept                3\n",
       "Data Management Integration        3\n",
       "Org. Learn. & Dev.                 3\n",
       "Administration/Revenue Cla         3\n",
       "Tort: Brooklyn                     3\n",
       "BCIA/BWS                           3\n",
       "MN MARINA                          3\n",
       "Queens/SI Property Mgmt            3\n",
       "Mgmt Information System-MGR        3\n",
       "F&Ga Admin-St George               3\n",
       "RRM Fleet (Harper St)              3\n",
       "Admin Law and Regulatory Lit.      3\n",
       "STI Case Invstgn & Partner Srv     3\n",
       "Motor Maintenance                  3\n",
       "INFO TECHNOLOGY SRV DIV/CIV        3\n",
       "NMO                                2\n",
       "Automated Enforcement Unit         2\n",
       "Public/Private Partnerships        2\n",
       "Personnel MGMT and ADMIN           2\n",
       "Admin/Acco-Executive               2\n",
       "Administration/Personnel Srv       2\n",
       "Specialized Training Section       2\n",
       "RRM Fleet (Brooklyn)               2\n",
       "High-Rise                          2\n",
       "DYFJ Central                       2\n",
       "Fiscal                             2\n",
       "Department of Communications       2\n",
       "FAC MGMT/BS_PSAC II                2\n",
       "MODA-Mayor's Off Data Analytic     2\n",
       "Housing Policy                     2\n",
       "Admin/Budget                       2\n",
       "Admin/Payments                     2\n",
       "Exec. Office USB                   2\n",
       "Housing Supervision                2\n",
       "Pepacton/Downsville Sub Del        2\n",
       "ERP - Brooklyn                     2\n",
       "Mixed Finance Property MGMT        2\n",
       "Industry Partnerships              2\n",
       "VP PHO-BX, MN, NEXTGEN OPS1        2\n",
       "Dpty Comm Fmly Prmncy Svcs-Fps     2\n",
       "Labor Relations                    2\n",
       "REES                               2\n",
       "OPS/FS/Operations Support          2\n",
       "Procurement Unit                   2\n",
       "Agy Program Assistance (DPPM)      2\n",
       "Acco/Contracts                     2\n",
       "Conflicts of Interest Board        2\n",
       "Regulatory Compliance              2\n",
       "Financial Systems                  2\n",
       "Employee Resources SEC/CIV         2\n",
       "Engineering and Audit              2\n",
       "Union Services                     2\n",
       "Safety & Emissions Admin           2\n",
       "IFA                                2\n",
       "Capital Projects Admin             2\n",
       "Pub Bldgs/A&E-Eng-Elec             2\n",
       "Management Information Service     2\n",
       "Regional Planning                  2\n",
       "Prog Mgmt/Sss-Environ Planning     2\n",
       "WF1 Operations                     2\n",
       "BBM Material Management            2\n",
       "Water Supply/Design Div (WRD)      2\n",
       "Pub Bldgs/Libraries                2\n",
       "Off Prev Tech Assistance (FSS)     2\n",
       "Vulnerable Youth &At-riskYout      2\n",
       "Office Of Chld & Fmly Health       2\n",
       "Heavy Construction/Administrat     2\n",
       "Administrative Services.           2\n",
       "Nutritional Services               2\n",
       "WSO-Executive/Tech Mgmt Office     2\n",
       "F.M.R.D. Civilian                  2\n",
       "Contracts & Real Estate Divisi     2\n",
       "Contract Accounting                2\n",
       "Customized Assist Svc-NM           2\n",
       "Squad 6                            2\n",
       "Budget Administration-NM           2\n",
       "Queens Office                      2\n",
       "Tort: New York (Part-Time)         2\n",
       "Business Center Operations         2\n",
       "Citywide                           2\n",
       "Carmel                             2\n",
       "Department of Sanitation           2\n",
       "Facility Mgmt Div/Civ & Cad        2\n",
       "Office of Public Affairs           2\n",
       "EHRT - Central                     2\n",
       "Fair Fare Program - NM             2\n",
       "Hawthorne Lab                      2\n",
       "Admin/Acco-Prof Contracts          2\n",
       "INFO TECHNOLOGY BUREAU/CV          2\n",
       "24th Precinct Civilian/Cadet       2\n",
       "Engineering                        2\n",
       "Staten Island Office               2\n",
       "Part Time Employees                2\n",
       "Construction Safety WKFC Devt      2\n",
       "Planning                           2\n",
       "OPS Risk Management                2\n",
       "Dep Comm Pub Info/Civ and Cad      2\n",
       "Inclusionary Housing               2\n",
       "QA Compliance & Training Dept      2\n",
       "Office of Budge Review (MGRL)      2\n",
       "F&Ga-Dockbuilders                  2\n",
       "Brooklyn Boro.Comm.                2\n",
       "DEFO Labor Services                2\n",
       "Law                                2\n",
       "Technology                         2\n",
       "Executive-Housing Incentives       2\n",
       "Admin Agen. And Elec Offic         2\n",
       "Life-Safety Systems Div/Civ        2\n",
       "Water Sup/Man Ctl Yd City Op       2\n",
       "F&Ga Marine Oilers-St George       2\n",
       "WIOA Support                       2\n",
       "Office of the CFO                  2\n",
       "IBM Complex                        2\n",
       "Facilities                         2\n",
       "Squad 5                            2\n",
       "HPD Tech                           2\n",
       "F&Ga Deckhands-St George           2\n",
       "MH - Assisted out Treatment        2\n",
       "Capital Planning                   2\n",
       "Fleet Maintenance Division         2\n",
       "Wtr Sup/179 St Pump Sta Sys        2\n",
       "FAC MGMT/EXECUTIVE                 2\n",
       "NYC 15 Program                     2\n",
       "NYSERDA Grant                      2\n",
       "Fitness Review Unit (FRU)          2\n",
       "Early Intervention                 2\n",
       "Workforce Training                 2\n",
       "Admin/Oper & Facilities-Exec       2\n",
       "Sustainability Enforcement         2\n",
       "Customer Service                   2\n",
       "Procurement Services Division      2\n",
       "Douglaston Pump Station            2\n",
       "Bureau of Community Services       2\n",
       "Civilian Managers                  2\n",
       "Lead Monitor - Lefrak              2\n",
       "Heating Mgmt & Svcs Dept           2\n",
       "Audit & Internal Revenue Unit      2\n",
       "Chief Strategic Initiatives/CV     2\n",
       "Clerk's Office QN                  2\n",
       "CP Sustainability Programs         2\n",
       "Admin/Budget-Infra                 2\n",
       "WDD Quality Assurance              2\n",
       "Base/Business Services             2\n",
       "Cloud Services                     2\n",
       "BUSINESS TAX UNIT                  2\n",
       "DEP BT2                            2\n",
       "OIT / BWS                          2\n",
       "Landuse                            2\n",
       "Project Mgmt Dept Team 3           2\n",
       "ITD- CIO Office                    2\n",
       "S8 Appeals                         2\n",
       "Deputy Commissioner/Dev            2\n",
       "IT                                 2\n",
       "Bridge Repair/Flags                2\n",
       "Ben Neslin Lab                     2\n",
       "Regulatory Affairs Division        2\n",
       "Water Supply/Mgmt Support          2\n",
       "Fiscal Management                  2\n",
       "Resident Engagement Dept           2\n",
       "Social Services                    2\n",
       "Manhattan Community Board #8       2\n",
       "Real Est/Portfolio Plng & Mgmt     2\n",
       "General Counselâ€™s Office         2\n",
       "MHY Comm Eng Pol & Prac            2\n",
       "IT Strategy Project Management     2\n",
       "WSO-Excecutive Support Divisio     2\n",
       "Health Care Policy & Admin         2\n",
       "Executive Staff                    2\n",
       "Legal Support Unit                 2\n",
       "Chief Crime Ctrl Strategies/CV     2\n",
       "Office of the Inspect General      2\n",
       "Labor Policy And Standards         2\n",
       "WT- Reg Complnc & Admin/Persnl     2\n",
       "Pub Bldgs/Cultural                 2\n",
       "Special Victims                    2\n",
       "Bio-Watch Revenue Grant            2\n",
       "Strategic Resource Mgt-P&P         2\n",
       "STI Administration                 2\n",
       "Research Dev & Plan                2\n",
       "Real Property & Legal Counsel      2\n",
       "Office of Equity                   2\n",
       "First Deputy                       2\n",
       "OPS/FS/Technical Services          2\n",
       "Human Resources Department         2\n",
       "Financial Management &Analysis     2\n",
       "Pub Bldgs/A&E-Sust Des             2\n",
       "OIT/WT                             2\n",
       "East River & Movable               2\n",
       "FAC MGMT/BS_80 CENTRE              2\n",
       "Catskill Div Off (Source Div)      2\n",
       "Rondout Neversink Sec Del Up       2\n",
       "Internal Audit                     2\n",
       "Records and Archive Management     2\n",
       "Leased Housing Finance             2\n",
       "Audit Business Income Tax(BIT)     2\n",
       "Child and Family Well-Being        2\n",
       "Immunization Registry              2\n",
       "Mechanical Engineering - IFA       2\n",
       "External Affairs                   2\n",
       "Permit Control Section SI          2\n",
       "Landmarks                          2\n",
       "OPS/FS/Technical Systems           2\n",
       "Dept of Management & Planning      2\n",
       "Legal Administration               2\n",
       "Housing/Eco Develop                2\n",
       "Squad 10                           2\n",
       "OGI-BEDC                           2\n",
       "OFC of Financial Empowerment       2\n",
       "ERP - Manhattan                    2\n",
       "CEQR                               2\n",
       "Infra And Tech Arch                2\n",
       "FAC MGMT/BS_MAN MUNI BLDG          2\n",
       "Poison Control Center              2\n",
       "Policy                             2\n",
       "Office of the Chair                2\n",
       "Tax Policy                         2\n",
       "Water Supply Gen Storehouse #1     2\n",
       "Prog Mgmt/Eao-Manhattan            2\n",
       "Financial Operations               2\n",
       "MIRH Nurse Family Partnership      2\n",
       "FAC MGMT/MMO_FAMILY COURT          2\n",
       "Employee's Asst Program            2\n",
       "Environmental Assessment & R       2\n",
       "Electrical Unit                    2\n",
       "Del Div Office Delaware Upst       2\n",
       "HR Central                         2\n",
       "Budget Directors Office            2\n",
       "Housing & Economic Development     2\n",
       "WEC/Central Office CIS             2\n",
       "Landlord Tenant Division           2\n",
       "Placement Services - FPS           2\n",
       "Administration & Planning          2\n",
       "Admin/Hr-Train and Staff Devel     2\n",
       "Asset Mgmt/Construction Svcs       2\n",
       "Financial Management               2\n",
       "Catskill/Delaware UV Plant         2\n",
       "Environmental Planning Support     2\n",
       "ONS - Community Partnerships       2\n",
       "EVP - R E Dev/Special Proj         2\n",
       "Administration/Payroll Office      2\n",
       "Cornerstone Community Centers      2\n",
       "Reg Control                        2\n",
       "Office of Trials                   2\n",
       "BCS - Executive Office             2\n",
       "WT-Energy                          2\n",
       "Res/Financial Services             2\n",
       "Management Services Department     2\n",
       "Property Modeling & Research       2\n",
       "NYC DEPT OF VETERANS' SERVICES     2\n",
       "Nutrition                          2\n",
       "Forensic Invest Div/Civ & Cade     2\n",
       "WT-Indus Inspection&Permitting     2\n",
       "NYC Gov Lab & Studio               2\n",
       "OPS/Operations Support             2\n",
       "Adult Protective Services-NM       2\n",
       "Bridge Operations Headquarte       2\n",
       "Qns Boro Comm Off                  2\n",
       "Police Lab/Civilian                2\n",
       "Emergency Preparedness             2\n",
       "Legal Counsel                      2\n",
       "Integration/Professional Devel     2\n",
       "TransitBenefit                     2\n",
       "Tort: Bronx (Part-Time)            2\n",
       "DHS Adult Services                 2\n",
       "Zoning                             2\n",
       "Production Graphics                2\n",
       "Tenant Resources - Exec & IT       2\n",
       "Housing Litigation                 2\n",
       "Research and Reconciliation        2\n",
       "Field Operations Department        2\n",
       "Project Based Unit                 2\n",
       "Strategic Technology Div/Civ       2\n",
       "Family Court: Queens               2\n",
       "Interns/Hourly Employees           2\n",
       "Munic Finance (Full - Time)        2\n",
       "STI Clinic Ops & Patient Srvs      2\n",
       "Maint, Repair & Skilled Trades     2\n",
       "New Construction                   2\n",
       "Business Dev & Strategy            2\n",
       "Process Control                    2\n",
       "Water Supply/Mapping Division      2\n",
       "Bronx Zone A (DCP)                 1\n",
       "CHECW - HEALTH INSURANCE           1\n",
       "SYEP                               1\n",
       "ECB - Manhattan Office             1\n",
       "Timekeeping/BEDC                   1\n",
       "Affirm LIT                         1\n",
       "Tech Talent Pipeline               1\n",
       "Public Adminstrator-New York       1\n",
       "HIV Administration                 1\n",
       "Bronx Zone B (DCP)                 1\n",
       "Refunds                            1\n",
       "Water Register/Inspection QN       1\n",
       "EVP For Leased Housing             1\n",
       "Training Bureau/CIV                1\n",
       "10th Precinct - Civilian/Cadet     1\n",
       "Audit A/C Office                   1\n",
       "Management Support                 1\n",
       "Capital Program - IFA              1\n",
       "Office Of Youth Develpment-Fps     1\n",
       "Emergency Childern's Svcs(Dcp)     1\n",
       "Network/Voip Arch & Engineer       1\n",
       "Construction Safety/Boilers        1\n",
       "General Support Services-NM        1\n",
       "RRM Art (Admin)                    1\n",
       "School Safety Div/Civ & Cadet      1\n",
       "Compass/SONYC Support              1\n",
       "Elevator Inspection                1\n",
       "Conversions Unit                   1\n",
       "Office of the Commissioner         1\n",
       "VP-Leased HSG & Tenancy Admin      1\n",
       "Internal Audits & Discipline       1\n",
       "Bridge Operations                  1\n",
       "Brooklyn Field Office (Dcp)        1\n",
       "Technical Review                   1\n",
       "Community Development Operati      1\n",
       "OCME-Toxicology                    1\n",
       "Street Lighting Engineering        1\n",
       "DOF Cyber Security                 1\n",
       "MN CHIEF OF OPS                    1\n",
       "Brooklyn Zone A (DCP)              1\n",
       "EMS Bureau of Training             1\n",
       "Support Svcs Bureau Civ and Ca     1\n",
       "Executive - Org Development        1\n",
       "Agency Compliance                  1\n",
       "Borough Enforcement                1\n",
       "Litigation Svs and Record Mgmt     1\n",
       "Queens Zone A (DCP)                1\n",
       "Crim Justice Bureau/Civ and Ca     1\n",
       "Fiscal Affairs Div/Civ             1\n",
       "Concrete Enforcement               1\n",
       "MN BORO REC                        1\n",
       "Transit Bureau-D33/CIV and CAD     1\n",
       "STI Special Projects               1\n",
       "Revenue Mgmt/Development-NM        1\n",
       "Patrol Services Bureau Civ & C     1\n",
       "Off of Human Capital Mgmt NM       1\n",
       "IT Service Management              1\n",
       "Public Buildings                   1\n",
       "Residtl, Condo & Remissions        1\n",
       "Printing Section Civ & Cadet       1\n",
       "Budget Unit                        1\n",
       "OTPS                               1\n",
       "Special Adjudic/Appls/Cau/Obd      1\n",
       "Authorized Parking & Permit        1\n",
       "Budget, Accounting & Purchasng     1\n",
       "Universal Metering InspectionÂ     1\n",
       "Staffing Admin SEC/CIV             1\n",
       "Project Development - IFA          1\n",
       "Lead Insps - Manhattan/Bronx       1\n",
       "DCLM/Civ and Cadet                 1\n",
       "Audit-Unincorp Business Tax        1\n",
       "Ordered Deductions                 1\n",
       "Workers Comp                       1\n",
       "DWOC Labs-Lefrak                   1\n",
       "E - Discovery                      1\n",
       "Procurement Department             1\n",
       "Bureau of Bridges Exec Hdqtr       1\n",
       "Mayor's Office of Operations       1\n",
       "Marine Operations                  1\n",
       "OFFICE POLICE OPS - NM             1\n",
       "Building Maintenance/CIV and C     1\n",
       "Office Of Central SVCS (FPS)       1\n",
       "Constituent Services-NM            1\n",
       "Bronx Field Office (Dcp)           1\n",
       "Red Hook                           1\n",
       "Accountability Office              1\n",
       "Health Academy                     1\n",
       "Title IV-E                         1\n",
       "Tax Mapping Unit                   1\n",
       "Land Use Review                    1\n",
       "Traffic Deputy Commissioner        1\n",
       "Water Register/Inspect Bklyn       1\n",
       "Sys Oper South East Hudson U       1\n",
       "Brooklyn Business Center           1\n",
       "Audit Metro Personal IncomeTax     1\n",
       "Communicable Diseases              1\n",
       "Strategy & Analytics               1\n",
       "Health Support Services            1\n",
       "Hasa Hiv/Aids Svcs Admin-NM        1\n",
       "Infrastructure MGMT Admin          1\n",
       "C.E.D - B03,B04, B05, B06/Civ      1\n",
       "OCMC                               1\n",
       "Capital Planning Development       1\n",
       "Wireless Technologies              1\n",
       "MN BORO COMMISSIONER               1\n",
       "Compass SONYC                      1\n",
       "Deputy Comm Mgt & Budget Civ       1\n",
       "Tax Audit Enforcement              1\n",
       "DORMANT                            1\n",
       "Adm/Human Resources & Training     1\n",
       "Public Safety IT Programs          1\n",
       "Prop Clerk Div Bklyn/Civ and C     1\n",
       "Vital Statistics/Vital Recor       1\n",
       "IT Operations Admind               1\n",
       "Risk Mitigation Divison/Civ        1\n",
       "Citywide System Analysis           1\n",
       "A/C Prop Exemp Adm                 1\n",
       "Personnel Bureau/Civ & Cad         1\n",
       "Name: Division/Work Unit, dtype: int64"
      ]
     },
     "metadata": {},
     "execution_count": 184
    }
   ],
   "source": [
    "df['Division/Work Unit'].value_counts()"
   ]
  },
  {
   "cell_type": "code",
   "execution_count": 189,
   "metadata": {},
   "outputs": [
    {
     "output_type": "execute_result",
     "data": {
      "text/plain": [
       "20"
      ]
     },
     "metadata": {},
     "execution_count": 189
    }
   ],
   "source": [
    "df['Minimum Qual Requirements'].isnull().sum()"
   ]
  },
  {
   "cell_type": "code",
   "execution_count": 190,
   "metadata": {},
   "outputs": [
    {
     "output_type": "execute_result",
     "data": {
      "text/plain": [
       "1092"
      ]
     },
     "metadata": {},
     "execution_count": 190
    }
   ],
   "source": [
    "df['Additional Information'].isnull().sum()"
   ]
  },
  {
   "cell_type": "code",
   "execution_count": 191,
   "metadata": {},
   "outputs": [],
   "source": [
    "df.loc[~df['Additional Information'].isnull(), 'addinfo y/n'] = 1\n",
    "df.loc[df['Additional Information'].isnull(), 'addinfo y/n'] = 0"
   ]
  },
  {
   "cell_type": "code",
   "execution_count": 192,
   "metadata": {},
   "outputs": [
    {
     "output_type": "execute_result",
     "data": {
      "text/plain": [
       "1.0    1854\n",
       "0.0    1092\n",
       "Name: addinfo y/n, dtype: int64"
      ]
     },
     "metadata": {},
     "execution_count": 192
    }
   ],
   "source": [
    "df['addinfo y/n'].value_counts()"
   ]
  },
  {
   "cell_type": "code",
   "execution_count": 195,
   "metadata": {},
   "outputs": [
    {
     "output_type": "execute_result",
     "data": {
      "text/plain": [
       "4"
      ]
     },
     "metadata": {},
     "execution_count": 195
    }
   ],
   "source": [
    "df['Residency Requirement'].isnull().sum()"
   ]
  },
  {
   "cell_type": "code",
   "execution_count": 198,
   "metadata": {},
   "outputs": [],
   "source": [
    "df['Residency Requirement'] = df['Residency Requirement'].apply(lambda x: str(x).split(' ')[0])"
   ]
  },
  {
   "cell_type": "code",
   "execution_count": 199,
   "metadata": {},
   "outputs": [
    {
     "output_type": "execute_result",
     "data": {
      "text/plain": [
       "New          2625\n",
       "NYCHA         231\n",
       "Residency      28\n",
       "This           19\n",
       "NYC             8\n",
       "City            8\n",
       "The             7\n",
       "nan             4\n",
       "Must            2\n",
       "Applicant       2\n",
       "PLEASE          2\n",
       "Note:           2\n",
       "NEW             2\n",
       "**A             2\n",
       "019New          2\n",
       ":               2\n",
       "Name: Residency Requirement, dtype: int64"
      ]
     },
     "metadata": {},
     "execution_count": 199
    }
   ],
   "source": [
    "df['Residency Requirement'].value_counts()"
   ]
  },
  {
   "cell_type": "code",
   "execution_count": 213,
   "metadata": {},
   "outputs": [
    {
     "output_type": "execute_result",
     "data": {
      "text/plain": [
       "            id  Target A  Target B  LOAN_AMT  \\\n",
       "2878  68384695   55000.0         0      8000   \n",
       "2879  68544867   55000.0         0     19675   \n",
       "\n",
       "                                   Business Title       Civil Service Title  \\\n",
       "2878  [ASSISTANT, REGIONAL, PLANNER-, ENGAGEMENT]  [COMMUNITY, COORDINATOR]   \n",
       "2879  [ASSISTANT, REGIONAL, PLANNER-, ENGAGEMENT]  [COMMUNITY, COORDINATOR]   \n",
       "\n",
       "     Division/Work Unit                                    Job Description  \\\n",
       "2878  Regional Planning  THE AGENCY:  The Department of City Planning (...   \n",
       "2879  Regional Planning  THE AGENCY:  The Department of City Planning (...   \n",
       "\n",
       "                              Minimum Qual Requirements  \\\n",
       "2878  1. A baccalaureate degree from an accredited c...   \n",
       "2879  1. A baccalaureate degree from an accredited c...   \n",
       "\n",
       "                                       Preferred Skills  \\\n",
       "2878  â€¢\\tStrong written and verbal communication s...   \n",
       "2879  â€¢\\tStrong written and verbal communication s...   \n",
       "\n",
       "     Additional Information  \\\n",
       "2878                    NaN   \n",
       "2879                    NaN   \n",
       "\n",
       "                                               To Apply Hours/Shift  \\\n",
       "2878  Click on â€œApply Nowâ€ at the bottom of the ...         NaN   \n",
       "2879  Click on â€œApply Nowâ€ at the bottom of the ...         NaN   \n",
       "\n",
       "     Residency Requirement Posting Date Posting Updated  \\\n",
       "2878                     :         2019            2019   \n",
       "2879                     :         2019            2019   \n",
       "\n",
       "                 Process Date                           FormalEducation  \\\n",
       "2878  2019-12-17T00:00:00.000  Bachelor’s degree (BA, BS, B.Eng., etc.)   \n",
       "2879  2019-12-17T00:00:00.000  Bachelor’s degree (BA, BS, B.Eng., etc.)   \n",
       "\n",
       "                     UndergradMajor  CompanySize  \\\n",
       "2878       I never declared a major            5   \n",
       "2879  Web development or web design           15   \n",
       "\n",
       "                                                DevType  YearsCoding  \\\n",
       "2878  Back-end developer;Front-end developer;Full-st...            7   \n",
       "2879  Back-end developer;Front-end developer;Full-st...            4   \n",
       "\n",
       "      YearsCodingProf                                      HopeFiveYears  \\\n",
       "2878                4  Working as a founder or co-founder of my own c...   \n",
       "2879                0                                           Hopeless   \n",
       "\n",
       "                                   JobSearchStatus LastNewJob  \\\n",
       "2878  I am not interested in new job opportunities        0.5   \n",
       "2879  I am not interested in new job opportunities          0   \n",
       "\n",
       "                               UpdateCV CommunicationTools  \\\n",
       "2878  I saw an employer’s advertisement       Slack;Trello   \n",
       "2879                                NaN                NaN   \n",
       "\n",
       "     TimeFullyProductive                                     EducationTypes  \\\n",
       "2878                   0  Taught yourself a new language, framework, or ...   \n",
       "2879                   0                                                NaN   \n",
       "\n",
       "                                        SelfTaughtTypes TimeAfterBootcamp  \\\n",
       "2878  The official documentation and/or standards fo...               NaN   \n",
       "2879                                                NaN               NaN   \n",
       "\n",
       "     HackathonReasons  AgreeDisagree1  AgreeDisagree2  AgreeDisagree3  \\\n",
       "2878              NaN               1               2              -1   \n",
       "2879              NaN               0               0               0   \n",
       "\n",
       "               LanguageWorkedWith  LanguageDesireNextYear DatabaseWorkedWith  \\\n",
       "2878       JavaScript;PHP;SQL;CSS  JavaScript;PHP;SQL;CSS              MySQL   \n",
       "2879  JavaScript;PHP;SQL;HTML;CSS     Go;PHP;SQL;HTML;CSS      Redis;MariaDB   \n",
       "\n",
       "                                 DatabaseDesireNextYear PlatformWorkedWith  \\\n",
       "2878                                    MySQL;Memcached   Drupal;WordPress   \n",
       "2879  Redis;MariaDB;Microsoft Azure (Tables, CosmosD...                NaN   \n",
       "\n",
       "     PlatformDesireNextYear FrameworkWorkedWith FrameworkDesireNextYear  \\\n",
       "2878              WordPress                 NaN                   React   \n",
       "2879   AWS;Azure;iOS;Mac OS     Angular;Node.js   Angular;Node.js;React   \n",
       "\n",
       "                                  IDE OperatingSystem Methodology  \\\n",
       "2878  Sublime Text;Visual Studio Code           MacOS       Agile   \n",
       "2879                         PHPStorm         Windows       Scrum   \n",
       "\n",
       "     VersionControl  CheckInCode  \\\n",
       "2878            Git            5   \n",
       "2879            Git            3   \n",
       "\n",
       "                                            AIDangerous  \\\n",
       "2878  Artificial intelligence surpassing human intel...   \n",
       "2879                                                NaN   \n",
       "\n",
       "                                          AIInteresting  \\\n",
       "2878  Evolving definitions of \"fairness\" in algorith...   \n",
       "2879                                                NaN   \n",
       "\n",
       "                   AIResponsible  \\\n",
       "2878  Prominent industry leaders   \n",
       "2879                         NaN   \n",
       "\n",
       "                                               AIFuture  Age        term  \\\n",
       "2878  I'm worried about the dangers more than I'm ex...   30   36 months   \n",
       "2879                                                NaN   20   60 months   \n",
       "\n",
       "     emp_length loan_status pymnt_plan  \\\n",
       "2878          3  Fully Paid          n   \n",
       "2879          3  Fully Paid          n   \n",
       "\n",
       "                                                    url             purpose  \\\n",
       "2878  https://lendingclub.com/browse/loanDetail.acti...         credit_card   \n",
       "2879  https://lendingclub.com/browse/loanDetail.acti...  debt_consolidation   \n",
       "\n",
       "                        title  zip_code addr_state    dti earliest_cr_line  \\\n",
       "2878  Credit card refinancing       917         CA  19.70        [Sep, 87]   \n",
       "2879       Debt consolidation       430         OH  17.77         [2, May]   \n",
       "\n",
       "     last_pymnt_d  last_pymnt_amnt next_pymnt_d last_credit_pull_d  \\\n",
       "2878          May          4924.88          NaN                Mar   \n",
       "2879          May         19308.61          NaN                Oct   \n",
       "\n",
       "      skills y/n  hrs  ecl bustitle      cstitle  addinfo y/n  \n",
       "2878         1.0  0.0  Sep   others  coordinator          0.0  \n",
       "2879         1.0  0.0  May   others  coordinator          0.0  "
      ],
      "text/html": "<div>\n<style scoped>\n    .dataframe tbody tr th:only-of-type {\n        vertical-align: middle;\n    }\n\n    .dataframe tbody tr th {\n        vertical-align: top;\n    }\n\n    .dataframe thead th {\n        text-align: right;\n    }\n</style>\n<table border=\"1\" class=\"dataframe\">\n  <thead>\n    <tr style=\"text-align: right;\">\n      <th></th>\n      <th>id</th>\n      <th>Target A</th>\n      <th>Target B</th>\n      <th>LOAN_AMT</th>\n      <th>Business Title</th>\n      <th>Civil Service Title</th>\n      <th>Division/Work Unit</th>\n      <th>Job Description</th>\n      <th>Minimum Qual Requirements</th>\n      <th>Preferred Skills</th>\n      <th>Additional Information</th>\n      <th>To Apply</th>\n      <th>Hours/Shift</th>\n      <th>Residency Requirement</th>\n      <th>Posting Date</th>\n      <th>Posting Updated</th>\n      <th>Process Date</th>\n      <th>FormalEducation</th>\n      <th>UndergradMajor</th>\n      <th>CompanySize</th>\n      <th>DevType</th>\n      <th>YearsCoding</th>\n      <th>YearsCodingProf</th>\n      <th>HopeFiveYears</th>\n      <th>JobSearchStatus</th>\n      <th>LastNewJob</th>\n      <th>UpdateCV</th>\n      <th>CommunicationTools</th>\n      <th>TimeFullyProductive</th>\n      <th>EducationTypes</th>\n      <th>SelfTaughtTypes</th>\n      <th>TimeAfterBootcamp</th>\n      <th>HackathonReasons</th>\n      <th>AgreeDisagree1</th>\n      <th>AgreeDisagree2</th>\n      <th>AgreeDisagree3</th>\n      <th>LanguageWorkedWith</th>\n      <th>LanguageDesireNextYear</th>\n      <th>DatabaseWorkedWith</th>\n      <th>DatabaseDesireNextYear</th>\n      <th>PlatformWorkedWith</th>\n      <th>PlatformDesireNextYear</th>\n      <th>FrameworkWorkedWith</th>\n      <th>FrameworkDesireNextYear</th>\n      <th>IDE</th>\n      <th>OperatingSystem</th>\n      <th>Methodology</th>\n      <th>VersionControl</th>\n      <th>CheckInCode</th>\n      <th>AIDangerous</th>\n      <th>AIInteresting</th>\n      <th>AIResponsible</th>\n      <th>AIFuture</th>\n      <th>Age</th>\n      <th>term</th>\n      <th>emp_length</th>\n      <th>loan_status</th>\n      <th>pymnt_plan</th>\n      <th>url</th>\n      <th>purpose</th>\n      <th>title</th>\n      <th>zip_code</th>\n      <th>addr_state</th>\n      <th>dti</th>\n      <th>earliest_cr_line</th>\n      <th>last_pymnt_d</th>\n      <th>last_pymnt_amnt</th>\n      <th>next_pymnt_d</th>\n      <th>last_credit_pull_d</th>\n      <th>skills y/n</th>\n      <th>hrs</th>\n      <th>ecl</th>\n      <th>bustitle</th>\n      <th>cstitle</th>\n      <th>addinfo y/n</th>\n    </tr>\n  </thead>\n  <tbody>\n    <tr>\n      <th>2878</th>\n      <td>68384695</td>\n      <td>55000.0</td>\n      <td>0</td>\n      <td>8000</td>\n      <td>[ASSISTANT, REGIONAL, PLANNER-, ENGAGEMENT]</td>\n      <td>[COMMUNITY, COORDINATOR]</td>\n      <td>Regional Planning</td>\n      <td>THE AGENCY:  The Department of City Planning (...</td>\n      <td>1. A baccalaureate degree from an accredited c...</td>\n      <td>â€¢\\tStrong written and verbal communication s...</td>\n      <td>NaN</td>\n      <td>Click on â€œApply Nowâ€ at the bottom of the ...</td>\n      <td>NaN</td>\n      <td>:</td>\n      <td>2019</td>\n      <td>2019</td>\n      <td>2019-12-17T00:00:00.000</td>\n      <td>Bachelor’s degree (BA, BS, B.Eng., etc.)</td>\n      <td>I never declared a major</td>\n      <td>5</td>\n      <td>Back-end developer;Front-end developer;Full-st...</td>\n      <td>7</td>\n      <td>4</td>\n      <td>Working as a founder or co-founder of my own c...</td>\n      <td>I am not interested in new job opportunities</td>\n      <td>0.5</td>\n      <td>I saw an employer’s advertisement</td>\n      <td>Slack;Trello</td>\n      <td>0</td>\n      <td>Taught yourself a new language, framework, or ...</td>\n      <td>The official documentation and/or standards fo...</td>\n      <td>NaN</td>\n      <td>NaN</td>\n      <td>1</td>\n      <td>2</td>\n      <td>-1</td>\n      <td>JavaScript;PHP;SQL;CSS</td>\n      <td>JavaScript;PHP;SQL;CSS</td>\n      <td>MySQL</td>\n      <td>MySQL;Memcached</td>\n      <td>Drupal;WordPress</td>\n      <td>WordPress</td>\n      <td>NaN</td>\n      <td>React</td>\n      <td>Sublime Text;Visual Studio Code</td>\n      <td>MacOS</td>\n      <td>Agile</td>\n      <td>Git</td>\n      <td>5</td>\n      <td>Artificial intelligence surpassing human intel...</td>\n      <td>Evolving definitions of \"fairness\" in algorith...</td>\n      <td>Prominent industry leaders</td>\n      <td>I'm worried about the dangers more than I'm ex...</td>\n      <td>30</td>\n      <td>36 months</td>\n      <td>3</td>\n      <td>Fully Paid</td>\n      <td>n</td>\n      <td>https://lendingclub.com/browse/loanDetail.acti...</td>\n      <td>credit_card</td>\n      <td>Credit card refinancing</td>\n      <td>917</td>\n      <td>CA</td>\n      <td>19.70</td>\n      <td>[Sep, 87]</td>\n      <td>May</td>\n      <td>4924.88</td>\n      <td>NaN</td>\n      <td>Mar</td>\n      <td>1.0</td>\n      <td>0.0</td>\n      <td>Sep</td>\n      <td>others</td>\n      <td>coordinator</td>\n      <td>0.0</td>\n    </tr>\n    <tr>\n      <th>2879</th>\n      <td>68544867</td>\n      <td>55000.0</td>\n      <td>0</td>\n      <td>19675</td>\n      <td>[ASSISTANT, REGIONAL, PLANNER-, ENGAGEMENT]</td>\n      <td>[COMMUNITY, COORDINATOR]</td>\n      <td>Regional Planning</td>\n      <td>THE AGENCY:  The Department of City Planning (...</td>\n      <td>1. A baccalaureate degree from an accredited c...</td>\n      <td>â€¢\\tStrong written and verbal communication s...</td>\n      <td>NaN</td>\n      <td>Click on â€œApply Nowâ€ at the bottom of the ...</td>\n      <td>NaN</td>\n      <td>:</td>\n      <td>2019</td>\n      <td>2019</td>\n      <td>2019-12-17T00:00:00.000</td>\n      <td>Bachelor’s degree (BA, BS, B.Eng., etc.)</td>\n      <td>Web development or web design</td>\n      <td>15</td>\n      <td>Back-end developer;Front-end developer;Full-st...</td>\n      <td>4</td>\n      <td>0</td>\n      <td>Hopeless</td>\n      <td>I am not interested in new job opportunities</td>\n      <td>0</td>\n      <td>NaN</td>\n      <td>NaN</td>\n      <td>0</td>\n      <td>NaN</td>\n      <td>NaN</td>\n      <td>NaN</td>\n      <td>NaN</td>\n      <td>0</td>\n      <td>0</td>\n      <td>0</td>\n      <td>JavaScript;PHP;SQL;HTML;CSS</td>\n      <td>Go;PHP;SQL;HTML;CSS</td>\n      <td>Redis;MariaDB</td>\n      <td>Redis;MariaDB;Microsoft Azure (Tables, CosmosD...</td>\n      <td>NaN</td>\n      <td>AWS;Azure;iOS;Mac OS</td>\n      <td>Angular;Node.js</td>\n      <td>Angular;Node.js;React</td>\n      <td>PHPStorm</td>\n      <td>Windows</td>\n      <td>Scrum</td>\n      <td>Git</td>\n      <td>3</td>\n      <td>NaN</td>\n      <td>NaN</td>\n      <td>NaN</td>\n      <td>NaN</td>\n      <td>20</td>\n      <td>60 months</td>\n      <td>3</td>\n      <td>Fully Paid</td>\n      <td>n</td>\n      <td>https://lendingclub.com/browse/loanDetail.acti...</td>\n      <td>debt_consolidation</td>\n      <td>Debt consolidation</td>\n      <td>430</td>\n      <td>OH</td>\n      <td>17.77</td>\n      <td>[2, May]</td>\n      <td>May</td>\n      <td>19308.61</td>\n      <td>NaN</td>\n      <td>Oct</td>\n      <td>1.0</td>\n      <td>0.0</td>\n      <td>May</td>\n      <td>others</td>\n      <td>coordinator</td>\n      <td>0.0</td>\n    </tr>\n  </tbody>\n</table>\n</div>"
     },
     "metadata": {},
     "execution_count": 213
    }
   ],
   "source": [
    "df.loc[df['Residency Requirement'] == ':']"
   ]
  },
  {
   "cell_type": "code",
   "execution_count": 214,
   "metadata": {},
   "outputs": [],
   "source": [
    "df.loc[df['Residency Requirement'] == 'New', 'RR y/n'] = 1\n",
    "df.loc[df['Residency Requirement'] == 'NYCHA', 'RR y/n'] = 0\n",
    "df.loc[df['Residency Requirement'] == 'Residency', 'RR y/n'] = 1\n",
    "df.loc[df['Residency Requirement'] == 'This', 'RR y/n'] = 0\n",
    "df.loc[df['Residency Requirement'] == 'NYC', 'RR y/n'] = 1\n",
    "df.loc[df['Residency Requirement'] == 'City', 'RR y/n'] = 0\n",
    "df.loc[df['Residency Requirement'] == 'The', 'RR y/n'] = 1\n",
    "df.loc[df['Residency Requirement'] == 'nan', 'RR y/n'] = 1\n",
    "df.loc[df['Residency Requirement'] == 'Must', 'RR y/n'] = 1\n",
    "df.loc[df['Residency Requirement'] == 'Applicant', 'RR y/n'] = 1\n",
    "df.loc[df['Residency Requirement'] == 'PLEASE', 'RR y/n'] = 1\n",
    "df.loc[df['Residency Requirement'] == 'Note:', 'RR y/n'] = 0\n",
    "df.loc[df['Residency Requirement'] == 'NEW', 'RR y/n'] = 1\n",
    "df.loc[df['Residency Requirement'] == '**A', 'RR y/n'] = 1\n",
    "df.loc[df['Residency Requirement'] == '019New', 'RR y/n'] = 0\n",
    "df.loc[df['Residency Requirement'] == ':', 'RR y/n'] = 1\n",
    "\n",
    "\n"
   ]
  },
  {
   "cell_type": "code",
   "execution_count": 215,
   "metadata": {},
   "outputs": [
    {
     "output_type": "execute_result",
     "data": {
      "text/plain": [
       "1.0    2684\n",
       "0.0     262\n",
       "Name: RR y/n, dtype: int64"
      ]
     },
     "metadata": {},
     "execution_count": 215
    }
   ],
   "source": [
    "df['RR y/n'].value_counts()"
   ]
  },
  {
   "cell_type": "code",
   "execution_count": 216,
   "metadata": {},
   "outputs": [
    {
     "output_type": "execute_result",
     "data": {
      "text/plain": [
       "45"
      ]
     },
     "metadata": {},
     "execution_count": 216
    }
   ],
   "source": [
    "df['DevType'].isnull().sum()"
   ]
  },
  {
   "cell_type": "code",
   "execution_count": 219,
   "metadata": {},
   "outputs": [],
   "source": [
    "df['DevType'] = df['DevType'].apply(lambda x: str(x).split(';'))"
   ]
  },
  {
   "cell_type": "code",
   "execution_count": 258,
   "metadata": {},
   "outputs": [
    {
     "output_type": "execute_result",
     "data": {
      "text/plain": [
       "{'Back-end developer',\n",
       " 'C-suite executive (CEO, CTO, etc.)',\n",
       " 'Data or business analyst',\n",
       " 'Data scientist or machine learning specialist',\n",
       " 'Database administrator',\n",
       " 'Designer',\n",
       " 'Desktop or enterprise applications developer',\n",
       " 'DevOps specialist',\n",
       " 'Educator or academic researcher',\n",
       " 'Embedded applications or devices developer',\n",
       " 'Engineering manager',\n",
       " 'Front-end developer',\n",
       " 'Full-stack developer',\n",
       " 'Game or graphics developer',\n",
       " 'Marketing or sales professional',\n",
       " 'Mobile developer',\n",
       " 'Product manager',\n",
       " 'QA or test developer',\n",
       " 'Student',\n",
       " 'System administrator',\n",
       " 'nan'}"
      ]
     },
     "metadata": {},
     "execution_count": 258
    }
   ],
   "source": [
    "set(itertools.chain.from_iterable(df.DevType)) "
   ]
  },
  {
   "cell_type": "code",
   "execution_count": 239,
   "metadata": {},
   "outputs": [],
   "source": [
    "def find_dev(list_):\n",
    "    for i in list_:\n",
    "        if ('developer' in i.split(' ')):\n",
    "            k = 1\n",
    "        else:\n",
    "            k = 0\n",
    "        return k    \n",
    "def find_exec(list_):\n",
    "    for i in list_:\n",
    "        if ('executive' in i.split(' ')):\n",
    "            k = 1\n",
    "        else:\n",
    "            k = 0 \n",
    "        return k   \n",
    "def find_ana(list_):\n",
    "    for i in list_:\n",
    "        if ('analyst' in i.split(' ')):\n",
    "            k = 1\n",
    "        else:\n",
    "            k = 0 \n",
    "        return k\n",
    "def find_sci(list_):\n",
    "    for i in list_:\n",
    "        if ('scientist' in i.split(' ')) | ('researcher' in i.split(' ')):\n",
    "            k = 1\n",
    "        else:\n",
    "            k = 0 \n",
    "        return k\n",
    "def find_admin(list_):\n",
    "    for i in list_:\n",
    "        if ('administrator' in i.split(' ')):\n",
    "            k = 1\n",
    "        else:\n",
    "            k = 0 \n",
    "        return k\n",
    "def find_des(list_):\n",
    "    for i in list_:\n",
    "        if ('design' in i.split(' ')):\n",
    "            k = 1\n",
    "        else:\n",
    "            k = 0 \n",
    "        return k\n",
    "def find_spec(list_):\n",
    "    for i in list_:\n",
    "        if ('specialist' in i.split(' ')):\n",
    "            k = 1\n",
    "        else:\n",
    "            k = 0 \n",
    "        return k\n",
    "def find_man(list_):\n",
    "    for i in list_:\n",
    "        if ('manager' in i.split(' ')):\n",
    "            k = 1\n",
    "        else:\n",
    "            k = 0 \n",
    "        return k\n",
    "def find_sales(list_):\n",
    "    for i in list_:\n",
    "        if ('sales' in i.split(' ')):\n",
    "            k = 1\n",
    "        else:\n",
    "            k = 0 \n",
    "        return k\n",
    "def find_stu(list_):\n",
    "    for i in list_:\n",
    "        if ('student' in i.split(' ')):\n",
    "            k = 1\n",
    "        else:\n",
    "            k = 0 \n",
    "        return k        \n"
   ]
  },
  {
   "cell_type": "code",
   "execution_count": 240,
   "metadata": {},
   "outputs": [],
   "source": [
    "df['dev_devt'] = df['DevType'].apply(find_dev)\n",
    "df['exec_devt'] = df['DevType'].apply(find_exec)\n",
    "df['ana_devt'] = df['DevType'].apply(find_ana)\n",
    "df['sci_devt'] = df['DevType'].apply(find_sci)\n",
    "df['admin_devt'] = df['DevType'].apply(find_admin)\n",
    "df['des_devt'] = df['DevType'].apply(find_des)\n",
    "df['spec_devt'] = df['DevType'].apply(find_spec)\n",
    "df['man_devt'] = df['DevType'].apply(find_man)\n",
    "df['sales_devt'] = df['DevType'].apply(find_sales)\n",
    "df['stu_devt'] = df['DevType'].apply(find_stu)\n",
    "\n",
    "\n"
   ]
  },
  {
   "cell_type": "code",
   "execution_count": 256,
   "metadata": {},
   "outputs": [
    {
     "output_type": "execute_result",
     "data": {
      "text/plain": [
       "923"
      ]
     },
     "metadata": {},
     "execution_count": 256
    }
   ],
   "source": [
    "df['CommunicationTools'].isnull().sum()"
   ]
  },
  {
   "cell_type": "code",
   "execution_count": 261,
   "metadata": {},
   "outputs": [],
   "source": [
    "df['CommunicationTools'] = df['CommunicationTools'].apply(lambda x: str(x).split(';'))"
   ]
  },
  {
   "cell_type": "code",
   "execution_count": 263,
   "metadata": {},
   "outputs": [
    {
     "output_type": "execute_result",
     "data": {
      "text/plain": [
       "{'Confluence',\n",
       " 'Facebook',\n",
       " 'Google Hangouts/Chat',\n",
       " 'HipChat',\n",
       " 'Jira',\n",
       " 'Office / productivity suite (Microsoft Office, Google Suite, etc.)',\n",
       " 'Other chat system (IRC, proprietary software, etc.)',\n",
       " 'Other wiki tool (Github, Google Sites, proprietary software, etc.)',\n",
       " 'Slack',\n",
       " 'Stack Overflow Enterprise',\n",
       " 'Trello',\n",
       " 'nan'}"
      ]
     },
     "metadata": {},
     "execution_count": 263
    }
   ],
   "source": [
    "set(itertools.chain.from_iterable(df.CommunicationTools)) "
   ]
  },
  {
   "cell_type": "code",
   "execution_count": 264,
   "metadata": {},
   "outputs": [],
   "source": [
    "def find_conf(list_):\n",
    "    for i in list_:\n",
    "        if ('Confluence' in list_):\n",
    "            k = 1\n",
    "        else:\n",
    "            k = 0\n",
    "        return k\n",
    "def find_face(list_):\n",
    "    for i in list_:\n",
    "        if ('Facebook' in list_):\n",
    "            k = 1\n",
    "        else:\n",
    "            k = 0\n",
    "        return k\n",
    "def find_hang(list_):\n",
    "    for i in list_:\n",
    "        if ('Google Hangouts/Chat' in list_):\n",
    "            k = 1\n",
    "        else:\n",
    "            k = 0\n",
    "        return k\n",
    "def find_hip(list_):\n",
    "    for i in list_:\n",
    "        if ('HipChat' in list_):\n",
    "            k = 1\n",
    "        else:\n",
    "            k = 0\n",
    "        return k\n",
    "def find_jira(list_):\n",
    "    for i in list_:\n",
    "        if ('Jira' in list_):\n",
    "            k = 1\n",
    "        else:\n",
    "            k = 0\n",
    "        return k\n",
    "def find_off(list_):\n",
    "    for i in list_:\n",
    "        if ('Office / productivity suite (Microsoft Office, Google Suite, etc.)' in list_):\n",
    "            k = 1\n",
    "        else:\n",
    "            k = 0\n",
    "        return k\n",
    "def find_otch(list_):\n",
    "    for i in list_:\n",
    "        if ('Other chat system (IRC, proprietary software, etc.)' in list_):\n",
    "            k = 1\n",
    "        else:\n",
    "            k = 0\n",
    "        return k\n",
    "def find_otwi(list_):\n",
    "    for i in list_:\n",
    "        if ('Other wiki tool (Github, Google Sites, proprietary software, etc.)' in list_):\n",
    "            k = 1\n",
    "        else:\n",
    "            k = 0\n",
    "        return k\n",
    "def find_sla(list_):\n",
    "    for i in list_:\n",
    "        if ('Slack' in list_):\n",
    "            k = 1\n",
    "        else:\n",
    "            k = 0\n",
    "        return k\n",
    "def find_over(list_):\n",
    "    for i in list_:\n",
    "        if ('Stack Overflow Enterprise' in list_):\n",
    "            k = 1\n",
    "        else:\n",
    "            k = 0\n",
    "        return k\n",
    "def find_trel(list_):\n",
    "    for i in list_:\n",
    "        if ('Trello' in list_):\n",
    "            k = 1\n",
    "        else:\n",
    "            k = 0\n",
    "        return k"
   ]
  },
  {
   "cell_type": "code",
   "execution_count": 265,
   "metadata": {},
   "outputs": [],
   "source": [
    "df['comm_conf'] = df['CommunicationTools'].apply(find_conf)\n",
    "df['comm_face'] = df['CommunicationTools'].apply(find_face)\n",
    "df['comm_hang'] = df['CommunicationTools'].apply(find_hang)\n",
    "df['comm_hip'] = df['CommunicationTools'].apply(find_hip)\n",
    "df['comm_jira'] = df['CommunicationTools'].apply(find_jira)\n",
    "df['comm_off'] = df['CommunicationTools'].apply(find_off)\n",
    "df['comm_otch'] = df['CommunicationTools'].apply(find_otch)\n",
    "df['comm_otwi'] = df['CommunicationTools'].apply(find_otwi)\n",
    "df['comm_sla'] = df['CommunicationTools'].apply(find_sla)\n",
    "df['comm_over'] = df['CommunicationTools'].apply(find_over)\n",
    "df['comm_trel'] = df['CommunicationTools'].apply(find_trel)\n",
    "\n"
   ]
  },
  {
   "cell_type": "code",
   "execution_count": 266,
   "metadata": {},
   "outputs": [
    {
     "output_type": "execute_result",
     "data": {
      "text/plain": [
       "            id  Target A  Target B  LOAN_AMT  \\\n",
       "744   68566111   89509.0         0     10000   \n",
       "963   68356229  145000.0         0     19200   \n",
       "1961  68515142   84000.0         1     12000   \n",
       "1401  68576309       0.0         0     28000   \n",
       "2556  68564978   90114.0         0     12000   \n",
       "\n",
       "                                         Business Title  \\\n",
       "744                  [COMPUTER, SPECIALIST, (SOFTWARE)]   \n",
       "963       [Environmental, Health, and, Safety, Officer]   \n",
       "1961                            [Senior, Project, Lead]   \n",
       "1401  [Business/Data, Analyst,, Bureau, of, Human, R...   \n",
       "2556                    [Supervisor, (Project, Review)]   \n",
       "\n",
       "                      Civil Service Title            Division/Work Unit  \\\n",
       "744    [COMPUTER, SPECIALIST, (SOFTWARE)]          Executive Management   \n",
       "963   [ASSISTANT, EXECUTIVE, DIRECTOR, (]           Office of the Chair   \n",
       "1961    [ASSOCIATE, HOUSING, DEVELOPMENT]  Tenant Resources - Exec & IT   \n",
       "1401  [IT, SERVICE, MANAGEMENT, SPECIALI]                    HR Central   \n",
       "2556        [ASSOCIATE, PROJECT, MANAGER]   Watshed Plan Protec/Ashokan   \n",
       "\n",
       "                                        Job Description  \\\n",
       "744   The Senior QA Analyst will perform functional ...   \n",
       "963   The New York City Housing Authority (NYCHA) is...   \n",
       "1961  Section 8, also known as the Housing Choice Vo...   \n",
       "1401  **IF YOU HAVE A FOREIGN EDUCATION EVALUATION W...   \n",
       "2556  The NYC Department of Environmental Protection...   \n",
       "\n",
       "                              Minimum Qual Requirements  \\\n",
       "744   (1) A baccalaureate degree from an accredited ...   \n",
       "963   1.\\tA baccalaureate degree from an accredited ...   \n",
       "1961  1.A baccalaureate degree from an accredited co...   \n",
       "1401  1. A baccalaureate degree from an accredited c...   \n",
       "2556  One year of full-time satisfactory experience ...   \n",
       "\n",
       "                                       Preferred Skills  \\\n",
       "744   Â·\\tMinimum of 6 years of QA Analyst experienc...   \n",
       "963   â€¢\\tA Baccalaureate degree from an accredited...   \n",
       "1961  â€¢\\tStrong proficiency with Microsoft Office ...   \n",
       "1401  a) 3+ years work experience as an business/dat...   \n",
       "2556  â€¢ Proficiency in Microsoft Office Suite incl...   \n",
       "\n",
       "                                 Additional Information  \\\n",
       "744                                                 NaN   \n",
       "963   NYCHA employees applying for promotional, titl...   \n",
       "1961                                                NaN   \n",
       "1401  **IMPORTANT NOTE TO ALL CANDIDATES:  Please no...   \n",
       "2556  DEP is an equal opportunity employer with a st...   \n",
       "\n",
       "                                               To Apply  \\\n",
       "744   TO APPLY FOR CONSIDERATION, PLEASE FORWARD A C...   \n",
       "963                       Click the \"Apply Now\" button.   \n",
       "1961                                       Apply Online   \n",
       "1401  Apply online with a cover letter to https://a1...   \n",
       "2556  New York City residency is not required for th...   \n",
       "\n",
       "                                            Hours/Shift Residency Requirement  \\\n",
       "744                                                 NaN                   New   \n",
       "963                                                 NaN                 NYCHA   \n",
       "1961                                                NaN                   New   \n",
       "1401                                                NaN                   New   \n",
       "2556  35 Hours per week / May be required to work sh...                   New   \n",
       "\n",
       "     Posting Date Posting Updated             Process Date  \\\n",
       "744          2019            2019  2019-12-17T00:00:00.000   \n",
       "963          2019            2019  2019-12-17T00:00:00.000   \n",
       "1961         2019            2019  2019-12-17T00:00:00.000   \n",
       "1401         2019            2019  2019-12-17T00:00:00.000   \n",
       "2556         2019            2019  2019-12-17T00:00:00.000   \n",
       "\n",
       "                                        FormalEducation  \\\n",
       "744   Secondary school (e.g. American high school, G...   \n",
       "963                  Professional degree (JD, MD, etc.)   \n",
       "1961        Master’s degree (MA, MS, M.Eng., MBA, etc.)   \n",
       "1401           Bachelor’s degree (BA, BS, B.Eng., etc.)   \n",
       "2556          Other doctoral degree (Ph.D, Ed.D., etc.)   \n",
       "\n",
       "                                         UndergradMajor  CompanySize  \\\n",
       "744                            I never declared a major           15   \n",
       "963   Another engineering discipline (ex. civil, ele...        15000   \n",
       "1961  Computer science, computer engineering, or sof...           60   \n",
       "1401  Computer science, computer engineering, or sof...          300   \n",
       "2556  A humanities discipline (ex. literature, histo...          300   \n",
       "\n",
       "                                                DevType  YearsCoding  \\\n",
       "744   [Back-end developer, Front-end developer, Full...            4   \n",
       "963   [Back-end developer, Data or business analyst,...           19   \n",
       "1961                             [Full-stack developer]           10   \n",
       "1401       [QA or test developer, System administrator]           10   \n",
       "2556  [Back-end developer, Data or business analyst,...           25   \n",
       "\n",
       "      YearsCodingProf                                      HopeFiveYears  \\\n",
       "744                 1  Working as a founder or co-founder of my own c...   \n",
       "963                 7  Working in a different or more specialized tec...   \n",
       "1961                0                                           Hopeless   \n",
       "1401                1  Working as an engineering manager or other fun...   \n",
       "2556               25    Working as a product manager or project manager   \n",
       "\n",
       "                                        JobSearchStatus LastNewJob  \\\n",
       "744   I’m not actively looking, but I am open to new...        1.5   \n",
       "963        I am not interested in new job opportunities        0.5   \n",
       "1961       I am not interested in new job opportunities          0   \n",
       "1401       I am not interested in new job opportunities        1.5   \n",
       "2556  I’m not actively looking, but I am open to new...        0.5   \n",
       "\n",
       "                                               UpdateCV  \\\n",
       "744   I had a negative experience or interaction at ...   \n",
       "963                   I saw an employer’s advertisement   \n",
       "1961                                                NaN   \n",
       "1401     My job status or other personal status changed   \n",
       "2556  I had a negative experience or interaction at ...   \n",
       "\n",
       "                                     CommunicationTools TimeFullyProductive  \\\n",
       "744                                 [Confluence, Slack]                   0   \n",
       "963   [Confluence, Jira, Other wiki tool (Github, Go...                 1.5   \n",
       "1961                                              [nan]                   0   \n",
       "1401  [Slack, Other chat system (IRC, proprietary so...                   0   \n",
       "2556  [Google Hangouts/Chat, Office / productivity s...                   0   \n",
       "\n",
       "                                         EducationTypes  \\\n",
       "744   Taken an online course in programming or softw...   \n",
       "963   Taken an online course in programming or softw...   \n",
       "1961                                                NaN   \n",
       "1401  Taken an online course in programming or softw...   \n",
       "2556  Taken an online course in programming or softw...   \n",
       "\n",
       "                                        SelfTaughtTypes TimeAfterBootcamp  \\\n",
       "744   Questions & answers on Stack Overflow;Online d...               NaN   \n",
       "963   The official documentation and/or standards fo...               NaN   \n",
       "1961                                                NaN               NaN   \n",
       "1401  The official documentation and/or standards fo...               NaN   \n",
       "2556  The official documentation and/or standards fo...               NaN   \n",
       "\n",
       "                                       HackathonReasons  AgreeDisagree1  \\\n",
       "744   To improve my general technical skills or prog...               0   \n",
       "963                                                 NaN              -1   \n",
       "1961                                                NaN               0   \n",
       "1401                                                NaN               1   \n",
       "2556                                                NaN               1   \n",
       "\n",
       "      AgreeDisagree2  AgreeDisagree3  \\\n",
       "744               -1               1   \n",
       "963                2               0   \n",
       "1961               0               0   \n",
       "1401               0               1   \n",
       "2556              -2              -2   \n",
       "\n",
       "                                     LanguageWorkedWith  \\\n",
       "744   C#;F#;Java;JavaScript;PHP;Python;Ruby;SQL;Type...   \n",
       "963              JavaScript;Python;R;SQL;VBA;Cobol;HTML   \n",
       "1961                                                NaN   \n",
       "1401                        Java;Objective-C;Bash/Shell   \n",
       "2556                              C#;PHP;R;SQL;HTML;CSS   \n",
       "\n",
       "                                 LanguageDesireNextYear  \\\n",
       "744                      C++;Clojure;Haskell;Rust;Scala   \n",
       "963   Go;JavaScript;Python;R;Ruby;SQL;TypeScript;VBA...   \n",
       "1961                                                NaN   \n",
       "1401                                             Python   \n",
       "2556                                  C#;R;SQL;HTML;CSS   \n",
       "\n",
       "                                     DatabaseWorkedWith  \\\n",
       "744   Redis;PostgreSQL;SQLite;Oracle;Google Cloud St...   \n",
       "963                                  SQL Server;IBM Db2   \n",
       "1961                                                NaN   \n",
       "1401                                                NaN   \n",
       "2556                            SQL Server;MySQL;Oracle   \n",
       "\n",
       "                                 DatabaseDesireNextYear  \\\n",
       "744   Cassandra;Redis;PostgreSQL;Amazon DynamoDB;Ama...   \n",
       "963      MongoDB;Apache HBase;Apache Hive;Elasticsearch   \n",
       "1961                                                NaN   \n",
       "1401                                                NaN   \n",
       "2556  SQL Server;Microsoft Azure (Tables, CosmosDB, ...   \n",
       "\n",
       "                                     PlatformWorkedWith  \\\n",
       "744   AWS;Google Cloud Platform/App Engine;Linux;Mac...   \n",
       "963                                           Mainframe   \n",
       "1961                                                NaN   \n",
       "1401                                                NaN   \n",
       "2556                         Azure;SharePoint;WordPress   \n",
       "\n",
       "                                 PlatformDesireNextYear  \\\n",
       "744   Amazon Echo;Android;Arduino;AWS;Google Cloud P...   \n",
       "963                             AWS;IBM Cloud or Watson   \n",
       "1961                                                NaN   \n",
       "1401                                                NaN   \n",
       "2556                                              Azure   \n",
       "\n",
       "          FrameworkWorkedWith  \\\n",
       "744   .NET Core;Node.js;React   \n",
       "963                       NaN   \n",
       "1961                      NaN   \n",
       "1401                    React   \n",
       "2556                      NaN   \n",
       "\n",
       "                               FrameworkDesireNextYear  \\\n",
       "744   .NET Core;Node.js;React;TensorFlow;Torch/PyTorch   \n",
       "963                                  Hadoop;TensorFlow   \n",
       "1961                                               NaN   \n",
       "1401                                               NaN   \n",
       "2556                                         .NET Core   \n",
       "\n",
       "                                                    IDE    OperatingSystem  \\\n",
       "744   IntelliJ;Sublime Text;Vim;Visual Studio;Visual...            Windows   \n",
       "963             Notepad++;PyCharm;RStudio;Visual Studio            Windows   \n",
       "1961                                                NaN  None of the given   \n",
       "1401                     Android Studio;Notepad++;Xcode            Windows   \n",
       "2556                            Notepad++;Visual Studio            Windows   \n",
       "\n",
       "                                            Methodology  \\\n",
       "744                                               Agile   \n",
       "963                Agile;Extreme programming (XP);Scrum   \n",
       "1961                                                NaN   \n",
       "1401  Agile;Formal standard such as ISO 9001 or IEEE...   \n",
       "2556  Agile;Formal standard such as ISO 9001 or IEEE...   \n",
       "\n",
       "                                         VersionControl  CheckInCode  \\\n",
       "744                                                 Git            5   \n",
       "963                                                 Git            3   \n",
       "1961                                                NaN            5   \n",
       "1401  Git;Copying and pasting files to network share...            2   \n",
       "2556                Git;Team Foundation Version Control            5   \n",
       "\n",
       "                                            AIDangerous  \\\n",
       "744               Algorithms making important decisions   \n",
       "963   Artificial intelligence surpassing human intel...   \n",
       "1961                                                NaN   \n",
       "1401  Evolving definitions of \"fairness\" in algorith...   \n",
       "2556              Algorithms making important decisions   \n",
       "\n",
       "                              AIInteresting  \\\n",
       "744   Algorithms making important decisions   \n",
       "963           Increasing automation of jobs   \n",
       "1961                                    NaN   \n",
       "1401  Algorithms making important decisions   \n",
       "2556          Increasing automation of jobs   \n",
       "\n",
       "                                     AIResponsible  \\\n",
       "744                     Prominent industry leaders   \n",
       "963   The developers or the people creating the AI   \n",
       "1961                                           NaN   \n",
       "1401  The developers or the people creating the AI   \n",
       "2556  The developers or the people creating the AI   \n",
       "\n",
       "                                               AIFuture  Age        term  \\\n",
       "744   I'm excited about the possibilities more than ...   20   60 months   \n",
       "963   I'm excited about the possibilities more than ...   40   36 months   \n",
       "1961                                                NaN   30   60 months   \n",
       "1401  I'm excited about the possibilities more than ...   40   36 months   \n",
       "2556  I'm worried about the dangers more than I'm ex...   50   60 months   \n",
       "\n",
       "     emp_length loan_status pymnt_plan  \\\n",
       "744           0  Fully Paid          n   \n",
       "963           8  Fully Paid          n   \n",
       "1961          4     Current          n   \n",
       "1401          0  Fully Paid          n   \n",
       "2556         10  Fully Paid          n   \n",
       "\n",
       "                                                    url             purpose  \\\n",
       "744   https://lendingclub.com/browse/loanDetail.acti...      small_business   \n",
       "963   https://lendingclub.com/browse/loanDetail.acti...         credit_card   \n",
       "1961  https://lendingclub.com/browse/loanDetail.acti...         credit_card   \n",
       "1401  https://lendingclub.com/browse/loanDetail.acti...  debt_consolidation   \n",
       "2556  https://lendingclub.com/browse/loanDetail.acti...         credit_card   \n",
       "\n",
       "                        title  zip_code addr_state    dti earliest_cr_line  \\\n",
       "744                  Business       958         CA  12.73         [3, May]   \n",
       "963   Credit card refinancing       112         NY  17.84        [Apr, 98]   \n",
       "1961  Credit card refinancing       231         VA  18.00        [Sep, 00]   \n",
       "1401       Debt consolidation       347         FL  14.58         [7, Oct]   \n",
       "2556  Credit card refinancing       442         OH  31.43        [Feb, 00]   \n",
       "\n",
       "     last_pymnt_d  last_pymnt_amnt next_pymnt_d last_credit_pull_d  \\\n",
       "744           Aug          8126.54          NaN                Feb   \n",
       "963           Jan           577.97          NaN                Dec   \n",
       "1961          Feb           275.75       19-Apr                Mar   \n",
       "1401          Dec         21643.73          NaN                Mar   \n",
       "2556          Feb          8202.43          NaN                Mar   \n",
       "\n",
       "      skills y/n  hrs  ecl bustitle  cstitle  addinfo y/n  RR y/n  webd_dev  \\\n",
       "744          1.0  0.0  May   others   others          0.0     1.0         1   \n",
       "963          1.0  0.0  Apr   others   others          1.0     0.0         1   \n",
       "1961         1.0  0.0  Sep   others   others          0.0     1.0         1   \n",
       "1401         1.0  0.0  Oct   others   others          1.0     1.0         0   \n",
       "2556         1.0  1.0  Feb   others  manager          1.0     1.0         1   \n",
       "\n",
       "      dev_devt  exec_devt  ana_devt  sci_devt  admin_devt  des_devt  \\\n",
       "744          1          0         0         0           0         0   \n",
       "963          1          0         0         0           0         0   \n",
       "1961         1          0         0         0           0         0   \n",
       "1401         1          0         0         0           0         0   \n",
       "2556         1          0         0         0           0         0   \n",
       "\n",
       "      spec_devt  man_devt  sales_devt  stu_devt  comm_conf  comm_face  \\\n",
       "744           0         0           0         0          1          0   \n",
       "963           0         0           0         0          1          0   \n",
       "1961          0         0           0         0          0          0   \n",
       "1401          0         0           0         0          0          0   \n",
       "2556          0         0           0         0          0          0   \n",
       "\n",
       "      comm_hang  comm_hip  comm_jira  comm_off  comm_otch  comm_otwi  \\\n",
       "744           0         0          0         0          0          0   \n",
       "963           0         0          1         0          0          1   \n",
       "1961          0         0          0         0          0          0   \n",
       "1401          0         0          0         0          1          0   \n",
       "2556          1         0          0         1          0          0   \n",
       "\n",
       "      comm_sla  comm_over  comm_trel  \n",
       "744          1          0          0  \n",
       "963          0          0          0  \n",
       "1961         0          0          0  \n",
       "1401         1          0          0  \n",
       "2556         1          0          1  "
      ],
      "text/html": "<div>\n<style scoped>\n    .dataframe tbody tr th:only-of-type {\n        vertical-align: middle;\n    }\n\n    .dataframe tbody tr th {\n        vertical-align: top;\n    }\n\n    .dataframe thead th {\n        text-align: right;\n    }\n</style>\n<table border=\"1\" class=\"dataframe\">\n  <thead>\n    <tr style=\"text-align: right;\">\n      <th></th>\n      <th>id</th>\n      <th>Target A</th>\n      <th>Target B</th>\n      <th>LOAN_AMT</th>\n      <th>Business Title</th>\n      <th>Civil Service Title</th>\n      <th>Division/Work Unit</th>\n      <th>Job Description</th>\n      <th>Minimum Qual Requirements</th>\n      <th>Preferred Skills</th>\n      <th>Additional Information</th>\n      <th>To Apply</th>\n      <th>Hours/Shift</th>\n      <th>Residency Requirement</th>\n      <th>Posting Date</th>\n      <th>Posting Updated</th>\n      <th>Process Date</th>\n      <th>FormalEducation</th>\n      <th>UndergradMajor</th>\n      <th>CompanySize</th>\n      <th>DevType</th>\n      <th>YearsCoding</th>\n      <th>YearsCodingProf</th>\n      <th>HopeFiveYears</th>\n      <th>JobSearchStatus</th>\n      <th>LastNewJob</th>\n      <th>UpdateCV</th>\n      <th>CommunicationTools</th>\n      <th>TimeFullyProductive</th>\n      <th>EducationTypes</th>\n      <th>SelfTaughtTypes</th>\n      <th>TimeAfterBootcamp</th>\n      <th>HackathonReasons</th>\n      <th>AgreeDisagree1</th>\n      <th>AgreeDisagree2</th>\n      <th>AgreeDisagree3</th>\n      <th>LanguageWorkedWith</th>\n      <th>LanguageDesireNextYear</th>\n      <th>DatabaseWorkedWith</th>\n      <th>DatabaseDesireNextYear</th>\n      <th>PlatformWorkedWith</th>\n      <th>PlatformDesireNextYear</th>\n      <th>FrameworkWorkedWith</th>\n      <th>FrameworkDesireNextYear</th>\n      <th>IDE</th>\n      <th>OperatingSystem</th>\n      <th>Methodology</th>\n      <th>VersionControl</th>\n      <th>CheckInCode</th>\n      <th>AIDangerous</th>\n      <th>AIInteresting</th>\n      <th>AIResponsible</th>\n      <th>AIFuture</th>\n      <th>Age</th>\n      <th>term</th>\n      <th>emp_length</th>\n      <th>loan_status</th>\n      <th>pymnt_plan</th>\n      <th>url</th>\n      <th>purpose</th>\n      <th>title</th>\n      <th>zip_code</th>\n      <th>addr_state</th>\n      <th>dti</th>\n      <th>earliest_cr_line</th>\n      <th>last_pymnt_d</th>\n      <th>last_pymnt_amnt</th>\n      <th>next_pymnt_d</th>\n      <th>last_credit_pull_d</th>\n      <th>skills y/n</th>\n      <th>hrs</th>\n      <th>ecl</th>\n      <th>bustitle</th>\n      <th>cstitle</th>\n      <th>addinfo y/n</th>\n      <th>RR y/n</th>\n      <th>webd_dev</th>\n      <th>dev_devt</th>\n      <th>exec_devt</th>\n      <th>ana_devt</th>\n      <th>sci_devt</th>\n      <th>admin_devt</th>\n      <th>des_devt</th>\n      <th>spec_devt</th>\n      <th>man_devt</th>\n      <th>sales_devt</th>\n      <th>stu_devt</th>\n      <th>comm_conf</th>\n      <th>comm_face</th>\n      <th>comm_hang</th>\n      <th>comm_hip</th>\n      <th>comm_jira</th>\n      <th>comm_off</th>\n      <th>comm_otch</th>\n      <th>comm_otwi</th>\n      <th>comm_sla</th>\n      <th>comm_over</th>\n      <th>comm_trel</th>\n    </tr>\n  </thead>\n  <tbody>\n    <tr>\n      <th>744</th>\n      <td>68566111</td>\n      <td>89509.0</td>\n      <td>0</td>\n      <td>10000</td>\n      <td>[COMPUTER, SPECIALIST, (SOFTWARE)]</td>\n      <td>[COMPUTER, SPECIALIST, (SOFTWARE)]</td>\n      <td>Executive Management</td>\n      <td>The Senior QA Analyst will perform functional ...</td>\n      <td>(1) A baccalaureate degree from an accredited ...</td>\n      <td>Â·\\tMinimum of 6 years of QA Analyst experienc...</td>\n      <td>NaN</td>\n      <td>TO APPLY FOR CONSIDERATION, PLEASE FORWARD A C...</td>\n      <td>NaN</td>\n      <td>New</td>\n      <td>2019</td>\n      <td>2019</td>\n      <td>2019-12-17T00:00:00.000</td>\n      <td>Secondary school (e.g. American high school, G...</td>\n      <td>I never declared a major</td>\n      <td>15</td>\n      <td>[Back-end developer, Front-end developer, Full...</td>\n      <td>4</td>\n      <td>1</td>\n      <td>Working as a founder or co-founder of my own c...</td>\n      <td>I’m not actively looking, but I am open to new...</td>\n      <td>1.5</td>\n      <td>I had a negative experience or interaction at ...</td>\n      <td>[Confluence, Slack]</td>\n      <td>0</td>\n      <td>Taken an online course in programming or softw...</td>\n      <td>Questions &amp; answers on Stack Overflow;Online d...</td>\n      <td>NaN</td>\n      <td>To improve my general technical skills or prog...</td>\n      <td>0</td>\n      <td>-1</td>\n      <td>1</td>\n      <td>C#;F#;Java;JavaScript;PHP;Python;Ruby;SQL;Type...</td>\n      <td>C++;Clojure;Haskell;Rust;Scala</td>\n      <td>Redis;PostgreSQL;SQLite;Oracle;Google Cloud St...</td>\n      <td>Cassandra;Redis;PostgreSQL;Amazon DynamoDB;Ama...</td>\n      <td>AWS;Google Cloud Platform/App Engine;Linux;Mac...</td>\n      <td>Amazon Echo;Android;Arduino;AWS;Google Cloud P...</td>\n      <td>.NET Core;Node.js;React</td>\n      <td>.NET Core;Node.js;React;TensorFlow;Torch/PyTorch</td>\n      <td>IntelliJ;Sublime Text;Vim;Visual Studio;Visual...</td>\n      <td>Windows</td>\n      <td>Agile</td>\n      <td>Git</td>\n      <td>5</td>\n      <td>Algorithms making important decisions</td>\n      <td>Algorithms making important decisions</td>\n      <td>Prominent industry leaders</td>\n      <td>I'm excited about the possibilities more than ...</td>\n      <td>20</td>\n      <td>60 months</td>\n      <td>0</td>\n      <td>Fully Paid</td>\n      <td>n</td>\n      <td>https://lendingclub.com/browse/loanDetail.acti...</td>\n      <td>small_business</td>\n      <td>Business</td>\n      <td>958</td>\n      <td>CA</td>\n      <td>12.73</td>\n      <td>[3, May]</td>\n      <td>Aug</td>\n      <td>8126.54</td>\n      <td>NaN</td>\n      <td>Feb</td>\n      <td>1.0</td>\n      <td>0.0</td>\n      <td>May</td>\n      <td>others</td>\n      <td>others</td>\n      <td>0.0</td>\n      <td>1.0</td>\n      <td>1</td>\n      <td>1</td>\n      <td>0</td>\n      <td>0</td>\n      <td>0</td>\n      <td>0</td>\n      <td>0</td>\n      <td>0</td>\n      <td>0</td>\n      <td>0</td>\n      <td>0</td>\n      <td>1</td>\n      <td>0</td>\n      <td>0</td>\n      <td>0</td>\n      <td>0</td>\n      <td>0</td>\n      <td>0</td>\n      <td>0</td>\n      <td>1</td>\n      <td>0</td>\n      <td>0</td>\n    </tr>\n    <tr>\n      <th>963</th>\n      <td>68356229</td>\n      <td>145000.0</td>\n      <td>0</td>\n      <td>19200</td>\n      <td>[Environmental, Health, and, Safety, Officer]</td>\n      <td>[ASSISTANT, EXECUTIVE, DIRECTOR, (]</td>\n      <td>Office of the Chair</td>\n      <td>The New York City Housing Authority (NYCHA) is...</td>\n      <td>1.\\tA baccalaureate degree from an accredited ...</td>\n      <td>â€¢\\tA Baccalaureate degree from an accredited...</td>\n      <td>NYCHA employees applying for promotional, titl...</td>\n      <td>Click the \"Apply Now\" button.</td>\n      <td>NaN</td>\n      <td>NYCHA</td>\n      <td>2019</td>\n      <td>2019</td>\n      <td>2019-12-17T00:00:00.000</td>\n      <td>Professional degree (JD, MD, etc.)</td>\n      <td>Another engineering discipline (ex. civil, ele...</td>\n      <td>15000</td>\n      <td>[Back-end developer, Data or business analyst,...</td>\n      <td>19</td>\n      <td>7</td>\n      <td>Working in a different or more specialized tec...</td>\n      <td>I am not interested in new job opportunities</td>\n      <td>0.5</td>\n      <td>I saw an employer’s advertisement</td>\n      <td>[Confluence, Jira, Other wiki tool (Github, Go...</td>\n      <td>1.5</td>\n      <td>Taken an online course in programming or softw...</td>\n      <td>The official documentation and/or standards fo...</td>\n      <td>NaN</td>\n      <td>NaN</td>\n      <td>-1</td>\n      <td>2</td>\n      <td>0</td>\n      <td>JavaScript;Python;R;SQL;VBA;Cobol;HTML</td>\n      <td>Go;JavaScript;Python;R;Ruby;SQL;TypeScript;VBA...</td>\n      <td>SQL Server;IBM Db2</td>\n      <td>MongoDB;Apache HBase;Apache Hive;Elasticsearch</td>\n      <td>Mainframe</td>\n      <td>AWS;IBM Cloud or Watson</td>\n      <td>NaN</td>\n      <td>Hadoop;TensorFlow</td>\n      <td>Notepad++;PyCharm;RStudio;Visual Studio</td>\n      <td>Windows</td>\n      <td>Agile;Extreme programming (XP);Scrum</td>\n      <td>Git</td>\n      <td>3</td>\n      <td>Artificial intelligence surpassing human intel...</td>\n      <td>Increasing automation of jobs</td>\n      <td>The developers or the people creating the AI</td>\n      <td>I'm excited about the possibilities more than ...</td>\n      <td>40</td>\n      <td>36 months</td>\n      <td>8</td>\n      <td>Fully Paid</td>\n      <td>n</td>\n      <td>https://lendingclub.com/browse/loanDetail.acti...</td>\n      <td>credit_card</td>\n      <td>Credit card refinancing</td>\n      <td>112</td>\n      <td>NY</td>\n      <td>17.84</td>\n      <td>[Apr, 98]</td>\n      <td>Jan</td>\n      <td>577.97</td>\n      <td>NaN</td>\n      <td>Dec</td>\n      <td>1.0</td>\n      <td>0.0</td>\n      <td>Apr</td>\n      <td>others</td>\n      <td>others</td>\n      <td>1.0</td>\n      <td>0.0</td>\n      <td>1</td>\n      <td>1</td>\n      <td>0</td>\n      <td>0</td>\n      <td>0</td>\n      <td>0</td>\n      <td>0</td>\n      <td>0</td>\n      <td>0</td>\n      <td>0</td>\n      <td>0</td>\n      <td>1</td>\n      <td>0</td>\n      <td>0</td>\n      <td>0</td>\n      <td>1</td>\n      <td>0</td>\n      <td>0</td>\n      <td>1</td>\n      <td>0</td>\n      <td>0</td>\n      <td>0</td>\n    </tr>\n    <tr>\n      <th>1961</th>\n      <td>68515142</td>\n      <td>84000.0</td>\n      <td>1</td>\n      <td>12000</td>\n      <td>[Senior, Project, Lead]</td>\n      <td>[ASSOCIATE, HOUSING, DEVELOPMENT]</td>\n      <td>Tenant Resources - Exec &amp; IT</td>\n      <td>Section 8, also known as the Housing Choice Vo...</td>\n      <td>1.A baccalaureate degree from an accredited co...</td>\n      <td>â€¢\\tStrong proficiency with Microsoft Office ...</td>\n      <td>NaN</td>\n      <td>Apply Online</td>\n      <td>NaN</td>\n      <td>New</td>\n      <td>2019</td>\n      <td>2019</td>\n      <td>2019-12-17T00:00:00.000</td>\n      <td>Master’s degree (MA, MS, M.Eng., MBA, etc.)</td>\n      <td>Computer science, computer engineering, or sof...</td>\n      <td>60</td>\n      <td>[Full-stack developer]</td>\n      <td>10</td>\n      <td>0</td>\n      <td>Hopeless</td>\n      <td>I am not interested in new job opportunities</td>\n      <td>0</td>\n      <td>NaN</td>\n      <td>[nan]</td>\n      <td>0</td>\n      <td>NaN</td>\n      <td>NaN</td>\n      <td>NaN</td>\n      <td>NaN</td>\n      <td>0</td>\n      <td>0</td>\n      <td>0</td>\n      <td>NaN</td>\n      <td>NaN</td>\n      <td>NaN</td>\n      <td>NaN</td>\n      <td>NaN</td>\n      <td>NaN</td>\n      <td>NaN</td>\n      <td>NaN</td>\n      <td>NaN</td>\n      <td>None of the given</td>\n      <td>NaN</td>\n      <td>NaN</td>\n      <td>5</td>\n      <td>NaN</td>\n      <td>NaN</td>\n      <td>NaN</td>\n      <td>NaN</td>\n      <td>30</td>\n      <td>60 months</td>\n      <td>4</td>\n      <td>Current</td>\n      <td>n</td>\n      <td>https://lendingclub.com/browse/loanDetail.acti...</td>\n      <td>credit_card</td>\n      <td>Credit card refinancing</td>\n      <td>231</td>\n      <td>VA</td>\n      <td>18.00</td>\n      <td>[Sep, 00]</td>\n      <td>Feb</td>\n      <td>275.75</td>\n      <td>19-Apr</td>\n      <td>Mar</td>\n      <td>1.0</td>\n      <td>0.0</td>\n      <td>Sep</td>\n      <td>others</td>\n      <td>others</td>\n      <td>0.0</td>\n      <td>1.0</td>\n      <td>1</td>\n      <td>1</td>\n      <td>0</td>\n      <td>0</td>\n      <td>0</td>\n      <td>0</td>\n      <td>0</td>\n      <td>0</td>\n      <td>0</td>\n      <td>0</td>\n      <td>0</td>\n      <td>0</td>\n      <td>0</td>\n      <td>0</td>\n      <td>0</td>\n      <td>0</td>\n      <td>0</td>\n      <td>0</td>\n      <td>0</td>\n      <td>0</td>\n      <td>0</td>\n      <td>0</td>\n    </tr>\n    <tr>\n      <th>1401</th>\n      <td>68576309</td>\n      <td>0.0</td>\n      <td>0</td>\n      <td>28000</td>\n      <td>[Business/Data, Analyst,, Bureau, of, Human, R...</td>\n      <td>[IT, SERVICE, MANAGEMENT, SPECIALI]</td>\n      <td>HR Central</td>\n      <td>**IF YOU HAVE A FOREIGN EDUCATION EVALUATION W...</td>\n      <td>1. A baccalaureate degree from an accredited c...</td>\n      <td>a) 3+ years work experience as an business/dat...</td>\n      <td>**IMPORTANT NOTE TO ALL CANDIDATES:  Please no...</td>\n      <td>Apply online with a cover letter to https://a1...</td>\n      <td>NaN</td>\n      <td>New</td>\n      <td>2019</td>\n      <td>2019</td>\n      <td>2019-12-17T00:00:00.000</td>\n      <td>Bachelor’s degree (BA, BS, B.Eng., etc.)</td>\n      <td>Computer science, computer engineering, or sof...</td>\n      <td>300</td>\n      <td>[QA or test developer, System administrator]</td>\n      <td>10</td>\n      <td>1</td>\n      <td>Working as an engineering manager or other fun...</td>\n      <td>I am not interested in new job opportunities</td>\n      <td>1.5</td>\n      <td>My job status or other personal status changed</td>\n      <td>[Slack, Other chat system (IRC, proprietary so...</td>\n      <td>0</td>\n      <td>Taken an online course in programming or softw...</td>\n      <td>The official documentation and/or standards fo...</td>\n      <td>NaN</td>\n      <td>NaN</td>\n      <td>1</td>\n      <td>0</td>\n      <td>1</td>\n      <td>Java;Objective-C;Bash/Shell</td>\n      <td>Python</td>\n      <td>NaN</td>\n      <td>NaN</td>\n      <td>NaN</td>\n      <td>NaN</td>\n      <td>React</td>\n      <td>NaN</td>\n      <td>Android Studio;Notepad++;Xcode</td>\n      <td>Windows</td>\n      <td>Agile;Formal standard such as ISO 9001 or IEEE...</td>\n      <td>Git;Copying and pasting files to network share...</td>\n      <td>2</td>\n      <td>Evolving definitions of \"fairness\" in algorith...</td>\n      <td>Algorithms making important decisions</td>\n      <td>The developers or the people creating the AI</td>\n      <td>I'm excited about the possibilities more than ...</td>\n      <td>40</td>\n      <td>36 months</td>\n      <td>0</td>\n      <td>Fully Paid</td>\n      <td>n</td>\n      <td>https://lendingclub.com/browse/loanDetail.acti...</td>\n      <td>debt_consolidation</td>\n      <td>Debt consolidation</td>\n      <td>347</td>\n      <td>FL</td>\n      <td>14.58</td>\n      <td>[7, Oct]</td>\n      <td>Dec</td>\n      <td>21643.73</td>\n      <td>NaN</td>\n      <td>Mar</td>\n      <td>1.0</td>\n      <td>0.0</td>\n      <td>Oct</td>\n      <td>others</td>\n      <td>others</td>\n      <td>1.0</td>\n      <td>1.0</td>\n      <td>0</td>\n      <td>1</td>\n      <td>0</td>\n      <td>0</td>\n      <td>0</td>\n      <td>0</td>\n      <td>0</td>\n      <td>0</td>\n      <td>0</td>\n      <td>0</td>\n      <td>0</td>\n      <td>0</td>\n      <td>0</td>\n      <td>0</td>\n      <td>0</td>\n      <td>0</td>\n      <td>0</td>\n      <td>1</td>\n      <td>0</td>\n      <td>1</td>\n      <td>0</td>\n      <td>0</td>\n    </tr>\n    <tr>\n      <th>2556</th>\n      <td>68564978</td>\n      <td>90114.0</td>\n      <td>0</td>\n      <td>12000</td>\n      <td>[Supervisor, (Project, Review)]</td>\n      <td>[ASSOCIATE, PROJECT, MANAGER]</td>\n      <td>Watshed Plan Protec/Ashokan</td>\n      <td>The NYC Department of Environmental Protection...</td>\n      <td>One year of full-time satisfactory experience ...</td>\n      <td>â€¢ Proficiency in Microsoft Office Suite incl...</td>\n      <td>DEP is an equal opportunity employer with a st...</td>\n      <td>New York City residency is not required for th...</td>\n      <td>35 Hours per week / May be required to work sh...</td>\n      <td>New</td>\n      <td>2019</td>\n      <td>2019</td>\n      <td>2019-12-17T00:00:00.000</td>\n      <td>Other doctoral degree (Ph.D, Ed.D., etc.)</td>\n      <td>A humanities discipline (ex. literature, histo...</td>\n      <td>300</td>\n      <td>[Back-end developer, Data or business analyst,...</td>\n      <td>25</td>\n      <td>25</td>\n      <td>Working as a product manager or project manager</td>\n      <td>I’m not actively looking, but I am open to new...</td>\n      <td>0.5</td>\n      <td>I had a negative experience or interaction at ...</td>\n      <td>[Google Hangouts/Chat, Office / productivity s...</td>\n      <td>0</td>\n      <td>Taken an online course in programming or softw...</td>\n      <td>The official documentation and/or standards fo...</td>\n      <td>NaN</td>\n      <td>NaN</td>\n      <td>1</td>\n      <td>-2</td>\n      <td>-2</td>\n      <td>C#;PHP;R;SQL;HTML;CSS</td>\n      <td>C#;R;SQL;HTML;CSS</td>\n      <td>SQL Server;MySQL;Oracle</td>\n      <td>SQL Server;Microsoft Azure (Tables, CosmosDB, ...</td>\n      <td>Azure;SharePoint;WordPress</td>\n      <td>Azure</td>\n      <td>NaN</td>\n      <td>.NET Core</td>\n      <td>Notepad++;Visual Studio</td>\n      <td>Windows</td>\n      <td>Agile;Formal standard such as ISO 9001 or IEEE...</td>\n      <td>Git;Team Foundation Version Control</td>\n      <td>5</td>\n      <td>Algorithms making important decisions</td>\n      <td>Increasing automation of jobs</td>\n      <td>The developers or the people creating the AI</td>\n      <td>I'm worried about the dangers more than I'm ex...</td>\n      <td>50</td>\n      <td>60 months</td>\n      <td>10</td>\n      <td>Fully Paid</td>\n      <td>n</td>\n      <td>https://lendingclub.com/browse/loanDetail.acti...</td>\n      <td>credit_card</td>\n      <td>Credit card refinancing</td>\n      <td>442</td>\n      <td>OH</td>\n      <td>31.43</td>\n      <td>[Feb, 00]</td>\n      <td>Feb</td>\n      <td>8202.43</td>\n      <td>NaN</td>\n      <td>Mar</td>\n      <td>1.0</td>\n      <td>1.0</td>\n      <td>Feb</td>\n      <td>others</td>\n      <td>manager</td>\n      <td>1.0</td>\n      <td>1.0</td>\n      <td>1</td>\n      <td>1</td>\n      <td>0</td>\n      <td>0</td>\n      <td>0</td>\n      <td>0</td>\n      <td>0</td>\n      <td>0</td>\n      <td>0</td>\n      <td>0</td>\n      <td>0</td>\n      <td>0</td>\n      <td>0</td>\n      <td>1</td>\n      <td>0</td>\n      <td>0</td>\n      <td>1</td>\n      <td>0</td>\n      <td>0</td>\n      <td>1</td>\n      <td>0</td>\n      <td>1</td>\n    </tr>\n  </tbody>\n</table>\n</div>"
     },
     "metadata": {},
     "execution_count": 266
    }
   ],
   "source": [
    "df.sample(5)"
   ]
  },
  {
   "cell_type": "code",
   "execution_count": 272,
   "metadata": {},
   "outputs": [],
   "source": [
    "df['EducationTypes'] = df['EducationTypes'].apply(lambda x: str(x).split(\";\"))"
   ]
  },
  {
   "cell_type": "code",
   "execution_count": 273,
   "metadata": {},
   "outputs": [
    {
     "output_type": "execute_result",
     "data": {
      "text/plain": [
       "{'Completed an industry certification program (e.g. MCPD)',\n",
       " 'Contributed to open source software',\n",
       " 'Participated in a full-time developer training program or bootcamp',\n",
       " 'Participated in a hackathon',\n",
       " 'Participated in online coding competitions (e.g. HackerRank, CodeChef, TopCoder)',\n",
       " 'Received on-the-job training in software development',\n",
       " 'Taken a part-time in-person course in programming or software development',\n",
       " 'Taken an online course in programming or software development (e.g. a MOOC)',\n",
       " 'Taught yourself a new language, framework, or tool without taking a formal course',\n",
       " 'nan'}"
      ]
     },
     "metadata": {},
     "execution_count": 273
    }
   ],
   "source": [
    "set(itertools.chain.from_iterable(df.EducationTypes)) "
   ]
  },
  {
   "cell_type": "code",
   "execution_count": 274,
   "metadata": {},
   "outputs": [],
   "source": [
    "def find_comp(list_):\n",
    "    for i in list_:\n",
    "        if ('Completed an industry certification program (e.g. MCPD)' in list_):\n",
    "            k = 1\n",
    "        else:\n",
    "            k = 0\n",
    "        return k\n",
    "def find_contri(list_):\n",
    "    for i in list_:\n",
    "        if ('Contributed to open source software' in list_):\n",
    "            k = 1\n",
    "        else:\n",
    "            k = 0\n",
    "        return k\n",
    "def find_ftd(list_):\n",
    "    for i in list_:\n",
    "        if ('Participated in a full-time developer training program or bootcamp' in list_):\n",
    "            k = 1\n",
    "        else:\n",
    "            k = 0\n",
    "        return k\n",
    "def find_hack(list_):\n",
    "    for i in list_:\n",
    "        if ('Participated in a hackathon' in list_):\n",
    "            k = 1\n",
    "        else:\n",
    "            k = 0\n",
    "        return k\n",
    "def find_occ(list_):\n",
    "    for i in list_:\n",
    "        if ('Participated in online coding competitions (e.g. HackerRank, CodeChef, TopCoder)' in list_):\n",
    "            k = 1\n",
    "        else:\n",
    "            k = 0\n",
    "        return k\n",
    "def find_otj(list_):\n",
    "    for i in list_:\n",
    "        if ('Received on-the-job training in software development' in list_):\n",
    "            k = 1\n",
    "        else:\n",
    "            k = 0\n",
    "        return k\n",
    "def find_ptc(list_):\n",
    "    for i in list_:\n",
    "        if ('Taken a part-time in-person course in programming or software development' in list_):\n",
    "            k = 1\n",
    "        else:\n",
    "            k = 0\n",
    "        return k\n",
    "def find_mooc(list_):\n",
    "    for i in list_:\n",
    "        if ('Taken an online course in programming or software development (e.g. a MOOC)' in list_):\n",
    "            k = 1\n",
    "        else:\n",
    "            k = 0\n",
    "        return k\n",
    "def find_self(list_):\n",
    "    for i in list_:\n",
    "        if ('Taught yourself a new language, framework, or tool without taking a formal course' in list_):\n",
    "            k = 1\n",
    "        else:\n",
    "            k = 0\n",
    "        return k"
   ]
  },
  {
   "cell_type": "code",
   "execution_count": 275,
   "metadata": {},
   "outputs": [],
   "source": [
    "df['et_comp'] = df['EducationTypes'].apply(find_comp)\n",
    "df['et_contri'] = df['EducationTypes'].apply(find_contri)\n",
    "df['et_ftd'] = df['EducationTypes'].apply(find_ftd)\n",
    "df['et_hack'] = df['EducationTypes'].apply(find_hack)\n",
    "df['et_occ'] = df['EducationTypes'].apply(find_occ)\n",
    "df['et_otj'] = df['EducationTypes'].apply(find_otj)\n",
    "df['et_ptc'] = df['EducationTypes'].apply(find_ptc)\n",
    "df['et_mooc'] = df['EducationTypes'].apply(find_mooc)\n",
    "df['et_self'] = df['EducationTypes'].apply(find_self)\n",
    "\n"
   ]
  },
  {
   "cell_type": "code",
   "execution_count": 277,
   "metadata": {},
   "outputs": [
    {
     "output_type": "execute_result",
     "data": {
      "text/plain": [
       "1134"
      ]
     },
     "metadata": {},
     "execution_count": 277
    }
   ],
   "source": [
    "df['SelfTaughtTypes'].isnull().sum()"
   ]
  },
  {
   "cell_type": "code",
   "execution_count": 279,
   "metadata": {},
   "outputs": [],
   "source": [
    "df['SelfTaughtTypes'] = df['SelfTaughtTypes'].apply(lambda x: str(x).split(\";\"))"
   ]
  },
  {
   "cell_type": "code",
   "execution_count": 280,
   "metadata": {},
   "outputs": [
    {
     "output_type": "execute_result",
     "data": {
      "text/plain": [
       "{'A book or e-book from O’Reilly, Apress, or a similar publisher',\n",
       " 'A college/university computer science or software engineering book',\n",
       " 'Internal Wikis, chat rooms, or documentation set up by my company for employees',\n",
       " 'Online developer communities other than Stack Overflow (ex. forums, listservs, IRC channels, etc.)',\n",
       " 'Pre-scheduled tutoring or mentoring sessions with a friend or colleague',\n",
       " 'Questions & answers on Stack Overflow',\n",
       " 'Tapping your network of friends, family, and peers versed in the technology',\n",
       " 'The official documentation and/or standards for the technology',\n",
       " 'The technology’s online help system',\n",
       " 'nan'}"
      ]
     },
     "metadata": {},
     "execution_count": 280
    }
   ],
   "source": [
    "set(itertools.chain.from_iterable(df.SelfTaughtTypes)) "
   ]
  },
  {
   "cell_type": "code",
   "execution_count": 281,
   "metadata": {},
   "outputs": [],
   "source": [
    "def find_book(list_):\n",
    "    for i in list_:\n",
    "        if ('A book or e-book from O’Reilly, Apress, or a similar publisher' in list_):\n",
    "            k = 1\n",
    "        else:\n",
    "            k = 0\n",
    "        return k\n",
    "def find_uni(list_):\n",
    "    for i in list_:\n",
    "        if ('A college/university computer science or software engineering book' in list_):\n",
    "            k = 1\n",
    "        else:\n",
    "            k = 0\n",
    "        return k\n",
    "def find_wiki(list_):\n",
    "    for i in list_:\n",
    "        if ('Internal Wikis, chat rooms, or documentation set up by my company for employees' in list_):\n",
    "            k = 1\n",
    "        else:\n",
    "            k = 0\n",
    "        return k\n",
    "def find_tut(list_):\n",
    "    for i in list_:\n",
    "        if ('Pre-scheduled tutoring or mentoring sessions with a friend or colleague' in list_):\n",
    "            k = 1\n",
    "        else:\n",
    "            k = 0\n",
    "        return k\n",
    "def find_so(list_):\n",
    "    for i in list_:\n",
    "        if ('Questions & answers on Stack Overflow' in list_):\n",
    "            k = 1\n",
    "        else:\n",
    "            k = 0\n",
    "        return k\n",
    "def find_tap(list_):\n",
    "    for i in list_:\n",
    "        if ('Tapping your network of friends, family, and peers versed in the technology' in list_):\n",
    "            k = 1\n",
    "        else:\n",
    "            k = 0\n",
    "        return k\n",
    "def find_irc(list_):\n",
    "    for i in list_:\n",
    "        if ('Online developer communities other than Stack Overflow (ex. forums, listservs, IRC channels, etc.)' in list_):\n",
    "            k = 1\n",
    "        else:\n",
    "            k = 0\n",
    "        return k\n",
    "def find_doc(list_):\n",
    "    for i in list_:\n",
    "        if ('The official documentation and/or standards for the technology' in list_):\n",
    "            k = 1\n",
    "        else:\n",
    "            k = 0\n",
    "        return k\n",
    "def find_tohs(list_):\n",
    "    for i in list_:\n",
    "        if ('The technology’s online help system' in list_):\n",
    "            k = 1\n",
    "        else:\n",
    "            k = 0\n",
    "        return k"
   ]
  },
  {
   "cell_type": "code",
   "execution_count": 282,
   "metadata": {},
   "outputs": [],
   "source": [
    "df['stt_book'] = df['SelfTaughtTypes'].apply(find_book)\n",
    "df['stt_uni'] = df['SelfTaughtTypes'].apply(find_uni)\n",
    "df['stt_wiki'] = df['SelfTaughtTypes'].apply(find_wiki)\n",
    "df['stt_tut'] = df['SelfTaughtTypes'].apply(find_tut)\n",
    "df['stt_so'] = df['SelfTaughtTypes'].apply(find_so)\n",
    "df['stt_tap'] = df['SelfTaughtTypes'].apply(find_tap)\n",
    "df['stt_irc'] = df['SelfTaughtTypes'].apply(find_irc)\n",
    "df['stt_doc'] = df['SelfTaughtTypes'].apply(find_doc)\n",
    "df['stt_tohs'] = df['SelfTaughtTypes'].apply(find_tohs)\n"
   ]
  },
  {
   "cell_type": "code",
   "execution_count": 304,
   "metadata": {},
   "outputs": [
    {
     "output_type": "execute_result",
     "data": {
      "text/plain": [
       "499"
      ]
     },
     "metadata": {},
     "execution_count": 304
    }
   ],
   "source": [
    "df['LanguageWorkedWith'].isnull().sum()"
   ]
  },
  {
   "cell_type": "code",
   "execution_count": 307,
   "metadata": {},
   "outputs": [],
   "source": [
    "df['LanguageWorkedWith'] = df['LanguageWorkedWith'].apply(lambda x: str(x).split(\";\"))"
   ]
  },
  {
   "cell_type": "code",
   "execution_count": 308,
   "metadata": {},
   "outputs": [
    {
     "output_type": "execute_result",
     "data": {
      "text/plain": [
       "{'Assembly',\n",
       " 'Bash/Shell',\n",
       " 'C',\n",
       " 'C#',\n",
       " 'C++',\n",
       " 'CSS',\n",
       " 'Clojure',\n",
       " 'Cobol',\n",
       " 'CoffeeScript',\n",
       " 'Delphi/Object Pascal',\n",
       " 'Erlang',\n",
       " 'F#',\n",
       " 'Go',\n",
       " 'Groovy',\n",
       " 'HTML',\n",
       " 'Hack',\n",
       " 'Haskell',\n",
       " 'Java',\n",
       " 'JavaScript',\n",
       " 'Julia',\n",
       " 'Kotlin',\n",
       " 'Lua',\n",
       " 'Matlab',\n",
       " 'Objective-C',\n",
       " 'Ocaml',\n",
       " 'PHP',\n",
       " 'Perl',\n",
       " 'Python',\n",
       " 'R',\n",
       " 'Ruby',\n",
       " 'Rust',\n",
       " 'SQL',\n",
       " 'Scala',\n",
       " 'Swift',\n",
       " 'TypeScript',\n",
       " 'VB.NET',\n",
       " 'VBA',\n",
       " 'Visual Basic 6',\n",
       " 'nan'}"
      ]
     },
     "metadata": {},
     "execution_count": 308
    }
   ],
   "source": [
    "set(itertools.chain.from_iterable(df.LanguageWorkedWith)) "
   ]
  },
  {
   "cell_type": "code",
   "execution_count": 309,
   "metadata": {},
   "outputs": [],
   "source": [
    "def py(list_):\n",
    "    for i in list_:\n",
    "        if ('Python' in list_):\n",
    "            k = 1\n",
    "        else:\n",
    "            k = 0\n",
    "        return k\n",
    "def js(list_):\n",
    "    for i in list_:\n",
    "        if ('JavaScript' in list_):\n",
    "            k = 1\n",
    "        else:\n",
    "            k = 0\n",
    "        return k\n",
    "def java(list_):\n",
    "    for i in list_:\n",
    "        if ('Java' in list_):\n",
    "            k = 1\n",
    "        else:\n",
    "            k = 0\n",
    "        return k\n",
    "def ch(list_):\n",
    "    for i in list_:\n",
    "        if ('C#' in list_):\n",
    "            k = 1\n",
    "        else:\n",
    "            k = 0\n",
    "        return k\n",
    "def c(list_):\n",
    "    for i in list_:\n",
    "        if ('C' in list_):\n",
    "            k = 1\n",
    "        else:\n",
    "            k = 0\n",
    "        return k\n",
    "def cpp(list_):\n",
    "    for i in list_:\n",
    "        if ('C++' in list_):\n",
    "            k = 1\n",
    "        else:\n",
    "            k = 0\n",
    "        return k\n",
    "def go(list_):\n",
    "    for i in list_:\n",
    "        if ('Go' in list_):\n",
    "            k = 1\n",
    "        else:\n",
    "            k = 0\n",
    "        return k\n",
    "def r(list_):\n",
    "    for i in list_:\n",
    "        if ('R' in list_):\n",
    "            k = 1\n",
    "        else:\n",
    "            k = 0\n",
    "        return k\n",
    "def swift(list_):\n",
    "    for i in list_:\n",
    "        if ('Swift' in list_):\n",
    "            k = 1\n",
    "        else:\n",
    "            k = 0\n",
    "        return k\n",
    "def php(list_):\n",
    "    for i in list_:\n",
    "        if ('PHP' in list_):\n",
    "            k = 1\n",
    "        else:\n",
    "            k = 0\n",
    "        return k"
   ]
  },
  {
   "cell_type": "code",
   "execution_count": 310,
   "metadata": {},
   "outputs": [],
   "source": [
    "df['lww_py'] = df['LanguageWorkedWith'].apply(py)\n",
    "df['lww_js'] = df['LanguageWorkedWith'].apply(js)\n",
    "df['lww_java'] = df['LanguageWorkedWith'].apply(java)\n",
    "df['lww_ch'] = df['LanguageWorkedWith'].apply(ch)\n",
    "df['lww_c'] = df['LanguageWorkedWith'].apply(c)\n",
    "df['lww_cpp'] = df['LanguageWorkedWith'].apply(cpp)\n",
    "df['lww_go'] = df['LanguageWorkedWith'].apply(go)\n",
    "df['lww_r'] = df['LanguageWorkedWith'].apply(r)\n",
    "df['lww_swift'] = df['LanguageWorkedWith'].apply(swift)\n",
    "df['lww_php'] = df['LanguageWorkedWith'].apply(php)\n"
   ]
  },
  {
   "cell_type": "code",
   "execution_count": null,
   "metadata": {},
   "outputs": [],
   "source": []
  }
 ]
}