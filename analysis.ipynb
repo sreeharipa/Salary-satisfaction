{
 "metadata": {
  "language_info": {
   "codemirror_mode": {
    "name": "ipython",
    "version": 3
   },
   "file_extension": ".py",
   "mimetype": "text/x-python",
   "name": "python",
   "nbconvert_exporter": "python",
   "pygments_lexer": "ipython3",
   "version": "3.7.0"
  },
  "orig_nbformat": 2,
  "kernelspec": {
   "name": "python37032bit609734c49ca14e26a118541c06650490",
   "display_name": "Python 3.7.0 32-bit"
  },
  "metadata": {
   "interpreter": {
    "hash": "a9f0e5242b76620d354f2acae913d66ded7e850a66e3cb2e130e3aa882d33a20"
   }
  }
 },
 "nbformat": 4,
 "nbformat_minor": 2,
 "cells": [
  {
   "cell_type": "code",
   "execution_count": 1,
   "metadata": {},
   "outputs": [],
   "source": [
    "import pandas as pd\n",
    "import numpy as np\n",
    "from sklearn.model_selection import train_test_split\n",
    "import seaborn as sns\n",
    "import itertools\n"
   ]
  },
  {
   "cell_type": "code",
   "execution_count": 2,
   "metadata": {},
   "outputs": [],
   "source": [
    "df = pd.read_csv(\"tough_dataset.csv\")\n",
    "backup = df"
   ]
  },
  {
   "cell_type": "code",
   "execution_count": 3,
   "metadata": {},
   "outputs": [
    {
     "output_type": "execute_result",
     "data": {
      "text/plain": [
       "(2946, 69)"
      ]
     },
     "metadata": {},
     "execution_count": 3
    }
   ],
   "source": [
    "df.shape"
   ]
  },
  {
   "cell_type": "code",
   "execution_count": 4,
   "metadata": {},
   "outputs": [
    {
     "output_type": "execute_result",
     "data": {
      "text/plain": [
       "'\\npd.options.display.max_columns = None\\npd.options.display.max_rows = None\\n'"
      ]
     },
     "metadata": {},
     "execution_count": 4
    }
   ],
   "source": [
    "\"\"\"\n",
    "pd.options.display.max_columns = None\n",
    "pd.options.display.max_rows = None\n",
    "\"\"\"\n"
   ]
  },
  {
   "cell_type": "code",
   "execution_count": 5,
   "metadata": {},
   "outputs": [
    {
     "output_type": "execute_result",
     "data": {
      "text/plain": [
       "Index(['id', 'Target A', 'Target B', 'LOAN_AMT', 'Business Title',\n",
       "       'Civil Service Title', 'Division/Work Unit', 'Job Description',\n",
       "       'Minimum Qual Requirements', 'Preferred Skills',\n",
       "       'Additional Information', 'To Apply', 'Hours/Shift',\n",
       "       'Residency Requirement', 'Posting Date', 'Posting Updated',\n",
       "       'Process Date', 'FormalEducation', 'UndergradMajor', 'CompanySize',\n",
       "       'DevType', 'YearsCoding', 'YearsCodingProf', 'HopeFiveYears',\n",
       "       'JobSearchStatus', 'LastNewJob', 'UpdateCV', 'CommunicationTools',\n",
       "       'TimeFullyProductive', 'EducationTypes', 'SelfTaughtTypes',\n",
       "       'TimeAfterBootcamp', 'HackathonReasons', 'AgreeDisagree1',\n",
       "       'AgreeDisagree2', 'AgreeDisagree3', 'LanguageWorkedWith',\n",
       "       'LanguageDesireNextYear', 'DatabaseWorkedWith',\n",
       "       'DatabaseDesireNextYear', 'PlatformWorkedWith',\n",
       "       'PlatformDesireNextYear', 'FrameworkWorkedWith',\n",
       "       'FrameworkDesireNextYear', 'IDE', 'OperatingSystem', 'Methodology',\n",
       "       'VersionControl', 'CheckInCode', 'AIDangerous', 'AIInteresting',\n",
       "       'AIResponsible', 'AIFuture', 'Age', 'term', 'emp_length', 'loan_status',\n",
       "       'pymnt_plan', 'url', 'purpose', 'title', 'zip_code', 'addr_state',\n",
       "       'dti', 'earliest_cr_line', 'last_pymnt_d', 'last_pymnt_amnt',\n",
       "       'next_pymnt_d', 'last_credit_pull_d'],\n",
       "      dtype='object')"
      ]
     },
     "metadata": {},
     "execution_count": 5
    }
   ],
   "source": [
    "df.columns"
   ]
  },
  {
   "cell_type": "code",
   "execution_count": 6,
   "metadata": {},
   "outputs": [
    {
     "output_type": "execute_result",
     "data": {
      "text/plain": [
       "                 id       Target A     Target B      LOAN_AMT          dti  \\\n",
       "count  2.946000e+03    2946.000000  2946.000000   2946.000000  2946.000000   \n",
       "mean   6.830623e+07   58904.139794     0.210115  15345.663612    19.444117   \n",
       "std    1.814269e+06   26986.575936     0.407460   8636.391303     8.628543   \n",
       "min    3.617740e+05       0.000000     0.000000   1000.000000     0.000000   \n",
       "25%    6.837622e+07   49390.000000     0.000000   8681.250000    13.035000   \n",
       "50%    6.846507e+07   58440.000000     0.000000  14400.000000    18.905000   \n",
       "75%    6.853764e+07   73171.750000     0.000000  20000.000000    25.580000   \n",
       "max    6.861706e+07  218587.000000     1.000000  35000.000000    51.200000   \n",
       "\n",
       "       last_pymnt_amnt  \n",
       "count      2946.000000  \n",
       "mean       4663.227026  \n",
       "std        6855.297610  \n",
       "min           0.030000  \n",
       "25%         362.980000  \n",
       "50%         842.235000  \n",
       "75%        6832.185000  \n",
       "max       35467.750000  "
      ],
      "text/html": "<div>\n<style scoped>\n    .dataframe tbody tr th:only-of-type {\n        vertical-align: middle;\n    }\n\n    .dataframe tbody tr th {\n        vertical-align: top;\n    }\n\n    .dataframe thead th {\n        text-align: right;\n    }\n</style>\n<table border=\"1\" class=\"dataframe\">\n  <thead>\n    <tr style=\"text-align: right;\">\n      <th></th>\n      <th>id</th>\n      <th>Target A</th>\n      <th>Target B</th>\n      <th>LOAN_AMT</th>\n      <th>dti</th>\n      <th>last_pymnt_amnt</th>\n    </tr>\n  </thead>\n  <tbody>\n    <tr>\n      <th>count</th>\n      <td>2.946000e+03</td>\n      <td>2946.000000</td>\n      <td>2946.000000</td>\n      <td>2946.000000</td>\n      <td>2946.000000</td>\n      <td>2946.000000</td>\n    </tr>\n    <tr>\n      <th>mean</th>\n      <td>6.830623e+07</td>\n      <td>58904.139794</td>\n      <td>0.210115</td>\n      <td>15345.663612</td>\n      <td>19.444117</td>\n      <td>4663.227026</td>\n    </tr>\n    <tr>\n      <th>std</th>\n      <td>1.814269e+06</td>\n      <td>26986.575936</td>\n      <td>0.407460</td>\n      <td>8636.391303</td>\n      <td>8.628543</td>\n      <td>6855.297610</td>\n    </tr>\n    <tr>\n      <th>min</th>\n      <td>3.617740e+05</td>\n      <td>0.000000</td>\n      <td>0.000000</td>\n      <td>1000.000000</td>\n      <td>0.000000</td>\n      <td>0.030000</td>\n    </tr>\n    <tr>\n      <th>25%</th>\n      <td>6.837622e+07</td>\n      <td>49390.000000</td>\n      <td>0.000000</td>\n      <td>8681.250000</td>\n      <td>13.035000</td>\n      <td>362.980000</td>\n    </tr>\n    <tr>\n      <th>50%</th>\n      <td>6.846507e+07</td>\n      <td>58440.000000</td>\n      <td>0.000000</td>\n      <td>14400.000000</td>\n      <td>18.905000</td>\n      <td>842.235000</td>\n    </tr>\n    <tr>\n      <th>75%</th>\n      <td>6.853764e+07</td>\n      <td>73171.750000</td>\n      <td>0.000000</td>\n      <td>20000.000000</td>\n      <td>25.580000</td>\n      <td>6832.185000</td>\n    </tr>\n    <tr>\n      <th>max</th>\n      <td>6.861706e+07</td>\n      <td>218587.000000</td>\n      <td>1.000000</td>\n      <td>35000.000000</td>\n      <td>51.200000</td>\n      <td>35467.750000</td>\n    </tr>\n  </tbody>\n</table>\n</div>"
     },
     "metadata": {},
     "execution_count": 6
    }
   ],
   "source": [
    "df.describe()"
   ]
  },
  {
   "cell_type": "code",
   "execution_count": 7,
   "metadata": {},
   "outputs": [
    {
     "output_type": "execute_result",
     "data": {
      "text/plain": [
       "id                           False\n",
       "Target A                     False\n",
       "Target B                     False\n",
       "LOAN_AMT                     False\n",
       "Business Title               False\n",
       "Civil Service Title          False\n",
       "Division/Work Unit           False\n",
       "Job Description              False\n",
       "Minimum Qual Requirements     True\n",
       "Preferred Skills              True\n",
       "Additional Information        True\n",
       "To Apply                      True\n",
       "Hours/Shift                   True\n",
       "Residency Requirement         True\n",
       "Posting Date                  True\n",
       "Posting Updated               True\n",
       "Process Date                  True\n",
       "FormalEducation               True\n",
       "UndergradMajor                True\n",
       "CompanySize                  False\n",
       "DevType                       True\n",
       "YearsCoding                   True\n",
       "YearsCodingProf               True\n",
       "HopeFiveYears                 True\n",
       "JobSearchStatus               True\n",
       "LastNewJob                    True\n",
       "UpdateCV                      True\n",
       "CommunicationTools            True\n",
       "TimeFullyProductive           True\n",
       "EducationTypes                True\n",
       "                             ...  \n",
       "DatabaseDesireNextYear        True\n",
       "PlatformWorkedWith            True\n",
       "PlatformDesireNextYear        True\n",
       "FrameworkWorkedWith           True\n",
       "FrameworkDesireNextYear       True\n",
       "IDE                           True\n",
       "OperatingSystem               True\n",
       "Methodology                   True\n",
       "VersionControl                True\n",
       "CheckInCode                   True\n",
       "AIDangerous                   True\n",
       "AIInteresting                 True\n",
       "AIResponsible                 True\n",
       "AIFuture                      True\n",
       "Age                           True\n",
       "term                         False\n",
       "emp_length                    True\n",
       "loan_status                  False\n",
       "pymnt_plan                   False\n",
       "url                          False\n",
       "purpose                      False\n",
       "title                         True\n",
       "zip_code                     False\n",
       "addr_state                   False\n",
       "dti                          False\n",
       "earliest_cr_line             False\n",
       "last_pymnt_d                 False\n",
       "last_pymnt_amnt              False\n",
       "next_pymnt_d                  True\n",
       "last_credit_pull_d           False\n",
       "Length: 69, dtype: bool"
      ]
     },
     "metadata": {},
     "execution_count": 7
    }
   ],
   "source": [
    "df.isnull().any()"
   ]
  },
  {
   "cell_type": "code",
   "execution_count": 8,
   "metadata": {},
   "outputs": [],
   "source": [
    "train, test = train_test_split(df, test_size = 0.2)"
   ]
  },
  {
   "cell_type": "code",
   "execution_count": 9,
   "metadata": {},
   "outputs": [
    {
     "output_type": "execute_result",
     "data": {
      "text/plain": [
       "         id  Target A  Target B  LOAN_AMT  \\\n",
       "0  68407277  42405.00         0      3600   \n",
       "1  68355089  60740.00         1     24700   \n",
       "2  68341763  51907.68         0     20000   \n",
       "3  66310712  51907.68         0     35000   \n",
       "4  68476807     35.00         1     10400   \n",
       "\n",
       "                                      Business Title  \\\n",
       "0                                    Account Manager   \n",
       "1           EXECUTIVE DIRECTOR, BUSINESS DEVELOPMENT   \n",
       "2  Maintenance Worker - Technical Services-Heatin...   \n",
       "3  Maintenance Worker - Technical Services-Heatin...   \n",
       "4                                  Temporary Painter   \n",
       "\n",
       "              Civil Service Title              Division/Work Unit  \\\n",
       "0  CONTRACT REVIEWER (OFFICE OF L            Strategy & Analytics   \n",
       "1  ADMINISTRATIVE BUSINESS PROMOT            Tech Talent Pipeline   \n",
       "2              MAINTENANCE WORKER  Management Services Department   \n",
       "3              MAINTENANCE WORKER  Management Services Department   \n",
       "4                         PAINTER   Dept of Management & Planning   \n",
       "\n",
       "                                     Job Description  \\\n",
       "0  Division of Economic & Financial Opportunity (...   \n",
       "1  The New York City Department of Small Business...   \n",
       "2  Under direct supervision, assist in the routin...   \n",
       "3  Under direct supervision, assist in the routin...   \n",
       "4  Responsibilities of selected candidates will i...   \n",
       "\n",
       "                           Minimum Qual Requirements  \\\n",
       "0  1.\\tA baccalaureate degree from an accredited ...   \n",
       "1  1. A baccalaureate degree from an accredited c...   \n",
       "2  1. Three years of full-time satisfactory exper...   \n",
       "3  1. Three years of full-time satisfactory exper...   \n",
       "4  1. Five years of full-time satisfactory experi...   \n",
       "\n",
       "                                    Preferred Skills        ...          \\\n",
       "0  â€¢\\tExcellent interpersonal and organizationa...        ...           \n",
       "1                                                NaN        ...           \n",
       "2  1.  A High School Diploma or GED.  2.  CDL Dri...        ...           \n",
       "3  1.  A High School Diploma or GED.  2.  CDL Dri...        ...           \n",
       "4                                                NaN        ...           \n",
       "\n",
       "              purpose               title zip_code addr_state    dti  \\\n",
       "0  debt_consolidation  Debt consolidation    190xx         PA   5.91   \n",
       "1      small_business            Business    577xx         SD  16.06   \n",
       "2    home_improvement                 NaN    605xx         IL  10.78   \n",
       "3  debt_consolidation  Debt consolidation    076xx         NJ  17.06   \n",
       "4      major_purchase      Major purchase    174xx         PA  25.37   \n",
       "\n",
       "  earliest_cr_line last_pymnt_d last_pymnt_amnt next_pymnt_d  \\\n",
       "0            3-Aug       19-Jan          122.67          NaN   \n",
       "1           Dec-99       16-Jun          926.35          NaN   \n",
       "2           Aug-00       17-Jun        15813.30          NaN   \n",
       "3            8-Sep       19-Feb          829.90       19-Apr   \n",
       "4           Jun-98       16-Jul        10128.96          NaN   \n",
       "\n",
       "  last_credit_pull_d  \n",
       "0             19-Mar  \n",
       "1             19-Mar  \n",
       "2             19-Mar  \n",
       "3             19-Mar  \n",
       "4             18-Mar  \n",
       "\n",
       "[5 rows x 69 columns]"
      ],
      "text/html": "<div>\n<style scoped>\n    .dataframe tbody tr th:only-of-type {\n        vertical-align: middle;\n    }\n\n    .dataframe tbody tr th {\n        vertical-align: top;\n    }\n\n    .dataframe thead th {\n        text-align: right;\n    }\n</style>\n<table border=\"1\" class=\"dataframe\">\n  <thead>\n    <tr style=\"text-align: right;\">\n      <th></th>\n      <th>id</th>\n      <th>Target A</th>\n      <th>Target B</th>\n      <th>LOAN_AMT</th>\n      <th>Business Title</th>\n      <th>Civil Service Title</th>\n      <th>Division/Work Unit</th>\n      <th>Job Description</th>\n      <th>Minimum Qual Requirements</th>\n      <th>Preferred Skills</th>\n      <th>...</th>\n      <th>purpose</th>\n      <th>title</th>\n      <th>zip_code</th>\n      <th>addr_state</th>\n      <th>dti</th>\n      <th>earliest_cr_line</th>\n      <th>last_pymnt_d</th>\n      <th>last_pymnt_amnt</th>\n      <th>next_pymnt_d</th>\n      <th>last_credit_pull_d</th>\n    </tr>\n  </thead>\n  <tbody>\n    <tr>\n      <th>0</th>\n      <td>68407277</td>\n      <td>42405.00</td>\n      <td>0</td>\n      <td>3600</td>\n      <td>Account Manager</td>\n      <td>CONTRACT REVIEWER (OFFICE OF L</td>\n      <td>Strategy &amp; Analytics</td>\n      <td>Division of Economic &amp; Financial Opportunity (...</td>\n      <td>1.\\tA baccalaureate degree from an accredited ...</td>\n      <td>â€¢\\tExcellent interpersonal and organizationa...</td>\n      <td>...</td>\n      <td>debt_consolidation</td>\n      <td>Debt consolidation</td>\n      <td>190xx</td>\n      <td>PA</td>\n      <td>5.91</td>\n      <td>3-Aug</td>\n      <td>19-Jan</td>\n      <td>122.67</td>\n      <td>NaN</td>\n      <td>19-Mar</td>\n    </tr>\n    <tr>\n      <th>1</th>\n      <td>68355089</td>\n      <td>60740.00</td>\n      <td>1</td>\n      <td>24700</td>\n      <td>EXECUTIVE DIRECTOR, BUSINESS DEVELOPMENT</td>\n      <td>ADMINISTRATIVE BUSINESS PROMOT</td>\n      <td>Tech Talent Pipeline</td>\n      <td>The New York City Department of Small Business...</td>\n      <td>1. A baccalaureate degree from an accredited c...</td>\n      <td>NaN</td>\n      <td>...</td>\n      <td>small_business</td>\n      <td>Business</td>\n      <td>577xx</td>\n      <td>SD</td>\n      <td>16.06</td>\n      <td>Dec-99</td>\n      <td>16-Jun</td>\n      <td>926.35</td>\n      <td>NaN</td>\n      <td>19-Mar</td>\n    </tr>\n    <tr>\n      <th>2</th>\n      <td>68341763</td>\n      <td>51907.68</td>\n      <td>0</td>\n      <td>20000</td>\n      <td>Maintenance Worker - Technical Services-Heatin...</td>\n      <td>MAINTENANCE WORKER</td>\n      <td>Management Services Department</td>\n      <td>Under direct supervision, assist in the routin...</td>\n      <td>1. Three years of full-time satisfactory exper...</td>\n      <td>1.  A High School Diploma or GED.  2.  CDL Dri...</td>\n      <td>...</td>\n      <td>home_improvement</td>\n      <td>NaN</td>\n      <td>605xx</td>\n      <td>IL</td>\n      <td>10.78</td>\n      <td>Aug-00</td>\n      <td>17-Jun</td>\n      <td>15813.30</td>\n      <td>NaN</td>\n      <td>19-Mar</td>\n    </tr>\n    <tr>\n      <th>3</th>\n      <td>66310712</td>\n      <td>51907.68</td>\n      <td>0</td>\n      <td>35000</td>\n      <td>Maintenance Worker - Technical Services-Heatin...</td>\n      <td>MAINTENANCE WORKER</td>\n      <td>Management Services Department</td>\n      <td>Under direct supervision, assist in the routin...</td>\n      <td>1. Three years of full-time satisfactory exper...</td>\n      <td>1.  A High School Diploma or GED.  2.  CDL Dri...</td>\n      <td>...</td>\n      <td>debt_consolidation</td>\n      <td>Debt consolidation</td>\n      <td>076xx</td>\n      <td>NJ</td>\n      <td>17.06</td>\n      <td>8-Sep</td>\n      <td>19-Feb</td>\n      <td>829.90</td>\n      <td>19-Apr</td>\n      <td>19-Mar</td>\n    </tr>\n    <tr>\n      <th>4</th>\n      <td>68476807</td>\n      <td>35.00</td>\n      <td>1</td>\n      <td>10400</td>\n      <td>Temporary Painter</td>\n      <td>PAINTER</td>\n      <td>Dept of Management &amp; Planning</td>\n      <td>Responsibilities of selected candidates will i...</td>\n      <td>1. Five years of full-time satisfactory experi...</td>\n      <td>NaN</td>\n      <td>...</td>\n      <td>major_purchase</td>\n      <td>Major purchase</td>\n      <td>174xx</td>\n      <td>PA</td>\n      <td>25.37</td>\n      <td>Jun-98</td>\n      <td>16-Jul</td>\n      <td>10128.96</td>\n      <td>NaN</td>\n      <td>18-Mar</td>\n    </tr>\n  </tbody>\n</table>\n<p>5 rows × 69 columns</p>\n</div>"
     },
     "metadata": {},
     "execution_count": 9
    }
   ],
   "source": [
    "df.head()"
   ]
  },
  {
   "cell_type": "code",
   "execution_count": 10,
   "metadata": {},
   "outputs": [],
   "source": [
    "df.loc[~df['Preferred Skills'].isnull(), 'skills y/n'] = 1\n",
    "df.loc[df['Preferred Skills'].isnull(), 'skills y/n'] = 0"
   ]
  },
  {
   "cell_type": "code",
   "execution_count": 11,
   "metadata": {},
   "outputs": [],
   "source": [
    "df.loc[~df['Hours/Shift'].isnull(), 'hrs'] = 1\n",
    "df.loc[df['Hours/Shift'].isnull(), 'hrs'] = 0"
   ]
  },
  {
   "cell_type": "code",
   "execution_count": 12,
   "metadata": {},
   "outputs": [
    {
     "output_type": "execute_result",
     "data": {
      "text/plain": [
       "0.0    2062\n",
       "1.0     884\n",
       "Name: hrs, dtype: int64"
      ]
     },
     "metadata": {},
     "execution_count": 12
    }
   ],
   "source": [
    "df.hrs.value_counts()"
   ]
  },
  {
   "cell_type": "code",
   "execution_count": 13,
   "metadata": {},
   "outputs": [
    {
     "output_type": "execute_result",
     "data": {
      "text/plain": [
       "2019-12-17T00:00:00.000    2942\n",
       "Name: Process Date, dtype: int64"
      ]
     },
     "metadata": {},
     "execution_count": 13
    }
   ],
   "source": [
    "df['Process Date'].value_counts()"
   ]
  },
  {
   "cell_type": "code",
   "execution_count": 14,
   "metadata": {},
   "outputs": [],
   "source": [
    "df['Posting Date'] = df['Posting Date'].apply(lambda x: str(x)[0:4])"
   ]
  },
  {
   "cell_type": "code",
   "execution_count": 15,
   "metadata": {},
   "outputs": [],
   "source": [
    "df['Posting Updated'] = df['Posting Updated'].apply(lambda x: str(x)[0:4])"
   ]
  },
  {
   "cell_type": "code",
   "execution_count": 16,
   "metadata": {},
   "outputs": [
    {
     "output_type": "execute_result",
     "data": {
      "text/plain": [
       "2019    2232\n",
       "2018     347\n",
       "2017     174\n",
       "2016     140\n",
       "2015      29\n",
       "2014      14\n",
       "2013       4\n",
       "nan        4\n",
       "2011       1\n",
       "2012       1\n",
       "Name: Posting Date, dtype: int64"
      ]
     },
     "metadata": {},
     "execution_count": 16
    }
   ],
   "source": [
    "df['Posting Date'].value_counts()"
   ]
  },
  {
   "cell_type": "code",
   "execution_count": 17,
   "metadata": {},
   "outputs": [],
   "source": [
    "df.loc[df['Posting Date'] == 'nan', 'Posting Date'] = 2019"
   ]
  },
  {
   "cell_type": "code",
   "execution_count": 18,
   "metadata": {},
   "outputs": [
    {
     "output_type": "execute_result",
     "data": {
      "text/plain": [
       "2019    2232\n",
       "2018     347\n",
       "2017     174\n",
       "2016     140\n",
       "2015      29\n",
       "2014      14\n",
       "2019       4\n",
       "2013       4\n",
       "2011       1\n",
       "2012       1\n",
       "Name: Posting Date, dtype: int64"
      ]
     },
     "metadata": {},
     "execution_count": 18
    }
   ],
   "source": [
    "df['Posting Date'].value_counts()"
   ]
  },
  {
   "cell_type": "code",
   "execution_count": 19,
   "metadata": {},
   "outputs": [
    {
     "output_type": "execute_result",
     "data": {
      "text/plain": [
       "52"
      ]
     },
     "metadata": {},
     "execution_count": 19
    }
   ],
   "source": [
    "df['FormalEducation'].isnull().sum()"
   ]
  },
  {
   "cell_type": "code",
   "execution_count": 20,
   "metadata": {},
   "outputs": [
    {
     "output_type": "execute_result",
     "data": {
      "text/plain": [
       "Bachelor’s degree (BA, BS, B.Eng., etc.)                                              1442\n",
       "Master’s degree (MA, MS, M.Eng., MBA, etc.)                                            716\n",
       "Some college/university study without earning a degree                                 319\n",
       "Secondary school (e.g. American high school, German Realschule or Gymnasium, etc.)     179\n",
       "Associate degree                                                                        92\n",
       "Other doctoral degree (Ph.D, Ed.D., etc.)                                               75\n",
       "Professional degree (JD, MD, etc.)                                                      43\n",
       "Primary/elementary school                                                               17\n",
       "I never completed any formal education                                                  11\n",
       "Name: FormalEducation, dtype: int64"
      ]
     },
     "metadata": {},
     "execution_count": 20
    }
   ],
   "source": [
    "df['FormalEducation'].value_counts()"
   ]
  },
  {
   "cell_type": "code",
   "execution_count": 21,
   "metadata": {},
   "outputs": [],
   "source": [
    "df.loc[df['FormalEducation'].isnull(), 'FormalEducation'] = 'I never completed any formal education'"
   ]
  },
  {
   "cell_type": "code",
   "execution_count": 22,
   "metadata": {},
   "outputs": [
    {
     "output_type": "execute_result",
     "data": {
      "text/plain": [
       "322"
      ]
     },
     "metadata": {},
     "execution_count": 22
    }
   ],
   "source": [
    "df['UndergradMajor'].isnull().sum()"
   ]
  },
  {
   "cell_type": "code",
   "execution_count": 23,
   "metadata": {},
   "outputs": [
    {
     "output_type": "execute_result",
     "data": {
      "text/plain": [
       "Computer science, computer engineering, or software engineering          1698\n",
       "Information systems, information technology, or system administration     247\n",
       "Another engineering discipline (ex. civil, electrical, mechanical)        205\n",
       "A natural science (ex. biology, chemistry, physics)                       109\n",
       "Mathematics or statistics                                                  86\n",
       "A business discipline (ex. accounting, finance, marketing)                 65\n",
       "Web development or web design                                              64\n",
       "A humanities discipline (ex. literature, history, philosophy)              48\n",
       "A social science (ex. anthropology, psychology, political science)         38\n",
       "Fine arts or performing arts (ex. graphic design, music, studio art)       38\n",
       "I never declared a major                                                   23\n",
       "A health science (ex. nursing, pharmacy, radiology)                         3\n",
       "Name: UndergradMajor, dtype: int64"
      ]
     },
     "metadata": {},
     "execution_count": 23
    }
   ],
   "source": [
    "df['UndergradMajor'].value_counts()"
   ]
  },
  {
   "cell_type": "code",
   "execution_count": 24,
   "metadata": {},
   "outputs": [],
   "source": [
    "df.loc[df['UndergradMajor'].isnull(), 'UndergradMajor'] = 'I never declared a major'"
   ]
  },
  {
   "cell_type": "code",
   "execution_count": 25,
   "metadata": {},
   "outputs": [
    {
     "output_type": "execute_result",
     "data": {
      "text/plain": [
       "20 to 99 employees          719\n",
       "100 to 499 employees        580\n",
       "10,000 or more employees    387\n",
       "10 to 19 employees          329\n",
       "1,000 to 4,999 employees    316\n",
       "Fewer than 10 employees     304\n",
       "500 to 999 employees        205\n",
       "5,000 to 9,999 employees    106\n",
       "Name: CompanySize, dtype: int64"
      ]
     },
     "metadata": {},
     "execution_count": 25
    }
   ],
   "source": [
    "df['CompanySize'].value_counts()"
   ]
  },
  {
   "cell_type": "code",
   "execution_count": 26,
   "metadata": {},
   "outputs": [],
   "source": [
    "df.loc[df['CompanySize'] == '20 to 99 employees', 'CompanySize'] = 60\n",
    "df.loc[df['CompanySize'] == '100 to 499 employees', 'CompanySize'] = 300\n",
    "df.loc[df['CompanySize'] == '10,000 or more employees', 'CompanySize'] = 15000\n",
    "df.loc[df['CompanySize'] == '10 to 19 employees', 'CompanySize'] = 15\n",
    "df.loc[df['CompanySize'] == '1,000 to 4,999 employees', 'CompanySize'] = 3000\n",
    "df.loc[df['CompanySize'] == 'Fewer than 10 employees', 'CompanySize'] = 5\n",
    "df.loc[df['CompanySize'] == '500 to 999 employees', 'CompanySize'] = 750\n",
    "df.loc[df['CompanySize'] == '5,000 to 9,999 employees', 'CompanySize'] = 75000"
   ]
  },
  {
   "cell_type": "code",
   "execution_count": 27,
   "metadata": {},
   "outputs": [
    {
     "output_type": "execute_result",
     "data": {
      "text/plain": [
       "45"
      ]
     },
     "metadata": {},
     "execution_count": 27
    }
   ],
   "source": [
    "df['DevType'].isnull().sum()"
   ]
  },
  {
   "cell_type": "code",
   "execution_count": 28,
   "metadata": {},
   "outputs": [
    {
     "output_type": "execute_result",
     "data": {
      "text/plain": [
       "3"
      ]
     },
     "metadata": {},
     "execution_count": 28
    }
   ],
   "source": [
    "df['YearsCoding'].isnull().sum()"
   ]
  },
  {
   "cell_type": "code",
   "execution_count": 29,
   "metadata": {},
   "outputs": [
    {
     "output_type": "execute_result",
     "data": {
      "text/plain": [
       "3-5 years           699\n",
       "6-8 years           630\n",
       "9-11 years          443\n",
       "12-14 years         277\n",
       "0-2 years           248\n",
       "15-17 years         205\n",
       "18-20 years         179\n",
       "30 or more years     93\n",
       "21-23 years          82\n",
       "24-26 years          54\n",
       "27-29 years          33\n",
       "Name: YearsCoding, dtype: int64"
      ]
     },
     "metadata": {},
     "execution_count": 29
    }
   ],
   "source": [
    "df['YearsCoding'].value_counts()"
   ]
  },
  {
   "cell_type": "code",
   "execution_count": 30,
   "metadata": {},
   "outputs": [],
   "source": [
    "df.loc[df['YearsCoding'] == '3-5 years', 'YearsCoding'] = 4\n",
    "df.loc[df['YearsCoding'] == '6-8 years', 'YearsCoding'] = 7\n",
    "df.loc[df['YearsCoding'] == '9-11 years', 'YearsCoding'] = 10\n",
    "df.loc[df['YearsCoding'] == '12-14 years', 'YearsCoding'] = 13\n",
    "df.loc[df['YearsCoding'] == '0-2 years', 'YearsCoding'] = 1\n",
    "df.loc[df['YearsCoding'] == '15-17 years', 'YearsCoding'] = 16\n",
    "df.loc[df['YearsCoding'] == '18-20 years', 'YearsCoding'] = 19\n",
    "df.loc[df['YearsCoding'] == '30 or more years', 'YearsCoding'] = 31\n",
    "df.loc[df['YearsCoding'] == '21-23 years', 'YearsCoding'] = 22\n",
    "df.loc[df['YearsCoding'] == '24-26 years', 'YearsCoding'] = 25\n",
    "df.loc[df['YearsCoding'] == '27-29 years', 'YearsCoding'] = 28\n",
    "df.loc[df['YearsCoding'].isnull(), 'YearsCoding'] = 0\n"
   ]
  },
  {
   "cell_type": "code",
   "execution_count": 31,
   "metadata": {},
   "outputs": [
    {
     "output_type": "execute_result",
     "data": {
      "text/plain": [
       "408"
      ]
     },
     "metadata": {},
     "execution_count": 31
    }
   ],
   "source": [
    "df['YearsCodingProf'].isnull().sum()"
   ]
  },
  {
   "cell_type": "code",
   "execution_count": 32,
   "metadata": {},
   "outputs": [
    {
     "output_type": "execute_result",
     "data": {
      "text/plain": [
       "3-5 years           791\n",
       "0-2 years           653\n",
       "6-8 years           401\n",
       "9-11 years          249\n",
       "12-14 years         139\n",
       "15-17 years         103\n",
       "18-20 years          89\n",
       "21-23 years          42\n",
       "30 or more years     38\n",
       "24-26 years          23\n",
       "27-29 years          10\n",
       "Name: YearsCodingProf, dtype: int64"
      ]
     },
     "metadata": {},
     "execution_count": 32
    }
   ],
   "source": [
    "df['YearsCodingProf'].value_counts()"
   ]
  },
  {
   "cell_type": "code",
   "execution_count": 33,
   "metadata": {},
   "outputs": [],
   "source": [
    "df.loc[df['YearsCodingProf'] == '3-5 years', 'YearsCodingProf'] = 4\n",
    "df.loc[df['YearsCodingProf'] == '6-8 years', 'YearsCodingProf'] = 7\n",
    "df.loc[df['YearsCodingProf'] == '9-11 years', 'YearsCodingProf'] = 10\n",
    "df.loc[df['YearsCodingProf'] == '12-14 years', 'YearsCodingProf'] = 13\n",
    "df.loc[df['YearsCodingProf'] == '0-2 years', 'YearsCodingProf'] = 1\n",
    "df.loc[df['YearsCodingProf'] == '15-17 years', 'YearsCodingProf'] = 16\n",
    "df.loc[df['YearsCodingProf'] == '18-20 years', 'YearsCodingProf'] = 19\n",
    "df.loc[df['YearsCodingProf'] == '30 or more years', 'YearsCodingProf'] = 31\n",
    "df.loc[df['YearsCodingProf'] == '21-23 years', 'YearsCodingProf'] = 22\n",
    "df.loc[df['YearsCodingProf'] == '24-26 years', 'YearsCodingProf'] = 25\n",
    "df.loc[df['YearsCodingProf'] == '27-29 years', 'YearsCodingProf'] = 28\n",
    "df.loc[df['YearsCodingProf'].isnull(), 'YearsCodingProf'] = 0"
   ]
  },
  {
   "cell_type": "code",
   "execution_count": 34,
   "metadata": {},
   "outputs": [
    {
     "output_type": "execute_result",
     "data": {
      "text/plain": [
       "469"
      ]
     },
     "metadata": {},
     "execution_count": 34
    }
   ],
   "source": [
    "df['HopeFiveYears'].isnull().sum()"
   ]
  },
  {
   "cell_type": "code",
   "execution_count": 35,
   "metadata": {},
   "outputs": [
    {
     "output_type": "execute_result",
     "data": {
      "text/plain": [
       "Working in a different or more specialized technical role than the one I'm in now    872\n",
       "Working as a founder or co-founder of my own company                                 599\n",
       "Doing the same work                                                                  496\n",
       "Working as an engineering manager or other functional manager                        251\n",
       "Working as a product manager or project manager                                      164\n",
       "Working in a career completely unrelated to software development                      60\n",
       "Retirement                                                                            35\n",
       "Name: HopeFiveYears, dtype: int64"
      ]
     },
     "metadata": {},
     "execution_count": 35
    }
   ],
   "source": [
    "df['HopeFiveYears'].value_counts()"
   ]
  },
  {
   "cell_type": "code",
   "execution_count": 36,
   "metadata": {},
   "outputs": [],
   "source": [
    "df.loc[df['HopeFiveYears'].isnull(), 'HopeFiveYears'] = 'Hopeless'"
   ]
  },
  {
   "cell_type": "code",
   "execution_count": 37,
   "metadata": {},
   "outputs": [
    {
     "output_type": "execute_result",
     "data": {
      "text/plain": [
       "435"
      ]
     },
     "metadata": {},
     "execution_count": 37
    }
   ],
   "source": [
    "df['JobSearchStatus'].isnull().sum()"
   ]
  },
  {
   "cell_type": "code",
   "execution_count": 38,
   "metadata": {},
   "outputs": [
    {
     "output_type": "execute_result",
     "data": {
      "text/plain": [
       "I’m not actively looking, but I am open to new opportunities    1542\n",
       "I am not interested in new job opportunities                     645\n",
       "I am actively looking for a job                                  324\n",
       "Name: JobSearchStatus, dtype: int64"
      ]
     },
     "metadata": {},
     "execution_count": 38
    }
   ],
   "source": [
    "df['JobSearchStatus'].value_counts()"
   ]
  },
  {
   "cell_type": "code",
   "execution_count": 39,
   "metadata": {},
   "outputs": [],
   "source": [
    "df.loc[df['JobSearchStatus'].isnull(), 'JobSearchStatus'] = 'I am not interested in new job opportunities'"
   ]
  },
  {
   "cell_type": "code",
   "execution_count": 40,
   "metadata": {},
   "outputs": [
    {
     "output_type": "execute_result",
     "data": {
      "text/plain": [
       "447"
      ]
     },
     "metadata": {},
     "execution_count": 40
    }
   ],
   "source": [
    "df['LastNewJob'].isnull().sum()"
   ]
  },
  {
   "cell_type": "code",
   "execution_count": 41,
   "metadata": {},
   "outputs": [
    {
     "output_type": "execute_result",
     "data": {
      "text/plain": [
       "Less than a year ago         895\n",
       "Between 1 and 2 years ago    585\n",
       "Between 2 and 4 years ago    528\n",
       "More than 4 years ago        488\n",
       "I've never had a job           3\n",
       "Name: LastNewJob, dtype: int64"
      ]
     },
     "metadata": {},
     "execution_count": 41
    }
   ],
   "source": [
    "df['LastNewJob'].value_counts()"
   ]
  },
  {
   "cell_type": "code",
   "execution_count": 42,
   "metadata": {},
   "outputs": [],
   "source": [
    "df.loc[df['LastNewJob'].isnull(), 'LastNewJob'] = \"I've never had a job\""
   ]
  },
  {
   "cell_type": "code",
   "execution_count": 43,
   "metadata": {},
   "outputs": [],
   "source": [
    "df.loc[df['LastNewJob'] == 'Less than a year ago', 'LastNewJob'] = 0.5\n",
    "df.loc[df['LastNewJob'] == 'Between 1 and 2 years ago', 'LastNewJob'] = 1.5\n",
    "df.loc[df['LastNewJob'] == 'Between 2 and 4 years ago', 'LastNewJob'] = 3\n",
    "df.loc[df['LastNewJob'] == 'More than 4 years ago', 'LastNewJob'] = 4.5\n",
    "df.loc[df['LastNewJob'] == \"I've never had a job\", 'LastNewJob'] = 0\n"
   ]
  },
  {
   "cell_type": "code",
   "execution_count": 44,
   "metadata": {},
   "outputs": [
    {
     "output_type": "execute_result",
     "data": {
      "text/plain": [
       "857"
      ]
     },
     "metadata": {},
     "execution_count": 44
    }
   ],
   "source": [
    "df['UpdateCV'].isnull().sum()"
   ]
  },
  {
   "cell_type": "code",
   "execution_count": 45,
   "metadata": {},
   "outputs": [],
   "source": [
    "df['UpdateCV'].value_counts()\n",
    "df.loc[df['UpdateCV'].isnull(), 'UpdateCV'] = 'None of the above'"
   ]
  },
  {
   "cell_type": "code",
   "execution_count": 46,
   "metadata": {},
   "outputs": [
    {
     "output_type": "execute_result",
     "data": {
      "text/plain": [
       "894"
      ]
     },
     "metadata": {},
     "execution_count": 46
    }
   ],
   "source": [
    "df['TimeFullyProductive'].isnull().sum()"
   ]
  },
  {
   "cell_type": "code",
   "execution_count": 47,
   "metadata": {},
   "outputs": [
    {
     "output_type": "execute_result",
     "data": {
      "text/plain": [
       "One to three months      909\n",
       "Less than a month        643\n",
       "Three to six months      347\n",
       "Six to nine months       111\n",
       "Nine months to a year     25\n",
       "More than a year          17\n",
       "Name: TimeFullyProductive, dtype: int64"
      ]
     },
     "metadata": {},
     "execution_count": 47
    }
   ],
   "source": [
    "df['TimeFullyProductive'].value_counts()"
   ]
  },
  {
   "cell_type": "code",
   "execution_count": 48,
   "metadata": {},
   "outputs": [],
   "source": [
    "df.loc[df['TimeFullyProductive'] == 'One to three months', 'TimeFullyProductive'] = 1.5\n",
    "df.loc[df['TimeFullyProductive'] == 'Less than a month', 'TimeFullyProductive'] = 0\n",
    "df.loc[df['TimeFullyProductive'] == 'Three to six months', 'TimeFullyProductive'] = 4.5\n",
    "df.loc[df['TimeFullyProductive'] == 'Six to nine months', 'TimeFullyProductive'] = 7.5\n",
    "df.loc[df['TimeFullyProductive'] == 'Nine months to a year', 'TimeFullyProductive'] = 10.5\n",
    "df.loc[df['TimeFullyProductive'] == 'More than a year', 'TimeFullyProductive'] = 13.5\n",
    "df.loc[df['TimeFullyProductive'].isnull(), 'TimeFullyProductive'] = 0"
   ]
  },
  {
   "cell_type": "code",
   "execution_count": 49,
   "metadata": {},
   "outputs": [
    {
     "output_type": "execute_result",
     "data": {
      "text/plain": [
       "2725"
      ]
     },
     "metadata": {},
     "execution_count": 49
    }
   ],
   "source": [
    "df['TimeAfterBootcamp'].isnull().sum()"
   ]
  },
  {
   "cell_type": "code",
   "execution_count": 50,
   "metadata": {},
   "outputs": [
    {
     "output_type": "execute_result",
     "data": {
      "text/plain": [
       "I already had a full-time job as a developer when I began the program    112\n",
       "Immediately after graduating                                              36\n",
       "One to three months                                                       25\n",
       "Less than a month                                                         19\n",
       "Four to six months                                                        11\n",
       "Six months to a year                                                       9\n",
       "Longer than a year                                                         5\n",
       "I haven’t gotten a developer job                                           4\n",
       "Name: TimeAfterBootcamp, dtype: int64"
      ]
     },
     "metadata": {},
     "execution_count": 50
    }
   ],
   "source": [
    "df['TimeAfterBootcamp'].value_counts()"
   ]
  },
  {
   "cell_type": "code",
   "execution_count": 51,
   "metadata": {},
   "outputs": [
    {
     "output_type": "execute_result",
     "data": {
      "text/plain": [
       "2097"
      ]
     },
     "metadata": {},
     "execution_count": 51
    }
   ],
   "source": [
    "df['HackathonReasons'].isnull().sum()"
   ]
  },
  {
   "cell_type": "code",
   "execution_count": 52,
   "metadata": {},
   "outputs": [
    {
     "output_type": "execute_result",
     "data": {
      "text/plain": [
       "813"
      ]
     },
     "metadata": {},
     "execution_count": 52
    }
   ],
   "source": [
    "df['AgreeDisagree1'].isnull().sum()"
   ]
  },
  {
   "cell_type": "code",
   "execution_count": 53,
   "metadata": {},
   "outputs": [
    {
     "output_type": "execute_result",
     "data": {
      "text/plain": [
       "Agree                         1166\n",
       "Neither Agree nor Disagree     418\n",
       "Strongly agree                 382\n",
       "Disagree                       126\n",
       "Strongly disagree               41\n",
       "Name: AgreeDisagree1, dtype: int64"
      ]
     },
     "metadata": {},
     "execution_count": 53
    }
   ],
   "source": [
    "df['AgreeDisagree1'].value_counts()"
   ]
  },
  {
   "cell_type": "code",
   "execution_count": 54,
   "metadata": {},
   "outputs": [],
   "source": [
    "df.loc[df['AgreeDisagree1'].isnull(), 'AgreeDisagree1'] = 'Neither Agree nor Disagree'"
   ]
  },
  {
   "cell_type": "code",
   "execution_count": 55,
   "metadata": {},
   "outputs": [
    {
     "output_type": "execute_result",
     "data": {
      "text/plain": [
       "813"
      ]
     },
     "metadata": {},
     "execution_count": 55
    }
   ],
   "source": [
    "df['AgreeDisagree2'].isnull().sum()"
   ]
  },
  {
   "cell_type": "code",
   "execution_count": 56,
   "metadata": {},
   "outputs": [
    {
     "output_type": "execute_result",
     "data": {
      "text/plain": [
       "Agree                         575\n",
       "Neither Agree nor Disagree    567\n",
       "Disagree                      563\n",
       "Strongly disagree             268\n",
       "Strongly agree                160\n",
       "Name: AgreeDisagree2, dtype: int64"
      ]
     },
     "metadata": {},
     "execution_count": 56
    }
   ],
   "source": [
    "df['AgreeDisagree2'].value_counts()"
   ]
  },
  {
   "cell_type": "code",
   "execution_count": 57,
   "metadata": {},
   "outputs": [],
   "source": [
    "df.loc[df['AgreeDisagree2'].isnull(), 'AgreeDisagree2'] = 'Neither Agree nor Disagree'"
   ]
  },
  {
   "cell_type": "code",
   "execution_count": 58,
   "metadata": {},
   "outputs": [
    {
     "output_type": "execute_result",
     "data": {
      "text/plain": [
       "807"
      ]
     },
     "metadata": {},
     "execution_count": 58
    }
   ],
   "source": [
    "df['AgreeDisagree3'].isnull().sum()"
   ]
  },
  {
   "cell_type": "code",
   "execution_count": 59,
   "metadata": {},
   "outputs": [
    {
     "output_type": "execute_result",
     "data": {
      "text/plain": [
       "Disagree                      766\n",
       "Neither Agree nor Disagree    512\n",
       "Strongly disagree             496\n",
       "Agree                         298\n",
       "Strongly agree                 67\n",
       "Name: AgreeDisagree3, dtype: int64"
      ]
     },
     "metadata": {},
     "execution_count": 59
    }
   ],
   "source": [
    "df['AgreeDisagree3'].value_counts()"
   ]
  },
  {
   "cell_type": "code",
   "execution_count": 60,
   "metadata": {},
   "outputs": [],
   "source": [
    "df.loc[df['AgreeDisagree3'].isnull(), 'AgreeDisagree3'] = 'Neither Agree nor Disagree'"
   ]
  },
  {
   "cell_type": "code",
   "execution_count": 61,
   "metadata": {},
   "outputs": [],
   "source": [
    "df.loc[df['AgreeDisagree1'] == 'Neither Agree nor Disagree', 'AgreeDisagree1'] = 0\n",
    "df.loc[df['AgreeDisagree1'] == 'Disagree', 'AgreeDisagree1'] = -1\n",
    "df.loc[df['AgreeDisagree1'] == 'Strongly disagree', 'AgreeDisagree1'] = -2\n",
    "df.loc[df['AgreeDisagree1'] == 'Agree', 'AgreeDisagree1'] = 1\n",
    "df.loc[df['AgreeDisagree1'] == 'Strongly agree', 'AgreeDisagree1'] = 2\n",
    "\n"
   ]
  },
  {
   "cell_type": "code",
   "execution_count": 62,
   "metadata": {},
   "outputs": [],
   "source": [
    "df.loc[df['AgreeDisagree2'] == 'Neither Agree nor Disagree', 'AgreeDisagree2'] = 0\n",
    "df.loc[df['AgreeDisagree2'] == 'Disagree', 'AgreeDisagree2'] = -1\n",
    "df.loc[df['AgreeDisagree2'] == 'Strongly disagree', 'AgreeDisagree2'] = -2\n",
    "df.loc[df['AgreeDisagree2'] == 'Agree', 'AgreeDisagree2'] = 1\n",
    "df.loc[df['AgreeDisagree2'] == 'Strongly agree', 'AgreeDisagree2'] = 2"
   ]
  },
  {
   "cell_type": "code",
   "execution_count": 63,
   "metadata": {},
   "outputs": [],
   "source": [
    "df.loc[df['AgreeDisagree3'] == 'Neither Agree nor Disagree', 'AgreeDisagree3'] = 0\n",
    "df.loc[df['AgreeDisagree3'] == 'Disagree', 'AgreeDisagree3'] = -1\n",
    "df.loc[df['AgreeDisagree3'] == 'Strongly disagree', 'AgreeDisagree3'] = -2\n",
    "df.loc[df['AgreeDisagree3'] == 'Agree', 'AgreeDisagree3'] = 1\n",
    "df.loc[df['AgreeDisagree3'] == 'Strongly agree', 'AgreeDisagree3'] = 2"
   ]
  },
  {
   "cell_type": "code",
   "execution_count": 64,
   "metadata": {},
   "outputs": [
    {
     "output_type": "execute_result",
     "data": {
      "text/plain": [
       "Windows        1151\n",
       "MacOS           683\n",
       "Linux-based     538\n",
       "BSD/Unix          5\n",
       "Name: OperatingSystem, dtype: int64"
      ]
     },
     "metadata": {},
     "execution_count": 64
    }
   ],
   "source": [
    "df['OperatingSystem'].value_counts()"
   ]
  },
  {
   "cell_type": "code",
   "execution_count": 65,
   "metadata": {},
   "outputs": [
    {
     "output_type": "execute_result",
     "data": {
      "text/plain": [
       "569"
      ]
     },
     "metadata": {},
     "execution_count": 65
    }
   ],
   "source": [
    "df['OperatingSystem'].isnull().sum()"
   ]
  },
  {
   "cell_type": "code",
   "execution_count": 66,
   "metadata": {},
   "outputs": [],
   "source": [
    "df.loc[df['OperatingSystem'].isnull(), 'OperatingSystem'] = 'None of the given'"
   ]
  },
  {
   "cell_type": "code",
   "execution_count": 67,
   "metadata": {},
   "outputs": [
    {
     "output_type": "execute_result",
     "data": {
      "text/plain": [
       "627"
      ]
     },
     "metadata": {},
     "execution_count": 67
    }
   ],
   "source": [
    "df['CheckInCode'].isnull().sum()"
   ]
  },
  {
   "cell_type": "code",
   "execution_count": 68,
   "metadata": {},
   "outputs": [
    {
     "output_type": "execute_result",
     "data": {
      "text/plain": [
       "Multiple times per day             1485\n",
       "A few times per week                406\n",
       "Once a day                          212\n",
       "Weekly or a few times per month     139\n",
       "Less than once per month             51\n",
       "Never                                26\n",
       "Name: CheckInCode, dtype: int64"
      ]
     },
     "metadata": {},
     "execution_count": 68
    }
   ],
   "source": [
    "df['CheckInCode'].value_counts()"
   ]
  },
  {
   "cell_type": "code",
   "execution_count": 69,
   "metadata": {},
   "outputs": [],
   "source": [
    "df.loc[df['CheckInCode'].isnull(), 'CheckInCode'] = 'Never'"
   ]
  },
  {
   "cell_type": "code",
   "execution_count": 70,
   "metadata": {},
   "outputs": [],
   "source": [
    "df.loc[df['CheckInCode'] == 'Multiple times per day', 'CheckInCode'] = 5\n",
    "df.loc[df['CheckInCode'] == 'Once a day', 'CheckInCode'] = 4\n",
    "df.loc[df['CheckInCode'] == 'A few times per week', 'CheckInCode'] = 3\n",
    "df.loc[df['CheckInCode'] == 'Weekly or a few times per month', 'CheckInCode'] = 2\n",
    "df.loc[df['CheckInCode'] == 'Less than once per month', 'CheckInCode'] = 1\n",
    "df.loc[df['CheckInCode'] == 'Never', 'CheckInCode'] = 5"
   ]
  },
  {
   "cell_type": "code",
   "execution_count": 71,
   "metadata": {},
   "outputs": [
    {
     "output_type": "execute_result",
     "data": {
      "text/plain": [
       "946"
      ]
     },
     "metadata": {},
     "execution_count": 71
    }
   ],
   "source": [
    "df['AIDangerous'].isnull().sum()"
   ]
  },
  {
   "cell_type": "code",
   "execution_count": 72,
   "metadata": {},
   "outputs": [
    {
     "output_type": "execute_result",
     "data": {
      "text/plain": [
       "Algorithms making important decisions                                        598\n",
       "Artificial intelligence surpassing human intelligence (\"the singularity\")    528\n",
       "Evolving definitions of \"fairness\" in algorithmic versus human decisions     482\n",
       "Increasing automation of jobs                                                392\n",
       "Name: AIDangerous, dtype: int64"
      ]
     },
     "metadata": {},
     "execution_count": 72
    }
   ],
   "source": [
    "df['AIDangerous'].value_counts()"
   ]
  },
  {
   "cell_type": "code",
   "execution_count": 73,
   "metadata": {},
   "outputs": [
    {
     "output_type": "execute_result",
     "data": {
      "text/plain": [
       "'\\ndf.loc[df[\\'AIDangerous\\'] == \\'Algorithms making important decisions\\', \\'AIDangerous\\'] = 2\\ndf.loc[df[\\'AIDangerous\\'] == \\'Artificial intelligence surpassing human intelligence (\"the singularity\")\\', \\'AIDangerous\\'] = 4\\ndf.loc[df[\\'AIDangerous\\'] == \\'Evolving definitions of \"fairness\" in algorithmic versus human decisions\\', \\'AIDangerous\\'] = 3\\ndf.loc[df[\\'AIDangerous\\'] == \\'Increasing automation of jobs\\', \\'AIDangerous\\'] = 1\\ndf.loc[df[\\'AIDangerous\\'] == \\'Algorithms making important decisions\\', \\'AIDangerous\\'] = \\n'"
      ]
     },
     "metadata": {},
     "execution_count": 73
    }
   ],
   "source": [
    "\"\"\"\n",
    "df.loc[df['AIDangerous'] == 'Algorithms making important decisions', 'AIDangerous'] = 2\n",
    "df.loc[df['AIDangerous'] == 'Artificial intelligence surpassing human intelligence (\"the singularity\")', 'AIDangerous'] = 4\n",
    "df.loc[df['AIDangerous'] == 'Evolving definitions of \"fairness\" in algorithmic versus human decisions', 'AIDangerous'] = 3\n",
    "df.loc[df['AIDangerous'] == 'Increasing automation of jobs', 'AIDangerous'] = 1\n",
    "df.loc[df['AIDangerous'] == 'Algorithms making important decisions', 'AIDangerous'] = \n",
    "\"\"\"\n"
   ]
  },
  {
   "cell_type": "code",
   "execution_count": 74,
   "metadata": {},
   "outputs": [
    {
     "output_type": "execute_result",
     "data": {
      "text/plain": [
       "870"
      ]
     },
     "metadata": {},
     "execution_count": 74
    }
   ],
   "source": [
    "df['AIInteresting'].isnull().sum()"
   ]
  },
  {
   "cell_type": "code",
   "execution_count": 75,
   "metadata": {},
   "outputs": [
    {
     "output_type": "execute_result",
     "data": {
      "text/plain": [
       "Increasing automation of jobs                                                871\n",
       "Artificial intelligence surpassing human intelligence (\"the singularity\")    478\n",
       "Algorithms making important decisions                                        469\n",
       "Evolving definitions of \"fairness\" in algorithmic versus human decisions     258\n",
       "Name: AIInteresting, dtype: int64"
      ]
     },
     "metadata": {},
     "execution_count": 75
    }
   ],
   "source": [
    "df['AIInteresting'].value_counts()"
   ]
  },
  {
   "cell_type": "code",
   "execution_count": 76,
   "metadata": {},
   "outputs": [
    {
     "output_type": "execute_result",
     "data": {
      "text/plain": [
       "876"
      ]
     },
     "metadata": {},
     "execution_count": 76
    }
   ],
   "source": [
    "df['AIResponsible'].isnull().sum()"
   ]
  },
  {
   "cell_type": "code",
   "execution_count": 77,
   "metadata": {},
   "outputs": [
    {
     "output_type": "execute_result",
     "data": {
      "text/plain": [
       "The developers or the people creating the AI    992\n",
       "A governmental or other regulatory body         597\n",
       "Prominent industry leaders                      316\n",
       "Nobody                                          165\n",
       "Name: AIResponsible, dtype: int64"
      ]
     },
     "metadata": {},
     "execution_count": 77
    }
   ],
   "source": [
    "df['AIResponsible'].value_counts()"
   ]
  },
  {
   "cell_type": "code",
   "execution_count": 78,
   "metadata": {},
   "outputs": [],
   "source": [
    "\n",
    "df.loc[df['AIResponsible'].isnull(), 'AIResponsible'] = 'Nobody'"
   ]
  },
  {
   "cell_type": "code",
   "execution_count": 79,
   "metadata": {},
   "outputs": [
    {
     "output_type": "execute_result",
     "data": {
      "text/plain": [
       "750"
      ]
     },
     "metadata": {},
     "execution_count": 79
    }
   ],
   "source": [
    "df['AIFuture'].isnull().sum()"
   ]
  },
  {
   "cell_type": "code",
   "execution_count": 80,
   "metadata": {},
   "outputs": [
    {
     "output_type": "execute_result",
     "data": {
      "text/plain": [
       "I'm excited about the possibilities more than worried about the dangers.        1601\n",
       "I'm worried about the dangers more than I'm excited about the possibilities.     402\n",
       "I don't care about it, or I haven't thought about it.                            193\n",
       "Name: AIFuture, dtype: int64"
      ]
     },
     "metadata": {},
     "execution_count": 80
    }
   ],
   "source": [
    "df['AIFuture'].value_counts()"
   ]
  },
  {
   "cell_type": "code",
   "execution_count": 81,
   "metadata": {},
   "outputs": [],
   "source": [
    "\n",
    "df.loc[df['AIFuture'].isnull(), 'AIFuture'] = \"I don't care about it, or I haven't thought about it.\""
   ]
  },
  {
   "cell_type": "code",
   "execution_count": 82,
   "metadata": {},
   "outputs": [
    {
     "output_type": "execute_result",
     "data": {
      "text/plain": [
       "919"
      ]
     },
     "metadata": {},
     "execution_count": 82
    }
   ],
   "source": [
    "df['Age'].isnull().sum()"
   ]
  },
  {
   "cell_type": "code",
   "execution_count": 83,
   "metadata": {},
   "outputs": [
    {
     "output_type": "execute_result",
     "data": {
      "text/plain": [
       "25 - 34 years old     1117\n",
       "18 - 24 years old      421\n",
       "35 - 44 years old      364\n",
       "45 - 54 years old       93\n",
       "55 - 64 years old       23\n",
       "Under 18 years old       9\n",
       "Name: Age, dtype: int64"
      ]
     },
     "metadata": {},
     "execution_count": 83
    }
   ],
   "source": [
    "df['Age'].value_counts()"
   ]
  },
  {
   "cell_type": "code",
   "execution_count": 84,
   "metadata": {},
   "outputs": [
    {
     "output_type": "execute_result",
     "data": {
      "text/plain": [
       "Age\n",
       "18 - 24 years old      5.332542\n",
       "25 - 34 years old      8.914951\n",
       "35 - 44 years old     17.195055\n",
       "45 - 54 years old     26.193548\n",
       "55 - 64 years old     30.608696\n",
       "Under 18 years old     6.333333\n",
       "Name: YearsCoding, dtype: float64"
      ]
     },
     "metadata": {},
     "execution_count": 84
    }
   ],
   "source": [
    "df.groupby('Age')['YearsCoding'].mean()"
   ]
  },
  {
   "cell_type": "code",
   "execution_count": 85,
   "metadata": {},
   "outputs": [],
   "source": [
    "df.loc[df['Age'] == '18 - 24 years old', 'Age'] = 20\n",
    "df.loc[df['Age'] == '25 - 34 years old', 'Age'] = 30\n",
    "df.loc[df['Age'] == '35 - 44 years old', 'Age'] = 40\n",
    "df.loc[df['Age'] == '45 - 54 years old', 'Age'] = 50\n",
    "df.loc[df['Age'] == '55 - 64 years old', 'Age'] = 60\n",
    "df.loc[df['Age'] == 'Under 18 years old', 'Age'] = 20"
   ]
  },
  {
   "cell_type": "code",
   "execution_count": 86,
   "metadata": {},
   "outputs": [],
   "source": [
    "df.loc[(df['Age'].isnull()) & (df['YearsCoding'] <= 7), 'Age'] = 20\n",
    "df.loc[(df['Age'].isnull()) & (df['YearsCoding'] > 7) & (df['YearsCoding'] <= 13), 'Age'] = 30\n",
    "df.loc[(df['Age'].isnull()) & (df['YearsCoding'] > 13) & (df['YearsCoding'] <= 21 ), 'Age'] = 40\n",
    "df.loc[(df['Age'].isnull()) & (df['YearsCoding'] > 21) & (df['YearsCoding'] <= 28 ), 'Age'] = 50\n",
    "df.loc[(df['Age'].isnull()) & (df['YearsCoding'] > 28), 'Age'] = 60"
   ]
  },
  {
   "cell_type": "code",
   "execution_count": 87,
   "metadata": {},
   "outputs": [
    {
     "output_type": "execute_result",
     "data": {
      "text/plain": [
       " 36 months    2059\n",
       " 60 months     887\n",
       "Name: term, dtype: int64"
      ]
     },
     "metadata": {},
     "execution_count": 87
    }
   ],
   "source": [
    "df['term'].value_counts()"
   ]
  },
  {
   "cell_type": "code",
   "execution_count": 88,
   "metadata": {},
   "outputs": [
    {
     "output_type": "execute_result",
     "data": {
      "text/plain": [
       "0     36 months\n",
       "1     36 months\n",
       "2     60 months\n",
       "3     60 months\n",
       "4     60 months\n",
       "Name: term, dtype: object"
      ]
     },
     "metadata": {},
     "execution_count": 88
    }
   ],
   "source": [
    "df['term'].head()\n"
   ]
  },
  {
   "cell_type": "code",
   "execution_count": 89,
   "metadata": {},
   "outputs": [
    {
     "output_type": "execute_result",
     "data": {
      "text/plain": [
       "133"
      ]
     },
     "metadata": {},
     "execution_count": 89
    }
   ],
   "source": [
    "df['emp_length'].isnull().sum()"
   ]
  },
  {
   "cell_type": "code",
   "execution_count": 90,
   "metadata": {},
   "outputs": [
    {
     "output_type": "execute_result",
     "data": {
      "text/plain": [
       "10+ years    1017\n",
       "< 1 year      277\n",
       "2 years       265\n",
       "3 years       261\n",
       "5 years       183\n",
       "1 year        180\n",
       "4 years       170\n",
       "8 years       148\n",
       "6 years       118\n",
       "9 years       100\n",
       "7 years        94\n",
       "Name: emp_length, dtype: int64"
      ]
     },
     "metadata": {},
     "execution_count": 90
    }
   ],
   "source": [
    "df['emp_length'].value_counts()"
   ]
  },
  {
   "cell_type": "code",
   "execution_count": 91,
   "metadata": {},
   "outputs": [],
   "source": [
    "df.loc[df['emp_length'] == '10+ years', 'emp_length'] = 10\n",
    "df.loc[df['emp_length'] == '< 1 year', 'emp_length'] = 0\n",
    "df.loc[df['emp_length'] == '2 years', 'emp_length'] = 2\n",
    "df.loc[df['emp_length'] == '3 years', 'emp_length'] = 3\n",
    "df.loc[df['emp_length'] == '5 years', 'emp_length'] = 5\n",
    "df.loc[df['emp_length'] == '1 year', 'emp_length'] = 1\n",
    "df.loc[df['emp_length'] == '4 years', 'emp_length'] = 4\n",
    "df.loc[df['emp_length'] == '8 years', 'emp_length'] = 8\n",
    "df.loc[df['emp_length'] == '6 years', 'emp_length'] = 6\n",
    "df.loc[df['emp_length'] == '9 years', 'emp_length'] = 9\n",
    "df.loc[df['emp_length'] == '7 years', 'emp_length'] = 7"
   ]
  },
  {
   "cell_type": "code",
   "execution_count": 92,
   "metadata": {},
   "outputs": [
    {
     "output_type": "execute_result",
     "data": {
      "text/plain": [
       "Fully Paid            2154\n",
       "Charged Off            456\n",
       "Current                319\n",
       "Late (31-120 days)      14\n",
       "In Grace Period          2\n",
       "Late (16-30 days)        1\n",
       "Name: loan_status, dtype: int64"
      ]
     },
     "metadata": {},
     "execution_count": 92
    }
   ],
   "source": [
    "df['loan_status'].value_counts()"
   ]
  },
  {
   "cell_type": "code",
   "execution_count": 93,
   "metadata": {},
   "outputs": [
    {
     "output_type": "execute_result",
     "data": {
      "text/plain": [
       "n    2946\n",
       "Name: pymnt_plan, dtype: int64"
      ]
     },
     "metadata": {},
     "execution_count": 93
    }
   ],
   "source": [
    "df['pymnt_plan'].value_counts()"
   ]
  },
  {
   "cell_type": "code",
   "execution_count": 94,
   "metadata": {},
   "outputs": [
    {
     "output_type": "execute_result",
     "data": {
      "text/plain": [
       "debt_consolidation    1731\n",
       "credit_card            718\n",
       "home_improvement       160\n",
       "other                  149\n",
       "major_purchase          55\n",
       "small_business          33\n",
       "car                     31\n",
       "medical                 21\n",
       "vacation                17\n",
       "house                   17\n",
       "moving                  13\n",
       "renewable_energy         1\n",
       "Name: purpose, dtype: int64"
      ]
     },
     "metadata": {},
     "execution_count": 94
    }
   ],
   "source": [
    "df['purpose'].value_counts()"
   ]
  },
  {
   "cell_type": "code",
   "execution_count": 95,
   "metadata": {},
   "outputs": [
    {
     "output_type": "execute_result",
     "data": {
      "text/plain": [
       "64"
      ]
     },
     "metadata": {},
     "execution_count": 95
    }
   ],
   "source": [
    "df['title'].isnull().sum()"
   ]
  },
  {
   "cell_type": "code",
   "execution_count": 96,
   "metadata": {},
   "outputs": [
    {
     "output_type": "execute_result",
     "data": {
      "text/plain": [
       "Debt consolidation         1699\n",
       "Credit card refinancing     699\n",
       "Home improvement            156\n",
       "Other                       141\n",
       "Major purchase               55\n",
       "Business                     33\n",
       "Car financing                30\n",
       "Medical expenses             21\n",
       "Vacation                     17\n",
       "Home buying                  17\n",
       "Moving and relocation        13\n",
       "Green loan                    1\n",
       "Name: title, dtype: int64"
      ]
     },
     "metadata": {},
     "execution_count": 96
    }
   ],
   "source": [
    "df['title'].value_counts()"
   ]
  },
  {
   "cell_type": "code",
   "execution_count": 97,
   "metadata": {},
   "outputs": [
    {
     "output_type": "execute_result",
     "data": {
      "text/plain": [
       "112xx    34\n",
       "300xx    34\n",
       "750xx    32\n",
       "606xx    32\n",
       "770xx    30\n",
       "945xx    29\n",
       "117xx    25\n",
       "104xx    24\n",
       "917xx    24\n",
       "921xx    23\n",
       "900xx    21\n",
       "331xx    21\n",
       "070xx    20\n",
       "207xx    20\n",
       "481xx    19\n",
       "925xx    18\n",
       "802xx    18\n",
       "100xx    18\n",
       "021xx    18\n",
       "853xx    18\n",
       "891xx    18\n",
       "212xx    17\n",
       "480xx    16\n",
       "210xx    16\n",
       "760xx    16\n",
       "553xx    16\n",
       "774xx    16\n",
       "850xx    16\n",
       "913xx    15\n",
       "330xx    15\n",
       "         ..\n",
       "625xx     1\n",
       "611xx     1\n",
       "864xx     1\n",
       "246xx     1\n",
       "743xx     1\n",
       "664xx     1\n",
       "897xx     1\n",
       "944xx     1\n",
       "049xx     1\n",
       "101xx     1\n",
       "252xx     1\n",
       "184xx     1\n",
       "541xx     1\n",
       "013xx     1\n",
       "977xx     1\n",
       "584xx     1\n",
       "319xx     1\n",
       "295xx     1\n",
       "759xx     1\n",
       "583xx     1\n",
       "597xx     1\n",
       "447xx     1\n",
       "161xx     1\n",
       "581xx     1\n",
       "273xx     1\n",
       "767xx     1\n",
       "855xx     1\n",
       "177xx     1\n",
       "617xx     1\n",
       "718xx     1\n",
       "Name: zip_code, Length: 629, dtype: int64"
      ]
     },
     "metadata": {},
     "execution_count": 97
    }
   ],
   "source": [
    "df['zip_code'].value_counts()"
   ]
  },
  {
   "cell_type": "code",
   "execution_count": 98,
   "metadata": {},
   "outputs": [],
   "source": [
    "df['zip_code'] = df['zip_code'].apply(lambda x: int(str(x)[0:3]))"
   ]
  },
  {
   "cell_type": "code",
   "execution_count": 99,
   "metadata": {},
   "outputs": [
    {
     "output_type": "execute_result",
     "data": {
      "text/plain": [
       "addr_state\n",
       "AK    995.000000\n",
       "AL    356.428571\n",
       "AR    723.666667\n",
       "AZ    852.612903\n",
       "CA    927.246499\n",
       "CO    803.791045\n",
       "CT     81.160000\n",
       "DC    200.000000\n",
       "DE    198.000000\n",
       "FL    333.233503\n",
       "GA    304.870000\n",
       "HI    967.235294\n",
       "IL    606.433962\n",
       "IN    466.361702\n",
       "KS    666.346154\n",
       "KY    407.071429\n",
       "LA    706.444444\n",
       "MA     19.482759\n",
       "MD    210.575758\n",
       "ME     42.428571\n",
       "MI    485.397590\n",
       "MN    553.526316\n",
       "MO    639.650000\n",
       "MS    391.000000\n",
       "MT    594.666667\n",
       "NC    278.987805\n",
       "ND    584.200000\n",
       "NE    682.222222\n",
       "NH     33.461538\n",
       "NJ     78.218750\n",
       "NM    875.545455\n",
       "NV    891.692308\n",
       "NY    117.878151\n",
       "OH    441.377358\n",
       "OK    738.250000\n",
       "OR    971.794872\n",
       "PA    174.484211\n",
       "RI     28.285714\n",
       "SC    294.023810\n",
       "SD    573.000000\n",
       "TN    376.549020\n",
       "TX    768.955466\n",
       "UT    840.500000\n",
       "VA    228.116505\n",
       "VT     55.375000\n",
       "WA    984.233333\n",
       "WI    538.212121\n",
       "WV    260.083333\n",
       "WY    824.000000\n",
       "Name: zip_code, dtype: float64"
      ]
     },
     "metadata": {},
     "execution_count": 99
    }
   ],
   "source": [
    "df.groupby(['addr_state'])['zip_code'].mean()"
   ]
  },
  {
   "cell_type": "code",
   "execution_count": 100,
   "metadata": {},
   "outputs": [],
   "source": [
    "df['earliest_cr_line'] = df['earliest_cr_line'].apply(lambda x: x.split('-'))"
   ]
  },
  {
   "cell_type": "code",
   "execution_count": 101,
   "metadata": {},
   "outputs": [],
   "source": [
    "def findmonth(list_):\n",
    "    for i in list_:\n",
    "        if (len(i) == 3):\n",
    "            return i\n",
    "        "
   ]
  },
  {
   "cell_type": "code",
   "execution_count": 102,
   "metadata": {
    "tags": []
   },
   "outputs": [],
   "source": [
    "df['ecl'] = df['earliest_cr_line'].apply(findmonth)"
   ]
  },
  {
   "cell_type": "code",
   "execution_count": 103,
   "metadata": {},
   "outputs": [],
   "source": [
    "df['last_pymnt_d'] = df['last_pymnt_d'].apply(lambda x: x.split('-')[1])"
   ]
  },
  {
   "cell_type": "code",
   "execution_count": 104,
   "metadata": {},
   "outputs": [
    {
     "output_type": "execute_result",
     "data": {
      "text/plain": [
       "2610"
      ]
     },
     "metadata": {},
     "execution_count": 104
    }
   ],
   "source": [
    "df['next_pymnt_d'].isnull().sum()"
   ]
  },
  {
   "cell_type": "code",
   "execution_count": 105,
   "metadata": {},
   "outputs": [
    {
     "output_type": "execute_result",
     "data": {
      "text/plain": [
       "19-Apr    335\n",
       "19-Mar      1\n",
       "Name: next_pymnt_d, dtype: int64"
      ]
     },
     "metadata": {},
     "execution_count": 105
    }
   ],
   "source": [
    "df['next_pymnt_d'].value_counts()"
   ]
  },
  {
   "cell_type": "code",
   "execution_count": 106,
   "metadata": {},
   "outputs": [],
   "source": [
    "df['last_credit_pull_d'] = df['last_credit_pull_d'].apply(lambda x: x.split('-')[1])"
   ]
  },
  {
   "cell_type": "code",
   "execution_count": 107,
   "metadata": {},
   "outputs": [
    {
     "output_type": "execute_result",
     "data": {
      "text/plain": [
       "<matplotlib.axes._subplots.AxesSubplot at 0x1a80a590>"
      ]
     },
     "metadata": {},
     "execution_count": 107
    },
    {
     "output_type": "display_data",
     "data": {
      "text/plain": "<Figure size 432x288 with 2 Axes>",
      "image/svg+xml": "<?xml version=\"1.0\" encoding=\"utf-8\" standalone=\"no\"?>\r\n<!DOCTYPE svg PUBLIC \"-//W3C//DTD SVG 1.1//EN\"\r\n  \"http://www.w3.org/Graphics/SVG/1.1/DTD/svg11.dtd\">\r\n<!-- Created with matplotlib (https://matplotlib.org/) -->\r\n<svg height=\"329.067344pt\" version=\"1.1\" viewBox=\"0 0 434.562937 329.067344\" width=\"434.562937pt\" xmlns=\"http://www.w3.org/2000/svg\" xmlns:xlink=\"http://www.w3.org/1999/xlink\">\r\n <defs>\r\n  <style type=\"text/css\">\r\n*{stroke-linecap:butt;stroke-linejoin:round;}\r\n  </style>\r\n </defs>\r\n <g id=\"figure_1\">\r\n  <g id=\"patch_1\">\r\n   <path d=\"M 0 329.067344 \r\nL 434.562937 329.067344 \r\nL 434.562937 0 \r\nL 0 0 \r\nz\r\n\" style=\"fill:none;\"/>\r\n  </g>\r\n  <g id=\"axes_1\">\r\n   <g id=\"patch_2\">\r\n    <path d=\"M 100.628125 228.439219 \r\nL 368.468125 228.439219 \r\nL 368.468125 10.999219 \r\nL 100.628125 10.999219 \r\nz\r\n\" style=\"fill:#ffffff;\"/>\r\n   </g>\r\n   <g id=\"QuadMesh_1\">\r\n    <path clip-path=\"url(#p64313b776f)\" d=\"M 100.628125 10.999219 \r\nL 116.383419 10.999219 \r\nL 116.383419 23.789807 \r\nL 100.628125 23.789807 \r\nL 100.628125 10.999219 \r\n\" style=\"fill:#800000;\"/>\r\n    <path clip-path=\"url(#p64313b776f)\" d=\"M 116.383419 10.999219 \r\nL 132.138713 10.999219 \r\nL 132.138713 23.789807 \r\nL 116.383419 23.789807 \r\nL 116.383419 10.999219 \r\n\" style=\"fill:#0000d8;\"/>\r\n    <path clip-path=\"url(#p64313b776f)\" d=\"M 132.138713 10.999219 \r\nL 147.894007 10.999219 \r\nL 147.894007 23.789807 \r\nL 132.138713 23.789807 \r\nL 132.138713 10.999219 \r\n\" style=\"fill:#0000e6;\"/>\r\n    <path clip-path=\"url(#p64313b776f)\" d=\"M 147.894007 10.999219 \r\nL 163.649301 10.999219 \r\nL 163.649301 23.789807 \r\nL 147.894007 23.789807 \r\nL 147.894007 10.999219 \r\n\" style=\"fill:#0000e1;\"/>\r\n    <path clip-path=\"url(#p64313b776f)\" d=\"M 163.649301 10.999219 \r\nL 179.404596 10.999219 \r\nL 179.404596 23.789807 \r\nL 163.649301 23.789807 \r\nL 163.649301 10.999219 \r\n\" style=\"fill:#0000e4;\"/>\r\n    <path clip-path=\"url(#p64313b776f)\" d=\"M 179.404596 10.999219 \r\nL 195.15989 10.999219 \r\nL 195.15989 23.789807 \r\nL 179.404596 23.789807 \r\nL 179.404596 10.999219 \r\n\" style=\"fill:#0000e1;\"/>\r\n    <path clip-path=\"url(#p64313b776f)\" d=\"M 195.15989 10.999219 \r\nL 210.915184 10.999219 \r\nL 210.915184 23.789807 \r\nL 195.15989 23.789807 \r\nL 195.15989 10.999219 \r\n\" style=\"fill:#0000de;\"/>\r\n    <path clip-path=\"url(#p64313b776f)\" d=\"M 210.915184 10.999219 \r\nL 226.670478 10.999219 \r\nL 226.670478 23.789807 \r\nL 210.915184 23.789807 \r\nL 210.915184 10.999219 \r\n\" style=\"fill:#0000db;\"/>\r\n    <path clip-path=\"url(#p64313b776f)\" d=\"M 226.670478 10.999219 \r\nL 242.425772 10.999219 \r\nL 242.425772 23.789807 \r\nL 226.670478 23.789807 \r\nL 226.670478 10.999219 \r\n\" style=\"fill:#0000c5;\"/>\r\n    <path clip-path=\"url(#p64313b776f)\" d=\"M 242.425772 10.999219 \r\nL 258.181066 10.999219 \r\nL 258.181066 23.789807 \r\nL 242.425772 23.789807 \r\nL 242.425772 10.999219 \r\n\" style=\"fill:#0000db;\"/>\r\n    <path clip-path=\"url(#p64313b776f)\" d=\"M 258.181066 10.999219 \r\nL 273.93636 10.999219 \r\nL 273.93636 23.789807 \r\nL 258.181066 23.789807 \r\nL 258.181066 10.999219 \r\n\" style=\"fill:#0000d8;\"/>\r\n    <path clip-path=\"url(#p64313b776f)\" d=\"M 273.93636 10.999219 \r\nL 289.691654 10.999219 \r\nL 289.691654 23.789807 \r\nL 273.93636 23.789807 \r\nL 273.93636 10.999219 \r\n\" style=\"fill:#0000e1;\"/>\r\n    <path clip-path=\"url(#p64313b776f)\" d=\"M 289.691654 10.999219 \r\nL 305.446949 10.999219 \r\nL 305.446949 23.789807 \r\nL 289.691654 23.789807 \r\nL 289.691654 10.999219 \r\n\" style=\"fill:#0000e1;\"/>\r\n    <path clip-path=\"url(#p64313b776f)\" d=\"M 305.446949 10.999219 \r\nL 321.202243 10.999219 \r\nL 321.202243 23.789807 \r\nL 305.446949 23.789807 \r\nL 305.446949 10.999219 \r\n\" style=\"fill:#0000f2;\"/>\r\n    <path clip-path=\"url(#p64313b776f)\" d=\"M 321.202243 10.999219 \r\nL 336.957537 10.999219 \r\nL 336.957537 23.789807 \r\nL 321.202243 23.789807 \r\nL 321.202243 10.999219 \r\n\" style=\"fill:#0000d3;\"/>\r\n    <path clip-path=\"url(#p64313b776f)\" d=\"M 336.957537 10.999219 \r\nL 352.712831 10.999219 \r\nL 352.712831 23.789807 \r\nL 336.957537 23.789807 \r\nL 336.957537 10.999219 \r\n\" style=\"fill:#0000ef;\"/>\r\n    <path clip-path=\"url(#p64313b776f)\" d=\"M 352.712831 10.999219 \r\nL 368.468125 10.999219 \r\nL 368.468125 23.789807 \r\nL 352.712831 23.789807 \r\nL 352.712831 10.999219 \r\n\" style=\"fill:#0000d6;\"/>\r\n    <path clip-path=\"url(#p64313b776f)\" d=\"M 100.628125 23.789807 \r\nL 116.383419 23.789807 \r\nL 116.383419 36.580395 \r\nL 100.628125 36.580395 \r\nL 100.628125 23.789807 \r\n\" style=\"fill:#0000d8;\"/>\r\n    <path clip-path=\"url(#p64313b776f)\" d=\"M 116.383419 23.789807 \r\nL 132.138713 23.789807 \r\nL 132.138713 36.580395 \r\nL 116.383419 36.580395 \r\nL 116.383419 23.789807 \r\n\" style=\"fill:#800000;\"/>\r\n    <path clip-path=\"url(#p64313b776f)\" d=\"M 132.138713 23.789807 \r\nL 147.894007 23.789807 \r\nL 147.894007 36.580395 \r\nL 132.138713 36.580395 \r\nL 132.138713 23.789807 \r\n\" style=\"fill:#0000e1;\"/>\r\n    <path clip-path=\"url(#p64313b776f)\" d=\"M 147.894007 23.789807 \r\nL 163.649301 23.789807 \r\nL 163.649301 36.580395 \r\nL 147.894007 36.580395 \r\nL 147.894007 23.789807 \r\n\" style=\"fill:#0000db;\"/>\r\n    <path clip-path=\"url(#p64313b776f)\" d=\"M 163.649301 23.789807 \r\nL 179.404596 23.789807 \r\nL 179.404596 36.580395 \r\nL 163.649301 36.580395 \r\nL 163.649301 23.789807 \r\n\" style=\"fill:#0000e1;\"/>\r\n    <path clip-path=\"url(#p64313b776f)\" d=\"M 179.404596 23.789807 \r\nL 195.15989 23.789807 \r\nL 195.15989 36.580395 \r\nL 179.404596 36.580395 \r\nL 179.404596 23.789807 \r\n\" style=\"fill:#0000d6;\"/>\r\n    <path clip-path=\"url(#p64313b776f)\" d=\"M 195.15989 23.789807 \r\nL 210.915184 23.789807 \r\nL 210.915184 36.580395 \r\nL 195.15989 36.580395 \r\nL 195.15989 23.789807 \r\n\" style=\"fill:#0000db;\"/>\r\n    <path clip-path=\"url(#p64313b776f)\" d=\"M 210.915184 23.789807 \r\nL 226.670478 23.789807 \r\nL 226.670478 36.580395 \r\nL 210.915184 36.580395 \r\nL 210.915184 23.789807 \r\n\" style=\"fill:#0000d0;\"/>\r\n    <path clip-path=\"url(#p64313b776f)\" d=\"M 226.670478 23.789807 \r\nL 242.425772 23.789807 \r\nL 242.425772 36.580395 \r\nL 226.670478 36.580395 \r\nL 226.670478 23.789807 \r\n\" style=\"fill:#0000e6;\"/>\r\n    <path clip-path=\"url(#p64313b776f)\" d=\"M 242.425772 23.789807 \r\nL 258.181066 23.789807 \r\nL 258.181066 36.580395 \r\nL 242.425772 36.580395 \r\nL 242.425772 23.789807 \r\n\" style=\"fill:#0000e9;\"/>\r\n    <path clip-path=\"url(#p64313b776f)\" d=\"M 258.181066 23.789807 \r\nL 273.93636 23.789807 \r\nL 273.93636 36.580395 \r\nL 258.181066 36.580395 \r\nL 258.181066 23.789807 \r\n\" style=\"fill:#0000d8;\"/>\r\n    <path clip-path=\"url(#p64313b776f)\" d=\"M 273.93636 23.789807 \r\nL 289.691654 23.789807 \r\nL 289.691654 36.580395 \r\nL 273.93636 36.580395 \r\nL 273.93636 23.789807 \r\n\" style=\"fill:#0000e1;\"/>\r\n    <path clip-path=\"url(#p64313b776f)\" d=\"M 289.691654 23.789807 \r\nL 305.446949 23.789807 \r\nL 305.446949 36.580395 \r\nL 289.691654 36.580395 \r\nL 289.691654 23.789807 \r\n\" style=\"fill:#0000d3;\"/>\r\n    <path clip-path=\"url(#p64313b776f)\" d=\"M 305.446949 23.789807 \r\nL 321.202243 23.789807 \r\nL 321.202243 36.580395 \r\nL 305.446949 36.580395 \r\nL 305.446949 23.789807 \r\n\" style=\"fill:#0000de;\"/>\r\n    <path clip-path=\"url(#p64313b776f)\" d=\"M 321.202243 23.789807 \r\nL 336.957537 23.789807 \r\nL 336.957537 36.580395 \r\nL 321.202243 36.580395 \r\nL 321.202243 23.789807 \r\n\" style=\"fill:#0000e4;\"/>\r\n    <path clip-path=\"url(#p64313b776f)\" d=\"M 336.957537 23.789807 \r\nL 352.712831 23.789807 \r\nL 352.712831 36.580395 \r\nL 336.957537 36.580395 \r\nL 336.957537 23.789807 \r\n\" style=\"fill:#7171ff;\"/>\r\n    <path clip-path=\"url(#p64313b776f)\" d=\"M 352.712831 23.789807 \r\nL 368.468125 23.789807 \r\nL 368.468125 36.580395 \r\nL 352.712831 36.580395 \r\nL 352.712831 23.789807 \r\n\" style=\"fill:#0000db;\"/>\r\n    <path clip-path=\"url(#p64313b776f)\" d=\"M 100.628125 36.580395 \r\nL 116.383419 36.580395 \r\nL 116.383419 49.370983 \r\nL 100.628125 49.370983 \r\nL 100.628125 36.580395 \r\n\" style=\"fill:#0000e6;\"/>\r\n    <path clip-path=\"url(#p64313b776f)\" d=\"M 116.383419 36.580395 \r\nL 132.138713 36.580395 \r\nL 132.138713 49.370983 \r\nL 116.383419 49.370983 \r\nL 116.383419 36.580395 \r\n\" style=\"fill:#0000e1;\"/>\r\n    <path clip-path=\"url(#p64313b776f)\" d=\"M 132.138713 36.580395 \r\nL 147.894007 36.580395 \r\nL 147.894007 49.370983 \r\nL 132.138713 49.370983 \r\nL 132.138713 36.580395 \r\n\" style=\"fill:#800000;\"/>\r\n    <path clip-path=\"url(#p64313b776f)\" d=\"M 147.894007 36.580395 \r\nL 163.649301 36.580395 \r\nL 163.649301 49.370983 \r\nL 147.894007 49.370983 \r\nL 147.894007 36.580395 \r\n\" style=\"fill:#0000bf;\"/>\r\n    <path clip-path=\"url(#p64313b776f)\" d=\"M 163.649301 36.580395 \r\nL 179.404596 36.580395 \r\nL 179.404596 49.370983 \r\nL 163.649301 49.370983 \r\nL 163.649301 36.580395 \r\n\" style=\"fill:#0000e9;\"/>\r\n    <path clip-path=\"url(#p64313b776f)\" d=\"M 179.404596 36.580395 \r\nL 195.15989 36.580395 \r\nL 195.15989 49.370983 \r\nL 179.404596 49.370983 \r\nL 179.404596 36.580395 \r\n\" style=\"fill:#0000e4;\"/>\r\n    <path clip-path=\"url(#p64313b776f)\" d=\"M 195.15989 36.580395 \r\nL 210.915184 36.580395 \r\nL 210.915184 49.370983 \r\nL 195.15989 49.370983 \r\nL 195.15989 36.580395 \r\n\" style=\"fill:#0000e4;\"/>\r\n    <path clip-path=\"url(#p64313b776f)\" d=\"M 210.915184 36.580395 \r\nL 226.670478 36.580395 \r\nL 226.670478 49.370983 \r\nL 210.915184 49.370983 \r\nL 210.915184 36.580395 \r\n\" style=\"fill:#0000d8;\"/>\r\n    <path clip-path=\"url(#p64313b776f)\" d=\"M 226.670478 36.580395 \r\nL 242.425772 36.580395 \r\nL 242.425772 49.370983 \r\nL 226.670478 49.370983 \r\nL 226.670478 36.580395 \r\n\" style=\"fill:#0000e1;\"/>\r\n    <path clip-path=\"url(#p64313b776f)\" d=\"M 242.425772 36.580395 \r\nL 258.181066 36.580395 \r\nL 258.181066 49.370983 \r\nL 242.425772 49.370983 \r\nL 242.425772 36.580395 \r\n\" style=\"fill:#0000db;\"/>\r\n    <path clip-path=\"url(#p64313b776f)\" d=\"M 258.181066 36.580395 \r\nL 273.93636 36.580395 \r\nL 273.93636 49.370983 \r\nL 258.181066 49.370983 \r\nL 258.181066 36.580395 \r\n\" style=\"fill:#0000d3;\"/>\r\n    <path clip-path=\"url(#p64313b776f)\" d=\"M 273.93636 36.580395 \r\nL 289.691654 36.580395 \r\nL 289.691654 49.370983 \r\nL 273.93636 49.370983 \r\nL 273.93636 36.580395 \r\n\" style=\"fill:#0000e1;\"/>\r\n    <path clip-path=\"url(#p64313b776f)\" d=\"M 289.691654 36.580395 \r\nL 305.446949 36.580395 \r\nL 305.446949 49.370983 \r\nL 289.691654 49.370983 \r\nL 289.691654 36.580395 \r\n\" style=\"fill:#0000c8;\"/>\r\n    <path clip-path=\"url(#p64313b776f)\" d=\"M 305.446949 36.580395 \r\nL 321.202243 36.580395 \r\nL 321.202243 49.370983 \r\nL 305.446949 49.370983 \r\nL 305.446949 36.580395 \r\n\" style=\"fill:#0000de;\"/>\r\n    <path clip-path=\"url(#p64313b776f)\" d=\"M 321.202243 36.580395 \r\nL 336.957537 36.580395 \r\nL 336.957537 49.370983 \r\nL 321.202243 49.370983 \r\nL 321.202243 36.580395 \r\n\" style=\"fill:#0000c2;\"/>\r\n    <path clip-path=\"url(#p64313b776f)\" d=\"M 336.957537 36.580395 \r\nL 352.712831 36.580395 \r\nL 352.712831 49.370983 \r\nL 336.957537 49.370983 \r\nL 336.957537 36.580395 \r\n\" style=\"fill:#0000e6;\"/>\r\n    <path clip-path=\"url(#p64313b776f)\" d=\"M 352.712831 36.580395 \r\nL 368.468125 36.580395 \r\nL 368.468125 49.370983 \r\nL 352.712831 49.370983 \r\nL 352.712831 36.580395 \r\n\" style=\"fill:#0000e6;\"/>\r\n    <path clip-path=\"url(#p64313b776f)\" d=\"M 100.628125 49.370983 \r\nL 116.383419 49.370983 \r\nL 116.383419 62.161572 \r\nL 100.628125 62.161572 \r\nL 100.628125 49.370983 \r\n\" style=\"fill:#0000e1;\"/>\r\n    <path clip-path=\"url(#p64313b776f)\" d=\"M 116.383419 49.370983 \r\nL 132.138713 49.370983 \r\nL 132.138713 62.161572 \r\nL 116.383419 62.161572 \r\nL 116.383419 49.370983 \r\n\" style=\"fill:#0000db;\"/>\r\n    <path clip-path=\"url(#p64313b776f)\" d=\"M 132.138713 49.370983 \r\nL 147.894007 49.370983 \r\nL 147.894007 62.161572 \r\nL 132.138713 62.161572 \r\nL 132.138713 49.370983 \r\n\" style=\"fill:#0000bf;\"/>\r\n    <path clip-path=\"url(#p64313b776f)\" d=\"M 147.894007 49.370983 \r\nL 163.649301 49.370983 \r\nL 163.649301 62.161572 \r\nL 147.894007 62.161572 \r\nL 147.894007 49.370983 \r\n\" style=\"fill:#800000;\"/>\r\n    <path clip-path=\"url(#p64313b776f)\" d=\"M 163.649301 49.370983 \r\nL 179.404596 49.370983 \r\nL 179.404596 62.161572 \r\nL 163.649301 62.161572 \r\nL 163.649301 49.370983 \r\n\" style=\"fill:#0000e9;\"/>\r\n    <path clip-path=\"url(#p64313b776f)\" d=\"M 179.404596 49.370983 \r\nL 195.15989 49.370983 \r\nL 195.15989 62.161572 \r\nL 179.404596 62.161572 \r\nL 179.404596 49.370983 \r\n\" style=\"fill:#0000e1;\"/>\r\n    <path clip-path=\"url(#p64313b776f)\" d=\"M 195.15989 49.370983 \r\nL 210.915184 49.370983 \r\nL 210.915184 62.161572 \r\nL 195.15989 62.161572 \r\nL 195.15989 49.370983 \r\n\" style=\"fill:#0000e6;\"/>\r\n    <path clip-path=\"url(#p64313b776f)\" d=\"M 210.915184 49.370983 \r\nL 226.670478 49.370983 \r\nL 226.670478 62.161572 \r\nL 210.915184 62.161572 \r\nL 210.915184 49.370983 \r\n\" style=\"fill:#0000d3;\"/>\r\n    <path clip-path=\"url(#p64313b776f)\" d=\"M 226.670478 49.370983 \r\nL 242.425772 49.370983 \r\nL 242.425772 62.161572 \r\nL 226.670478 62.161572 \r\nL 226.670478 49.370983 \r\n\" style=\"fill:#0000e9;\"/>\r\n    <path clip-path=\"url(#p64313b776f)\" d=\"M 242.425772 49.370983 \r\nL 258.181066 49.370983 \r\nL 258.181066 62.161572 \r\nL 242.425772 62.161572 \r\nL 242.425772 49.370983 \r\n\" style=\"fill:#0000d3;\"/>\r\n    <path clip-path=\"url(#p64313b776f)\" d=\"M 258.181066 49.370983 \r\nL 273.93636 49.370983 \r\nL 273.93636 62.161572 \r\nL 258.181066 62.161572 \r\nL 258.181066 49.370983 \r\n\" style=\"fill:#0000e9;\"/>\r\n    <path clip-path=\"url(#p64313b776f)\" d=\"M 273.93636 49.370983 \r\nL 289.691654 49.370983 \r\nL 289.691654 62.161572 \r\nL 273.93636 62.161572 \r\nL 273.93636 49.370983 \r\n\" style=\"fill:#0000e4;\"/>\r\n    <path clip-path=\"url(#p64313b776f)\" d=\"M 289.691654 49.370983 \r\nL 305.446949 49.370983 \r\nL 305.446949 62.161572 \r\nL 289.691654 62.161572 \r\nL 289.691654 49.370983 \r\n\" style=\"fill:#0000cd;\"/>\r\n    <path clip-path=\"url(#p64313b776f)\" d=\"M 305.446949 49.370983 \r\nL 321.202243 49.370983 \r\nL 321.202243 62.161572 \r\nL 305.446949 62.161572 \r\nL 305.446949 49.370983 \r\n\" style=\"fill:#0000f4;\"/>\r\n    <path clip-path=\"url(#p64313b776f)\" d=\"M 321.202243 49.370983 \r\nL 336.957537 49.370983 \r\nL 336.957537 62.161572 \r\nL 321.202243 62.161572 \r\nL 321.202243 49.370983 \r\n\" style=\"fill:#ffc9c9;\"/>\r\n    <path clip-path=\"url(#p64313b776f)\" d=\"M 336.957537 49.370983 \r\nL 352.712831 49.370983 \r\nL 352.712831 62.161572 \r\nL 336.957537 62.161572 \r\nL 336.957537 49.370983 \r\n\" style=\"fill:#0000db;\"/>\r\n    <path clip-path=\"url(#p64313b776f)\" d=\"M 352.712831 49.370983 \r\nL 368.468125 49.370983 \r\nL 368.468125 62.161572 \r\nL 352.712831 62.161572 \r\nL 352.712831 49.370983 \r\n\" style=\"fill:#0000de;\"/>\r\n    <path clip-path=\"url(#p64313b776f)\" d=\"M 100.628125 62.161572 \r\nL 116.383419 62.161572 \r\nL 116.383419 74.95216 \r\nL 100.628125 74.95216 \r\nL 100.628125 62.161572 \r\n\" style=\"fill:#0000e4;\"/>\r\n    <path clip-path=\"url(#p64313b776f)\" d=\"M 116.383419 62.161572 \r\nL 132.138713 62.161572 \r\nL 132.138713 74.95216 \r\nL 116.383419 74.95216 \r\nL 116.383419 62.161572 \r\n\" style=\"fill:#0000e1;\"/>\r\n    <path clip-path=\"url(#p64313b776f)\" d=\"M 132.138713 62.161572 \r\nL 147.894007 62.161572 \r\nL 147.894007 74.95216 \r\nL 132.138713 74.95216 \r\nL 132.138713 62.161572 \r\n\" style=\"fill:#0000e9;\"/>\r\n    <path clip-path=\"url(#p64313b776f)\" d=\"M 147.894007 62.161572 \r\nL 163.649301 62.161572 \r\nL 163.649301 74.95216 \r\nL 147.894007 74.95216 \r\nL 147.894007 62.161572 \r\n\" style=\"fill:#0000e9;\"/>\r\n    <path clip-path=\"url(#p64313b776f)\" d=\"M 163.649301 62.161572 \r\nL 179.404596 62.161572 \r\nL 179.404596 74.95216 \r\nL 163.649301 74.95216 \r\nL 163.649301 62.161572 \r\n\" style=\"fill:#800000;\"/>\r\n    <path clip-path=\"url(#p64313b776f)\" d=\"M 179.404596 62.161572 \r\nL 195.15989 62.161572 \r\nL 195.15989 74.95216 \r\nL 179.404596 74.95216 \r\nL 179.404596 62.161572 \r\n\" style=\"fill:#0101ff;\"/>\r\n    <path clip-path=\"url(#p64313b776f)\" d=\"M 195.15989 62.161572 \r\nL 210.915184 62.161572 \r\nL 210.915184 74.95216 \r\nL 195.15989 74.95216 \r\nL 195.15989 62.161572 \r\n\" style=\"fill:#0000ec;\"/>\r\n    <path clip-path=\"url(#p64313b776f)\" d=\"M 210.915184 62.161572 \r\nL 226.670478 62.161572 \r\nL 226.670478 74.95216 \r\nL 210.915184 74.95216 \r\nL 210.915184 62.161572 \r\n\" style=\"fill:#0000ec;\"/>\r\n    <path clip-path=\"url(#p64313b776f)\" d=\"M 226.670478 62.161572 \r\nL 242.425772 62.161572 \r\nL 242.425772 74.95216 \r\nL 226.670478 74.95216 \r\nL 226.670478 62.161572 \r\n\" style=\"fill:#0000db;\"/>\r\n    <path clip-path=\"url(#p64313b776f)\" d=\"M 242.425772 62.161572 \r\nL 258.181066 62.161572 \r\nL 258.181066 74.95216 \r\nL 242.425772 74.95216 \r\nL 242.425772 62.161572 \r\n\" style=\"fill:#0000de;\"/>\r\n    <path clip-path=\"url(#p64313b776f)\" d=\"M 258.181066 62.161572 \r\nL 273.93636 62.161572 \r\nL 273.93636 74.95216 \r\nL 258.181066 74.95216 \r\nL 258.181066 62.161572 \r\n\" style=\"fill:#0000a9;\"/>\r\n    <path clip-path=\"url(#p64313b776f)\" d=\"M 273.93636 62.161572 \r\nL 289.691654 62.161572 \r\nL 289.691654 74.95216 \r\nL 273.93636 74.95216 \r\nL 273.93636 62.161572 \r\n\" style=\"fill:#0000fd;\"/>\r\n    <path clip-path=\"url(#p64313b776f)\" d=\"M 289.691654 62.161572 \r\nL 305.446949 62.161572 \r\nL 305.446949 74.95216 \r\nL 289.691654 74.95216 \r\nL 289.691654 62.161572 \r\n\" style=\"fill:#0000e4;\"/>\r\n    <path clip-path=\"url(#p64313b776f)\" d=\"M 305.446949 62.161572 \r\nL 321.202243 62.161572 \r\nL 321.202243 74.95216 \r\nL 305.446949 74.95216 \r\nL 305.446949 62.161572 \r\n\" style=\"fill:#0000e6;\"/>\r\n    <path clip-path=\"url(#p64313b776f)\" d=\"M 321.202243 62.161572 \r\nL 336.957537 62.161572 \r\nL 336.957537 74.95216 \r\nL 321.202243 74.95216 \r\nL 321.202243 62.161572 \r\n\" style=\"fill:#0000db;\"/>\r\n    <path clip-path=\"url(#p64313b776f)\" d=\"M 336.957537 62.161572 \r\nL 352.712831 62.161572 \r\nL 352.712831 74.95216 \r\nL 336.957537 74.95216 \r\nL 336.957537 62.161572 \r\n\" style=\"fill:#0000e1;\"/>\r\n    <path clip-path=\"url(#p64313b776f)\" d=\"M 352.712831 62.161572 \r\nL 368.468125 62.161572 \r\nL 368.468125 74.95216 \r\nL 352.712831 74.95216 \r\nL 352.712831 62.161572 \r\n\" style=\"fill:#0000d0;\"/>\r\n    <path clip-path=\"url(#p64313b776f)\" d=\"M 100.628125 74.95216 \r\nL 116.383419 74.95216 \r\nL 116.383419 87.742748 \r\nL 100.628125 87.742748 \r\nL 100.628125 74.95216 \r\n\" style=\"fill:#0000e1;\"/>\r\n    <path clip-path=\"url(#p64313b776f)\" d=\"M 116.383419 74.95216 \r\nL 132.138713 74.95216 \r\nL 132.138713 87.742748 \r\nL 116.383419 87.742748 \r\nL 116.383419 74.95216 \r\n\" style=\"fill:#0000d6;\"/>\r\n    <path clip-path=\"url(#p64313b776f)\" d=\"M 132.138713 74.95216 \r\nL 147.894007 74.95216 \r\nL 147.894007 87.742748 \r\nL 132.138713 87.742748 \r\nL 132.138713 74.95216 \r\n\" style=\"fill:#0000e4;\"/>\r\n    <path clip-path=\"url(#p64313b776f)\" d=\"M 147.894007 74.95216 \r\nL 163.649301 74.95216 \r\nL 163.649301 87.742748 \r\nL 147.894007 87.742748 \r\nL 147.894007 74.95216 \r\n\" style=\"fill:#0000e1;\"/>\r\n    <path clip-path=\"url(#p64313b776f)\" d=\"M 163.649301 74.95216 \r\nL 179.404596 74.95216 \r\nL 179.404596 87.742748 \r\nL 163.649301 87.742748 \r\nL 163.649301 74.95216 \r\n\" style=\"fill:#0101ff;\"/>\r\n    <path clip-path=\"url(#p64313b776f)\" d=\"M 179.404596 74.95216 \r\nL 195.15989 74.95216 \r\nL 195.15989 87.742748 \r\nL 179.404596 87.742748 \r\nL 179.404596 74.95216 \r\n\" style=\"fill:#800000;\"/>\r\n    <path clip-path=\"url(#p64313b776f)\" d=\"M 195.15989 74.95216 \r\nL 210.915184 74.95216 \r\nL 210.915184 87.742748 \r\nL 195.15989 87.742748 \r\nL 195.15989 74.95216 \r\n\" style=\"fill:#dc0000;\"/>\r\n    <path clip-path=\"url(#p64313b776f)\" d=\"M 210.915184 74.95216 \r\nL 226.670478 74.95216 \r\nL 226.670478 87.742748 \r\nL 210.915184 87.742748 \r\nL 210.915184 74.95216 \r\n\" style=\"fill:#3131ff;\"/>\r\n    <path clip-path=\"url(#p64313b776f)\" d=\"M 226.670478 74.95216 \r\nL 242.425772 74.95216 \r\nL 242.425772 87.742748 \r\nL 226.670478 87.742748 \r\nL 226.670478 74.95216 \r\n\" style=\"fill:#0000a6;\"/>\r\n    <path clip-path=\"url(#p64313b776f)\" d=\"M 242.425772 74.95216 \r\nL 258.181066 74.95216 \r\nL 258.181066 87.742748 \r\nL 242.425772 87.742748 \r\nL 242.425772 74.95216 \r\n\" style=\"fill:#000055;\"/>\r\n    <path clip-path=\"url(#p64313b776f)\" d=\"M 258.181066 74.95216 \r\nL 273.93636 74.95216 \r\nL 273.93636 87.742748 \r\nL 258.181066 87.742748 \r\nL 258.181066 74.95216 \r\n\" style=\"fill:#0000d8;\"/>\r\n    <path clip-path=\"url(#p64313b776f)\" d=\"M 273.93636 74.95216 \r\nL 289.691654 74.95216 \r\nL 289.691654 87.742748 \r\nL 273.93636 87.742748 \r\nL 273.93636 74.95216 \r\n\" style=\"fill:#d30000;\"/>\r\n    <path clip-path=\"url(#p64313b776f)\" d=\"M 289.691654 74.95216 \r\nL 305.446949 74.95216 \r\nL 305.446949 87.742748 \r\nL 289.691654 87.742748 \r\nL 289.691654 74.95216 \r\n\" style=\"fill:#0000e4;\"/>\r\n    <path clip-path=\"url(#p64313b776f)\" d=\"M 305.446949 74.95216 \r\nL 321.202243 74.95216 \r\nL 321.202243 87.742748 \r\nL 305.446949 87.742748 \r\nL 305.446949 74.95216 \r\n\" style=\"fill:#0000d6;\"/>\r\n    <path clip-path=\"url(#p64313b776f)\" d=\"M 321.202243 74.95216 \r\nL 336.957537 74.95216 \r\nL 336.957537 87.742748 \r\nL 321.202243 87.742748 \r\nL 321.202243 74.95216 \r\n\" style=\"fill:#0000d0;\"/>\r\n    <path clip-path=\"url(#p64313b776f)\" d=\"M 336.957537 74.95216 \r\nL 352.712831 74.95216 \r\nL 352.712831 87.742748 \r\nL 336.957537 87.742748 \r\nL 336.957537 74.95216 \r\n\" style=\"fill:#0000e6;\"/>\r\n    <path clip-path=\"url(#p64313b776f)\" d=\"M 352.712831 74.95216 \r\nL 368.468125 74.95216 \r\nL 368.468125 87.742748 \r\nL 352.712831 87.742748 \r\nL 352.712831 74.95216 \r\n\" style=\"fill:#0000de;\"/>\r\n    <path clip-path=\"url(#p64313b776f)\" d=\"M 100.628125 87.742748 \r\nL 116.383419 87.742748 \r\nL 116.383419 100.533336 \r\nL 100.628125 100.533336 \r\nL 100.628125 87.742748 \r\n\" style=\"fill:#0000de;\"/>\r\n    <path clip-path=\"url(#p64313b776f)\" d=\"M 116.383419 87.742748 \r\nL 132.138713 87.742748 \r\nL 132.138713 100.533336 \r\nL 116.383419 100.533336 \r\nL 116.383419 87.742748 \r\n\" style=\"fill:#0000db;\"/>\r\n    <path clip-path=\"url(#p64313b776f)\" d=\"M 132.138713 87.742748 \r\nL 147.894007 87.742748 \r\nL 147.894007 100.533336 \r\nL 132.138713 100.533336 \r\nL 132.138713 87.742748 \r\n\" style=\"fill:#0000e4;\"/>\r\n    <path clip-path=\"url(#p64313b776f)\" d=\"M 147.894007 87.742748 \r\nL 163.649301 87.742748 \r\nL 163.649301 100.533336 \r\nL 147.894007 100.533336 \r\nL 147.894007 87.742748 \r\n\" style=\"fill:#0000e6;\"/>\r\n    <path clip-path=\"url(#p64313b776f)\" d=\"M 163.649301 87.742748 \r\nL 179.404596 87.742748 \r\nL 179.404596 100.533336 \r\nL 163.649301 100.533336 \r\nL 163.649301 87.742748 \r\n\" style=\"fill:#0000ec;\"/>\r\n    <path clip-path=\"url(#p64313b776f)\" d=\"M 179.404596 87.742748 \r\nL 195.15989 87.742748 \r\nL 195.15989 100.533336 \r\nL 179.404596 100.533336 \r\nL 179.404596 87.742748 \r\n\" style=\"fill:#dc0000;\"/>\r\n    <path clip-path=\"url(#p64313b776f)\" d=\"M 195.15989 87.742748 \r\nL 210.915184 87.742748 \r\nL 210.915184 100.533336 \r\nL 195.15989 100.533336 \r\nL 195.15989 87.742748 \r\n\" style=\"fill:#800000;\"/>\r\n    <path clip-path=\"url(#p64313b776f)\" d=\"M 210.915184 87.742748 \r\nL 226.670478 87.742748 \r\nL 226.670478 100.533336 \r\nL 210.915184 100.533336 \r\nL 210.915184 87.742748 \r\n\" style=\"fill:#5555ff;\"/>\r\n    <path clip-path=\"url(#p64313b776f)\" d=\"M 226.670478 87.742748 \r\nL 242.425772 87.742748 \r\nL 242.425772 100.533336 \r\nL 226.670478 100.533336 \r\nL 226.670478 87.742748 \r\n\" style=\"fill:#0000ac;\"/>\r\n    <path clip-path=\"url(#p64313b776f)\" d=\"M 242.425772 87.742748 \r\nL 258.181066 87.742748 \r\nL 258.181066 100.533336 \r\nL 242.425772 100.533336 \r\nL 242.425772 87.742748 \r\n\" style=\"fill:#00004c;\"/>\r\n    <path clip-path=\"url(#p64313b776f)\" d=\"M 258.181066 87.742748 \r\nL 273.93636 87.742748 \r\nL 273.93636 100.533336 \r\nL 258.181066 100.533336 \r\nL 258.181066 87.742748 \r\n\" style=\"fill:#0000ef;\"/>\r\n    <path clip-path=\"url(#p64313b776f)\" d=\"M 273.93636 87.742748 \r\nL 289.691654 87.742748 \r\nL 289.691654 100.533336 \r\nL 273.93636 100.533336 \r\nL 273.93636 87.742748 \r\n\" style=\"fill:#f60000;\"/>\r\n    <path clip-path=\"url(#p64313b776f)\" d=\"M 289.691654 87.742748 \r\nL 305.446949 87.742748 \r\nL 305.446949 100.533336 \r\nL 289.691654 100.533336 \r\nL 289.691654 87.742748 \r\n\" style=\"fill:#0000e4;\"/>\r\n    <path clip-path=\"url(#p64313b776f)\" d=\"M 305.446949 87.742748 \r\nL 321.202243 87.742748 \r\nL 321.202243 100.533336 \r\nL 305.446949 100.533336 \r\nL 305.446949 87.742748 \r\n\" style=\"fill:#0000de;\"/>\r\n    <path clip-path=\"url(#p64313b776f)\" d=\"M 321.202243 87.742748 \r\nL 336.957537 87.742748 \r\nL 336.957537 100.533336 \r\nL 321.202243 100.533336 \r\nL 321.202243 87.742748 \r\n\" style=\"fill:#0000d6;\"/>\r\n    <path clip-path=\"url(#p64313b776f)\" d=\"M 336.957537 87.742748 \r\nL 352.712831 87.742748 \r\nL 352.712831 100.533336 \r\nL 336.957537 100.533336 \r\nL 336.957537 87.742748 \r\n\" style=\"fill:#0000db;\"/>\r\n    <path clip-path=\"url(#p64313b776f)\" d=\"M 352.712831 87.742748 \r\nL 368.468125 87.742748 \r\nL 368.468125 100.533336 \r\nL 352.712831 100.533336 \r\nL 352.712831 87.742748 \r\n\" style=\"fill:#0000d8;\"/>\r\n    <path clip-path=\"url(#p64313b776f)\" d=\"M 100.628125 100.533336 \r\nL 116.383419 100.533336 \r\nL 116.383419 113.323925 \r\nL 100.628125 113.323925 \r\nL 100.628125 100.533336 \r\n\" style=\"fill:#0000db;\"/>\r\n    <path clip-path=\"url(#p64313b776f)\" d=\"M 116.383419 100.533336 \r\nL 132.138713 100.533336 \r\nL 132.138713 113.323925 \r\nL 116.383419 113.323925 \r\nL 116.383419 100.533336 \r\n\" style=\"fill:#0000d0;\"/>\r\n    <path clip-path=\"url(#p64313b776f)\" d=\"M 132.138713 100.533336 \r\nL 147.894007 100.533336 \r\nL 147.894007 113.323925 \r\nL 132.138713 113.323925 \r\nL 132.138713 100.533336 \r\n\" style=\"fill:#0000d8;\"/>\r\n    <path clip-path=\"url(#p64313b776f)\" d=\"M 147.894007 100.533336 \r\nL 163.649301 100.533336 \r\nL 163.649301 113.323925 \r\nL 147.894007 113.323925 \r\nL 147.894007 100.533336 \r\n\" style=\"fill:#0000d3;\"/>\r\n    <path clip-path=\"url(#p64313b776f)\" d=\"M 163.649301 100.533336 \r\nL 179.404596 100.533336 \r\nL 179.404596 113.323925 \r\nL 163.649301 113.323925 \r\nL 163.649301 100.533336 \r\n\" style=\"fill:#0000ec;\"/>\r\n    <path clip-path=\"url(#p64313b776f)\" d=\"M 179.404596 100.533336 \r\nL 195.15989 100.533336 \r\nL 195.15989 113.323925 \r\nL 179.404596 113.323925 \r\nL 179.404596 100.533336 \r\n\" style=\"fill:#3131ff;\"/>\r\n    <path clip-path=\"url(#p64313b776f)\" d=\"M 195.15989 100.533336 \r\nL 210.915184 100.533336 \r\nL 210.915184 113.323925 \r\nL 195.15989 113.323925 \r\nL 195.15989 100.533336 \r\n\" style=\"fill:#5555ff;\"/>\r\n    <path clip-path=\"url(#p64313b776f)\" d=\"M 210.915184 100.533336 \r\nL 226.670478 100.533336 \r\nL 226.670478 113.323925 \r\nL 210.915184 113.323925 \r\nL 210.915184 100.533336 \r\n\" style=\"fill:#800000;\"/>\r\n    <path clip-path=\"url(#p64313b776f)\" d=\"M 226.670478 100.533336 \r\nL 242.425772 100.533336 \r\nL 242.425772 113.323925 \r\nL 226.670478 113.323925 \r\nL 226.670478 100.533336 \r\n\" style=\"fill:#0000ef;\"/>\r\n    <path clip-path=\"url(#p64313b776f)\" d=\"M 242.425772 100.533336 \r\nL 258.181066 100.533336 \r\nL 258.181066 113.323925 \r\nL 242.425772 113.323925 \r\nL 242.425772 100.533336 \r\n\" style=\"fill:#00007f;\"/>\r\n    <path clip-path=\"url(#p64313b776f)\" d=\"M 258.181066 100.533336 \r\nL 273.93636 100.533336 \r\nL 273.93636 113.323925 \r\nL 258.181066 113.323925 \r\nL 258.181066 100.533336 \r\n\" style=\"fill:#0000ba;\"/>\r\n    <path clip-path=\"url(#p64313b776f)\" d=\"M 273.93636 100.533336 \r\nL 289.691654 100.533336 \r\nL 289.691654 113.323925 \r\nL 273.93636 113.323925 \r\nL 273.93636 100.533336 \r\n\" style=\"fill:#3939ff;\"/>\r\n    <path clip-path=\"url(#p64313b776f)\" d=\"M 289.691654 100.533336 \r\nL 305.446949 100.533336 \r\nL 305.446949 113.323925 \r\nL 289.691654 113.323925 \r\nL 289.691654 100.533336 \r\n\" style=\"fill:#0000d3;\"/>\r\n    <path clip-path=\"url(#p64313b776f)\" d=\"M 305.446949 100.533336 \r\nL 321.202243 100.533336 \r\nL 321.202243 113.323925 \r\nL 305.446949 113.323925 \r\nL 305.446949 100.533336 \r\n\" style=\"fill:#0000d6;\"/>\r\n    <path clip-path=\"url(#p64313b776f)\" d=\"M 321.202243 100.533336 \r\nL 336.957537 100.533336 \r\nL 336.957537 113.323925 \r\nL 321.202243 113.323925 \r\nL 321.202243 100.533336 \r\n\" style=\"fill:#0000d8;\"/>\r\n    <path clip-path=\"url(#p64313b776f)\" d=\"M 336.957537 100.533336 \r\nL 352.712831 100.533336 \r\nL 352.712831 113.323925 \r\nL 336.957537 113.323925 \r\nL 336.957537 100.533336 \r\n\" style=\"fill:#0000bf;\"/>\r\n    <path clip-path=\"url(#p64313b776f)\" d=\"M 352.712831 100.533336 \r\nL 368.468125 100.533336 \r\nL 368.468125 113.323925 \r\nL 352.712831 113.323925 \r\nL 352.712831 100.533336 \r\n\" style=\"fill:#0000cd;\"/>\r\n    <path clip-path=\"url(#p64313b776f)\" d=\"M 100.628125 113.323925 \r\nL 116.383419 113.323925 \r\nL 116.383419 126.114513 \r\nL 100.628125 126.114513 \r\nL 100.628125 113.323925 \r\n\" style=\"fill:#0000c5;\"/>\r\n    <path clip-path=\"url(#p64313b776f)\" d=\"M 116.383419 113.323925 \r\nL 132.138713 113.323925 \r\nL 132.138713 126.114513 \r\nL 116.383419 126.114513 \r\nL 116.383419 113.323925 \r\n\" style=\"fill:#0000e6;\"/>\r\n    <path clip-path=\"url(#p64313b776f)\" d=\"M 132.138713 113.323925 \r\nL 147.894007 113.323925 \r\nL 147.894007 126.114513 \r\nL 132.138713 126.114513 \r\nL 132.138713 113.323925 \r\n\" style=\"fill:#0000e1;\"/>\r\n    <path clip-path=\"url(#p64313b776f)\" d=\"M 147.894007 113.323925 \r\nL 163.649301 113.323925 \r\nL 163.649301 126.114513 \r\nL 147.894007 126.114513 \r\nL 147.894007 113.323925 \r\n\" style=\"fill:#0000e9;\"/>\r\n    <path clip-path=\"url(#p64313b776f)\" d=\"M 163.649301 113.323925 \r\nL 179.404596 113.323925 \r\nL 179.404596 126.114513 \r\nL 163.649301 126.114513 \r\nL 163.649301 113.323925 \r\n\" style=\"fill:#0000db;\"/>\r\n    <path clip-path=\"url(#p64313b776f)\" d=\"M 179.404596 113.323925 \r\nL 195.15989 113.323925 \r\nL 195.15989 126.114513 \r\nL 179.404596 126.114513 \r\nL 179.404596 113.323925 \r\n\" style=\"fill:#0000a6;\"/>\r\n    <path clip-path=\"url(#p64313b776f)\" d=\"M 195.15989 113.323925 \r\nL 210.915184 113.323925 \r\nL 210.915184 126.114513 \r\nL 195.15989 126.114513 \r\nL 195.15989 113.323925 \r\n\" style=\"fill:#0000ac;\"/>\r\n    <path clip-path=\"url(#p64313b776f)\" d=\"M 210.915184 113.323925 \r\nL 226.670478 113.323925 \r\nL 226.670478 126.114513 \r\nL 210.915184 126.114513 \r\nL 210.915184 113.323925 \r\n\" style=\"fill:#0000ef;\"/>\r\n    <path clip-path=\"url(#p64313b776f)\" d=\"M 226.670478 113.323925 \r\nL 242.425772 113.323925 \r\nL 242.425772 126.114513 \r\nL 226.670478 126.114513 \r\nL 226.670478 113.323925 \r\n\" style=\"fill:#800000;\"/>\r\n    <path clip-path=\"url(#p64313b776f)\" d=\"M 242.425772 113.323925 \r\nL 258.181066 113.323925 \r\nL 258.181066 126.114513 \r\nL 242.425772 126.114513 \r\nL 242.425772 113.323925 \r\n\" style=\"fill:#0000e1;\"/>\r\n    <path clip-path=\"url(#p64313b776f)\" d=\"M 258.181066 113.323925 \r\nL 273.93636 113.323925 \r\nL 273.93636 126.114513 \r\nL 258.181066 126.114513 \r\nL 258.181066 113.323925 \r\n\" style=\"fill:#0000db;\"/>\r\n    <path clip-path=\"url(#p64313b776f)\" d=\"M 273.93636 113.323925 \r\nL 289.691654 113.323925 \r\nL 289.691654 126.114513 \r\nL 273.93636 126.114513 \r\nL 273.93636 113.323925 \r\n\" style=\"fill:#0000a6;\"/>\r\n    <path clip-path=\"url(#p64313b776f)\" d=\"M 289.691654 113.323925 \r\nL 305.446949 113.323925 \r\nL 305.446949 126.114513 \r\nL 289.691654 126.114513 \r\nL 289.691654 113.323925 \r\n\" style=\"fill:#0000f7;\"/>\r\n    <path clip-path=\"url(#p64313b776f)\" d=\"M 305.446949 113.323925 \r\nL 321.202243 113.323925 \r\nL 321.202243 126.114513 \r\nL 305.446949 126.114513 \r\nL 305.446949 113.323925 \r\n\" style=\"fill:#0000cd;\"/>\r\n    <path clip-path=\"url(#p64313b776f)\" d=\"M 321.202243 113.323925 \r\nL 336.957537 113.323925 \r\nL 336.957537 126.114513 \r\nL 321.202243 126.114513 \r\nL 321.202243 113.323925 \r\n\" style=\"fill:#0000db;\"/>\r\n    <path clip-path=\"url(#p64313b776f)\" d=\"M 336.957537 113.323925 \r\nL 352.712831 113.323925 \r\nL 352.712831 126.114513 \r\nL 336.957537 126.114513 \r\nL 336.957537 113.323925 \r\n\" style=\"fill:#0000d3;\"/>\r\n    <path clip-path=\"url(#p64313b776f)\" d=\"M 352.712831 113.323925 \r\nL 368.468125 113.323925 \r\nL 368.468125 126.114513 \r\nL 352.712831 126.114513 \r\nL 352.712831 113.323925 \r\n\" style=\"fill:#0000cd;\"/>\r\n    <path clip-path=\"url(#p64313b776f)\" d=\"M 100.628125 126.114513 \r\nL 116.383419 126.114513 \r\nL 116.383419 138.905101 \r\nL 100.628125 138.905101 \r\nL 100.628125 126.114513 \r\n\" style=\"fill:#0000db;\"/>\r\n    <path clip-path=\"url(#p64313b776f)\" d=\"M 116.383419 126.114513 \r\nL 132.138713 126.114513 \r\nL 132.138713 138.905101 \r\nL 116.383419 138.905101 \r\nL 116.383419 126.114513 \r\n\" style=\"fill:#0000e9;\"/>\r\n    <path clip-path=\"url(#p64313b776f)\" d=\"M 132.138713 126.114513 \r\nL 147.894007 126.114513 \r\nL 147.894007 138.905101 \r\nL 132.138713 138.905101 \r\nL 132.138713 126.114513 \r\n\" style=\"fill:#0000db;\"/>\r\n    <path clip-path=\"url(#p64313b776f)\" d=\"M 147.894007 126.114513 \r\nL 163.649301 126.114513 \r\nL 163.649301 138.905101 \r\nL 147.894007 138.905101 \r\nL 147.894007 126.114513 \r\n\" style=\"fill:#0000d3;\"/>\r\n    <path clip-path=\"url(#p64313b776f)\" d=\"M 163.649301 126.114513 \r\nL 179.404596 126.114513 \r\nL 179.404596 138.905101 \r\nL 163.649301 138.905101 \r\nL 163.649301 126.114513 \r\n\" style=\"fill:#0000de;\"/>\r\n    <path clip-path=\"url(#p64313b776f)\" d=\"M 179.404596 126.114513 \r\nL 195.15989 126.114513 \r\nL 195.15989 138.905101 \r\nL 179.404596 138.905101 \r\nL 179.404596 126.114513 \r\n\" style=\"fill:#000055;\"/>\r\n    <path clip-path=\"url(#p64313b776f)\" d=\"M 195.15989 126.114513 \r\nL 210.915184 126.114513 \r\nL 210.915184 138.905101 \r\nL 195.15989 138.905101 \r\nL 195.15989 126.114513 \r\n\" style=\"fill:#00004c;\"/>\r\n    <path clip-path=\"url(#p64313b776f)\" d=\"M 210.915184 126.114513 \r\nL 226.670478 126.114513 \r\nL 226.670478 138.905101 \r\nL 210.915184 138.905101 \r\nL 210.915184 126.114513 \r\n\" style=\"fill:#00007f;\"/>\r\n    <path clip-path=\"url(#p64313b776f)\" d=\"M 226.670478 126.114513 \r\nL 242.425772 126.114513 \r\nL 242.425772 138.905101 \r\nL 226.670478 138.905101 \r\nL 226.670478 126.114513 \r\n\" style=\"fill:#0000e1;\"/>\r\n    <path clip-path=\"url(#p64313b776f)\" d=\"M 242.425772 126.114513 \r\nL 258.181066 126.114513 \r\nL 258.181066 138.905101 \r\nL 242.425772 138.905101 \r\nL 242.425772 126.114513 \r\n\" style=\"fill:#800000;\"/>\r\n    <path clip-path=\"url(#p64313b776f)\" d=\"M 258.181066 126.114513 \r\nL 273.93636 126.114513 \r\nL 273.93636 138.905101 \r\nL 258.181066 138.905101 \r\nL 258.181066 126.114513 \r\n\" style=\"fill:#0000d0;\"/>\r\n    <path clip-path=\"url(#p64313b776f)\" d=\"M 273.93636 126.114513 \r\nL 289.691654 126.114513 \r\nL 289.691654 138.905101 \r\nL 273.93636 138.905101 \r\nL 273.93636 126.114513 \r\n\" style=\"fill:#000079;\"/>\r\n    <path clip-path=\"url(#p64313b776f)\" d=\"M 289.691654 126.114513 \r\nL 305.446949 126.114513 \r\nL 305.446949 138.905101 \r\nL 289.691654 138.905101 \r\nL 289.691654 126.114513 \r\n\" style=\"fill:#0000d3;\"/>\r\n    <path clip-path=\"url(#p64313b776f)\" d=\"M 305.446949 126.114513 \r\nL 321.202243 126.114513 \r\nL 321.202243 138.905101 \r\nL 305.446949 138.905101 \r\nL 305.446949 126.114513 \r\n\" style=\"fill:#0000fa;\"/>\r\n    <path clip-path=\"url(#p64313b776f)\" d=\"M 321.202243 126.114513 \r\nL 336.957537 126.114513 \r\nL 336.957537 138.905101 \r\nL 321.202243 138.905101 \r\nL 321.202243 126.114513 \r\n\" style=\"fill:#0000c8;\"/>\r\n    <path clip-path=\"url(#p64313b776f)\" d=\"M 336.957537 126.114513 \r\nL 352.712831 126.114513 \r\nL 352.712831 138.905101 \r\nL 336.957537 138.905101 \r\nL 336.957537 126.114513 \r\n\" style=\"fill:#0000ef;\"/>\r\n    <path clip-path=\"url(#p64313b776f)\" d=\"M 352.712831 126.114513 \r\nL 368.468125 126.114513 \r\nL 368.468125 138.905101 \r\nL 352.712831 138.905101 \r\nL 352.712831 126.114513 \r\n\" style=\"fill:#0000ef;\"/>\r\n    <path clip-path=\"url(#p64313b776f)\" d=\"M 100.628125 138.905101 \r\nL 116.383419 138.905101 \r\nL 116.383419 151.695689 \r\nL 100.628125 151.695689 \r\nL 100.628125 138.905101 \r\n\" style=\"fill:#0000d8;\"/>\r\n    <path clip-path=\"url(#p64313b776f)\" d=\"M 116.383419 138.905101 \r\nL 132.138713 138.905101 \r\nL 132.138713 151.695689 \r\nL 116.383419 151.695689 \r\nL 116.383419 138.905101 \r\n\" style=\"fill:#0000d8;\"/>\r\n    <path clip-path=\"url(#p64313b776f)\" d=\"M 132.138713 138.905101 \r\nL 147.894007 138.905101 \r\nL 147.894007 151.695689 \r\nL 132.138713 151.695689 \r\nL 132.138713 138.905101 \r\n\" style=\"fill:#0000d3;\"/>\r\n    <path clip-path=\"url(#p64313b776f)\" d=\"M 147.894007 138.905101 \r\nL 163.649301 138.905101 \r\nL 163.649301 151.695689 \r\nL 147.894007 151.695689 \r\nL 147.894007 138.905101 \r\n\" style=\"fill:#0000e9;\"/>\r\n    <path clip-path=\"url(#p64313b776f)\" d=\"M 163.649301 138.905101 \r\nL 179.404596 138.905101 \r\nL 179.404596 151.695689 \r\nL 163.649301 151.695689 \r\nL 163.649301 138.905101 \r\n\" style=\"fill:#0000a9;\"/>\r\n    <path clip-path=\"url(#p64313b776f)\" d=\"M 179.404596 138.905101 \r\nL 195.15989 138.905101 \r\nL 195.15989 151.695689 \r\nL 179.404596 151.695689 \r\nL 179.404596 138.905101 \r\n\" style=\"fill:#0000d8;\"/>\r\n    <path clip-path=\"url(#p64313b776f)\" d=\"M 195.15989 138.905101 \r\nL 210.915184 138.905101 \r\nL 210.915184 151.695689 \r\nL 195.15989 151.695689 \r\nL 195.15989 138.905101 \r\n\" style=\"fill:#0000ef;\"/>\r\n    <path clip-path=\"url(#p64313b776f)\" d=\"M 210.915184 138.905101 \r\nL 226.670478 138.905101 \r\nL 226.670478 151.695689 \r\nL 210.915184 151.695689 \r\nL 210.915184 138.905101 \r\n\" style=\"fill:#0000ba;\"/>\r\n    <path clip-path=\"url(#p64313b776f)\" d=\"M 226.670478 138.905101 \r\nL 242.425772 138.905101 \r\nL 242.425772 151.695689 \r\nL 226.670478 151.695689 \r\nL 226.670478 138.905101 \r\n\" style=\"fill:#0000db;\"/>\r\n    <path clip-path=\"url(#p64313b776f)\" d=\"M 242.425772 138.905101 \r\nL 258.181066 138.905101 \r\nL 258.181066 151.695689 \r\nL 242.425772 151.695689 \r\nL 242.425772 138.905101 \r\n\" style=\"fill:#0000d0;\"/>\r\n    <path clip-path=\"url(#p64313b776f)\" d=\"M 258.181066 138.905101 \r\nL 273.93636 138.905101 \r\nL 273.93636 151.695689 \r\nL 258.181066 151.695689 \r\nL 258.181066 138.905101 \r\n\" style=\"fill:#800000;\"/>\r\n    <path clip-path=\"url(#p64313b776f)\" d=\"M 273.93636 138.905101 \r\nL 289.691654 138.905101 \r\nL 289.691654 151.695689 \r\nL 273.93636 151.695689 \r\nL 273.93636 138.905101 \r\n\" style=\"fill:#0000ba;\"/>\r\n    <path clip-path=\"url(#p64313b776f)\" d=\"M 289.691654 138.905101 \r\nL 305.446949 138.905101 \r\nL 305.446949 151.695689 \r\nL 289.691654 151.695689 \r\nL 289.691654 138.905101 \r\n\" style=\"fill:#0000d3;\"/>\r\n    <path clip-path=\"url(#p64313b776f)\" d=\"M 305.446949 138.905101 \r\nL 321.202243 138.905101 \r\nL 321.202243 151.695689 \r\nL 305.446949 151.695689 \r\nL 305.446949 138.905101 \r\n\" style=\"fill:#0000ec;\"/>\r\n    <path clip-path=\"url(#p64313b776f)\" d=\"M 321.202243 138.905101 \r\nL 336.957537 138.905101 \r\nL 336.957537 151.695689 \r\nL 321.202243 151.695689 \r\nL 321.202243 138.905101 \r\n\" style=\"fill:#0000f7;\"/>\r\n    <path clip-path=\"url(#p64313b776f)\" d=\"M 336.957537 138.905101 \r\nL 352.712831 138.905101 \r\nL 352.712831 151.695689 \r\nL 336.957537 151.695689 \r\nL 336.957537 138.905101 \r\n\" style=\"fill:#0000e6;\"/>\r\n    <path clip-path=\"url(#p64313b776f)\" d=\"M 352.712831 138.905101 \r\nL 368.468125 138.905101 \r\nL 368.468125 151.695689 \r\nL 352.712831 151.695689 \r\nL 352.712831 138.905101 \r\n\" style=\"fill:#0000cd;\"/>\r\n    <path clip-path=\"url(#p64313b776f)\" d=\"M 100.628125 151.695689 \r\nL 116.383419 151.695689 \r\nL 116.383419 164.486278 \r\nL 100.628125 164.486278 \r\nL 100.628125 151.695689 \r\n\" style=\"fill:#0000e1;\"/>\r\n    <path clip-path=\"url(#p64313b776f)\" d=\"M 116.383419 151.695689 \r\nL 132.138713 151.695689 \r\nL 132.138713 164.486278 \r\nL 116.383419 164.486278 \r\nL 116.383419 151.695689 \r\n\" style=\"fill:#0000e1;\"/>\r\n    <path clip-path=\"url(#p64313b776f)\" d=\"M 132.138713 151.695689 \r\nL 147.894007 151.695689 \r\nL 147.894007 164.486278 \r\nL 132.138713 164.486278 \r\nL 132.138713 151.695689 \r\n\" style=\"fill:#0000e1;\"/>\r\n    <path clip-path=\"url(#p64313b776f)\" d=\"M 147.894007 151.695689 \r\nL 163.649301 151.695689 \r\nL 163.649301 164.486278 \r\nL 147.894007 164.486278 \r\nL 147.894007 151.695689 \r\n\" style=\"fill:#0000e4;\"/>\r\n    <path clip-path=\"url(#p64313b776f)\" d=\"M 163.649301 151.695689 \r\nL 179.404596 151.695689 \r\nL 179.404596 164.486278 \r\nL 163.649301 164.486278 \r\nL 163.649301 151.695689 \r\n\" style=\"fill:#0000fd;\"/>\r\n    <path clip-path=\"url(#p64313b776f)\" d=\"M 179.404596 151.695689 \r\nL 195.15989 151.695689 \r\nL 195.15989 164.486278 \r\nL 179.404596 164.486278 \r\nL 179.404596 151.695689 \r\n\" style=\"fill:#d30000;\"/>\r\n    <path clip-path=\"url(#p64313b776f)\" d=\"M 195.15989 151.695689 \r\nL 210.915184 151.695689 \r\nL 210.915184 164.486278 \r\nL 195.15989 164.486278 \r\nL 195.15989 151.695689 \r\n\" style=\"fill:#f60000;\"/>\r\n    <path clip-path=\"url(#p64313b776f)\" d=\"M 210.915184 151.695689 \r\nL 226.670478 151.695689 \r\nL 226.670478 164.486278 \r\nL 210.915184 164.486278 \r\nL 210.915184 151.695689 \r\n\" style=\"fill:#3939ff;\"/>\r\n    <path clip-path=\"url(#p64313b776f)\" d=\"M 226.670478 151.695689 \r\nL 242.425772 151.695689 \r\nL 242.425772 164.486278 \r\nL 226.670478 164.486278 \r\nL 226.670478 151.695689 \r\n\" style=\"fill:#0000a6;\"/>\r\n    <path clip-path=\"url(#p64313b776f)\" d=\"M 242.425772 151.695689 \r\nL 258.181066 151.695689 \r\nL 258.181066 164.486278 \r\nL 242.425772 164.486278 \r\nL 242.425772 151.695689 \r\n\" style=\"fill:#000079;\"/>\r\n    <path clip-path=\"url(#p64313b776f)\" d=\"M 258.181066 151.695689 \r\nL 273.93636 151.695689 \r\nL 273.93636 164.486278 \r\nL 258.181066 164.486278 \r\nL 258.181066 151.695689 \r\n\" style=\"fill:#0000ba;\"/>\r\n    <path clip-path=\"url(#p64313b776f)\" d=\"M 273.93636 151.695689 \r\nL 289.691654 151.695689 \r\nL 289.691654 164.486278 \r\nL 273.93636 164.486278 \r\nL 273.93636 151.695689 \r\n\" style=\"fill:#800000;\"/>\r\n    <path clip-path=\"url(#p64313b776f)\" d=\"M 289.691654 151.695689 \r\nL 305.446949 151.695689 \r\nL 305.446949 164.486278 \r\nL 289.691654 164.486278 \r\nL 289.691654 151.695689 \r\n\" style=\"fill:#0000e1;\"/>\r\n    <path clip-path=\"url(#p64313b776f)\" d=\"M 305.446949 151.695689 \r\nL 321.202243 151.695689 \r\nL 321.202243 164.486278 \r\nL 305.446949 164.486278 \r\nL 305.446949 151.695689 \r\n\" style=\"fill:#0000db;\"/>\r\n    <path clip-path=\"url(#p64313b776f)\" d=\"M 321.202243 151.695689 \r\nL 336.957537 151.695689 \r\nL 336.957537 164.486278 \r\nL 321.202243 164.486278 \r\nL 321.202243 151.695689 \r\n\" style=\"fill:#0000ca;\"/>\r\n    <path clip-path=\"url(#p64313b776f)\" d=\"M 336.957537 151.695689 \r\nL 352.712831 151.695689 \r\nL 352.712831 164.486278 \r\nL 336.957537 164.486278 \r\nL 336.957537 151.695689 \r\n\" style=\"fill:#0000ef;\"/>\r\n    <path clip-path=\"url(#p64313b776f)\" d=\"M 352.712831 151.695689 \r\nL 368.468125 151.695689 \r\nL 368.468125 164.486278 \r\nL 352.712831 164.486278 \r\nL 352.712831 151.695689 \r\n\" style=\"fill:#0000de;\"/>\r\n    <path clip-path=\"url(#p64313b776f)\" d=\"M 100.628125 164.486278 \r\nL 116.383419 164.486278 \r\nL 116.383419 177.276866 \r\nL 100.628125 177.276866 \r\nL 100.628125 164.486278 \r\n\" style=\"fill:#0000e1;\"/>\r\n    <path clip-path=\"url(#p64313b776f)\" d=\"M 116.383419 164.486278 \r\nL 132.138713 164.486278 \r\nL 132.138713 177.276866 \r\nL 116.383419 177.276866 \r\nL 116.383419 164.486278 \r\n\" style=\"fill:#0000d3;\"/>\r\n    <path clip-path=\"url(#p64313b776f)\" d=\"M 132.138713 164.486278 \r\nL 147.894007 164.486278 \r\nL 147.894007 177.276866 \r\nL 132.138713 177.276866 \r\nL 132.138713 164.486278 \r\n\" style=\"fill:#0000c8;\"/>\r\n    <path clip-path=\"url(#p64313b776f)\" d=\"M 147.894007 164.486278 \r\nL 163.649301 164.486278 \r\nL 163.649301 177.276866 \r\nL 147.894007 177.276866 \r\nL 147.894007 164.486278 \r\n\" style=\"fill:#0000cd;\"/>\r\n    <path clip-path=\"url(#p64313b776f)\" d=\"M 163.649301 164.486278 \r\nL 179.404596 164.486278 \r\nL 179.404596 177.276866 \r\nL 163.649301 177.276866 \r\nL 163.649301 164.486278 \r\n\" style=\"fill:#0000e4;\"/>\r\n    <path clip-path=\"url(#p64313b776f)\" d=\"M 179.404596 164.486278 \r\nL 195.15989 164.486278 \r\nL 195.15989 177.276866 \r\nL 179.404596 177.276866 \r\nL 179.404596 164.486278 \r\n\" style=\"fill:#0000e4;\"/>\r\n    <path clip-path=\"url(#p64313b776f)\" d=\"M 195.15989 164.486278 \r\nL 210.915184 164.486278 \r\nL 210.915184 177.276866 \r\nL 195.15989 177.276866 \r\nL 195.15989 164.486278 \r\n\" style=\"fill:#0000e4;\"/>\r\n    <path clip-path=\"url(#p64313b776f)\" d=\"M 210.915184 164.486278 \r\nL 226.670478 164.486278 \r\nL 226.670478 177.276866 \r\nL 210.915184 177.276866 \r\nL 210.915184 164.486278 \r\n\" style=\"fill:#0000d3;\"/>\r\n    <path clip-path=\"url(#p64313b776f)\" d=\"M 226.670478 164.486278 \r\nL 242.425772 164.486278 \r\nL 242.425772 177.276866 \r\nL 226.670478 177.276866 \r\nL 226.670478 164.486278 \r\n\" style=\"fill:#0000f7;\"/>\r\n    <path clip-path=\"url(#p64313b776f)\" d=\"M 242.425772 164.486278 \r\nL 258.181066 164.486278 \r\nL 258.181066 177.276866 \r\nL 242.425772 177.276866 \r\nL 242.425772 164.486278 \r\n\" style=\"fill:#0000d3;\"/>\r\n    <path clip-path=\"url(#p64313b776f)\" d=\"M 258.181066 164.486278 \r\nL 273.93636 164.486278 \r\nL 273.93636 177.276866 \r\nL 258.181066 177.276866 \r\nL 258.181066 164.486278 \r\n\" style=\"fill:#0000d3;\"/>\r\n    <path clip-path=\"url(#p64313b776f)\" d=\"M 273.93636 164.486278 \r\nL 289.691654 164.486278 \r\nL 289.691654 177.276866 \r\nL 273.93636 177.276866 \r\nL 273.93636 164.486278 \r\n\" style=\"fill:#0000e1;\"/>\r\n    <path clip-path=\"url(#p64313b776f)\" d=\"M 289.691654 164.486278 \r\nL 305.446949 164.486278 \r\nL 305.446949 177.276866 \r\nL 289.691654 177.276866 \r\nL 289.691654 164.486278 \r\n\" style=\"fill:#800000;\"/>\r\n    <path clip-path=\"url(#p64313b776f)\" d=\"M 305.446949 164.486278 \r\nL 321.202243 164.486278 \r\nL 321.202243 177.276866 \r\nL 305.446949 177.276866 \r\nL 305.446949 164.486278 \r\n\" style=\"fill:#0000d6;\"/>\r\n    <path clip-path=\"url(#p64313b776f)\" d=\"M 321.202243 164.486278 \r\nL 336.957537 164.486278 \r\nL 336.957537 177.276866 \r\nL 321.202243 177.276866 \r\nL 321.202243 164.486278 \r\n\" style=\"fill:#0000e4;\"/>\r\n    <path clip-path=\"url(#p64313b776f)\" d=\"M 336.957537 164.486278 \r\nL 352.712831 164.486278 \r\nL 352.712831 177.276866 \r\nL 336.957537 177.276866 \r\nL 336.957537 164.486278 \r\n\" style=\"fill:#0000d3;\"/>\r\n    <path clip-path=\"url(#p64313b776f)\" d=\"M 352.712831 164.486278 \r\nL 368.468125 164.486278 \r\nL 368.468125 177.276866 \r\nL 352.712831 177.276866 \r\nL 352.712831 164.486278 \r\n\" style=\"fill:#0000db;\"/>\r\n    <path clip-path=\"url(#p64313b776f)\" d=\"M 100.628125 177.276866 \r\nL 116.383419 177.276866 \r\nL 116.383419 190.067454 \r\nL 100.628125 190.067454 \r\nL 100.628125 177.276866 \r\n\" style=\"fill:#0000f2;\"/>\r\n    <path clip-path=\"url(#p64313b776f)\" d=\"M 116.383419 177.276866 \r\nL 132.138713 177.276866 \r\nL 132.138713 190.067454 \r\nL 116.383419 190.067454 \r\nL 116.383419 177.276866 \r\n\" style=\"fill:#0000de;\"/>\r\n    <path clip-path=\"url(#p64313b776f)\" d=\"M 132.138713 177.276866 \r\nL 147.894007 177.276866 \r\nL 147.894007 190.067454 \r\nL 132.138713 190.067454 \r\nL 132.138713 177.276866 \r\n\" style=\"fill:#0000de;\"/>\r\n    <path clip-path=\"url(#p64313b776f)\" d=\"M 147.894007 177.276866 \r\nL 163.649301 177.276866 \r\nL 163.649301 190.067454 \r\nL 147.894007 190.067454 \r\nL 147.894007 177.276866 \r\n\" style=\"fill:#0000f4;\"/>\r\n    <path clip-path=\"url(#p64313b776f)\" d=\"M 163.649301 177.276866 \r\nL 179.404596 177.276866 \r\nL 179.404596 190.067454 \r\nL 163.649301 190.067454 \r\nL 163.649301 177.276866 \r\n\" style=\"fill:#0000e6;\"/>\r\n    <path clip-path=\"url(#p64313b776f)\" d=\"M 179.404596 177.276866 \r\nL 195.15989 177.276866 \r\nL 195.15989 190.067454 \r\nL 179.404596 190.067454 \r\nL 179.404596 177.276866 \r\n\" style=\"fill:#0000d6;\"/>\r\n    <path clip-path=\"url(#p64313b776f)\" d=\"M 195.15989 177.276866 \r\nL 210.915184 177.276866 \r\nL 210.915184 190.067454 \r\nL 195.15989 190.067454 \r\nL 195.15989 177.276866 \r\n\" style=\"fill:#0000de;\"/>\r\n    <path clip-path=\"url(#p64313b776f)\" d=\"M 210.915184 177.276866 \r\nL 226.670478 177.276866 \r\nL 226.670478 190.067454 \r\nL 210.915184 190.067454 \r\nL 210.915184 177.276866 \r\n\" style=\"fill:#0000d6;\"/>\r\n    <path clip-path=\"url(#p64313b776f)\" d=\"M 226.670478 177.276866 \r\nL 242.425772 177.276866 \r\nL 242.425772 190.067454 \r\nL 226.670478 190.067454 \r\nL 226.670478 177.276866 \r\n\" style=\"fill:#0000cd;\"/>\r\n    <path clip-path=\"url(#p64313b776f)\" d=\"M 242.425772 177.276866 \r\nL 258.181066 177.276866 \r\nL 258.181066 190.067454 \r\nL 242.425772 190.067454 \r\nL 242.425772 177.276866 \r\n\" style=\"fill:#0000fa;\"/>\r\n    <path clip-path=\"url(#p64313b776f)\" d=\"M 258.181066 177.276866 \r\nL 273.93636 177.276866 \r\nL 273.93636 190.067454 \r\nL 258.181066 190.067454 \r\nL 258.181066 177.276866 \r\n\" style=\"fill:#0000ec;\"/>\r\n    <path clip-path=\"url(#p64313b776f)\" d=\"M 273.93636 177.276866 \r\nL 289.691654 177.276866 \r\nL 289.691654 190.067454 \r\nL 273.93636 190.067454 \r\nL 273.93636 177.276866 \r\n\" style=\"fill:#0000db;\"/>\r\n    <path clip-path=\"url(#p64313b776f)\" d=\"M 289.691654 177.276866 \r\nL 305.446949 177.276866 \r\nL 305.446949 190.067454 \r\nL 289.691654 190.067454 \r\nL 289.691654 177.276866 \r\n\" style=\"fill:#0000d6;\"/>\r\n    <path clip-path=\"url(#p64313b776f)\" d=\"M 305.446949 177.276866 \r\nL 321.202243 177.276866 \r\nL 321.202243 190.067454 \r\nL 305.446949 190.067454 \r\nL 305.446949 177.276866 \r\n\" style=\"fill:#800000;\"/>\r\n    <path clip-path=\"url(#p64313b776f)\" d=\"M 321.202243 177.276866 \r\nL 336.957537 177.276866 \r\nL 336.957537 190.067454 \r\nL 321.202243 190.067454 \r\nL 321.202243 177.276866 \r\n\" style=\"fill:#0000c2;\"/>\r\n    <path clip-path=\"url(#p64313b776f)\" d=\"M 336.957537 177.276866 \r\nL 352.712831 177.276866 \r\nL 352.712831 190.067454 \r\nL 336.957537 190.067454 \r\nL 336.957537 177.276866 \r\n\" style=\"fill:#0000d8;\"/>\r\n    <path clip-path=\"url(#p64313b776f)\" d=\"M 352.712831 177.276866 \r\nL 368.468125 177.276866 \r\nL 368.468125 190.067454 \r\nL 352.712831 190.067454 \r\nL 352.712831 177.276866 \r\n\" style=\"fill:#0000e6;\"/>\r\n    <path clip-path=\"url(#p64313b776f)\" d=\"M 100.628125 190.067454 \r\nL 116.383419 190.067454 \r\nL 116.383419 202.858042 \r\nL 100.628125 202.858042 \r\nL 100.628125 190.067454 \r\n\" style=\"fill:#0000d3;\"/>\r\n    <path clip-path=\"url(#p64313b776f)\" d=\"M 116.383419 190.067454 \r\nL 132.138713 190.067454 \r\nL 132.138713 202.858042 \r\nL 116.383419 202.858042 \r\nL 116.383419 190.067454 \r\n\" style=\"fill:#0000e4;\"/>\r\n    <path clip-path=\"url(#p64313b776f)\" d=\"M 132.138713 190.067454 \r\nL 147.894007 190.067454 \r\nL 147.894007 202.858042 \r\nL 132.138713 202.858042 \r\nL 132.138713 190.067454 \r\n\" style=\"fill:#0000c2;\"/>\r\n    <path clip-path=\"url(#p64313b776f)\" d=\"M 147.894007 190.067454 \r\nL 163.649301 190.067454 \r\nL 163.649301 202.858042 \r\nL 147.894007 202.858042 \r\nL 147.894007 190.067454 \r\n\" style=\"fill:#ffc9c9;\"/>\r\n    <path clip-path=\"url(#p64313b776f)\" d=\"M 163.649301 190.067454 \r\nL 179.404596 190.067454 \r\nL 179.404596 202.858042 \r\nL 163.649301 202.858042 \r\nL 163.649301 190.067454 \r\n\" style=\"fill:#0000db;\"/>\r\n    <path clip-path=\"url(#p64313b776f)\" d=\"M 179.404596 190.067454 \r\nL 195.15989 190.067454 \r\nL 195.15989 202.858042 \r\nL 179.404596 202.858042 \r\nL 179.404596 190.067454 \r\n\" style=\"fill:#0000d0;\"/>\r\n    <path clip-path=\"url(#p64313b776f)\" d=\"M 195.15989 190.067454 \r\nL 210.915184 190.067454 \r\nL 210.915184 202.858042 \r\nL 195.15989 202.858042 \r\nL 195.15989 190.067454 \r\n\" style=\"fill:#0000d6;\"/>\r\n    <path clip-path=\"url(#p64313b776f)\" d=\"M 210.915184 190.067454 \r\nL 226.670478 190.067454 \r\nL 226.670478 202.858042 \r\nL 210.915184 202.858042 \r\nL 210.915184 190.067454 \r\n\" style=\"fill:#0000d8;\"/>\r\n    <path clip-path=\"url(#p64313b776f)\" d=\"M 226.670478 190.067454 \r\nL 242.425772 190.067454 \r\nL 242.425772 202.858042 \r\nL 226.670478 202.858042 \r\nL 226.670478 190.067454 \r\n\" style=\"fill:#0000db;\"/>\r\n    <path clip-path=\"url(#p64313b776f)\" d=\"M 242.425772 190.067454 \r\nL 258.181066 190.067454 \r\nL 258.181066 202.858042 \r\nL 242.425772 202.858042 \r\nL 242.425772 190.067454 \r\n\" style=\"fill:#0000c8;\"/>\r\n    <path clip-path=\"url(#p64313b776f)\" d=\"M 258.181066 190.067454 \r\nL 273.93636 190.067454 \r\nL 273.93636 202.858042 \r\nL 258.181066 202.858042 \r\nL 258.181066 190.067454 \r\n\" style=\"fill:#0000f7;\"/>\r\n    <path clip-path=\"url(#p64313b776f)\" d=\"M 273.93636 190.067454 \r\nL 289.691654 190.067454 \r\nL 289.691654 202.858042 \r\nL 273.93636 202.858042 \r\nL 273.93636 190.067454 \r\n\" style=\"fill:#0000ca;\"/>\r\n    <path clip-path=\"url(#p64313b776f)\" d=\"M 289.691654 190.067454 \r\nL 305.446949 190.067454 \r\nL 305.446949 202.858042 \r\nL 289.691654 202.858042 \r\nL 289.691654 190.067454 \r\n\" style=\"fill:#0000e4;\"/>\r\n    <path clip-path=\"url(#p64313b776f)\" d=\"M 305.446949 190.067454 \r\nL 321.202243 190.067454 \r\nL 321.202243 202.858042 \r\nL 305.446949 202.858042 \r\nL 305.446949 190.067454 \r\n\" style=\"fill:#0000c2;\"/>\r\n    <path clip-path=\"url(#p64313b776f)\" d=\"M 321.202243 190.067454 \r\nL 336.957537 190.067454 \r\nL 336.957537 202.858042 \r\nL 321.202243 202.858042 \r\nL 321.202243 190.067454 \r\n\" style=\"fill:#800000;\"/>\r\n    <path clip-path=\"url(#p64313b776f)\" d=\"M 336.957537 190.067454 \r\nL 352.712831 190.067454 \r\nL 352.712831 202.858042 \r\nL 336.957537 202.858042 \r\nL 336.957537 190.067454 \r\n\" style=\"fill:#0000de;\"/>\r\n    <path clip-path=\"url(#p64313b776f)\" d=\"M 352.712831 190.067454 \r\nL 368.468125 190.067454 \r\nL 368.468125 202.858042 \r\nL 352.712831 202.858042 \r\nL 352.712831 190.067454 \r\n\" style=\"fill:#0000e1;\"/>\r\n    <path clip-path=\"url(#p64313b776f)\" d=\"M 100.628125 202.858042 \r\nL 116.383419 202.858042 \r\nL 116.383419 215.648631 \r\nL 100.628125 215.648631 \r\nL 100.628125 202.858042 \r\n\" style=\"fill:#0000ef;\"/>\r\n    <path clip-path=\"url(#p64313b776f)\" d=\"M 116.383419 202.858042 \r\nL 132.138713 202.858042 \r\nL 132.138713 215.648631 \r\nL 116.383419 215.648631 \r\nL 116.383419 202.858042 \r\n\" style=\"fill:#7171ff;\"/>\r\n    <path clip-path=\"url(#p64313b776f)\" d=\"M 132.138713 202.858042 \r\nL 147.894007 202.858042 \r\nL 147.894007 215.648631 \r\nL 132.138713 215.648631 \r\nL 132.138713 202.858042 \r\n\" style=\"fill:#0000e6;\"/>\r\n    <path clip-path=\"url(#p64313b776f)\" d=\"M 147.894007 202.858042 \r\nL 163.649301 202.858042 \r\nL 163.649301 215.648631 \r\nL 147.894007 215.648631 \r\nL 147.894007 202.858042 \r\n\" style=\"fill:#0000db;\"/>\r\n    <path clip-path=\"url(#p64313b776f)\" d=\"M 163.649301 202.858042 \r\nL 179.404596 202.858042 \r\nL 179.404596 215.648631 \r\nL 163.649301 215.648631 \r\nL 163.649301 202.858042 \r\n\" style=\"fill:#0000e1;\"/>\r\n    <path clip-path=\"url(#p64313b776f)\" d=\"M 179.404596 202.858042 \r\nL 195.15989 202.858042 \r\nL 195.15989 215.648631 \r\nL 179.404596 215.648631 \r\nL 179.404596 202.858042 \r\n\" style=\"fill:#0000e6;\"/>\r\n    <path clip-path=\"url(#p64313b776f)\" d=\"M 195.15989 202.858042 \r\nL 210.915184 202.858042 \r\nL 210.915184 215.648631 \r\nL 195.15989 215.648631 \r\nL 195.15989 202.858042 \r\n\" style=\"fill:#0000db;\"/>\r\n    <path clip-path=\"url(#p64313b776f)\" d=\"M 210.915184 202.858042 \r\nL 226.670478 202.858042 \r\nL 226.670478 215.648631 \r\nL 210.915184 215.648631 \r\nL 210.915184 202.858042 \r\n\" style=\"fill:#0000bf;\"/>\r\n    <path clip-path=\"url(#p64313b776f)\" d=\"M 226.670478 202.858042 \r\nL 242.425772 202.858042 \r\nL 242.425772 215.648631 \r\nL 226.670478 215.648631 \r\nL 226.670478 202.858042 \r\n\" style=\"fill:#0000d3;\"/>\r\n    <path clip-path=\"url(#p64313b776f)\" d=\"M 242.425772 202.858042 \r\nL 258.181066 202.858042 \r\nL 258.181066 215.648631 \r\nL 242.425772 215.648631 \r\nL 242.425772 202.858042 \r\n\" style=\"fill:#0000ef;\"/>\r\n    <path clip-path=\"url(#p64313b776f)\" d=\"M 258.181066 202.858042 \r\nL 273.93636 202.858042 \r\nL 273.93636 215.648631 \r\nL 258.181066 215.648631 \r\nL 258.181066 202.858042 \r\n\" style=\"fill:#0000e6;\"/>\r\n    <path clip-path=\"url(#p64313b776f)\" d=\"M 273.93636 202.858042 \r\nL 289.691654 202.858042 \r\nL 289.691654 215.648631 \r\nL 273.93636 215.648631 \r\nL 273.93636 202.858042 \r\n\" style=\"fill:#0000ef;\"/>\r\n    <path clip-path=\"url(#p64313b776f)\" d=\"M 289.691654 202.858042 \r\nL 305.446949 202.858042 \r\nL 305.446949 215.648631 \r\nL 289.691654 215.648631 \r\nL 289.691654 202.858042 \r\n\" style=\"fill:#0000d3;\"/>\r\n    <path clip-path=\"url(#p64313b776f)\" d=\"M 305.446949 202.858042 \r\nL 321.202243 202.858042 \r\nL 321.202243 215.648631 \r\nL 305.446949 215.648631 \r\nL 305.446949 202.858042 \r\n\" style=\"fill:#0000d8;\"/>\r\n    <path clip-path=\"url(#p64313b776f)\" d=\"M 321.202243 202.858042 \r\nL 336.957537 202.858042 \r\nL 336.957537 215.648631 \r\nL 321.202243 215.648631 \r\nL 321.202243 202.858042 \r\n\" style=\"fill:#0000de;\"/>\r\n    <path clip-path=\"url(#p64313b776f)\" d=\"M 336.957537 202.858042 \r\nL 352.712831 202.858042 \r\nL 352.712831 215.648631 \r\nL 336.957537 215.648631 \r\nL 336.957537 202.858042 \r\n\" style=\"fill:#800000;\"/>\r\n    <path clip-path=\"url(#p64313b776f)\" d=\"M 352.712831 202.858042 \r\nL 368.468125 202.858042 \r\nL 368.468125 215.648631 \r\nL 352.712831 215.648631 \r\nL 352.712831 202.858042 \r\n\" style=\"fill:#0000fa;\"/>\r\n    <path clip-path=\"url(#p64313b776f)\" d=\"M 100.628125 215.648631 \r\nL 116.383419 215.648631 \r\nL 116.383419 228.439219 \r\nL 100.628125 228.439219 \r\nL 100.628125 215.648631 \r\n\" style=\"fill:#0000d6;\"/>\r\n    <path clip-path=\"url(#p64313b776f)\" d=\"M 116.383419 215.648631 \r\nL 132.138713 215.648631 \r\nL 132.138713 228.439219 \r\nL 116.383419 228.439219 \r\nL 116.383419 215.648631 \r\n\" style=\"fill:#0000db;\"/>\r\n    <path clip-path=\"url(#p64313b776f)\" d=\"M 132.138713 215.648631 \r\nL 147.894007 215.648631 \r\nL 147.894007 228.439219 \r\nL 132.138713 228.439219 \r\nL 132.138713 215.648631 \r\n\" style=\"fill:#0000e6;\"/>\r\n    <path clip-path=\"url(#p64313b776f)\" d=\"M 147.894007 215.648631 \r\nL 163.649301 215.648631 \r\nL 163.649301 228.439219 \r\nL 147.894007 228.439219 \r\nL 147.894007 215.648631 \r\n\" style=\"fill:#0000de;\"/>\r\n    <path clip-path=\"url(#p64313b776f)\" d=\"M 163.649301 215.648631 \r\nL 179.404596 215.648631 \r\nL 179.404596 228.439219 \r\nL 163.649301 228.439219 \r\nL 163.649301 215.648631 \r\n\" style=\"fill:#0000d0;\"/>\r\n    <path clip-path=\"url(#p64313b776f)\" d=\"M 179.404596 215.648631 \r\nL 195.15989 215.648631 \r\nL 195.15989 228.439219 \r\nL 179.404596 228.439219 \r\nL 179.404596 215.648631 \r\n\" style=\"fill:#0000de;\"/>\r\n    <path clip-path=\"url(#p64313b776f)\" d=\"M 195.15989 215.648631 \r\nL 210.915184 215.648631 \r\nL 210.915184 228.439219 \r\nL 195.15989 228.439219 \r\nL 195.15989 215.648631 \r\n\" style=\"fill:#0000d8;\"/>\r\n    <path clip-path=\"url(#p64313b776f)\" d=\"M 210.915184 215.648631 \r\nL 226.670478 215.648631 \r\nL 226.670478 228.439219 \r\nL 210.915184 228.439219 \r\nL 210.915184 215.648631 \r\n\" style=\"fill:#0000cd;\"/>\r\n    <path clip-path=\"url(#p64313b776f)\" d=\"M 226.670478 215.648631 \r\nL 242.425772 215.648631 \r\nL 242.425772 228.439219 \r\nL 226.670478 228.439219 \r\nL 226.670478 215.648631 \r\n\" style=\"fill:#0000cd;\"/>\r\n    <path clip-path=\"url(#p64313b776f)\" d=\"M 242.425772 215.648631 \r\nL 258.181066 215.648631 \r\nL 258.181066 228.439219 \r\nL 242.425772 228.439219 \r\nL 242.425772 215.648631 \r\n\" style=\"fill:#0000ef;\"/>\r\n    <path clip-path=\"url(#p64313b776f)\" d=\"M 258.181066 215.648631 \r\nL 273.93636 215.648631 \r\nL 273.93636 228.439219 \r\nL 258.181066 228.439219 \r\nL 258.181066 215.648631 \r\n\" style=\"fill:#0000cd;\"/>\r\n    <path clip-path=\"url(#p64313b776f)\" d=\"M 273.93636 215.648631 \r\nL 289.691654 215.648631 \r\nL 289.691654 228.439219 \r\nL 273.93636 228.439219 \r\nL 273.93636 215.648631 \r\n\" style=\"fill:#0000de;\"/>\r\n    <path clip-path=\"url(#p64313b776f)\" d=\"M 289.691654 215.648631 \r\nL 305.446949 215.648631 \r\nL 305.446949 228.439219 \r\nL 289.691654 228.439219 \r\nL 289.691654 215.648631 \r\n\" style=\"fill:#0000db;\"/>\r\n    <path clip-path=\"url(#p64313b776f)\" d=\"M 305.446949 215.648631 \r\nL 321.202243 215.648631 \r\nL 321.202243 228.439219 \r\nL 305.446949 228.439219 \r\nL 305.446949 215.648631 \r\n\" style=\"fill:#0000e6;\"/>\r\n    <path clip-path=\"url(#p64313b776f)\" d=\"M 321.202243 215.648631 \r\nL 336.957537 215.648631 \r\nL 336.957537 228.439219 \r\nL 321.202243 228.439219 \r\nL 321.202243 215.648631 \r\n\" style=\"fill:#0000e1;\"/>\r\n    <path clip-path=\"url(#p64313b776f)\" d=\"M 336.957537 215.648631 \r\nL 352.712831 215.648631 \r\nL 352.712831 228.439219 \r\nL 336.957537 228.439219 \r\nL 336.957537 215.648631 \r\n\" style=\"fill:#0000fa;\"/>\r\n    <path clip-path=\"url(#p64313b776f)\" d=\"M 352.712831 215.648631 \r\nL 368.468125 215.648631 \r\nL 368.468125 228.439219 \r\nL 352.712831 228.439219 \r\nL 352.712831 215.648631 \r\n\" style=\"fill:#800000;\"/>\r\n   </g>\r\n   <g id=\"matplotlib.axis_1\">\r\n    <g id=\"xtick_1\">\r\n     <g id=\"line2d_1\">\r\n      <defs>\r\n       <path d=\"M 0 0 \r\nL 0 3.5 \r\n\" id=\"mebfcb64321\" style=\"stroke:#000000;stroke-width:0.8;\"/>\r\n      </defs>\r\n      <g>\r\n       <use style=\"stroke:#000000;stroke-width:0.8;\" x=\"108.505772\" xlink:href=\"#mebfcb64321\" y=\"228.439219\"/>\r\n      </g>\r\n     </g>\r\n     <g id=\"text_1\">\r\n      <!-- id -->\r\n      <defs>\r\n       <path d=\"M 9.421875 54.6875 \r\nL 18.40625 54.6875 \r\nL 18.40625 0 \r\nL 9.421875 0 \r\nz\r\nM 9.421875 75.984375 \r\nL 18.40625 75.984375 \r\nL 18.40625 64.59375 \r\nL 9.421875 64.59375 \r\nz\r\n\" id=\"DejaVuSans-105\"/>\r\n       <path d=\"M 45.40625 46.390625 \r\nL 45.40625 75.984375 \r\nL 54.390625 75.984375 \r\nL 54.390625 0 \r\nL 45.40625 0 \r\nL 45.40625 8.203125 \r\nQ 42.578125 3.328125 38.25 0.953125 \r\nQ 33.9375 -1.421875 27.875 -1.421875 \r\nQ 17.96875 -1.421875 11.734375 6.484375 \r\nQ 5.515625 14.40625 5.515625 27.296875 \r\nQ 5.515625 40.1875 11.734375 48.09375 \r\nQ 17.96875 56 27.875 56 \r\nQ 33.9375 56 38.25 53.625 \r\nQ 42.578125 51.265625 45.40625 46.390625 \r\nz\r\nM 14.796875 27.296875 \r\nQ 14.796875 17.390625 18.875 11.75 \r\nQ 22.953125 6.109375 30.078125 6.109375 \r\nQ 37.203125 6.109375 41.296875 11.75 \r\nQ 45.40625 17.390625 45.40625 27.296875 \r\nQ 45.40625 37.203125 41.296875 42.84375 \r\nQ 37.203125 48.484375 30.078125 48.484375 \r\nQ 22.953125 48.484375 18.875 42.84375 \r\nQ 14.796875 37.203125 14.796875 27.296875 \r\nz\r\n\" id=\"DejaVuSans-100\"/>\r\n      </defs>\r\n      <g transform=\"translate(111.265147 244.565781)rotate(-90)scale(0.1 -0.1)\">\r\n       <use xlink:href=\"#DejaVuSans-105\"/>\r\n       <use x=\"27.783203\" xlink:href=\"#DejaVuSans-100\"/>\r\n      </g>\r\n     </g>\r\n    </g>\r\n    <g id=\"xtick_2\">\r\n     <g id=\"line2d_2\">\r\n      <g>\r\n       <use style=\"stroke:#000000;stroke-width:0.8;\" x=\"124.261066\" xlink:href=\"#mebfcb64321\" y=\"228.439219\"/>\r\n      </g>\r\n     </g>\r\n     <g id=\"text_2\">\r\n      <!-- Target A -->\r\n      <defs>\r\n       <path d=\"M -0.296875 72.90625 \r\nL 61.375 72.90625 \r\nL 61.375 64.59375 \r\nL 35.5 64.59375 \r\nL 35.5 0 \r\nL 25.59375 0 \r\nL 25.59375 64.59375 \r\nL -0.296875 64.59375 \r\nz\r\n\" id=\"DejaVuSans-84\"/>\r\n       <path d=\"M 34.28125 27.484375 \r\nQ 23.390625 27.484375 19.1875 25 \r\nQ 14.984375 22.515625 14.984375 16.5 \r\nQ 14.984375 11.71875 18.140625 8.90625 \r\nQ 21.296875 6.109375 26.703125 6.109375 \r\nQ 34.1875 6.109375 38.703125 11.40625 \r\nQ 43.21875 16.703125 43.21875 25.484375 \r\nL 43.21875 27.484375 \r\nz\r\nM 52.203125 31.203125 \r\nL 52.203125 0 \r\nL 43.21875 0 \r\nL 43.21875 8.296875 \r\nQ 40.140625 3.328125 35.546875 0.953125 \r\nQ 30.953125 -1.421875 24.3125 -1.421875 \r\nQ 15.921875 -1.421875 10.953125 3.296875 \r\nQ 6 8.015625 6 15.921875 \r\nQ 6 25.140625 12.171875 29.828125 \r\nQ 18.359375 34.515625 30.609375 34.515625 \r\nL 43.21875 34.515625 \r\nL 43.21875 35.40625 \r\nQ 43.21875 41.609375 39.140625 45 \r\nQ 35.0625 48.390625 27.6875 48.390625 \r\nQ 23 48.390625 18.546875 47.265625 \r\nQ 14.109375 46.140625 10.015625 43.890625 \r\nL 10.015625 52.203125 \r\nQ 14.9375 54.109375 19.578125 55.046875 \r\nQ 24.21875 56 28.609375 56 \r\nQ 40.484375 56 46.34375 49.84375 \r\nQ 52.203125 43.703125 52.203125 31.203125 \r\nz\r\n\" id=\"DejaVuSans-97\"/>\r\n       <path d=\"M 41.109375 46.296875 \r\nQ 39.59375 47.171875 37.8125 47.578125 \r\nQ 36.03125 48 33.890625 48 \r\nQ 26.265625 48 22.1875 43.046875 \r\nQ 18.109375 38.09375 18.109375 28.8125 \r\nL 18.109375 0 \r\nL 9.078125 0 \r\nL 9.078125 54.6875 \r\nL 18.109375 54.6875 \r\nL 18.109375 46.1875 \r\nQ 20.953125 51.171875 25.484375 53.578125 \r\nQ 30.03125 56 36.53125 56 \r\nQ 37.453125 56 38.578125 55.875 \r\nQ 39.703125 55.765625 41.0625 55.515625 \r\nz\r\n\" id=\"DejaVuSans-114\"/>\r\n       <path d=\"M 45.40625 27.984375 \r\nQ 45.40625 37.75 41.375 43.109375 \r\nQ 37.359375 48.484375 30.078125 48.484375 \r\nQ 22.859375 48.484375 18.828125 43.109375 \r\nQ 14.796875 37.75 14.796875 27.984375 \r\nQ 14.796875 18.265625 18.828125 12.890625 \r\nQ 22.859375 7.515625 30.078125 7.515625 \r\nQ 37.359375 7.515625 41.375 12.890625 \r\nQ 45.40625 18.265625 45.40625 27.984375 \r\nz\r\nM 54.390625 6.78125 \r\nQ 54.390625 -7.171875 48.1875 -13.984375 \r\nQ 42 -20.796875 29.203125 -20.796875 \r\nQ 24.46875 -20.796875 20.265625 -20.09375 \r\nQ 16.0625 -19.390625 12.109375 -17.921875 \r\nL 12.109375 -9.1875 \r\nQ 16.0625 -11.328125 19.921875 -12.34375 \r\nQ 23.78125 -13.375 27.78125 -13.375 \r\nQ 36.625 -13.375 41.015625 -8.765625 \r\nQ 45.40625 -4.15625 45.40625 5.171875 \r\nL 45.40625 9.625 \r\nQ 42.625 4.78125 38.28125 2.390625 \r\nQ 33.9375 0 27.875 0 \r\nQ 17.828125 0 11.671875 7.65625 \r\nQ 5.515625 15.328125 5.515625 27.984375 \r\nQ 5.515625 40.671875 11.671875 48.328125 \r\nQ 17.828125 56 27.875 56 \r\nQ 33.9375 56 38.28125 53.609375 \r\nQ 42.625 51.21875 45.40625 46.390625 \r\nL 45.40625 54.6875 \r\nL 54.390625 54.6875 \r\nz\r\n\" id=\"DejaVuSans-103\"/>\r\n       <path d=\"M 56.203125 29.59375 \r\nL 56.203125 25.203125 \r\nL 14.890625 25.203125 \r\nQ 15.484375 15.921875 20.484375 11.0625 \r\nQ 25.484375 6.203125 34.421875 6.203125 \r\nQ 39.59375 6.203125 44.453125 7.46875 \r\nQ 49.3125 8.734375 54.109375 11.28125 \r\nL 54.109375 2.78125 \r\nQ 49.265625 0.734375 44.1875 -0.34375 \r\nQ 39.109375 -1.421875 33.890625 -1.421875 \r\nQ 20.796875 -1.421875 13.15625 6.1875 \r\nQ 5.515625 13.8125 5.515625 26.8125 \r\nQ 5.515625 40.234375 12.765625 48.109375 \r\nQ 20.015625 56 32.328125 56 \r\nQ 43.359375 56 49.78125 48.890625 \r\nQ 56.203125 41.796875 56.203125 29.59375 \r\nz\r\nM 47.21875 32.234375 \r\nQ 47.125 39.59375 43.09375 43.984375 \r\nQ 39.0625 48.390625 32.421875 48.390625 \r\nQ 24.90625 48.390625 20.390625 44.140625 \r\nQ 15.875 39.890625 15.1875 32.171875 \r\nz\r\n\" id=\"DejaVuSans-101\"/>\r\n       <path d=\"M 18.3125 70.21875 \r\nL 18.3125 54.6875 \r\nL 36.8125 54.6875 \r\nL 36.8125 47.703125 \r\nL 18.3125 47.703125 \r\nL 18.3125 18.015625 \r\nQ 18.3125 11.328125 20.140625 9.421875 \r\nQ 21.96875 7.515625 27.59375 7.515625 \r\nL 36.8125 7.515625 \r\nL 36.8125 0 \r\nL 27.59375 0 \r\nQ 17.1875 0 13.234375 3.875 \r\nQ 9.28125 7.765625 9.28125 18.015625 \r\nL 9.28125 47.703125 \r\nL 2.6875 47.703125 \r\nL 2.6875 54.6875 \r\nL 9.28125 54.6875 \r\nL 9.28125 70.21875 \r\nz\r\n\" id=\"DejaVuSans-116\"/>\r\n       <path id=\"DejaVuSans-32\"/>\r\n       <path d=\"M 34.1875 63.1875 \r\nL 20.796875 26.90625 \r\nL 47.609375 26.90625 \r\nz\r\nM 28.609375 72.90625 \r\nL 39.796875 72.90625 \r\nL 67.578125 0 \r\nL 57.328125 0 \r\nL 50.6875 18.703125 \r\nL 17.828125 18.703125 \r\nL 11.1875 0 \r\nL 0.78125 0 \r\nz\r\n\" id=\"DejaVuSans-65\"/>\r\n      </defs>\r\n      <g transform=\"translate(127.020441 276.401719)rotate(-90)scale(0.1 -0.1)\">\r\n       <use xlink:href=\"#DejaVuSans-84\"/>\r\n       <use x=\"44.583984\" xlink:href=\"#DejaVuSans-97\"/>\r\n       <use x=\"105.863281\" xlink:href=\"#DejaVuSans-114\"/>\r\n       <use x=\"145.226562\" xlink:href=\"#DejaVuSans-103\"/>\r\n       <use x=\"208.703125\" xlink:href=\"#DejaVuSans-101\"/>\r\n       <use x=\"270.226562\" xlink:href=\"#DejaVuSans-116\"/>\r\n       <use x=\"309.435547\" xlink:href=\"#DejaVuSans-32\"/>\r\n       <use x=\"341.222656\" xlink:href=\"#DejaVuSans-65\"/>\r\n      </g>\r\n     </g>\r\n    </g>\r\n    <g id=\"xtick_3\">\r\n     <g id=\"line2d_3\">\r\n      <g>\r\n       <use style=\"stroke:#000000;stroke-width:0.8;\" x=\"140.01636\" xlink:href=\"#mebfcb64321\" y=\"228.439219\"/>\r\n      </g>\r\n     </g>\r\n     <g id=\"text_3\">\r\n      <!-- Target B -->\r\n      <defs>\r\n       <path d=\"M 19.671875 34.8125 \r\nL 19.671875 8.109375 \r\nL 35.5 8.109375 \r\nQ 43.453125 8.109375 47.28125 11.40625 \r\nQ 51.125 14.703125 51.125 21.484375 \r\nQ 51.125 28.328125 47.28125 31.5625 \r\nQ 43.453125 34.8125 35.5 34.8125 \r\nz\r\nM 19.671875 64.796875 \r\nL 19.671875 42.828125 \r\nL 34.28125 42.828125 \r\nQ 41.5 42.828125 45.03125 45.53125 \r\nQ 48.578125 48.25 48.578125 53.8125 \r\nQ 48.578125 59.328125 45.03125 62.0625 \r\nQ 41.5 64.796875 34.28125 64.796875 \r\nz\r\nM 9.8125 72.90625 \r\nL 35.015625 72.90625 \r\nQ 46.296875 72.90625 52.390625 68.21875 \r\nQ 58.5 63.53125 58.5 54.890625 \r\nQ 58.5 48.1875 55.375 44.234375 \r\nQ 52.25 40.28125 46.1875 39.3125 \r\nQ 53.46875 37.75 57.5 32.78125 \r\nQ 61.53125 27.828125 61.53125 20.40625 \r\nQ 61.53125 10.640625 54.890625 5.3125 \r\nQ 48.25 0 35.984375 0 \r\nL 9.8125 0 \r\nz\r\n\" id=\"DejaVuSans-66\"/>\r\n      </defs>\r\n      <g transform=\"translate(142.775735 276.422031)rotate(-90)scale(0.1 -0.1)\">\r\n       <use xlink:href=\"#DejaVuSans-84\"/>\r\n       <use x=\"44.583984\" xlink:href=\"#DejaVuSans-97\"/>\r\n       <use x=\"105.863281\" xlink:href=\"#DejaVuSans-114\"/>\r\n       <use x=\"145.226562\" xlink:href=\"#DejaVuSans-103\"/>\r\n       <use x=\"208.703125\" xlink:href=\"#DejaVuSans-101\"/>\r\n       <use x=\"270.226562\" xlink:href=\"#DejaVuSans-116\"/>\r\n       <use x=\"309.435547\" xlink:href=\"#DejaVuSans-32\"/>\r\n       <use x=\"341.222656\" xlink:href=\"#DejaVuSans-66\"/>\r\n      </g>\r\n     </g>\r\n    </g>\r\n    <g id=\"xtick_4\">\r\n     <g id=\"line2d_4\">\r\n      <g>\r\n       <use style=\"stroke:#000000;stroke-width:0.8;\" x=\"155.771654\" xlink:href=\"#mebfcb64321\" y=\"228.439219\"/>\r\n      </g>\r\n     </g>\r\n     <g id=\"text_4\">\r\n      <!-- LOAN_AMT -->\r\n      <defs>\r\n       <path d=\"M 9.8125 72.90625 \r\nL 19.671875 72.90625 \r\nL 19.671875 8.296875 \r\nL 55.171875 8.296875 \r\nL 55.171875 0 \r\nL 9.8125 0 \r\nz\r\n\" id=\"DejaVuSans-76\"/>\r\n       <path d=\"M 39.40625 66.21875 \r\nQ 28.65625 66.21875 22.328125 58.203125 \r\nQ 16.015625 50.203125 16.015625 36.375 \r\nQ 16.015625 22.609375 22.328125 14.59375 \r\nQ 28.65625 6.59375 39.40625 6.59375 \r\nQ 50.140625 6.59375 56.421875 14.59375 \r\nQ 62.703125 22.609375 62.703125 36.375 \r\nQ 62.703125 50.203125 56.421875 58.203125 \r\nQ 50.140625 66.21875 39.40625 66.21875 \r\nz\r\nM 39.40625 74.21875 \r\nQ 54.734375 74.21875 63.90625 63.9375 \r\nQ 73.09375 53.65625 73.09375 36.375 \r\nQ 73.09375 19.140625 63.90625 8.859375 \r\nQ 54.734375 -1.421875 39.40625 -1.421875 \r\nQ 24.03125 -1.421875 14.8125 8.828125 \r\nQ 5.609375 19.09375 5.609375 36.375 \r\nQ 5.609375 53.65625 14.8125 63.9375 \r\nQ 24.03125 74.21875 39.40625 74.21875 \r\nz\r\n\" id=\"DejaVuSans-79\"/>\r\n       <path d=\"M 9.8125 72.90625 \r\nL 23.09375 72.90625 \r\nL 55.421875 11.921875 \r\nL 55.421875 72.90625 \r\nL 64.984375 72.90625 \r\nL 64.984375 0 \r\nL 51.703125 0 \r\nL 19.390625 60.984375 \r\nL 19.390625 0 \r\nL 9.8125 0 \r\nz\r\n\" id=\"DejaVuSans-78\"/>\r\n       <path d=\"M 50.984375 -16.609375 \r\nL 50.984375 -23.578125 \r\nL -0.984375 -23.578125 \r\nL -0.984375 -16.609375 \r\nz\r\n\" id=\"DejaVuSans-95\"/>\r\n       <path d=\"M 9.8125 72.90625 \r\nL 24.515625 72.90625 \r\nL 43.109375 23.296875 \r\nL 61.8125 72.90625 \r\nL 76.515625 72.90625 \r\nL 76.515625 0 \r\nL 66.890625 0 \r\nL 66.890625 64.015625 \r\nL 48.09375 14.015625 \r\nL 38.1875 14.015625 \r\nL 19.390625 64.015625 \r\nL 19.390625 0 \r\nL 9.8125 0 \r\nz\r\n\" id=\"DejaVuSans-77\"/>\r\n      </defs>\r\n      <g transform=\"translate(158.303686 289.243906)rotate(-90)scale(0.1 -0.1)\">\r\n       <use xlink:href=\"#DejaVuSans-76\"/>\r\n       <use x=\"52.087891\" xlink:href=\"#DejaVuSans-79\"/>\r\n       <use x=\"129.048828\" xlink:href=\"#DejaVuSans-65\"/>\r\n       <use x=\"197.457031\" xlink:href=\"#DejaVuSans-78\"/>\r\n       <use x=\"272.261719\" xlink:href=\"#DejaVuSans-95\"/>\r\n       <use x=\"322.261719\" xlink:href=\"#DejaVuSans-65\"/>\r\n       <use x=\"390.669922\" xlink:href=\"#DejaVuSans-77\"/>\r\n       <use x=\"476.949219\" xlink:href=\"#DejaVuSans-84\"/>\r\n      </g>\r\n     </g>\r\n    </g>\r\n    <g id=\"xtick_5\">\r\n     <g id=\"line2d_5\">\r\n      <g>\r\n       <use style=\"stroke:#000000;stroke-width:0.8;\" x=\"171.526949\" xlink:href=\"#mebfcb64321\" y=\"228.439219\"/>\r\n      </g>\r\n     </g>\r\n     <g id=\"text_5\">\r\n      <!-- CompanySize -->\r\n      <defs>\r\n       <path d=\"M 64.40625 67.28125 \r\nL 64.40625 56.890625 \r\nQ 59.421875 61.53125 53.78125 63.8125 \r\nQ 48.140625 66.109375 41.796875 66.109375 \r\nQ 29.296875 66.109375 22.65625 58.46875 \r\nQ 16.015625 50.828125 16.015625 36.375 \r\nQ 16.015625 21.96875 22.65625 14.328125 \r\nQ 29.296875 6.6875 41.796875 6.6875 \r\nQ 48.140625 6.6875 53.78125 8.984375 \r\nQ 59.421875 11.28125 64.40625 15.921875 \r\nL 64.40625 5.609375 \r\nQ 59.234375 2.09375 53.4375 0.328125 \r\nQ 47.65625 -1.421875 41.21875 -1.421875 \r\nQ 24.65625 -1.421875 15.125 8.703125 \r\nQ 5.609375 18.84375 5.609375 36.375 \r\nQ 5.609375 53.953125 15.125 64.078125 \r\nQ 24.65625 74.21875 41.21875 74.21875 \r\nQ 47.75 74.21875 53.53125 72.484375 \r\nQ 59.328125 70.75 64.40625 67.28125 \r\nz\r\n\" id=\"DejaVuSans-67\"/>\r\n       <path d=\"M 30.609375 48.390625 \r\nQ 23.390625 48.390625 19.1875 42.75 \r\nQ 14.984375 37.109375 14.984375 27.296875 \r\nQ 14.984375 17.484375 19.15625 11.84375 \r\nQ 23.34375 6.203125 30.609375 6.203125 \r\nQ 37.796875 6.203125 41.984375 11.859375 \r\nQ 46.1875 17.53125 46.1875 27.296875 \r\nQ 46.1875 37.015625 41.984375 42.703125 \r\nQ 37.796875 48.390625 30.609375 48.390625 \r\nz\r\nM 30.609375 56 \r\nQ 42.328125 56 49.015625 48.375 \r\nQ 55.71875 40.765625 55.71875 27.296875 \r\nQ 55.71875 13.875 49.015625 6.21875 \r\nQ 42.328125 -1.421875 30.609375 -1.421875 \r\nQ 18.84375 -1.421875 12.171875 6.21875 \r\nQ 5.515625 13.875 5.515625 27.296875 \r\nQ 5.515625 40.765625 12.171875 48.375 \r\nQ 18.84375 56 30.609375 56 \r\nz\r\n\" id=\"DejaVuSans-111\"/>\r\n       <path d=\"M 52 44.1875 \r\nQ 55.375 50.25 60.0625 53.125 \r\nQ 64.75 56 71.09375 56 \r\nQ 79.640625 56 84.28125 50.015625 \r\nQ 88.921875 44.046875 88.921875 33.015625 \r\nL 88.921875 0 \r\nL 79.890625 0 \r\nL 79.890625 32.71875 \r\nQ 79.890625 40.578125 77.09375 44.375 \r\nQ 74.3125 48.1875 68.609375 48.1875 \r\nQ 61.625 48.1875 57.5625 43.546875 \r\nQ 53.515625 38.921875 53.515625 30.90625 \r\nL 53.515625 0 \r\nL 44.484375 0 \r\nL 44.484375 32.71875 \r\nQ 44.484375 40.625 41.703125 44.40625 \r\nQ 38.921875 48.1875 33.109375 48.1875 \r\nQ 26.21875 48.1875 22.15625 43.53125 \r\nQ 18.109375 38.875 18.109375 30.90625 \r\nL 18.109375 0 \r\nL 9.078125 0 \r\nL 9.078125 54.6875 \r\nL 18.109375 54.6875 \r\nL 18.109375 46.1875 \r\nQ 21.1875 51.21875 25.484375 53.609375 \r\nQ 29.78125 56 35.6875 56 \r\nQ 41.65625 56 45.828125 52.96875 \r\nQ 50 49.953125 52 44.1875 \r\nz\r\n\" id=\"DejaVuSans-109\"/>\r\n       <path d=\"M 18.109375 8.203125 \r\nL 18.109375 -20.796875 \r\nL 9.078125 -20.796875 \r\nL 9.078125 54.6875 \r\nL 18.109375 54.6875 \r\nL 18.109375 46.390625 \r\nQ 20.953125 51.265625 25.265625 53.625 \r\nQ 29.59375 56 35.59375 56 \r\nQ 45.5625 56 51.78125 48.09375 \r\nQ 58.015625 40.1875 58.015625 27.296875 \r\nQ 58.015625 14.40625 51.78125 6.484375 \r\nQ 45.5625 -1.421875 35.59375 -1.421875 \r\nQ 29.59375 -1.421875 25.265625 0.953125 \r\nQ 20.953125 3.328125 18.109375 8.203125 \r\nz\r\nM 48.6875 27.296875 \r\nQ 48.6875 37.203125 44.609375 42.84375 \r\nQ 40.53125 48.484375 33.40625 48.484375 \r\nQ 26.265625 48.484375 22.1875 42.84375 \r\nQ 18.109375 37.203125 18.109375 27.296875 \r\nQ 18.109375 17.390625 22.1875 11.75 \r\nQ 26.265625 6.109375 33.40625 6.109375 \r\nQ 40.53125 6.109375 44.609375 11.75 \r\nQ 48.6875 17.390625 48.6875 27.296875 \r\nz\r\n\" id=\"DejaVuSans-112\"/>\r\n       <path d=\"M 54.890625 33.015625 \r\nL 54.890625 0 \r\nL 45.90625 0 \r\nL 45.90625 32.71875 \r\nQ 45.90625 40.484375 42.875 44.328125 \r\nQ 39.84375 48.1875 33.796875 48.1875 \r\nQ 26.515625 48.1875 22.3125 43.546875 \r\nQ 18.109375 38.921875 18.109375 30.90625 \r\nL 18.109375 0 \r\nL 9.078125 0 \r\nL 9.078125 54.6875 \r\nL 18.109375 54.6875 \r\nL 18.109375 46.1875 \r\nQ 21.34375 51.125 25.703125 53.5625 \r\nQ 30.078125 56 35.796875 56 \r\nQ 45.21875 56 50.046875 50.171875 \r\nQ 54.890625 44.34375 54.890625 33.015625 \r\nz\r\n\" id=\"DejaVuSans-110\"/>\r\n       <path d=\"M 32.171875 -5.078125 \r\nQ 28.375 -14.84375 24.75 -17.8125 \r\nQ 21.140625 -20.796875 15.09375 -20.796875 \r\nL 7.90625 -20.796875 \r\nL 7.90625 -13.28125 \r\nL 13.1875 -13.28125 \r\nQ 16.890625 -13.28125 18.9375 -11.515625 \r\nQ 21 -9.765625 23.484375 -3.21875 \r\nL 25.09375 0.875 \r\nL 2.984375 54.6875 \r\nL 12.5 54.6875 \r\nL 29.59375 11.921875 \r\nL 46.6875 54.6875 \r\nL 56.203125 54.6875 \r\nz\r\n\" id=\"DejaVuSans-121\"/>\r\n       <path d=\"M 53.515625 70.515625 \r\nL 53.515625 60.890625 \r\nQ 47.90625 63.578125 42.921875 64.890625 \r\nQ 37.9375 66.21875 33.296875 66.21875 \r\nQ 25.25 66.21875 20.875 63.09375 \r\nQ 16.5 59.96875 16.5 54.203125 \r\nQ 16.5 49.359375 19.40625 46.890625 \r\nQ 22.3125 44.4375 30.421875 42.921875 \r\nL 36.375 41.703125 \r\nQ 47.40625 39.59375 52.65625 34.296875 \r\nQ 57.90625 29 57.90625 20.125 \r\nQ 57.90625 9.515625 50.796875 4.046875 \r\nQ 43.703125 -1.421875 29.984375 -1.421875 \r\nQ 24.8125 -1.421875 18.96875 -0.25 \r\nQ 13.140625 0.921875 6.890625 3.21875 \r\nL 6.890625 13.375 \r\nQ 12.890625 10.015625 18.65625 8.296875 \r\nQ 24.421875 6.59375 29.984375 6.59375 \r\nQ 38.421875 6.59375 43.015625 9.90625 \r\nQ 47.609375 13.234375 47.609375 19.390625 \r\nQ 47.609375 24.75 44.3125 27.78125 \r\nQ 41.015625 30.8125 33.5 32.328125 \r\nL 27.484375 33.5 \r\nQ 16.453125 35.6875 11.515625 40.375 \r\nQ 6.59375 45.0625 6.59375 53.421875 \r\nQ 6.59375 63.09375 13.40625 68.65625 \r\nQ 20.21875 74.21875 32.171875 74.21875 \r\nQ 37.3125 74.21875 42.625 73.28125 \r\nQ 47.953125 72.359375 53.515625 70.515625 \r\nz\r\n\" id=\"DejaVuSans-83\"/>\r\n       <path d=\"M 5.515625 54.6875 \r\nL 48.1875 54.6875 \r\nL 48.1875 46.484375 \r\nL 14.40625 7.171875 \r\nL 48.1875 7.171875 \r\nL 48.1875 0 \r\nL 4.296875 0 \r\nL 4.296875 8.203125 \r\nL 38.09375 47.515625 \r\nL 5.515625 47.515625 \r\nz\r\n\" id=\"DejaVuSans-122\"/>\r\n      </defs>\r\n      <g transform=\"translate(174.286324 303.542344)rotate(-90)scale(0.1 -0.1)\">\r\n       <use xlink:href=\"#DejaVuSans-67\"/>\r\n       <use x=\"69.824219\" xlink:href=\"#DejaVuSans-111\"/>\r\n       <use x=\"131.005859\" xlink:href=\"#DejaVuSans-109\"/>\r\n       <use x=\"228.417969\" xlink:href=\"#DejaVuSans-112\"/>\r\n       <use x=\"291.894531\" xlink:href=\"#DejaVuSans-97\"/>\r\n       <use x=\"353.173828\" xlink:href=\"#DejaVuSans-110\"/>\r\n       <use x=\"416.552734\" xlink:href=\"#DejaVuSans-121\"/>\r\n       <use x=\"475.732422\" xlink:href=\"#DejaVuSans-83\"/>\r\n       <use x=\"539.208984\" xlink:href=\"#DejaVuSans-105\"/>\r\n       <use x=\"566.992188\" xlink:href=\"#DejaVuSans-122\"/>\r\n       <use x=\"619.482422\" xlink:href=\"#DejaVuSans-101\"/>\r\n      </g>\r\n     </g>\r\n    </g>\r\n    <g id=\"xtick_6\">\r\n     <g id=\"line2d_6\">\r\n      <g>\r\n       <use style=\"stroke:#000000;stroke-width:0.8;\" x=\"187.282243\" xlink:href=\"#mebfcb64321\" y=\"228.439219\"/>\r\n      </g>\r\n     </g>\r\n     <g id=\"text_6\">\r\n      <!-- YearsCoding -->\r\n      <defs>\r\n       <path d=\"M -0.203125 72.90625 \r\nL 10.40625 72.90625 \r\nL 30.609375 42.921875 \r\nL 50.6875 72.90625 \r\nL 61.28125 72.90625 \r\nL 35.5 34.71875 \r\nL 35.5 0 \r\nL 25.59375 0 \r\nL 25.59375 34.71875 \r\nz\r\n\" id=\"DejaVuSans-89\"/>\r\n       <path d=\"M 44.28125 53.078125 \r\nL 44.28125 44.578125 \r\nQ 40.484375 46.53125 36.375 47.5 \r\nQ 32.28125 48.484375 27.875 48.484375 \r\nQ 21.1875 48.484375 17.84375 46.4375 \r\nQ 14.5 44.390625 14.5 40.28125 \r\nQ 14.5 37.15625 16.890625 35.375 \r\nQ 19.28125 33.59375 26.515625 31.984375 \r\nL 29.59375 31.296875 \r\nQ 39.15625 29.25 43.1875 25.515625 \r\nQ 47.21875 21.78125 47.21875 15.09375 \r\nQ 47.21875 7.46875 41.1875 3.015625 \r\nQ 35.15625 -1.421875 24.609375 -1.421875 \r\nQ 20.21875 -1.421875 15.453125 -0.5625 \r\nQ 10.6875 0.296875 5.421875 2 \r\nL 5.421875 11.28125 \r\nQ 10.40625 8.6875 15.234375 7.390625 \r\nQ 20.0625 6.109375 24.8125 6.109375 \r\nQ 31.15625 6.109375 34.5625 8.28125 \r\nQ 37.984375 10.453125 37.984375 14.40625 \r\nQ 37.984375 18.0625 35.515625 20.015625 \r\nQ 33.0625 21.96875 24.703125 23.78125 \r\nL 21.578125 24.515625 \r\nQ 13.234375 26.265625 9.515625 29.90625 \r\nQ 5.8125 33.546875 5.8125 39.890625 \r\nQ 5.8125 47.609375 11.28125 51.796875 \r\nQ 16.75 56 26.8125 56 \r\nQ 31.78125 56 36.171875 55.265625 \r\nQ 40.578125 54.546875 44.28125 53.078125 \r\nz\r\n\" id=\"DejaVuSans-115\"/>\r\n      </defs>\r\n      <g transform=\"translate(190.041618 296.737656)rotate(-90)scale(0.1 -0.1)\">\r\n       <use xlink:href=\"#DejaVuSans-89\"/>\r\n       <use x=\"47.833984\" xlink:href=\"#DejaVuSans-101\"/>\r\n       <use x=\"109.357422\" xlink:href=\"#DejaVuSans-97\"/>\r\n       <use x=\"170.636719\" xlink:href=\"#DejaVuSans-114\"/>\r\n       <use x=\"211.75\" xlink:href=\"#DejaVuSans-115\"/>\r\n       <use x=\"263.849609\" xlink:href=\"#DejaVuSans-67\"/>\r\n       <use x=\"333.673828\" xlink:href=\"#DejaVuSans-111\"/>\r\n       <use x=\"394.855469\" xlink:href=\"#DejaVuSans-100\"/>\r\n       <use x=\"458.332031\" xlink:href=\"#DejaVuSans-105\"/>\r\n       <use x=\"486.115234\" xlink:href=\"#DejaVuSans-110\"/>\r\n       <use x=\"549.494141\" xlink:href=\"#DejaVuSans-103\"/>\r\n      </g>\r\n     </g>\r\n    </g>\r\n    <g id=\"xtick_7\">\r\n     <g id=\"line2d_7\">\r\n      <g>\r\n       <use style=\"stroke:#000000;stroke-width:0.8;\" x=\"203.037537\" xlink:href=\"#mebfcb64321\" y=\"228.439219\"/>\r\n      </g>\r\n     </g>\r\n     <g id=\"text_7\">\r\n      <!-- YearsCodingProf -->\r\n      <defs>\r\n       <path d=\"M 19.671875 64.796875 \r\nL 19.671875 37.40625 \r\nL 32.078125 37.40625 \r\nQ 38.96875 37.40625 42.71875 40.96875 \r\nQ 46.484375 44.53125 46.484375 51.125 \r\nQ 46.484375 57.671875 42.71875 61.234375 \r\nQ 38.96875 64.796875 32.078125 64.796875 \r\nz\r\nM 9.8125 72.90625 \r\nL 32.078125 72.90625 \r\nQ 44.34375 72.90625 50.609375 67.359375 \r\nQ 56.890625 61.8125 56.890625 51.125 \r\nQ 56.890625 40.328125 50.609375 34.8125 \r\nQ 44.34375 29.296875 32.078125 29.296875 \r\nL 19.671875 29.296875 \r\nL 19.671875 0 \r\nL 9.8125 0 \r\nz\r\n\" id=\"DejaVuSans-80\"/>\r\n       <path d=\"M 37.109375 75.984375 \r\nL 37.109375 68.5 \r\nL 28.515625 68.5 \r\nQ 23.6875 68.5 21.796875 66.546875 \r\nQ 19.921875 64.59375 19.921875 59.515625 \r\nL 19.921875 54.6875 \r\nL 34.71875 54.6875 \r\nL 34.71875 47.703125 \r\nL 19.921875 47.703125 \r\nL 19.921875 0 \r\nL 10.890625 0 \r\nL 10.890625 47.703125 \r\nL 2.296875 47.703125 \r\nL 2.296875 54.6875 \r\nL 10.890625 54.6875 \r\nL 10.890625 58.5 \r\nQ 10.890625 67.625 15.140625 71.796875 \r\nQ 19.390625 75.984375 28.609375 75.984375 \r\nz\r\n\" id=\"DejaVuSans-102\"/>\r\n      </defs>\r\n      <g transform=\"translate(205.796912 316.117344)rotate(-90)scale(0.1 -0.1)\">\r\n       <use xlink:href=\"#DejaVuSans-89\"/>\r\n       <use x=\"47.833984\" xlink:href=\"#DejaVuSans-101\"/>\r\n       <use x=\"109.357422\" xlink:href=\"#DejaVuSans-97\"/>\r\n       <use x=\"170.636719\" xlink:href=\"#DejaVuSans-114\"/>\r\n       <use x=\"211.75\" xlink:href=\"#DejaVuSans-115\"/>\r\n       <use x=\"263.849609\" xlink:href=\"#DejaVuSans-67\"/>\r\n       <use x=\"333.673828\" xlink:href=\"#DejaVuSans-111\"/>\r\n       <use x=\"394.855469\" xlink:href=\"#DejaVuSans-100\"/>\r\n       <use x=\"458.332031\" xlink:href=\"#DejaVuSans-105\"/>\r\n       <use x=\"486.115234\" xlink:href=\"#DejaVuSans-110\"/>\r\n       <use x=\"549.494141\" xlink:href=\"#DejaVuSans-103\"/>\r\n       <use x=\"612.970703\" xlink:href=\"#DejaVuSans-80\"/>\r\n       <use x=\"671.523438\" xlink:href=\"#DejaVuSans-114\"/>\r\n       <use x=\"710.386719\" xlink:href=\"#DejaVuSans-111\"/>\r\n       <use x=\"771.568359\" xlink:href=\"#DejaVuSans-102\"/>\r\n      </g>\r\n     </g>\r\n    </g>\r\n    <g id=\"xtick_8\">\r\n     <g id=\"line2d_8\">\r\n      <g>\r\n       <use style=\"stroke:#000000;stroke-width:0.8;\" x=\"218.792831\" xlink:href=\"#mebfcb64321\" y=\"228.439219\"/>\r\n      </g>\r\n     </g>\r\n     <g id=\"text_8\">\r\n      <!-- AgreeDisagree1 -->\r\n      <defs>\r\n       <path d=\"M 19.671875 64.796875 \r\nL 19.671875 8.109375 \r\nL 31.59375 8.109375 \r\nQ 46.6875 8.109375 53.6875 14.9375 \r\nQ 60.6875 21.78125 60.6875 36.53125 \r\nQ 60.6875 51.171875 53.6875 57.984375 \r\nQ 46.6875 64.796875 31.59375 64.796875 \r\nz\r\nM 9.8125 72.90625 \r\nL 30.078125 72.90625 \r\nQ 51.265625 72.90625 61.171875 64.09375 \r\nQ 71.09375 55.28125 71.09375 36.53125 \r\nQ 71.09375 17.671875 61.125 8.828125 \r\nQ 51.171875 0 30.078125 0 \r\nL 9.8125 0 \r\nz\r\n\" id=\"DejaVuSans-68\"/>\r\n       <path d=\"M 12.40625 8.296875 \r\nL 28.515625 8.296875 \r\nL 28.515625 63.921875 \r\nL 10.984375 60.40625 \r\nL 10.984375 69.390625 \r\nL 28.421875 72.90625 \r\nL 38.28125 72.90625 \r\nL 38.28125 8.296875 \r\nL 54.390625 8.296875 \r\nL 54.390625 0 \r\nL 12.40625 0 \r\nz\r\n\" id=\"DejaVuSans-49\"/>\r\n      </defs>\r\n      <g transform=\"translate(221.552206 315.539219)rotate(-90)scale(0.1 -0.1)\">\r\n       <use xlink:href=\"#DejaVuSans-65\"/>\r\n       <use x=\"68.408203\" xlink:href=\"#DejaVuSans-103\"/>\r\n       <use x=\"131.884766\" xlink:href=\"#DejaVuSans-114\"/>\r\n       <use x=\"170.748047\" xlink:href=\"#DejaVuSans-101\"/>\r\n       <use x=\"232.271484\" xlink:href=\"#DejaVuSans-101\"/>\r\n       <use x=\"293.794922\" xlink:href=\"#DejaVuSans-68\"/>\r\n       <use x=\"370.796875\" xlink:href=\"#DejaVuSans-105\"/>\r\n       <use x=\"398.580078\" xlink:href=\"#DejaVuSans-115\"/>\r\n       <use x=\"450.679688\" xlink:href=\"#DejaVuSans-97\"/>\r\n       <use x=\"511.958984\" xlink:href=\"#DejaVuSans-103\"/>\r\n       <use x=\"575.435547\" xlink:href=\"#DejaVuSans-114\"/>\r\n       <use x=\"614.298828\" xlink:href=\"#DejaVuSans-101\"/>\r\n       <use x=\"675.822266\" xlink:href=\"#DejaVuSans-101\"/>\r\n       <use x=\"737.345703\" xlink:href=\"#DejaVuSans-49\"/>\r\n      </g>\r\n     </g>\r\n    </g>\r\n    <g id=\"xtick_9\">\r\n     <g id=\"line2d_9\">\r\n      <g>\r\n       <use style=\"stroke:#000000;stroke-width:0.8;\" x=\"234.548125\" xlink:href=\"#mebfcb64321\" y=\"228.439219\"/>\r\n      </g>\r\n     </g>\r\n     <g id=\"text_9\">\r\n      <!-- AgreeDisagree2 -->\r\n      <defs>\r\n       <path d=\"M 19.1875 8.296875 \r\nL 53.609375 8.296875 \r\nL 53.609375 0 \r\nL 7.328125 0 \r\nL 7.328125 8.296875 \r\nQ 12.9375 14.109375 22.625 23.890625 \r\nQ 32.328125 33.6875 34.8125 36.53125 \r\nQ 39.546875 41.84375 41.421875 45.53125 \r\nQ 43.3125 49.21875 43.3125 52.78125 \r\nQ 43.3125 58.59375 39.234375 62.25 \r\nQ 35.15625 65.921875 28.609375 65.921875 \r\nQ 23.96875 65.921875 18.8125 64.3125 \r\nQ 13.671875 62.703125 7.8125 59.421875 \r\nL 7.8125 69.390625 \r\nQ 13.765625 71.78125 18.9375 73 \r\nQ 24.125 74.21875 28.421875 74.21875 \r\nQ 39.75 74.21875 46.484375 68.546875 \r\nQ 53.21875 62.890625 53.21875 53.421875 \r\nQ 53.21875 48.921875 51.53125 44.890625 \r\nQ 49.859375 40.875 45.40625 35.40625 \r\nQ 44.1875 33.984375 37.640625 27.21875 \r\nQ 31.109375 20.453125 19.1875 8.296875 \r\nz\r\n\" id=\"DejaVuSans-50\"/>\r\n      </defs>\r\n      <g transform=\"translate(237.3075 315.539219)rotate(-90)scale(0.1 -0.1)\">\r\n       <use xlink:href=\"#DejaVuSans-65\"/>\r\n       <use x=\"68.408203\" xlink:href=\"#DejaVuSans-103\"/>\r\n       <use x=\"131.884766\" xlink:href=\"#DejaVuSans-114\"/>\r\n       <use x=\"170.748047\" xlink:href=\"#DejaVuSans-101\"/>\r\n       <use x=\"232.271484\" xlink:href=\"#DejaVuSans-101\"/>\r\n       <use x=\"293.794922\" xlink:href=\"#DejaVuSans-68\"/>\r\n       <use x=\"370.796875\" xlink:href=\"#DejaVuSans-105\"/>\r\n       <use x=\"398.580078\" xlink:href=\"#DejaVuSans-115\"/>\r\n       <use x=\"450.679688\" xlink:href=\"#DejaVuSans-97\"/>\r\n       <use x=\"511.958984\" xlink:href=\"#DejaVuSans-103\"/>\r\n       <use x=\"575.435547\" xlink:href=\"#DejaVuSans-114\"/>\r\n       <use x=\"614.298828\" xlink:href=\"#DejaVuSans-101\"/>\r\n       <use x=\"675.822266\" xlink:href=\"#DejaVuSans-101\"/>\r\n       <use x=\"737.345703\" xlink:href=\"#DejaVuSans-50\"/>\r\n      </g>\r\n     </g>\r\n    </g>\r\n    <g id=\"xtick_10\">\r\n     <g id=\"line2d_10\">\r\n      <g>\r\n       <use style=\"stroke:#000000;stroke-width:0.8;\" x=\"250.303419\" xlink:href=\"#mebfcb64321\" y=\"228.439219\"/>\r\n      </g>\r\n     </g>\r\n     <g id=\"text_10\">\r\n      <!-- AgreeDisagree3 -->\r\n      <defs>\r\n       <path d=\"M 40.578125 39.3125 \r\nQ 47.65625 37.796875 51.625 33 \r\nQ 55.609375 28.21875 55.609375 21.1875 \r\nQ 55.609375 10.40625 48.1875 4.484375 \r\nQ 40.765625 -1.421875 27.09375 -1.421875 \r\nQ 22.515625 -1.421875 17.65625 -0.515625 \r\nQ 12.796875 0.390625 7.625 2.203125 \r\nL 7.625 11.71875 \r\nQ 11.71875 9.328125 16.59375 8.109375 \r\nQ 21.484375 6.890625 26.8125 6.890625 \r\nQ 36.078125 6.890625 40.9375 10.546875 \r\nQ 45.796875 14.203125 45.796875 21.1875 \r\nQ 45.796875 27.640625 41.28125 31.265625 \r\nQ 36.765625 34.90625 28.71875 34.90625 \r\nL 20.21875 34.90625 \r\nL 20.21875 43.015625 \r\nL 29.109375 43.015625 \r\nQ 36.375 43.015625 40.234375 45.921875 \r\nQ 44.09375 48.828125 44.09375 54.296875 \r\nQ 44.09375 59.90625 40.109375 62.90625 \r\nQ 36.140625 65.921875 28.71875 65.921875 \r\nQ 24.65625 65.921875 20.015625 65.03125 \r\nQ 15.375 64.15625 9.8125 62.3125 \r\nL 9.8125 71.09375 \r\nQ 15.4375 72.65625 20.34375 73.4375 \r\nQ 25.25 74.21875 29.59375 74.21875 \r\nQ 40.828125 74.21875 47.359375 69.109375 \r\nQ 53.90625 64.015625 53.90625 55.328125 \r\nQ 53.90625 49.265625 50.4375 45.09375 \r\nQ 46.96875 40.921875 40.578125 39.3125 \r\nz\r\n\" id=\"DejaVuSans-51\"/>\r\n      </defs>\r\n      <g transform=\"translate(253.062794 315.539219)rotate(-90)scale(0.1 -0.1)\">\r\n       <use xlink:href=\"#DejaVuSans-65\"/>\r\n       <use x=\"68.408203\" xlink:href=\"#DejaVuSans-103\"/>\r\n       <use x=\"131.884766\" xlink:href=\"#DejaVuSans-114\"/>\r\n       <use x=\"170.748047\" xlink:href=\"#DejaVuSans-101\"/>\r\n       <use x=\"232.271484\" xlink:href=\"#DejaVuSans-101\"/>\r\n       <use x=\"293.794922\" xlink:href=\"#DejaVuSans-68\"/>\r\n       <use x=\"370.796875\" xlink:href=\"#DejaVuSans-105\"/>\r\n       <use x=\"398.580078\" xlink:href=\"#DejaVuSans-115\"/>\r\n       <use x=\"450.679688\" xlink:href=\"#DejaVuSans-97\"/>\r\n       <use x=\"511.958984\" xlink:href=\"#DejaVuSans-103\"/>\r\n       <use x=\"575.435547\" xlink:href=\"#DejaVuSans-114\"/>\r\n       <use x=\"614.298828\" xlink:href=\"#DejaVuSans-101\"/>\r\n       <use x=\"675.822266\" xlink:href=\"#DejaVuSans-101\"/>\r\n       <use x=\"737.345703\" xlink:href=\"#DejaVuSans-51\"/>\r\n      </g>\r\n     </g>\r\n    </g>\r\n    <g id=\"xtick_11\">\r\n     <g id=\"line2d_11\">\r\n      <g>\r\n       <use style=\"stroke:#000000;stroke-width:0.8;\" x=\"266.058713\" xlink:href=\"#mebfcb64321\" y=\"228.439219\"/>\r\n      </g>\r\n     </g>\r\n     <g id=\"text_11\">\r\n      <!-- CheckInCode -->\r\n      <defs>\r\n       <path d=\"M 54.890625 33.015625 \r\nL 54.890625 0 \r\nL 45.90625 0 \r\nL 45.90625 32.71875 \r\nQ 45.90625 40.484375 42.875 44.328125 \r\nQ 39.84375 48.1875 33.796875 48.1875 \r\nQ 26.515625 48.1875 22.3125 43.546875 \r\nQ 18.109375 38.921875 18.109375 30.90625 \r\nL 18.109375 0 \r\nL 9.078125 0 \r\nL 9.078125 75.984375 \r\nL 18.109375 75.984375 \r\nL 18.109375 46.1875 \r\nQ 21.34375 51.125 25.703125 53.5625 \r\nQ 30.078125 56 35.796875 56 \r\nQ 45.21875 56 50.046875 50.171875 \r\nQ 54.890625 44.34375 54.890625 33.015625 \r\nz\r\n\" id=\"DejaVuSans-104\"/>\r\n       <path d=\"M 48.78125 52.59375 \r\nL 48.78125 44.1875 \r\nQ 44.96875 46.296875 41.140625 47.34375 \r\nQ 37.3125 48.390625 33.40625 48.390625 \r\nQ 24.65625 48.390625 19.8125 42.84375 \r\nQ 14.984375 37.3125 14.984375 27.296875 \r\nQ 14.984375 17.28125 19.8125 11.734375 \r\nQ 24.65625 6.203125 33.40625 6.203125 \r\nQ 37.3125 6.203125 41.140625 7.25 \r\nQ 44.96875 8.296875 48.78125 10.40625 \r\nL 48.78125 2.09375 \r\nQ 45.015625 0.34375 40.984375 -0.53125 \r\nQ 36.96875 -1.421875 32.421875 -1.421875 \r\nQ 20.0625 -1.421875 12.78125 6.34375 \r\nQ 5.515625 14.109375 5.515625 27.296875 \r\nQ 5.515625 40.671875 12.859375 48.328125 \r\nQ 20.21875 56 33.015625 56 \r\nQ 37.15625 56 41.109375 55.140625 \r\nQ 45.0625 54.296875 48.78125 52.59375 \r\nz\r\n\" id=\"DejaVuSans-99\"/>\r\n       <path d=\"M 9.078125 75.984375 \r\nL 18.109375 75.984375 \r\nL 18.109375 31.109375 \r\nL 44.921875 54.6875 \r\nL 56.390625 54.6875 \r\nL 27.390625 29.109375 \r\nL 57.625 0 \r\nL 45.90625 0 \r\nL 18.109375 26.703125 \r\nL 18.109375 0 \r\nL 9.078125 0 \r\nz\r\n\" id=\"DejaVuSans-107\"/>\r\n       <path d=\"M 9.8125 72.90625 \r\nL 19.671875 72.90625 \r\nL 19.671875 0 \r\nL 9.8125 0 \r\nz\r\n\" id=\"DejaVuSans-73\"/>\r\n      </defs>\r\n      <g transform=\"translate(268.818088 301.092344)rotate(-90)scale(0.1 -0.1)\">\r\n       <use xlink:href=\"#DejaVuSans-67\"/>\r\n       <use x=\"69.824219\" xlink:href=\"#DejaVuSans-104\"/>\r\n       <use x=\"133.203125\" xlink:href=\"#DejaVuSans-101\"/>\r\n       <use x=\"194.726562\" xlink:href=\"#DejaVuSans-99\"/>\r\n       <use x=\"249.707031\" xlink:href=\"#DejaVuSans-107\"/>\r\n       <use x=\"307.617188\" xlink:href=\"#DejaVuSans-73\"/>\r\n       <use x=\"337.109375\" xlink:href=\"#DejaVuSans-110\"/>\r\n       <use x=\"400.488281\" xlink:href=\"#DejaVuSans-67\"/>\r\n       <use x=\"470.3125\" xlink:href=\"#DejaVuSans-111\"/>\r\n       <use x=\"531.494141\" xlink:href=\"#DejaVuSans-100\"/>\r\n       <use x=\"594.970703\" xlink:href=\"#DejaVuSans-101\"/>\r\n      </g>\r\n     </g>\r\n    </g>\r\n    <g id=\"xtick_12\">\r\n     <g id=\"line2d_12\">\r\n      <g>\r\n       <use style=\"stroke:#000000;stroke-width:0.8;\" x=\"281.814007\" xlink:href=\"#mebfcb64321\" y=\"228.439219\"/>\r\n      </g>\r\n     </g>\r\n     <g id=\"text_12\">\r\n      <!-- Age -->\r\n      <g transform=\"translate(284.573382 254.781406)rotate(-90)scale(0.1 -0.1)\">\r\n       <use xlink:href=\"#DejaVuSans-65\"/>\r\n       <use x=\"68.408203\" xlink:href=\"#DejaVuSans-103\"/>\r\n       <use x=\"131.884766\" xlink:href=\"#DejaVuSans-101\"/>\r\n      </g>\r\n     </g>\r\n    </g>\r\n    <g id=\"xtick_13\">\r\n     <g id=\"line2d_13\">\r\n      <g>\r\n       <use style=\"stroke:#000000;stroke-width:0.8;\" x=\"297.569301\" xlink:href=\"#mebfcb64321\" y=\"228.439219\"/>\r\n      </g>\r\n     </g>\r\n     <g id=\"text_13\">\r\n      <!-- zip_code -->\r\n      <g transform=\"translate(300.189614 278.932969)rotate(-90)scale(0.1 -0.1)\">\r\n       <use xlink:href=\"#DejaVuSans-122\"/>\r\n       <use x=\"52.490234\" xlink:href=\"#DejaVuSans-105\"/>\r\n       <use x=\"80.273438\" xlink:href=\"#DejaVuSans-112\"/>\r\n       <use x=\"143.75\" xlink:href=\"#DejaVuSans-95\"/>\r\n       <use x=\"193.75\" xlink:href=\"#DejaVuSans-99\"/>\r\n       <use x=\"248.730469\" xlink:href=\"#DejaVuSans-111\"/>\r\n       <use x=\"309.912109\" xlink:href=\"#DejaVuSans-100\"/>\r\n       <use x=\"373.388672\" xlink:href=\"#DejaVuSans-101\"/>\r\n      </g>\r\n     </g>\r\n    </g>\r\n    <g id=\"xtick_14\">\r\n     <g id=\"line2d_14\">\r\n      <g>\r\n       <use style=\"stroke:#000000;stroke-width:0.8;\" x=\"313.324596\" xlink:href=\"#mebfcb64321\" y=\"228.439219\"/>\r\n      </g>\r\n     </g>\r\n     <g id=\"text_14\">\r\n      <!-- dti -->\r\n      <g transform=\"translate(316.083971 248.486094)rotate(-90)scale(0.1 -0.1)\">\r\n       <use xlink:href=\"#DejaVuSans-100\"/>\r\n       <use x=\"63.476562\" xlink:href=\"#DejaVuSans-116\"/>\r\n       <use x=\"102.685547\" xlink:href=\"#DejaVuSans-105\"/>\r\n      </g>\r\n     </g>\r\n    </g>\r\n    <g id=\"xtick_15\">\r\n     <g id=\"line2d_15\">\r\n      <g>\r\n       <use style=\"stroke:#000000;stroke-width:0.8;\" x=\"329.07989\" xlink:href=\"#mebfcb64321\" y=\"228.439219\"/>\r\n      </g>\r\n     </g>\r\n     <g id=\"text_15\">\r\n      <!-- last_pymnt_amnt -->\r\n      <defs>\r\n       <path d=\"M 9.421875 75.984375 \r\nL 18.40625 75.984375 \r\nL 18.40625 0 \r\nL 9.421875 0 \r\nz\r\n\" id=\"DejaVuSans-108\"/>\r\n      </defs>\r\n      <g transform=\"translate(331.700202 321.867344)rotate(-90)scale(0.1 -0.1)\">\r\n       <use xlink:href=\"#DejaVuSans-108\"/>\r\n       <use x=\"27.783203\" xlink:href=\"#DejaVuSans-97\"/>\r\n       <use x=\"89.0625\" xlink:href=\"#DejaVuSans-115\"/>\r\n       <use x=\"141.162109\" xlink:href=\"#DejaVuSans-116\"/>\r\n       <use x=\"180.371094\" xlink:href=\"#DejaVuSans-95\"/>\r\n       <use x=\"230.371094\" xlink:href=\"#DejaVuSans-112\"/>\r\n       <use x=\"293.847656\" xlink:href=\"#DejaVuSans-121\"/>\r\n       <use x=\"353.027344\" xlink:href=\"#DejaVuSans-109\"/>\r\n       <use x=\"450.439453\" xlink:href=\"#DejaVuSans-110\"/>\r\n       <use x=\"513.818359\" xlink:href=\"#DejaVuSans-116\"/>\r\n       <use x=\"553.027344\" xlink:href=\"#DejaVuSans-95\"/>\r\n       <use x=\"603.027344\" xlink:href=\"#DejaVuSans-97\"/>\r\n       <use x=\"664.306641\" xlink:href=\"#DejaVuSans-109\"/>\r\n       <use x=\"761.71875\" xlink:href=\"#DejaVuSans-110\"/>\r\n       <use x=\"825.097656\" xlink:href=\"#DejaVuSans-116\"/>\r\n      </g>\r\n     </g>\r\n    </g>\r\n    <g id=\"xtick_16\">\r\n     <g id=\"line2d_16\">\r\n      <g>\r\n       <use style=\"stroke:#000000;stroke-width:0.8;\" x=\"344.835184\" xlink:href=\"#mebfcb64321\" y=\"228.439219\"/>\r\n      </g>\r\n     </g>\r\n     <g id=\"text_16\">\r\n      <!-- skills y/n -->\r\n      <defs>\r\n       <path d=\"M 25.390625 72.90625 \r\nL 33.6875 72.90625 \r\nL 8.296875 -9.28125 \r\nL 0 -9.28125 \r\nz\r\n\" id=\"DejaVuSans-47\"/>\r\n      </defs>\r\n      <g transform=\"translate(347.594559 278.786094)rotate(-90)scale(0.1 -0.1)\">\r\n       <use xlink:href=\"#DejaVuSans-115\"/>\r\n       <use x=\"52.099609\" xlink:href=\"#DejaVuSans-107\"/>\r\n       <use x=\"110.009766\" xlink:href=\"#DejaVuSans-105\"/>\r\n       <use x=\"137.792969\" xlink:href=\"#DejaVuSans-108\"/>\r\n       <use x=\"165.576172\" xlink:href=\"#DejaVuSans-108\"/>\r\n       <use x=\"193.359375\" xlink:href=\"#DejaVuSans-115\"/>\r\n       <use x=\"245.458984\" xlink:href=\"#DejaVuSans-32\"/>\r\n       <use x=\"277.246094\" xlink:href=\"#DejaVuSans-121\"/>\r\n       <use x=\"336.425781\" xlink:href=\"#DejaVuSans-47\"/>\r\n       <use x=\"370.117188\" xlink:href=\"#DejaVuSans-110\"/>\r\n      </g>\r\n     </g>\r\n    </g>\r\n    <g id=\"xtick_17\">\r\n     <g id=\"line2d_17\">\r\n      <g>\r\n       <use style=\"stroke:#000000;stroke-width:0.8;\" x=\"360.590478\" xlink:href=\"#mebfcb64321\" y=\"228.439219\"/>\r\n      </g>\r\n     </g>\r\n     <g id=\"text_17\">\r\n      <!-- hrs -->\r\n      <g transform=\"translate(363.349853 251.097031)rotate(-90)scale(0.1 -0.1)\">\r\n       <use xlink:href=\"#DejaVuSans-104\"/>\r\n       <use x=\"63.378906\" xlink:href=\"#DejaVuSans-114\"/>\r\n       <use x=\"104.492188\" xlink:href=\"#DejaVuSans-115\"/>\r\n      </g>\r\n     </g>\r\n    </g>\r\n   </g>\r\n   <g id=\"matplotlib.axis_2\">\r\n    <g id=\"ytick_1\">\r\n     <g id=\"line2d_18\">\r\n      <defs>\r\n       <path d=\"M 0 0 \r\nL -3.5 0 \r\n\" id=\"mb2d2e1ce63\" style=\"stroke:#000000;stroke-width:0.8;\"/>\r\n      </defs>\r\n      <g>\r\n       <use style=\"stroke:#000000;stroke-width:0.8;\" x=\"100.628125\" xlink:href=\"#mb2d2e1ce63\" y=\"17.394513\"/>\r\n      </g>\r\n     </g>\r\n     <g id=\"text_18\">\r\n      <!-- id -->\r\n      <g transform=\"translate(84.501563 21.193732)scale(0.1 -0.1)\">\r\n       <use xlink:href=\"#DejaVuSans-105\"/>\r\n       <use x=\"27.783203\" xlink:href=\"#DejaVuSans-100\"/>\r\n      </g>\r\n     </g>\r\n    </g>\r\n    <g id=\"ytick_2\">\r\n     <g id=\"line2d_19\">\r\n      <g>\r\n       <use style=\"stroke:#000000;stroke-width:0.8;\" x=\"100.628125\" xlink:href=\"#mb2d2e1ce63\" y=\"30.185101\"/>\r\n      </g>\r\n     </g>\r\n     <g id=\"text_19\">\r\n      <!-- Target A -->\r\n      <g transform=\"translate(52.665625 33.98432)scale(0.1 -0.1)\">\r\n       <use xlink:href=\"#DejaVuSans-84\"/>\r\n       <use x=\"44.583984\" xlink:href=\"#DejaVuSans-97\"/>\r\n       <use x=\"105.863281\" xlink:href=\"#DejaVuSans-114\"/>\r\n       <use x=\"145.226562\" xlink:href=\"#DejaVuSans-103\"/>\r\n       <use x=\"208.703125\" xlink:href=\"#DejaVuSans-101\"/>\r\n       <use x=\"270.226562\" xlink:href=\"#DejaVuSans-116\"/>\r\n       <use x=\"309.435547\" xlink:href=\"#DejaVuSans-32\"/>\r\n       <use x=\"341.222656\" xlink:href=\"#DejaVuSans-65\"/>\r\n      </g>\r\n     </g>\r\n    </g>\r\n    <g id=\"ytick_3\">\r\n     <g id=\"line2d_20\">\r\n      <g>\r\n       <use style=\"stroke:#000000;stroke-width:0.8;\" x=\"100.628125\" xlink:href=\"#mb2d2e1ce63\" y=\"42.975689\"/>\r\n      </g>\r\n     </g>\r\n     <g id=\"text_20\">\r\n      <!-- Target B -->\r\n      <g transform=\"translate(52.645313 46.774908)scale(0.1 -0.1)\">\r\n       <use xlink:href=\"#DejaVuSans-84\"/>\r\n       <use x=\"44.583984\" xlink:href=\"#DejaVuSans-97\"/>\r\n       <use x=\"105.863281\" xlink:href=\"#DejaVuSans-114\"/>\r\n       <use x=\"145.226562\" xlink:href=\"#DejaVuSans-103\"/>\r\n       <use x=\"208.703125\" xlink:href=\"#DejaVuSans-101\"/>\r\n       <use x=\"270.226562\" xlink:href=\"#DejaVuSans-116\"/>\r\n       <use x=\"309.435547\" xlink:href=\"#DejaVuSans-32\"/>\r\n       <use x=\"341.222656\" xlink:href=\"#DejaVuSans-66\"/>\r\n      </g>\r\n     </g>\r\n    </g>\r\n    <g id=\"ytick_4\">\r\n     <g id=\"line2d_21\">\r\n      <g>\r\n       <use style=\"stroke:#000000;stroke-width:0.8;\" x=\"100.628125\" xlink:href=\"#mb2d2e1ce63\" y=\"55.766278\"/>\r\n      </g>\r\n     </g>\r\n     <g id=\"text_21\">\r\n      <!-- LOAN_AMT -->\r\n      <g transform=\"translate(39.823438 59.477215)scale(0.1 -0.1)\">\r\n       <use xlink:href=\"#DejaVuSans-76\"/>\r\n       <use x=\"52.087891\" xlink:href=\"#DejaVuSans-79\"/>\r\n       <use x=\"129.048828\" xlink:href=\"#DejaVuSans-65\"/>\r\n       <use x=\"197.457031\" xlink:href=\"#DejaVuSans-78\"/>\r\n       <use x=\"272.261719\" xlink:href=\"#DejaVuSans-95\"/>\r\n       <use x=\"322.261719\" xlink:href=\"#DejaVuSans-65\"/>\r\n       <use x=\"390.669922\" xlink:href=\"#DejaVuSans-77\"/>\r\n       <use x=\"476.949219\" xlink:href=\"#DejaVuSans-84\"/>\r\n      </g>\r\n     </g>\r\n    </g>\r\n    <g id=\"ytick_5\">\r\n     <g id=\"line2d_22\">\r\n      <g>\r\n       <use style=\"stroke:#000000;stroke-width:0.8;\" x=\"100.628125\" xlink:href=\"#mb2d2e1ce63\" y=\"68.556866\"/>\r\n      </g>\r\n     </g>\r\n     <g id=\"text_22\">\r\n      <!-- CompanySize -->\r\n      <g transform=\"translate(25.525 72.356085)scale(0.1 -0.1)\">\r\n       <use xlink:href=\"#DejaVuSans-67\"/>\r\n       <use x=\"69.824219\" xlink:href=\"#DejaVuSans-111\"/>\r\n       <use x=\"131.005859\" xlink:href=\"#DejaVuSans-109\"/>\r\n       <use x=\"228.417969\" xlink:href=\"#DejaVuSans-112\"/>\r\n       <use x=\"291.894531\" xlink:href=\"#DejaVuSans-97\"/>\r\n       <use x=\"353.173828\" xlink:href=\"#DejaVuSans-110\"/>\r\n       <use x=\"416.552734\" xlink:href=\"#DejaVuSans-121\"/>\r\n       <use x=\"475.732422\" xlink:href=\"#DejaVuSans-83\"/>\r\n       <use x=\"539.208984\" xlink:href=\"#DejaVuSans-105\"/>\r\n       <use x=\"566.992188\" xlink:href=\"#DejaVuSans-122\"/>\r\n       <use x=\"619.482422\" xlink:href=\"#DejaVuSans-101\"/>\r\n      </g>\r\n     </g>\r\n    </g>\r\n    <g id=\"ytick_6\">\r\n     <g id=\"line2d_23\">\r\n      <g>\r\n       <use style=\"stroke:#000000;stroke-width:0.8;\" x=\"100.628125\" xlink:href=\"#mb2d2e1ce63\" y=\"81.347454\"/>\r\n      </g>\r\n     </g>\r\n     <g id=\"text_23\">\r\n      <!-- YearsCoding -->\r\n      <g transform=\"translate(32.329688 85.146673)scale(0.1 -0.1)\">\r\n       <use xlink:href=\"#DejaVuSans-89\"/>\r\n       <use x=\"47.833984\" xlink:href=\"#DejaVuSans-101\"/>\r\n       <use x=\"109.357422\" xlink:href=\"#DejaVuSans-97\"/>\r\n       <use x=\"170.636719\" xlink:href=\"#DejaVuSans-114\"/>\r\n       <use x=\"211.75\" xlink:href=\"#DejaVuSans-115\"/>\r\n       <use x=\"263.849609\" xlink:href=\"#DejaVuSans-67\"/>\r\n       <use x=\"333.673828\" xlink:href=\"#DejaVuSans-111\"/>\r\n       <use x=\"394.855469\" xlink:href=\"#DejaVuSans-100\"/>\r\n       <use x=\"458.332031\" xlink:href=\"#DejaVuSans-105\"/>\r\n       <use x=\"486.115234\" xlink:href=\"#DejaVuSans-110\"/>\r\n       <use x=\"549.494141\" xlink:href=\"#DejaVuSans-103\"/>\r\n      </g>\r\n     </g>\r\n    </g>\r\n    <g id=\"ytick_7\">\r\n     <g id=\"line2d_24\">\r\n      <g>\r\n       <use style=\"stroke:#000000;stroke-width:0.8;\" x=\"100.628125\" xlink:href=\"#mb2d2e1ce63\" y=\"94.138042\"/>\r\n      </g>\r\n     </g>\r\n     <g id=\"text_24\">\r\n      <!-- YearsCodingProf -->\r\n      <g transform=\"translate(12.95 97.937261)scale(0.1 -0.1)\">\r\n       <use xlink:href=\"#DejaVuSans-89\"/>\r\n       <use x=\"47.833984\" xlink:href=\"#DejaVuSans-101\"/>\r\n       <use x=\"109.357422\" xlink:href=\"#DejaVuSans-97\"/>\r\n       <use x=\"170.636719\" xlink:href=\"#DejaVuSans-114\"/>\r\n       <use x=\"211.75\" xlink:href=\"#DejaVuSans-115\"/>\r\n       <use x=\"263.849609\" xlink:href=\"#DejaVuSans-67\"/>\r\n       <use x=\"333.673828\" xlink:href=\"#DejaVuSans-111\"/>\r\n       <use x=\"394.855469\" xlink:href=\"#DejaVuSans-100\"/>\r\n       <use x=\"458.332031\" xlink:href=\"#DejaVuSans-105\"/>\r\n       <use x=\"486.115234\" xlink:href=\"#DejaVuSans-110\"/>\r\n       <use x=\"549.494141\" xlink:href=\"#DejaVuSans-103\"/>\r\n       <use x=\"612.970703\" xlink:href=\"#DejaVuSans-80\"/>\r\n       <use x=\"671.523438\" xlink:href=\"#DejaVuSans-114\"/>\r\n       <use x=\"710.386719\" xlink:href=\"#DejaVuSans-111\"/>\r\n       <use x=\"771.568359\" xlink:href=\"#DejaVuSans-102\"/>\r\n      </g>\r\n     </g>\r\n    </g>\r\n    <g id=\"ytick_8\">\r\n     <g id=\"line2d_25\">\r\n      <g>\r\n       <use style=\"stroke:#000000;stroke-width:0.8;\" x=\"100.628125\" xlink:href=\"#mb2d2e1ce63\" y=\"106.928631\"/>\r\n      </g>\r\n     </g>\r\n     <g id=\"text_25\">\r\n      <!-- AgreeDisagree1 -->\r\n      <g transform=\"translate(13.528125 110.727849)scale(0.1 -0.1)\">\r\n       <use xlink:href=\"#DejaVuSans-65\"/>\r\n       <use x=\"68.408203\" xlink:href=\"#DejaVuSans-103\"/>\r\n       <use x=\"131.884766\" xlink:href=\"#DejaVuSans-114\"/>\r\n       <use x=\"170.748047\" xlink:href=\"#DejaVuSans-101\"/>\r\n       <use x=\"232.271484\" xlink:href=\"#DejaVuSans-101\"/>\r\n       <use x=\"293.794922\" xlink:href=\"#DejaVuSans-68\"/>\r\n       <use x=\"370.796875\" xlink:href=\"#DejaVuSans-105\"/>\r\n       <use x=\"398.580078\" xlink:href=\"#DejaVuSans-115\"/>\r\n       <use x=\"450.679688\" xlink:href=\"#DejaVuSans-97\"/>\r\n       <use x=\"511.958984\" xlink:href=\"#DejaVuSans-103\"/>\r\n       <use x=\"575.435547\" xlink:href=\"#DejaVuSans-114\"/>\r\n       <use x=\"614.298828\" xlink:href=\"#DejaVuSans-101\"/>\r\n       <use x=\"675.822266\" xlink:href=\"#DejaVuSans-101\"/>\r\n       <use x=\"737.345703\" xlink:href=\"#DejaVuSans-49\"/>\r\n      </g>\r\n     </g>\r\n    </g>\r\n    <g id=\"ytick_9\">\r\n     <g id=\"line2d_26\">\r\n      <g>\r\n       <use style=\"stroke:#000000;stroke-width:0.8;\" x=\"100.628125\" xlink:href=\"#mb2d2e1ce63\" y=\"119.719219\"/>\r\n      </g>\r\n     </g>\r\n     <g id=\"text_26\">\r\n      <!-- AgreeDisagree2 -->\r\n      <g transform=\"translate(13.528125 123.518437)scale(0.1 -0.1)\">\r\n       <use xlink:href=\"#DejaVuSans-65\"/>\r\n       <use x=\"68.408203\" xlink:href=\"#DejaVuSans-103\"/>\r\n       <use x=\"131.884766\" xlink:href=\"#DejaVuSans-114\"/>\r\n       <use x=\"170.748047\" xlink:href=\"#DejaVuSans-101\"/>\r\n       <use x=\"232.271484\" xlink:href=\"#DejaVuSans-101\"/>\r\n       <use x=\"293.794922\" xlink:href=\"#DejaVuSans-68\"/>\r\n       <use x=\"370.796875\" xlink:href=\"#DejaVuSans-105\"/>\r\n       <use x=\"398.580078\" xlink:href=\"#DejaVuSans-115\"/>\r\n       <use x=\"450.679688\" xlink:href=\"#DejaVuSans-97\"/>\r\n       <use x=\"511.958984\" xlink:href=\"#DejaVuSans-103\"/>\r\n       <use x=\"575.435547\" xlink:href=\"#DejaVuSans-114\"/>\r\n       <use x=\"614.298828\" xlink:href=\"#DejaVuSans-101\"/>\r\n       <use x=\"675.822266\" xlink:href=\"#DejaVuSans-101\"/>\r\n       <use x=\"737.345703\" xlink:href=\"#DejaVuSans-50\"/>\r\n      </g>\r\n     </g>\r\n    </g>\r\n    <g id=\"ytick_10\">\r\n     <g id=\"line2d_27\">\r\n      <g>\r\n       <use style=\"stroke:#000000;stroke-width:0.8;\" x=\"100.628125\" xlink:href=\"#mb2d2e1ce63\" y=\"132.509807\"/>\r\n      </g>\r\n     </g>\r\n     <g id=\"text_27\">\r\n      <!-- AgreeDisagree3 -->\r\n      <g transform=\"translate(13.528125 136.309026)scale(0.1 -0.1)\">\r\n       <use xlink:href=\"#DejaVuSans-65\"/>\r\n       <use x=\"68.408203\" xlink:href=\"#DejaVuSans-103\"/>\r\n       <use x=\"131.884766\" xlink:href=\"#DejaVuSans-114\"/>\r\n       <use x=\"170.748047\" xlink:href=\"#DejaVuSans-101\"/>\r\n       <use x=\"232.271484\" xlink:href=\"#DejaVuSans-101\"/>\r\n       <use x=\"293.794922\" xlink:href=\"#DejaVuSans-68\"/>\r\n       <use x=\"370.796875\" xlink:href=\"#DejaVuSans-105\"/>\r\n       <use x=\"398.580078\" xlink:href=\"#DejaVuSans-115\"/>\r\n       <use x=\"450.679688\" xlink:href=\"#DejaVuSans-97\"/>\r\n       <use x=\"511.958984\" xlink:href=\"#DejaVuSans-103\"/>\r\n       <use x=\"575.435547\" xlink:href=\"#DejaVuSans-114\"/>\r\n       <use x=\"614.298828\" xlink:href=\"#DejaVuSans-101\"/>\r\n       <use x=\"675.822266\" xlink:href=\"#DejaVuSans-101\"/>\r\n       <use x=\"737.345703\" xlink:href=\"#DejaVuSans-51\"/>\r\n      </g>\r\n     </g>\r\n    </g>\r\n    <g id=\"ytick_11\">\r\n     <g id=\"line2d_28\">\r\n      <g>\r\n       <use style=\"stroke:#000000;stroke-width:0.8;\" x=\"100.628125\" xlink:href=\"#mb2d2e1ce63\" y=\"145.300395\"/>\r\n      </g>\r\n     </g>\r\n     <g id=\"text_28\">\r\n      <!-- CheckInCode -->\r\n      <g transform=\"translate(27.975 149.099614)scale(0.1 -0.1)\">\r\n       <use xlink:href=\"#DejaVuSans-67\"/>\r\n       <use x=\"69.824219\" xlink:href=\"#DejaVuSans-104\"/>\r\n       <use x=\"133.203125\" xlink:href=\"#DejaVuSans-101\"/>\r\n       <use x=\"194.726562\" xlink:href=\"#DejaVuSans-99\"/>\r\n       <use x=\"249.707031\" xlink:href=\"#DejaVuSans-107\"/>\r\n       <use x=\"307.617188\" xlink:href=\"#DejaVuSans-73\"/>\r\n       <use x=\"337.109375\" xlink:href=\"#DejaVuSans-110\"/>\r\n       <use x=\"400.488281\" xlink:href=\"#DejaVuSans-67\"/>\r\n       <use x=\"470.3125\" xlink:href=\"#DejaVuSans-111\"/>\r\n       <use x=\"531.494141\" xlink:href=\"#DejaVuSans-100\"/>\r\n       <use x=\"594.970703\" xlink:href=\"#DejaVuSans-101\"/>\r\n      </g>\r\n     </g>\r\n    </g>\r\n    <g id=\"ytick_12\">\r\n     <g id=\"line2d_29\">\r\n      <g>\r\n       <use style=\"stroke:#000000;stroke-width:0.8;\" x=\"100.628125\" xlink:href=\"#mb2d2e1ce63\" y=\"158.090983\"/>\r\n      </g>\r\n     </g>\r\n     <g id=\"text_29\">\r\n      <!-- Age -->\r\n      <g transform=\"translate(74.285938 161.890202)scale(0.1 -0.1)\">\r\n       <use xlink:href=\"#DejaVuSans-65\"/>\r\n       <use x=\"68.408203\" xlink:href=\"#DejaVuSans-103\"/>\r\n       <use x=\"131.884766\" xlink:href=\"#DejaVuSans-101\"/>\r\n      </g>\r\n     </g>\r\n    </g>\r\n    <g id=\"ytick_13\">\r\n     <g id=\"line2d_30\">\r\n      <g>\r\n       <use style=\"stroke:#000000;stroke-width:0.8;\" x=\"100.628125\" xlink:href=\"#mb2d2e1ce63\" y=\"170.881572\"/>\r\n      </g>\r\n     </g>\r\n     <g id=\"text_30\">\r\n      <!-- zip_code -->\r\n      <g transform=\"translate(50.134375 174.68079)scale(0.1 -0.1)\">\r\n       <use xlink:href=\"#DejaVuSans-122\"/>\r\n       <use x=\"52.490234\" xlink:href=\"#DejaVuSans-105\"/>\r\n       <use x=\"80.273438\" xlink:href=\"#DejaVuSans-112\"/>\r\n       <use x=\"143.75\" xlink:href=\"#DejaVuSans-95\"/>\r\n       <use x=\"193.75\" xlink:href=\"#DejaVuSans-99\"/>\r\n       <use x=\"248.730469\" xlink:href=\"#DejaVuSans-111\"/>\r\n       <use x=\"309.912109\" xlink:href=\"#DejaVuSans-100\"/>\r\n       <use x=\"373.388672\" xlink:href=\"#DejaVuSans-101\"/>\r\n      </g>\r\n     </g>\r\n    </g>\r\n    <g id=\"ytick_14\">\r\n     <g id=\"line2d_31\">\r\n      <g>\r\n       <use style=\"stroke:#000000;stroke-width:0.8;\" x=\"100.628125\" xlink:href=\"#mb2d2e1ce63\" y=\"183.67216\"/>\r\n      </g>\r\n     </g>\r\n     <g id=\"text_31\">\r\n      <!-- dti -->\r\n      <g transform=\"translate(80.58125 187.471379)scale(0.1 -0.1)\">\r\n       <use xlink:href=\"#DejaVuSans-100\"/>\r\n       <use x=\"63.476562\" xlink:href=\"#DejaVuSans-116\"/>\r\n       <use x=\"102.685547\" xlink:href=\"#DejaVuSans-105\"/>\r\n      </g>\r\n     </g>\r\n    </g>\r\n    <g id=\"ytick_15\">\r\n     <g id=\"line2d_32\">\r\n      <g>\r\n       <use style=\"stroke:#000000;stroke-width:0.8;\" x=\"100.628125\" xlink:href=\"#mb2d2e1ce63\" y=\"196.462748\"/>\r\n      </g>\r\n     </g>\r\n     <g id=\"text_32\">\r\n      <!-- last_pymnt_amnt -->\r\n      <g transform=\"translate(7.2 200.261967)scale(0.1 -0.1)\">\r\n       <use xlink:href=\"#DejaVuSans-108\"/>\r\n       <use x=\"27.783203\" xlink:href=\"#DejaVuSans-97\"/>\r\n       <use x=\"89.0625\" xlink:href=\"#DejaVuSans-115\"/>\r\n       <use x=\"141.162109\" xlink:href=\"#DejaVuSans-116\"/>\r\n       <use x=\"180.371094\" xlink:href=\"#DejaVuSans-95\"/>\r\n       <use x=\"230.371094\" xlink:href=\"#DejaVuSans-112\"/>\r\n       <use x=\"293.847656\" xlink:href=\"#DejaVuSans-121\"/>\r\n       <use x=\"353.027344\" xlink:href=\"#DejaVuSans-109\"/>\r\n       <use x=\"450.439453\" xlink:href=\"#DejaVuSans-110\"/>\r\n       <use x=\"513.818359\" xlink:href=\"#DejaVuSans-116\"/>\r\n       <use x=\"553.027344\" xlink:href=\"#DejaVuSans-95\"/>\r\n       <use x=\"603.027344\" xlink:href=\"#DejaVuSans-97\"/>\r\n       <use x=\"664.306641\" xlink:href=\"#DejaVuSans-109\"/>\r\n       <use x=\"761.71875\" xlink:href=\"#DejaVuSans-110\"/>\r\n       <use x=\"825.097656\" xlink:href=\"#DejaVuSans-116\"/>\r\n      </g>\r\n     </g>\r\n    </g>\r\n    <g id=\"ytick_16\">\r\n     <g id=\"line2d_33\">\r\n      <g>\r\n       <use style=\"stroke:#000000;stroke-width:0.8;\" x=\"100.628125\" xlink:href=\"#mb2d2e1ce63\" y=\"209.253336\"/>\r\n      </g>\r\n     </g>\r\n     <g id=\"text_33\">\r\n      <!-- skills y/n -->\r\n      <g transform=\"translate(50.28125 213.052555)scale(0.1 -0.1)\">\r\n       <use xlink:href=\"#DejaVuSans-115\"/>\r\n       <use x=\"52.099609\" xlink:href=\"#DejaVuSans-107\"/>\r\n       <use x=\"110.009766\" xlink:href=\"#DejaVuSans-105\"/>\r\n       <use x=\"137.792969\" xlink:href=\"#DejaVuSans-108\"/>\r\n       <use x=\"165.576172\" xlink:href=\"#DejaVuSans-108\"/>\r\n       <use x=\"193.359375\" xlink:href=\"#DejaVuSans-115\"/>\r\n       <use x=\"245.458984\" xlink:href=\"#DejaVuSans-32\"/>\r\n       <use x=\"277.246094\" xlink:href=\"#DejaVuSans-121\"/>\r\n       <use x=\"336.425781\" xlink:href=\"#DejaVuSans-47\"/>\r\n       <use x=\"370.117188\" xlink:href=\"#DejaVuSans-110\"/>\r\n      </g>\r\n     </g>\r\n    </g>\r\n    <g id=\"ytick_17\">\r\n     <g id=\"line2d_34\">\r\n      <g>\r\n       <use style=\"stroke:#000000;stroke-width:0.8;\" x=\"100.628125\" xlink:href=\"#mb2d2e1ce63\" y=\"222.043925\"/>\r\n      </g>\r\n     </g>\r\n     <g id=\"text_34\">\r\n      <!-- hrs -->\r\n      <g transform=\"translate(77.970313 225.843143)scale(0.1 -0.1)\">\r\n       <use xlink:href=\"#DejaVuSans-104\"/>\r\n       <use x=\"63.378906\" xlink:href=\"#DejaVuSans-114\"/>\r\n       <use x=\"104.492188\" xlink:href=\"#DejaVuSans-115\"/>\r\n      </g>\r\n     </g>\r\n    </g>\r\n   </g>\r\n  </g>\r\n  <g id=\"axes_2\">\r\n   <g id=\"patch_3\">\r\n    <path clip-path=\"url(#p1763fdeb9f)\" d=\"M 385.208125 228.439219 \r\nL 385.208125 227.589844 \r\nL 385.208125 11.848594 \r\nL 385.208125 10.999219 \r\nL 396.080125 10.999219 \r\nL 396.080125 11.848594 \r\nL 396.080125 227.589844 \r\nL 396.080125 228.439219 \r\nz\r\n\" style=\"fill:#ffffff;stroke:#ffffff;stroke-linejoin:miter;stroke-width:0.01;\"/>\r\n   </g>\r\n   <image height=\"217\" id=\"image3b4955cd87\" transform=\"scale(1 -1)translate(0 -217)\" width=\"11\" x=\"385\" xlink:href=\"data:image/png;base64,\r\niVBORw0KGgoAAAANSUhEUgAAAAsAAADZCAYAAAD2WsoCAAAABHNCSVQICAgIfAhkiAAAANZJREFUaIHtlkEKw0AMA+10W/K7/v8ngWaTXnOUDQatcM6DsSZisZt9bwO/YfZC2TD8LptMAssH3CLwh2MNEnUhGysG7PI/4S7/E5bvxooB64qkXX53v/GDagx48JrwvlOsQQLL25AP2DbSsLwN+YBtIw3L2+AI6HMGrq/NLnwNO88AfBxVk0lg+YBtIw3L25AP2DbSsLwN+YBtIwn77Q5fX36Z4acafqiVwrgLnp1JbMwIDBfDeALWrUGijsQGiboVbcj/7jr4F4FJni+SbpA8X13+LPwHSwWtzmVz8qkAAAAASUVORK5CYII=\" y=\"-11\"/>\r\n   <g id=\"matplotlib.axis_3\"/>\r\n   <g id=\"matplotlib.axis_4\">\r\n    <g id=\"ytick_18\">\r\n     <g id=\"line2d_35\">\r\n      <defs>\r\n       <path d=\"M 0 0 \r\nL 3.5 0 \r\n\" id=\"m028f091858\" style=\"stroke:#000000;stroke-width:0.8;\"/>\r\n      </defs>\r\n      <g>\r\n       <use style=\"stroke:#000000;stroke-width:0.8;\" x=\"396.080125\" xlink:href=\"#m028f091858\" y=\"218.584213\"/>\r\n      </g>\r\n     </g>\r\n     <g id=\"text_35\">\r\n      <!-- −0.2 -->\r\n      <defs>\r\n       <path d=\"M 10.59375 35.5 \r\nL 73.1875 35.5 \r\nL 73.1875 27.203125 \r\nL 10.59375 27.203125 \r\nz\r\n\" id=\"DejaVuSans-8722\"/>\r\n       <path d=\"M 31.78125 66.40625 \r\nQ 24.171875 66.40625 20.328125 58.90625 \r\nQ 16.5 51.421875 16.5 36.375 \r\nQ 16.5 21.390625 20.328125 13.890625 \r\nQ 24.171875 6.390625 31.78125 6.390625 \r\nQ 39.453125 6.390625 43.28125 13.890625 \r\nQ 47.125 21.390625 47.125 36.375 \r\nQ 47.125 51.421875 43.28125 58.90625 \r\nQ 39.453125 66.40625 31.78125 66.40625 \r\nz\r\nM 31.78125 74.21875 \r\nQ 44.046875 74.21875 50.515625 64.515625 \r\nQ 56.984375 54.828125 56.984375 36.375 \r\nQ 56.984375 17.96875 50.515625 8.265625 \r\nQ 44.046875 -1.421875 31.78125 -1.421875 \r\nQ 19.53125 -1.421875 13.0625 8.265625 \r\nQ 6.59375 17.96875 6.59375 36.375 \r\nQ 6.59375 54.828125 13.0625 64.515625 \r\nQ 19.53125 74.21875 31.78125 74.21875 \r\nz\r\n\" id=\"DejaVuSans-48\"/>\r\n       <path d=\"M 10.6875 12.40625 \r\nL 21 12.40625 \r\nL 21 0 \r\nL 10.6875 0 \r\nz\r\n\" id=\"DejaVuSans-46\"/>\r\n      </defs>\r\n      <g transform=\"translate(403.080125 222.383431)scale(0.1 -0.1)\">\r\n       <use xlink:href=\"#DejaVuSans-8722\"/>\r\n       <use x=\"83.789062\" xlink:href=\"#DejaVuSans-48\"/>\r\n       <use x=\"147.412109\" xlink:href=\"#DejaVuSans-46\"/>\r\n       <use x=\"179.199219\" xlink:href=\"#DejaVuSans-50\"/>\r\n      </g>\r\n     </g>\r\n    </g>\r\n    <g id=\"ytick_19\">\r\n     <g id=\"line2d_36\">\r\n      <g>\r\n       <use style=\"stroke:#000000;stroke-width:0.8;\" x=\"396.080125\" xlink:href=\"#m028f091858\" y=\"183.986714\"/>\r\n      </g>\r\n     </g>\r\n     <g id=\"text_36\">\r\n      <!-- 0.0 -->\r\n      <g transform=\"translate(403.080125 187.785932)scale(0.1 -0.1)\">\r\n       <use xlink:href=\"#DejaVuSans-48\"/>\r\n       <use x=\"63.623047\" xlink:href=\"#DejaVuSans-46\"/>\r\n       <use x=\"95.410156\" xlink:href=\"#DejaVuSans-48\"/>\r\n      </g>\r\n     </g>\r\n    </g>\r\n    <g id=\"ytick_20\">\r\n     <g id=\"line2d_37\">\r\n      <g>\r\n       <use style=\"stroke:#000000;stroke-width:0.8;\" x=\"396.080125\" xlink:href=\"#m028f091858\" y=\"149.389215\"/>\r\n      </g>\r\n     </g>\r\n     <g id=\"text_37\">\r\n      <!-- 0.2 -->\r\n      <g transform=\"translate(403.080125 153.188433)scale(0.1 -0.1)\">\r\n       <use xlink:href=\"#DejaVuSans-48\"/>\r\n       <use x=\"63.623047\" xlink:href=\"#DejaVuSans-46\"/>\r\n       <use x=\"95.410156\" xlink:href=\"#DejaVuSans-50\"/>\r\n      </g>\r\n     </g>\r\n    </g>\r\n    <g id=\"ytick_21\">\r\n     <g id=\"line2d_38\">\r\n      <g>\r\n       <use style=\"stroke:#000000;stroke-width:0.8;\" x=\"396.080125\" xlink:href=\"#m028f091858\" y=\"114.791716\"/>\r\n      </g>\r\n     </g>\r\n     <g id=\"text_38\">\r\n      <!-- 0.4 -->\r\n      <defs>\r\n       <path d=\"M 37.796875 64.3125 \r\nL 12.890625 25.390625 \r\nL 37.796875 25.390625 \r\nz\r\nM 35.203125 72.90625 \r\nL 47.609375 72.90625 \r\nL 47.609375 25.390625 \r\nL 58.015625 25.390625 \r\nL 58.015625 17.1875 \r\nL 47.609375 17.1875 \r\nL 47.609375 0 \r\nL 37.796875 0 \r\nL 37.796875 17.1875 \r\nL 4.890625 17.1875 \r\nL 4.890625 26.703125 \r\nz\r\n\" id=\"DejaVuSans-52\"/>\r\n      </defs>\r\n      <g transform=\"translate(403.080125 118.590934)scale(0.1 -0.1)\">\r\n       <use xlink:href=\"#DejaVuSans-48\"/>\r\n       <use x=\"63.623047\" xlink:href=\"#DejaVuSans-46\"/>\r\n       <use x=\"95.410156\" xlink:href=\"#DejaVuSans-52\"/>\r\n      </g>\r\n     </g>\r\n    </g>\r\n    <g id=\"ytick_22\">\r\n     <g id=\"line2d_39\">\r\n      <g>\r\n       <use style=\"stroke:#000000;stroke-width:0.8;\" x=\"396.080125\" xlink:href=\"#m028f091858\" y=\"80.194217\"/>\r\n      </g>\r\n     </g>\r\n     <g id=\"text_39\">\r\n      <!-- 0.6 -->\r\n      <defs>\r\n       <path d=\"M 33.015625 40.375 \r\nQ 26.375 40.375 22.484375 35.828125 \r\nQ 18.609375 31.296875 18.609375 23.390625 \r\nQ 18.609375 15.53125 22.484375 10.953125 \r\nQ 26.375 6.390625 33.015625 6.390625 \r\nQ 39.65625 6.390625 43.53125 10.953125 \r\nQ 47.40625 15.53125 47.40625 23.390625 \r\nQ 47.40625 31.296875 43.53125 35.828125 \r\nQ 39.65625 40.375 33.015625 40.375 \r\nz\r\nM 52.59375 71.296875 \r\nL 52.59375 62.3125 \r\nQ 48.875 64.0625 45.09375 64.984375 \r\nQ 41.3125 65.921875 37.59375 65.921875 \r\nQ 27.828125 65.921875 22.671875 59.328125 \r\nQ 17.53125 52.734375 16.796875 39.40625 \r\nQ 19.671875 43.65625 24.015625 45.921875 \r\nQ 28.375 48.1875 33.59375 48.1875 \r\nQ 44.578125 48.1875 50.953125 41.515625 \r\nQ 57.328125 34.859375 57.328125 23.390625 \r\nQ 57.328125 12.15625 50.6875 5.359375 \r\nQ 44.046875 -1.421875 33.015625 -1.421875 \r\nQ 20.359375 -1.421875 13.671875 8.265625 \r\nQ 6.984375 17.96875 6.984375 36.375 \r\nQ 6.984375 53.65625 15.1875 63.9375 \r\nQ 23.390625 74.21875 37.203125 74.21875 \r\nQ 40.921875 74.21875 44.703125 73.484375 \r\nQ 48.484375 72.75 52.59375 71.296875 \r\nz\r\n\" id=\"DejaVuSans-54\"/>\r\n      </defs>\r\n      <g transform=\"translate(403.080125 83.993435)scale(0.1 -0.1)\">\r\n       <use xlink:href=\"#DejaVuSans-48\"/>\r\n       <use x=\"63.623047\" xlink:href=\"#DejaVuSans-46\"/>\r\n       <use x=\"95.410156\" xlink:href=\"#DejaVuSans-54\"/>\r\n      </g>\r\n     </g>\r\n    </g>\r\n    <g id=\"ytick_23\">\r\n     <g id=\"line2d_40\">\r\n      <g>\r\n       <use style=\"stroke:#000000;stroke-width:0.8;\" x=\"396.080125\" xlink:href=\"#m028f091858\" y=\"45.596718\"/>\r\n      </g>\r\n     </g>\r\n     <g id=\"text_40\">\r\n      <!-- 0.8 -->\r\n      <defs>\r\n       <path d=\"M 31.78125 34.625 \r\nQ 24.75 34.625 20.71875 30.859375 \r\nQ 16.703125 27.09375 16.703125 20.515625 \r\nQ 16.703125 13.921875 20.71875 10.15625 \r\nQ 24.75 6.390625 31.78125 6.390625 \r\nQ 38.8125 6.390625 42.859375 10.171875 \r\nQ 46.921875 13.96875 46.921875 20.515625 \r\nQ 46.921875 27.09375 42.890625 30.859375 \r\nQ 38.875 34.625 31.78125 34.625 \r\nz\r\nM 21.921875 38.8125 \r\nQ 15.578125 40.375 12.03125 44.71875 \r\nQ 8.5 49.078125 8.5 55.328125 \r\nQ 8.5 64.0625 14.71875 69.140625 \r\nQ 20.953125 74.21875 31.78125 74.21875 \r\nQ 42.671875 74.21875 48.875 69.140625 \r\nQ 55.078125 64.0625 55.078125 55.328125 \r\nQ 55.078125 49.078125 51.53125 44.71875 \r\nQ 48 40.375 41.703125 38.8125 \r\nQ 48.828125 37.15625 52.796875 32.3125 \r\nQ 56.78125 27.484375 56.78125 20.515625 \r\nQ 56.78125 9.90625 50.3125 4.234375 \r\nQ 43.84375 -1.421875 31.78125 -1.421875 \r\nQ 19.734375 -1.421875 13.25 4.234375 \r\nQ 6.78125 9.90625 6.78125 20.515625 \r\nQ 6.78125 27.484375 10.78125 32.3125 \r\nQ 14.796875 37.15625 21.921875 38.8125 \r\nz\r\nM 18.3125 54.390625 \r\nQ 18.3125 48.734375 21.84375 45.5625 \r\nQ 25.390625 42.390625 31.78125 42.390625 \r\nQ 38.140625 42.390625 41.71875 45.5625 \r\nQ 45.3125 48.734375 45.3125 54.390625 \r\nQ 45.3125 60.0625 41.71875 63.234375 \r\nQ 38.140625 66.40625 31.78125 66.40625 \r\nQ 25.390625 66.40625 21.84375 63.234375 \r\nQ 18.3125 60.0625 18.3125 54.390625 \r\nz\r\n\" id=\"DejaVuSans-56\"/>\r\n      </defs>\r\n      <g transform=\"translate(403.080125 49.395936)scale(0.1 -0.1)\">\r\n       <use xlink:href=\"#DejaVuSans-48\"/>\r\n       <use x=\"63.623047\" xlink:href=\"#DejaVuSans-46\"/>\r\n       <use x=\"95.410156\" xlink:href=\"#DejaVuSans-56\"/>\r\n      </g>\r\n     </g>\r\n    </g>\r\n    <g id=\"ytick_24\">\r\n     <g id=\"line2d_41\">\r\n      <g>\r\n       <use style=\"stroke:#000000;stroke-width:0.8;\" x=\"396.080125\" xlink:href=\"#m028f091858\" y=\"10.999219\"/>\r\n      </g>\r\n     </g>\r\n     <g id=\"text_41\">\r\n      <!-- 1.0 -->\r\n      <g transform=\"translate(403.080125 14.798437)scale(0.1 -0.1)\">\r\n       <use xlink:href=\"#DejaVuSans-49\"/>\r\n       <use x=\"63.623047\" xlink:href=\"#DejaVuSans-46\"/>\r\n       <use x=\"95.410156\" xlink:href=\"#DejaVuSans-48\"/>\r\n      </g>\r\n     </g>\r\n    </g>\r\n   </g>\r\n   <g id=\"patch_4\">\r\n    <path d=\"M 385.208125 228.439219 \r\nL 385.208125 227.589844 \r\nL 385.208125 11.848594 \r\nL 385.208125 10.999219 \r\nL 396.080125 10.999219 \r\nL 396.080125 11.848594 \r\nL 396.080125 227.589844 \r\nL 396.080125 228.439219 \r\nz\r\n\" style=\"fill:none;\"/>\r\n   </g>\r\n  </g>\r\n </g>\r\n <defs>\r\n  <clipPath id=\"p64313b776f\">\r\n   <rect height=\"217.44\" width=\"267.84\" x=\"100.628125\" y=\"10.999219\"/>\r\n  </clipPath>\r\n  <clipPath id=\"p1763fdeb9f\">\r\n   <rect height=\"217.44\" width=\"10.872\" x=\"385.208125\" y=\"10.999219\"/>\r\n  </clipPath>\r\n </defs>\r\n</svg>\r\n",
      "image/png": "[encoded data removed]"
     },
     "metadata": {
      "needs_background": "light"
     }
    }
   ],
   "source": [
    "sns.heatmap(df.corr(), annot = False, cmap = 'seismic')"
   ]
  },
  {
   "cell_type": "code",
   "execution_count": 108,
   "metadata": {},
   "outputs": [
    {
     "output_type": "execute_result",
     "data": {
      "text/plain": [
       "                       id  Target A  Target B  LOAN_AMT  CompanySize  \\\n",
       "id               1.000000 -0.010424  0.017360  0.004329     0.011000   \n",
       "Target A        -0.010424  1.000000  0.007766 -0.005426     0.003971   \n",
       "Target B         0.017360  0.007766  1.000000 -0.053278     0.020110   \n",
       "LOAN_AMT         0.004329 -0.005426 -0.053278  1.000000     0.020405   \n",
       "CompanySize      0.011000  0.003971  0.020110  0.020405     1.000000   \n",
       "YearsCoding      0.005848 -0.011682  0.009649  0.007861     0.058738   \n",
       "YearsCodingProf  0.001767 -0.002411  0.009920  0.017916     0.024480   \n",
       "AgreeDisagree1  -0.004702 -0.022783 -0.008969 -0.019232     0.027598   \n",
       "AgreeDisagree2  -0.044869  0.014924  0.006678  0.018441    -0.002840   \n",
       "AgreeDisagree3  -0.002566  0.020445 -0.002937 -0.018539    -0.001338   \n",
       "CheckInCode     -0.011170 -0.010110 -0.016855  0.022896    -0.092466   \n",
       "Age              0.004059  0.007666  0.003313  0.010352     0.056996   \n",
       "zip_code         0.008035 -0.019511 -0.036506 -0.030630     0.009924   \n",
       "dti              0.037443  0.002491  0.001063  0.038297     0.017449   \n",
       "last_pymnt_amnt -0.021086  0.009170 -0.049296  0.435464    -0.004652   \n",
       "skills y/n       0.029560  0.195064  0.013663 -0.001761     0.005612   \n",
       "hrs             -0.014163 -0.004422  0.013196  0.002300    -0.023516   \n",
       "\n",
       "                 YearsCoding  YearsCodingProf  AgreeDisagree1  AgreeDisagree2  \\\n",
       "id                  0.005848         0.001767       -0.004702       -0.044869   \n",
       "Target A           -0.011682        -0.002411       -0.022783        0.014924   \n",
       "Target B            0.009649         0.009920       -0.008969        0.006678   \n",
       "LOAN_AMT            0.007861         0.017916       -0.019232        0.018441   \n",
       "CompanySize         0.058738         0.024480        0.027598       -0.002840   \n",
       "YearsCoding         1.000000         0.773309        0.118470       -0.098320   \n",
       "YearsCodingProf     0.773309         1.000000        0.163089       -0.086091   \n",
       "AgreeDisagree1      0.118470         0.163089        1.000000        0.031774   \n",
       "AgreeDisagree2     -0.098320        -0.086091        0.031774        1.000000   \n",
       "AgreeDisagree3     -0.240996        -0.256969       -0.164274        0.007267   \n",
       "CheckInCode        -0.008423         0.031439       -0.060701       -0.005813   \n",
       "Age                 0.789597         0.708721        0.126839       -0.097387   \n",
       "zip_code            0.012117         0.010364       -0.017777        0.042964   \n",
       "dti                -0.015270        -0.001102       -0.016239       -0.026928   \n",
       "last_pymnt_amnt    -0.023049        -0.016193       -0.011239       -0.003058   \n",
       "skills y/n          0.015687        -0.002557       -0.052742       -0.018533   \n",
       "hrs                -0.000008        -0.009149       -0.029578       -0.027016   \n",
       "\n",
       "                 AgreeDisagree3  CheckInCode       Age  zip_code       dti  \\\n",
       "id                    -0.002566    -0.011170  0.004059  0.008035  0.037443   \n",
       "Target A               0.020445    -0.010110  0.007666 -0.019511  0.002491   \n",
       "Target B              -0.002937    -0.016855  0.003313 -0.036506  0.001063   \n",
       "LOAN_AMT              -0.018539     0.022896  0.010352 -0.030630  0.038297   \n",
       "CompanySize           -0.001338    -0.092466  0.056996  0.009924  0.017449   \n",
       "YearsCoding           -0.240996    -0.008423  0.789597  0.012117 -0.015270   \n",
       "YearsCodingProf       -0.256969     0.031439  0.708721  0.010364 -0.001102   \n",
       "AgreeDisagree1        -0.164274    -0.060701  0.126839 -0.017777 -0.016239   \n",
       "AgreeDisagree2         0.007267    -0.005813 -0.097387  0.042964 -0.026928   \n",
       "AgreeDisagree3         1.000000    -0.022262 -0.175388 -0.016417  0.047640   \n",
       "CheckInCode           -0.022262     1.000000 -0.064323 -0.016572  0.024209   \n",
       "Age                   -0.175388    -0.064323  1.000000  0.004198 -0.004887   \n",
       "zip_code              -0.016417    -0.016572  0.004198  1.000000 -0.013662   \n",
       "dti                    0.047640     0.024209 -0.004887 -0.013662  1.000000   \n",
       "last_pymnt_amnt       -0.040142     0.046345 -0.032294  0.008957 -0.050584   \n",
       "skills y/n             0.030250     0.013445  0.031116 -0.017754 -0.010541   \n",
       "hrs                    0.030753    -0.027514  0.001782 -0.002673  0.014581   \n",
       "\n",
       "                 last_pymnt_amnt  skills y/n       hrs  \n",
       "id                     -0.021086    0.029560 -0.014163  \n",
       "Target A                0.009170    0.195064 -0.004422  \n",
       "Target B               -0.049296    0.013663  0.013196  \n",
       "LOAN_AMT                0.435464   -0.001761  0.002300  \n",
       "CompanySize            -0.004652    0.005612 -0.023516  \n",
       "YearsCoding            -0.023049    0.015687 -0.000008  \n",
       "YearsCodingProf        -0.016193   -0.002557 -0.009149  \n",
       "AgreeDisagree1         -0.011239   -0.052742 -0.029578  \n",
       "AgreeDisagree2         -0.003058   -0.018533 -0.027016  \n",
       "AgreeDisagree3         -0.040142    0.030250  0.030753  \n",
       "CheckInCode             0.046345    0.013445 -0.027514  \n",
       "Age                    -0.032294    0.031116  0.001782  \n",
       "zip_code                0.008957   -0.017754 -0.002673  \n",
       "dti                    -0.050584   -0.010541  0.014581  \n",
       "last_pymnt_amnt         1.000000    0.001421  0.005134  \n",
       "skills y/n              0.001421    1.000000  0.049944  \n",
       "hrs                     0.005134    0.049944  1.000000  "
      ],
      "text/html": "<div>\n<style scoped>\n    .dataframe tbody tr th:only-of-type {\n        vertical-align: middle;\n    }\n\n    .dataframe tbody tr th {\n        vertical-align: top;\n    }\n\n    .dataframe thead th {\n        text-align: right;\n    }\n</style>\n<table border=\"1\" class=\"dataframe\">\n  <thead>\n    <tr style=\"text-align: right;\">\n      <th></th>\n      <th>id</th>\n      <th>Target A</th>\n      <th>Target B</th>\n      <th>LOAN_AMT</th>\n      <th>CompanySize</th>\n      <th>YearsCoding</th>\n      <th>YearsCodingProf</th>\n      <th>AgreeDisagree1</th>\n      <th>AgreeDisagree2</th>\n      <th>AgreeDisagree3</th>\n      <th>CheckInCode</th>\n      <th>Age</th>\n      <th>zip_code</th>\n      <th>dti</th>\n      <th>last_pymnt_amnt</th>\n      <th>skills y/n</th>\n      <th>hrs</th>\n    </tr>\n  </thead>\n  <tbody>\n    <tr>\n      <th>id</th>\n      <td>1.000000</td>\n      <td>-0.010424</td>\n      <td>0.017360</td>\n      <td>0.004329</td>\n      <td>0.011000</td>\n      <td>0.005848</td>\n      <td>0.001767</td>\n      <td>-0.004702</td>\n      <td>-0.044869</td>\n      <td>-0.002566</td>\n      <td>-0.011170</td>\n      <td>0.004059</td>\n      <td>0.008035</td>\n      <td>0.037443</td>\n      <td>-0.021086</td>\n      <td>0.029560</td>\n      <td>-0.014163</td>\n    </tr>\n    <tr>\n      <th>Target A</th>\n      <td>-0.010424</td>\n      <td>1.000000</td>\n      <td>0.007766</td>\n      <td>-0.005426</td>\n      <td>0.003971</td>\n      <td>-0.011682</td>\n      <td>-0.002411</td>\n      <td>-0.022783</td>\n      <td>0.014924</td>\n      <td>0.020445</td>\n      <td>-0.010110</td>\n      <td>0.007666</td>\n      <td>-0.019511</td>\n      <td>0.002491</td>\n      <td>0.009170</td>\n      <td>0.195064</td>\n      <td>-0.004422</td>\n    </tr>\n    <tr>\n      <th>Target B</th>\n      <td>0.017360</td>\n      <td>0.007766</td>\n      <td>1.000000</td>\n      <td>-0.053278</td>\n      <td>0.020110</td>\n      <td>0.009649</td>\n      <td>0.009920</td>\n      <td>-0.008969</td>\n      <td>0.006678</td>\n      <td>-0.002937</td>\n      <td>-0.016855</td>\n      <td>0.003313</td>\n      <td>-0.036506</td>\n      <td>0.001063</td>\n      <td>-0.049296</td>\n      <td>0.013663</td>\n      <td>0.013196</td>\n    </tr>\n    <tr>\n      <th>LOAN_AMT</th>\n      <td>0.004329</td>\n      <td>-0.005426</td>\n      <td>-0.053278</td>\n      <td>1.000000</td>\n      <td>0.020405</td>\n      <td>0.007861</td>\n      <td>0.017916</td>\n      <td>-0.019232</td>\n      <td>0.018441</td>\n      <td>-0.018539</td>\n      <td>0.022896</td>\n      <td>0.010352</td>\n      <td>-0.030630</td>\n      <td>0.038297</td>\n      <td>0.435464</td>\n      <td>-0.001761</td>\n      <td>0.002300</td>\n    </tr>\n    <tr>\n      <th>CompanySize</th>\n      <td>0.011000</td>\n      <td>0.003971</td>\n      <td>0.020110</td>\n      <td>0.020405</td>\n      <td>1.000000</td>\n      <td>0.058738</td>\n      <td>0.024480</td>\n      <td>0.027598</td>\n      <td>-0.002840</td>\n      <td>-0.001338</td>\n      <td>-0.092466</td>\n      <td>0.056996</td>\n      <td>0.009924</td>\n      <td>0.017449</td>\n      <td>-0.004652</td>\n      <td>0.005612</td>\n      <td>-0.023516</td>\n    </tr>\n    <tr>\n      <th>YearsCoding</th>\n      <td>0.005848</td>\n      <td>-0.011682</td>\n      <td>0.009649</td>\n      <td>0.007861</td>\n      <td>0.058738</td>\n      <td>1.000000</td>\n      <td>0.773309</td>\n      <td>0.118470</td>\n      <td>-0.098320</td>\n      <td>-0.240996</td>\n      <td>-0.008423</td>\n      <td>0.789597</td>\n      <td>0.012117</td>\n      <td>-0.015270</td>\n      <td>-0.023049</td>\n      <td>0.015687</td>\n      <td>-0.000008</td>\n    </tr>\n    <tr>\n      <th>YearsCodingProf</th>\n      <td>0.001767</td>\n      <td>-0.002411</td>\n      <td>0.009920</td>\n      <td>0.017916</td>\n      <td>0.024480</td>\n      <td>0.773309</td>\n      <td>1.000000</td>\n      <td>0.163089</td>\n      <td>-0.086091</td>\n      <td>-0.256969</td>\n      <td>0.031439</td>\n      <td>0.708721</td>\n      <td>0.010364</td>\n      <td>-0.001102</td>\n      <td>-0.016193</td>\n      <td>-0.002557</td>\n      <td>-0.009149</td>\n    </tr>\n    <tr>\n      <th>AgreeDisagree1</th>\n      <td>-0.004702</td>\n      <td>-0.022783</td>\n      <td>-0.008969</td>\n      <td>-0.019232</td>\n      <td>0.027598</td>\n      <td>0.118470</td>\n      <td>0.163089</td>\n      <td>1.000000</td>\n      <td>0.031774</td>\n      <td>-0.164274</td>\n      <td>-0.060701</td>\n      <td>0.126839</td>\n      <td>-0.017777</td>\n      <td>-0.016239</td>\n      <td>-0.011239</td>\n      <td>-0.052742</td>\n      <td>-0.029578</td>\n    </tr>\n    <tr>\n      <th>AgreeDisagree2</th>\n      <td>-0.044869</td>\n      <td>0.014924</td>\n      <td>0.006678</td>\n      <td>0.018441</td>\n      <td>-0.002840</td>\n      <td>-0.098320</td>\n      <td>-0.086091</td>\n      <td>0.031774</td>\n      <td>1.000000</td>\n      <td>0.007267</td>\n      <td>-0.005813</td>\n      <td>-0.097387</td>\n      <td>0.042964</td>\n      <td>-0.026928</td>\n      <td>-0.003058</td>\n      <td>-0.018533</td>\n      <td>-0.027016</td>\n    </tr>\n    <tr>\n      <th>AgreeDisagree3</th>\n      <td>-0.002566</td>\n      <td>0.020445</td>\n      <td>-0.002937</td>\n      <td>-0.018539</td>\n      <td>-0.001338</td>\n      <td>-0.240996</td>\n      <td>-0.256969</td>\n      <td>-0.164274</td>\n      <td>0.007267</td>\n      <td>1.000000</td>\n      <td>-0.022262</td>\n      <td>-0.175388</td>\n      <td>-0.016417</td>\n      <td>0.047640</td>\n      <td>-0.040142</td>\n      <td>0.030250</td>\n      <td>0.030753</td>\n    </tr>\n    <tr>\n      <th>CheckInCode</th>\n      <td>-0.011170</td>\n      <td>-0.010110</td>\n      <td>-0.016855</td>\n      <td>0.022896</td>\n      <td>-0.092466</td>\n      <td>-0.008423</td>\n      <td>0.031439</td>\n      <td>-0.060701</td>\n      <td>-0.005813</td>\n      <td>-0.022262</td>\n      <td>1.000000</td>\n      <td>-0.064323</td>\n      <td>-0.016572</td>\n      <td>0.024209</td>\n      <td>0.046345</td>\n      <td>0.013445</td>\n      <td>-0.027514</td>\n    </tr>\n    <tr>\n      <th>Age</th>\n      <td>0.004059</td>\n      <td>0.007666</td>\n      <td>0.003313</td>\n      <td>0.010352</td>\n      <td>0.056996</td>\n      <td>0.789597</td>\n      <td>0.708721</td>\n      <td>0.126839</td>\n      <td>-0.097387</td>\n      <td>-0.175388</td>\n      <td>-0.064323</td>\n      <td>1.000000</td>\n      <td>0.004198</td>\n      <td>-0.004887</td>\n      <td>-0.032294</td>\n      <td>0.031116</td>\n      <td>0.001782</td>\n    </tr>\n    <tr>\n      <th>zip_code</th>\n      <td>0.008035</td>\n      <td>-0.019511</td>\n      <td>-0.036506</td>\n      <td>-0.030630</td>\n      <td>0.009924</td>\n      <td>0.012117</td>\n      <td>0.010364</td>\n      <td>-0.017777</td>\n      <td>0.042964</td>\n      <td>-0.016417</td>\n      <td>-0.016572</td>\n      <td>0.004198</td>\n      <td>1.000000</td>\n      <td>-0.013662</td>\n      <td>0.008957</td>\n      <td>-0.017754</td>\n      <td>-0.002673</td>\n    </tr>\n    <tr>\n      <th>dti</th>\n      <td>0.037443</td>\n      <td>0.002491</td>\n      <td>0.001063</td>\n      <td>0.038297</td>\n      <td>0.017449</td>\n      <td>-0.015270</td>\n      <td>-0.001102</td>\n      <td>-0.016239</td>\n      <td>-0.026928</td>\n      <td>0.047640</td>\n      <td>0.024209</td>\n      <td>-0.004887</td>\n      <td>-0.013662</td>\n      <td>1.000000</td>\n      <td>-0.050584</td>\n      <td>-0.010541</td>\n      <td>0.014581</td>\n    </tr>\n    <tr>\n      <th>last_pymnt_amnt</th>\n      <td>-0.021086</td>\n      <td>0.009170</td>\n      <td>-0.049296</td>\n      <td>0.435464</td>\n      <td>-0.004652</td>\n      <td>-0.023049</td>\n      <td>-0.016193</td>\n      <td>-0.011239</td>\n      <td>-0.003058</td>\n      <td>-0.040142</td>\n      <td>0.046345</td>\n      <td>-0.032294</td>\n      <td>0.008957</td>\n      <td>-0.050584</td>\n      <td>1.000000</td>\n      <td>0.001421</td>\n      <td>0.005134</td>\n    </tr>\n    <tr>\n      <th>skills y/n</th>\n      <td>0.029560</td>\n      <td>0.195064</td>\n      <td>0.013663</td>\n      <td>-0.001761</td>\n      <td>0.005612</td>\n      <td>0.015687</td>\n      <td>-0.002557</td>\n      <td>-0.052742</td>\n      <td>-0.018533</td>\n      <td>0.030250</td>\n      <td>0.013445</td>\n      <td>0.031116</td>\n      <td>-0.017754</td>\n      <td>-0.010541</td>\n      <td>0.001421</td>\n      <td>1.000000</td>\n      <td>0.049944</td>\n    </tr>\n    <tr>\n      <th>hrs</th>\n      <td>-0.014163</td>\n      <td>-0.004422</td>\n      <td>0.013196</td>\n      <td>0.002300</td>\n      <td>-0.023516</td>\n      <td>-0.000008</td>\n      <td>-0.009149</td>\n      <td>-0.029578</td>\n      <td>-0.027016</td>\n      <td>0.030753</td>\n      <td>-0.027514</td>\n      <td>0.001782</td>\n      <td>-0.002673</td>\n      <td>0.014581</td>\n      <td>0.005134</td>\n      <td>0.049944</td>\n      <td>1.000000</td>\n    </tr>\n  </tbody>\n</table>\n</div>"
     },
     "metadata": {},
     "execution_count": 108
    }
   ],
   "source": [
    "df.corr()"
   ]
  },
  {
   "cell_type": "code",
   "execution_count": 109,
   "metadata": {},
   "outputs": [],
   "source": [
    "df['Business Title'] = df['Business Title'].apply(lambda x: x.split(' '))"
   ]
  },
  {
   "cell_type": "code",
   "execution_count": 110,
   "metadata": {},
   "outputs": [],
   "source": [
    "def remove(string):\n",
    "    return string.replace(\" \", \"\")\n",
    "def find_bustitle(list_):\n",
    "    for i in list_:\n",
    "        j = remove(i.lower())\n",
    "        if(j == 'engineer'):\n",
    "            k = 'engineer'\n",
    "        elif(j == 'manager'):\n",
    "            k = 'manager'   \n",
    "        elif(j == 'aide'): \n",
    "            k = 'assistant'\n",
    "        elif(j == 'investigator'):  \n",
    "            k = 'investigator'\n",
    "        elif(j == 'maintainer'):\n",
    "            k = 'maintainer'  \n",
    "        elif(j == 'attorney'):\n",
    "            k = 'attorney'   \n",
    "        elif(j == 'specialist'):\n",
    "            k = 'specialist'  \n",
    "        elif(j == 'analyst'):\n",
    "            k = 'analyst'  \n",
    "        elif(j == 'director'):\n",
    "            k = 'director'  \n",
    "        elif(j == 'assistant'):\n",
    "            k = 'assistant'\n",
    "        elif(j == 'scientist'): \n",
    "            k = 'scientist'\n",
    "        elif(j == 'coordinator'): \n",
    "            k = 'coordinator'\n",
    "        elif(j == 'technician'): \n",
    "            k = 'technician'\n",
    "        elif(j == 'representative'): \n",
    "            k = 'representative'\n",
    "        elif(j == 'support'): \n",
    "            k = 'support'\n",
    "        elif(j == 'inspector'): \n",
    "            k = 'inspector' \n",
    "        elif(j == 'developer'): \n",
    "            k = 'developer'\n",
    "        elif(j == 'supervisor'):\n",
    "            k = 'supervisor'\n",
    "        elif(j == 'secretary'):\n",
    "            k = 'secretary'\n",
    "        elif(j == 'advisor'):\n",
    "            k = 'advisor'\n",
    "        elif(j == 'executive'):\n",
    "            k = 'executive'\n",
    "        elif(j == 'intern'):\n",
    "            k = 'intern'\n",
    "        elif(j == 'associate'):\n",
    "            k = 'associate'\n",
    "        elif(j == 'deputy'):\n",
    "            k = 'deputy'\n",
    "        else: \n",
    "            k = 'others'                   \n",
    "             \n",
    "    return k"
   ]
  },
  {
   "cell_type": "code",
   "execution_count": 111,
   "metadata": {},
   "outputs": [],
   "source": [
    "df['bustitle'] = df['Business Title'].apply(find_bustitle)"
   ]
  },
  {
   "cell_type": "code",
   "execution_count": 112,
   "metadata": {},
   "outputs": [
    {
     "output_type": "execute_result",
     "data": {
      "text/plain": [
       "others            1614\n",
       "manager            271\n",
       "analyst            191\n",
       "engineer           135\n",
       "specialist         107\n",
       "assistant           86\n",
       "coordinator         79\n",
       "director            61\n",
       "investigator        58\n",
       "attorney            51\n",
       "developer           42\n",
       "associate           38\n",
       "intern              36\n",
       "supervisor          34\n",
       "inspector           30\n",
       "maintainer          27\n",
       "advisor             19\n",
       "technician          16\n",
       "representative      14\n",
       "scientist           11\n",
       "executive           10\n",
       "support             10\n",
       "secretary            6\n",
       "Name: bustitle, dtype: int64"
      ]
     },
     "metadata": {},
     "execution_count": 112
    }
   ],
   "source": [
    "df.bustitle.value_counts()"
   ]
  },
  {
   "cell_type": "code",
   "execution_count": 113,
   "metadata": {},
   "outputs": [],
   "source": [
    "df['Civil Service Title'] = df['Civil Service Title'].apply(lambda x: x.split(' '))"
   ]
  },
  {
   "cell_type": "code",
   "execution_count": 114,
   "metadata": {},
   "outputs": [],
   "source": [
    "df['cstitle'] = df['Civil Service Title'].apply(find_bustitle)"
   ]
  },
  {
   "cell_type": "code",
   "execution_count": 115,
   "metadata": {},
   "outputs": [
    {
     "output_type": "execute_result",
     "data": {
      "text/plain": [
       "others          1449\n",
       "manager          277\n",
       "engineer         242\n",
       "coordinator      186\n",
       "associate        141\n",
       "analyst          139\n",
       "attorney         112\n",
       "specialist       111\n",
       "scientist         83\n",
       "assistant         56\n",
       "investigator      50\n",
       "maintainer        31\n",
       "technician        27\n",
       "intern            24\n",
       "inspector         16\n",
       "director           2\n",
       "Name: cstitle, dtype: int64"
      ]
     },
     "metadata": {},
     "execution_count": 115
    }
   ],
   "source": [
    "df['cstitle'].value_counts()"
   ]
  },
  {
   "cell_type": "code",
   "execution_count": 116,
   "metadata": {},
   "outputs": [
    {
     "output_type": "execute_result",
     "data": {
      "text/plain": [
       "20"
      ]
     },
     "metadata": {},
     "execution_count": 116
    }
   ],
   "source": [
    "df['Minimum Qual Requirements'].isnull().sum()"
   ]
  },
  {
   "cell_type": "code",
   "execution_count": 117,
   "metadata": {},
   "outputs": [
    {
     "output_type": "execute_result",
     "data": {
      "text/plain": [
       "1092"
      ]
     },
     "metadata": {},
     "execution_count": 117
    }
   ],
   "source": [
    "df['Additional Information'].isnull().sum()"
   ]
  },
  {
   "cell_type": "code",
   "execution_count": 118,
   "metadata": {},
   "outputs": [],
   "source": [
    "df.loc[~df['Additional Information'].isnull(), 'addinfo y/n'] = 1\n",
    "df.loc[df['Additional Information'].isnull(), 'addinfo y/n'] = 0"
   ]
  },
  {
   "cell_type": "code",
   "execution_count": 119,
   "metadata": {},
   "outputs": [
    {
     "output_type": "execute_result",
     "data": {
      "text/plain": [
       "1.0    1854\n",
       "0.0    1092\n",
       "Name: addinfo y/n, dtype: int64"
      ]
     },
     "metadata": {},
     "execution_count": 119
    }
   ],
   "source": [
    "df['addinfo y/n'].value_counts()"
   ]
  },
  {
   "cell_type": "code",
   "execution_count": 120,
   "metadata": {},
   "outputs": [
    {
     "output_type": "execute_result",
     "data": {
      "text/plain": [
       "4"
      ]
     },
     "metadata": {},
     "execution_count": 120
    }
   ],
   "source": [
    "df['Residency Requirement'].isnull().sum()"
   ]
  },
  {
   "cell_type": "code",
   "execution_count": 121,
   "metadata": {},
   "outputs": [],
   "source": [
    "df['Residency Requirement'] = df['Residency Requirement'].apply(lambda x: str(x).split(' ')[0])"
   ]
  },
  {
   "cell_type": "code",
   "execution_count": 122,
   "metadata": {},
   "outputs": [
    {
     "output_type": "execute_result",
     "data": {
      "text/plain": [
       "New          2625\n",
       "NYCHA         231\n",
       "Residency      28\n",
       "This           19\n",
       "City            8\n",
       "NYC             8\n",
       "The             7\n",
       "nan             4\n",
       "**A             2\n",
       "019New          2\n",
       "PLEASE          2\n",
       "Must            2\n",
       "Applicant       2\n",
       "Note:           2\n",
       "NEW             2\n",
       ":               2\n",
       "Name: Residency Requirement, dtype: int64"
      ]
     },
     "metadata": {},
     "execution_count": 122
    }
   ],
   "source": [
    "df['Residency Requirement'].value_counts()"
   ]
  },
  {
   "cell_type": "code",
   "execution_count": 123,
   "metadata": {},
   "outputs": [],
   "source": [
    "df.loc[df['Residency Requirement'] == 'New', 'RR y/n'] = 1\n",
    "df.loc[df['Residency Requirement'] == 'NYCHA', 'RR y/n'] = 0\n",
    "df.loc[df['Residency Requirement'] == 'Residency', 'RR y/n'] = 1\n",
    "df.loc[df['Residency Requirement'] == 'This', 'RR y/n'] = 0\n",
    "df.loc[df['Residency Requirement'] == 'NYC', 'RR y/n'] = 1\n",
    "df.loc[df['Residency Requirement'] == 'City', 'RR y/n'] = 0\n",
    "df.loc[df['Residency Requirement'] == 'The', 'RR y/n'] = 1\n",
    "df.loc[df['Residency Requirement'] == 'nan', 'RR y/n'] = 1\n",
    "df.loc[df['Residency Requirement'] == 'Must', 'RR y/n'] = 1\n",
    "df.loc[df['Residency Requirement'] == 'Applicant', 'RR y/n'] = 1\n",
    "df.loc[df['Residency Requirement'] == 'PLEASE', 'RR y/n'] = 1\n",
    "df.loc[df['Residency Requirement'] == 'Note:', 'RR y/n'] = 0\n",
    "df.loc[df['Residency Requirement'] == 'NEW', 'RR y/n'] = 1\n",
    "df.loc[df['Residency Requirement'] == '**A', 'RR y/n'] = 1\n",
    "df.loc[df['Residency Requirement'] == '019New', 'RR y/n'] = 0\n",
    "df.loc[df['Residency Requirement'] == ':', 'RR y/n'] = 1\n",
    "\n",
    "\n"
   ]
  },
  {
   "cell_type": "code",
   "execution_count": 124,
   "metadata": {},
   "outputs": [
    {
     "output_type": "execute_result",
     "data": {
      "text/plain": [
       "1.0    2684\n",
       "0.0     262\n",
       "Name: RR y/n, dtype: int64"
      ]
     },
     "metadata": {},
     "execution_count": 124
    }
   ],
   "source": [
    "df['RR y/n'].value_counts()"
   ]
  },
  {
   "cell_type": "code",
   "execution_count": 125,
   "metadata": {},
   "outputs": [
    {
     "output_type": "execute_result",
     "data": {
      "text/plain": [
       "45"
      ]
     },
     "metadata": {},
     "execution_count": 125
    }
   ],
   "source": [
    "df['DevType'].isnull().sum()"
   ]
  },
  {
   "cell_type": "code",
   "execution_count": 126,
   "metadata": {},
   "outputs": [],
   "source": [
    "df['DevType'] = df['DevType'].apply(lambda x: str(x).split(';'))"
   ]
  },
  {
   "cell_type": "code",
   "execution_count": 127,
   "metadata": {},
   "outputs": [
    {
     "output_type": "execute_result",
     "data": {
      "text/plain": [
       "{'Back-end developer',\n",
       " 'C-suite executive (CEO, CTO, etc.)',\n",
       " 'Data or business analyst',\n",
       " 'Data scientist or machine learning specialist',\n",
       " 'Database administrator',\n",
       " 'Designer',\n",
       " 'Desktop or enterprise applications developer',\n",
       " 'DevOps specialist',\n",
       " 'Educator or academic researcher',\n",
       " 'Embedded applications or devices developer',\n",
       " 'Engineering manager',\n",
       " 'Front-end developer',\n",
       " 'Full-stack developer',\n",
       " 'Game or graphics developer',\n",
       " 'Marketing or sales professional',\n",
       " 'Mobile developer',\n",
       " 'Product manager',\n",
       " 'QA or test developer',\n",
       " 'Student',\n",
       " 'System administrator',\n",
       " 'nan'}"
      ]
     },
     "metadata": {},
     "execution_count": 127
    }
   ],
   "source": [
    "set(itertools.chain.from_iterable(df.DevType)) "
   ]
  },
  {
   "cell_type": "code",
   "execution_count": 128,
   "metadata": {},
   "outputs": [],
   "source": [
    "def find_dev(list_):\n",
    "    for i in list_:\n",
    "        if ('developer' in i.split(' ')):\n",
    "            k = 1\n",
    "        else:\n",
    "            k = 0\n",
    "        return k    \n",
    "def find_exec(list_):\n",
    "    for i in list_:\n",
    "        if ('executive' in i.split(' ')):\n",
    "            k = 1\n",
    "        else:\n",
    "            k = 0 \n",
    "        return k   \n",
    "def find_ana(list_):\n",
    "    for i in list_:\n",
    "        if ('analyst' in i.split(' ')):\n",
    "            k = 1\n",
    "        else:\n",
    "            k = 0 \n",
    "        return k\n",
    "def find_sci(list_):\n",
    "    for i in list_:\n",
    "        if ('scientist' in i.split(' ')) | ('researcher' in i.split(' ')):\n",
    "            k = 1\n",
    "        else:\n",
    "            k = 0 \n",
    "        return k\n",
    "def find_admin(list_):\n",
    "    for i in list_:\n",
    "        if ('administrator' in i.split(' ')):\n",
    "            k = 1\n",
    "        else:\n",
    "            k = 0 \n",
    "        return k\n",
    "def find_des(list_):\n",
    "    for i in list_:\n",
    "        if ('design' in i.split(' ')):\n",
    "            k = 1\n",
    "        else:\n",
    "            k = 0 \n",
    "        return k\n",
    "def find_spec(list_):\n",
    "    for i in list_:\n",
    "        if ('specialist' in i.split(' ')):\n",
    "            k = 1\n",
    "        else:\n",
    "            k = 0 \n",
    "        return k\n",
    "def find_man(list_):\n",
    "    for i in list_:\n",
    "        if ('manager' in i.split(' ')):\n",
    "            k = 1\n",
    "        else:\n",
    "            k = 0 \n",
    "        return k\n",
    "def find_sales(list_):\n",
    "    for i in list_:\n",
    "        if ('sales' in i.split(' ')):\n",
    "            k = 1\n",
    "        else:\n",
    "            k = 0 \n",
    "        return k\n",
    "def find_stu(list_):\n",
    "    for i in list_:\n",
    "        if ('student' in i.split(' ')):\n",
    "            k = 1\n",
    "        else:\n",
    "            k = 0 \n",
    "        return k        \n"
   ]
  },
  {
   "cell_type": "code",
   "execution_count": 129,
   "metadata": {},
   "outputs": [],
   "source": [
    "df['dev_devt'] = df['DevType'].apply(find_dev)\n",
    "df['exec_devt'] = df['DevType'].apply(find_exec)\n",
    "df['ana_devt'] = df['DevType'].apply(find_ana)\n",
    "df['sci_devt'] = df['DevType'].apply(find_sci)\n",
    "df['admin_devt'] = df['DevType'].apply(find_admin)\n",
    "df['des_devt'] = df['DevType'].apply(find_des)\n",
    "df['spec_devt'] = df['DevType'].apply(find_spec)\n",
    "df['man_devt'] = df['DevType'].apply(find_man)\n",
    "df['sales_devt'] = df['DevType'].apply(find_sales)\n",
    "df['stu_devt'] = df['DevType'].apply(find_stu)\n",
    "\n",
    "\n"
   ]
  },
  {
   "cell_type": "code",
   "execution_count": 130,
   "metadata": {},
   "outputs": [
    {
     "output_type": "execute_result",
     "data": {
      "text/plain": [
       "923"
      ]
     },
     "metadata": {},
     "execution_count": 130
    }
   ],
   "source": [
    "df['CommunicationTools'].isnull().sum()"
   ]
  },
  {
   "cell_type": "code",
   "execution_count": 131,
   "metadata": {},
   "outputs": [],
   "source": [
    "df['CommunicationTools'] = df['CommunicationTools'].apply(lambda x: str(x).split(';'))"
   ]
  },
  {
   "cell_type": "code",
   "execution_count": 132,
   "metadata": {},
   "outputs": [
    {
     "output_type": "execute_result",
     "data": {
      "text/plain": [
       "{'Confluence',\n",
       " 'Facebook',\n",
       " 'Google Hangouts/Chat',\n",
       " 'HipChat',\n",
       " 'Jira',\n",
       " 'Office / productivity suite (Microsoft Office, Google Suite, etc.)',\n",
       " 'Other chat system (IRC, proprietary software, etc.)',\n",
       " 'Other wiki tool (Github, Google Sites, proprietary software, etc.)',\n",
       " 'Slack',\n",
       " 'Stack Overflow Enterprise',\n",
       " 'Trello',\n",
       " 'nan'}"
      ]
     },
     "metadata": {},
     "execution_count": 132
    }
   ],
   "source": [
    "set(itertools.chain.from_iterable(df.CommunicationTools)) "
   ]
  },
  {
   "cell_type": "code",
   "execution_count": 133,
   "metadata": {},
   "outputs": [],
   "source": [
    "def find_conf(list_):\n",
    "    for i in list_:\n",
    "        if ('Confluence' in list_):\n",
    "            k = 1\n",
    "        else:\n",
    "            k = 0\n",
    "        return k\n",
    "def find_face(list_):\n",
    "    for i in list_:\n",
    "        if ('Facebook' in list_):\n",
    "            k = 1\n",
    "        else:\n",
    "            k = 0\n",
    "        return k\n",
    "def find_hang(list_):\n",
    "    for i in list_:\n",
    "        if ('Google Hangouts/Chat' in list_):\n",
    "            k = 1\n",
    "        else:\n",
    "            k = 0\n",
    "        return k\n",
    "def find_hip(list_):\n",
    "    for i in list_:\n",
    "        if ('HipChat' in list_):\n",
    "            k = 1\n",
    "        else:\n",
    "            k = 0\n",
    "        return k\n",
    "def find_jira(list_):\n",
    "    for i in list_:\n",
    "        if ('Jira' in list_):\n",
    "            k = 1\n",
    "        else:\n",
    "            k = 0\n",
    "        return k\n",
    "def find_off(list_):\n",
    "    for i in list_:\n",
    "        if ('Office / productivity suite (Microsoft Office, Google Suite, etc.)' in list_):\n",
    "            k = 1\n",
    "        else:\n",
    "            k = 0\n",
    "        return k\n",
    "def find_otch(list_):\n",
    "    for i in list_:\n",
    "        if ('Other chat system (IRC, proprietary software, etc.)' in list_):\n",
    "            k = 1\n",
    "        else:\n",
    "            k = 0\n",
    "        return k\n",
    "def find_otwi(list_):\n",
    "    for i in list_:\n",
    "        if ('Other wiki tool (Github, Google Sites, proprietary software, etc.)' in list_):\n",
    "            k = 1\n",
    "        else:\n",
    "            k = 0\n",
    "        return k\n",
    "def find_sla(list_):\n",
    "    for i in list_:\n",
    "        if ('Slack' in list_):\n",
    "            k = 1\n",
    "        else:\n",
    "            k = 0\n",
    "        return k\n",
    "def find_over(list_):\n",
    "    for i in list_:\n",
    "        if ('Stack Overflow Enterprise' in list_):\n",
    "            k = 1\n",
    "        else:\n",
    "            k = 0\n",
    "        return k\n",
    "def find_trel(list_):\n",
    "    for i in list_:\n",
    "        if ('Trello' in list_):\n",
    "            k = 1\n",
    "        else:\n",
    "            k = 0\n",
    "        return k"
   ]
  },
  {
   "cell_type": "code",
   "execution_count": 134,
   "metadata": {},
   "outputs": [],
   "source": [
    "df['comm_conf'] = df['CommunicationTools'].apply(find_conf)\n",
    "df['comm_face'] = df['CommunicationTools'].apply(find_face)\n",
    "df['comm_hang'] = df['CommunicationTools'].apply(find_hang)\n",
    "df['comm_hip'] = df['CommunicationTools'].apply(find_hip)\n",
    "df['comm_jira'] = df['CommunicationTools'].apply(find_jira)\n",
    "df['comm_off'] = df['CommunicationTools'].apply(find_off)\n",
    "df['comm_otch'] = df['CommunicationTools'].apply(find_otch)\n",
    "df['comm_otwi'] = df['CommunicationTools'].apply(find_otwi)\n",
    "df['comm_sla'] = df['CommunicationTools'].apply(find_sla)\n",
    "df['comm_over'] = df['CommunicationTools'].apply(find_over)\n",
    "df['comm_trel'] = df['CommunicationTools'].apply(find_trel)\n",
    "\n"
   ]
  },
  {
   "cell_type": "code",
   "execution_count": 135,
   "metadata": {},
   "outputs": [],
   "source": [
    "df['EducationTypes'] = df['EducationTypes'].apply(lambda x: str(x).split(\";\"))"
   ]
  },
  {
   "cell_type": "code",
   "execution_count": 136,
   "metadata": {},
   "outputs": [
    {
     "output_type": "execute_result",
     "data": {
      "text/plain": [
       "{'Completed an industry certification program (e.g. MCPD)',\n",
       " 'Contributed to open source software',\n",
       " 'Participated in a full-time developer training program or bootcamp',\n",
       " 'Participated in a hackathon',\n",
       " 'Participated in online coding competitions (e.g. HackerRank, CodeChef, TopCoder)',\n",
       " 'Received on-the-job training in software development',\n",
       " 'Taken a part-time in-person course in programming or software development',\n",
       " 'Taken an online course in programming or software development (e.g. a MOOC)',\n",
       " 'Taught yourself a new language, framework, or tool without taking a formal course',\n",
       " 'nan'}"
      ]
     },
     "metadata": {},
     "execution_count": 136
    }
   ],
   "source": [
    "set(itertools.chain.from_iterable(df.EducationTypes)) "
   ]
  },
  {
   "cell_type": "code",
   "execution_count": 137,
   "metadata": {},
   "outputs": [],
   "source": [
    "def find_comp(list_):\n",
    "    for i in list_:\n",
    "        if ('Completed an industry certification program (e.g. MCPD)' in list_):\n",
    "            k = 1\n",
    "        else:\n",
    "            k = 0\n",
    "        return k\n",
    "def find_contri(list_):\n",
    "    for i in list_:\n",
    "        if ('Contributed to open source software' in list_):\n",
    "            k = 1\n",
    "        else:\n",
    "            k = 0\n",
    "        return k\n",
    "def find_ftd(list_):\n",
    "    for i in list_:\n",
    "        if ('Participated in a full-time developer training program or bootcamp' in list_):\n",
    "            k = 1\n",
    "        else:\n",
    "            k = 0\n",
    "        return k\n",
    "def find_hack(list_):\n",
    "    for i in list_:\n",
    "        if ('Participated in a hackathon' in list_):\n",
    "            k = 1\n",
    "        else:\n",
    "            k = 0\n",
    "        return k\n",
    "def find_occ(list_):\n",
    "    for i in list_:\n",
    "        if ('Participated in online coding competitions (e.g. HackerRank, CodeChef, TopCoder)' in list_):\n",
    "            k = 1\n",
    "        else:\n",
    "            k = 0\n",
    "        return k\n",
    "def find_otj(list_):\n",
    "    for i in list_:\n",
    "        if ('Received on-the-job training in software development' in list_):\n",
    "            k = 1\n",
    "        else:\n",
    "            k = 0\n",
    "        return k\n",
    "def find_ptc(list_):\n",
    "    for i in list_:\n",
    "        if ('Taken a part-time in-person course in programming or software development' in list_):\n",
    "            k = 1\n",
    "        else:\n",
    "            k = 0\n",
    "        return k\n",
    "def find_mooc(list_):\n",
    "    for i in list_:\n",
    "        if ('Taken an online course in programming or software development (e.g. a MOOC)' in list_):\n",
    "            k = 1\n",
    "        else:\n",
    "            k = 0\n",
    "        return k\n",
    "def find_self(list_):\n",
    "    for i in list_:\n",
    "        if ('Taught yourself a new language, framework, or tool without taking a formal course' in list_):\n",
    "            k = 1\n",
    "        else:\n",
    "            k = 0\n",
    "        return k"
   ]
  },
  {
   "cell_type": "code",
   "execution_count": 138,
   "metadata": {},
   "outputs": [],
   "source": [
    "df['et_comp'] = df['EducationTypes'].apply(find_comp)\n",
    "df['et_contri'] = df['EducationTypes'].apply(find_contri)\n",
    "df['et_ftd'] = df['EducationTypes'].apply(find_ftd)\n",
    "df['et_hack'] = df['EducationTypes'].apply(find_hack)\n",
    "df['et_occ'] = df['EducationTypes'].apply(find_occ)\n",
    "df['et_otj'] = df['EducationTypes'].apply(find_otj)\n",
    "df['et_ptc'] = df['EducationTypes'].apply(find_ptc)\n",
    "df['et_mooc'] = df['EducationTypes'].apply(find_mooc)\n",
    "df['et_self'] = df['EducationTypes'].apply(find_self)\n",
    "\n"
   ]
  },
  {
   "cell_type": "code",
   "execution_count": 139,
   "metadata": {},
   "outputs": [
    {
     "output_type": "execute_result",
     "data": {
      "text/plain": [
       "1134"
      ]
     },
     "metadata": {},
     "execution_count": 139
    }
   ],
   "source": [
    "df['SelfTaughtTypes'].isnull().sum()"
   ]
  },
  {
   "cell_type": "code",
   "execution_count": 140,
   "metadata": {},
   "outputs": [],
   "source": [
    "df['SelfTaughtTypes'] = df['SelfTaughtTypes'].apply(lambda x: str(x).split(\";\"))"
   ]
  },
  {
   "cell_type": "code",
   "execution_count": 141,
   "metadata": {},
   "outputs": [
    {
     "output_type": "execute_result",
     "data": {
      "text/plain": [
       "{'A book or e-book from O’Reilly, Apress, or a similar publisher',\n",
       " 'A college/university computer science or software engineering book',\n",
       " 'Internal Wikis, chat rooms, or documentation set up by my company for employees',\n",
       " 'Online developer communities other than Stack Overflow (ex. forums, listservs, IRC channels, etc.)',\n",
       " 'Pre-scheduled tutoring or mentoring sessions with a friend or colleague',\n",
       " 'Questions & answers on Stack Overflow',\n",
       " 'Tapping your network of friends, family, and peers versed in the technology',\n",
       " 'The official documentation and/or standards for the technology',\n",
       " 'The technology’s online help system',\n",
       " 'nan'}"
      ]
     },
     "metadata": {},
     "execution_count": 141
    }
   ],
   "source": [
    "set(itertools.chain.from_iterable(df.SelfTaughtTypes)) "
   ]
  },
  {
   "cell_type": "code",
   "execution_count": 142,
   "metadata": {},
   "outputs": [],
   "source": [
    "def find_book(list_):\n",
    "    for i in list_:\n",
    "        if ('A book or e-book from O’Reilly, Apress, or a similar publisher' in list_):\n",
    "            k = 1\n",
    "        else:\n",
    "            k = 0\n",
    "        return k\n",
    "def find_uni(list_):\n",
    "    for i in list_:\n",
    "        if ('A college/university computer science or software engineering book' in list_):\n",
    "            k = 1\n",
    "        else:\n",
    "            k = 0\n",
    "        return k\n",
    "def find_wiki(list_):\n",
    "    for i in list_:\n",
    "        if ('Internal Wikis, chat rooms, or documentation set up by my company for employees' in list_):\n",
    "            k = 1\n",
    "        else:\n",
    "            k = 0\n",
    "        return k\n",
    "def find_tut(list_):\n",
    "    for i in list_:\n",
    "        if ('Pre-scheduled tutoring or mentoring sessions with a friend or colleague' in list_):\n",
    "            k = 1\n",
    "        else:\n",
    "            k = 0\n",
    "        return k\n",
    "def find_so(list_):\n",
    "    for i in list_:\n",
    "        if ('Questions & answers on Stack Overflow' in list_):\n",
    "            k = 1\n",
    "        else:\n",
    "            k = 0\n",
    "        return k\n",
    "def find_tap(list_):\n",
    "    for i in list_:\n",
    "        if ('Tapping your network of friends, family, and peers versed in the technology' in list_):\n",
    "            k = 1\n",
    "        else:\n",
    "            k = 0\n",
    "        return k\n",
    "def find_irc(list_):\n",
    "    for i in list_:\n",
    "        if ('Online developer communities other than Stack Overflow (ex. forums, listservs, IRC channels, etc.)' in list_):\n",
    "            k = 1\n",
    "        else:\n",
    "            k = 0\n",
    "        return k\n",
    "def find_doc(list_):\n",
    "    for i in list_:\n",
    "        if ('The official documentation and/or standards for the technology' in list_):\n",
    "            k = 1\n",
    "        else:\n",
    "            k = 0\n",
    "        return k\n",
    "def find_tohs(list_):\n",
    "    for i in list_:\n",
    "        if ('The technology’s online help system' in list_):\n",
    "            k = 1\n",
    "        else:\n",
    "            k = 0\n",
    "        return k"
   ]
  },
  {
   "cell_type": "code",
   "execution_count": 143,
   "metadata": {},
   "outputs": [],
   "source": [
    "df['stt_book'] = df['SelfTaughtTypes'].apply(find_book)\n",
    "df['stt_uni'] = df['SelfTaughtTypes'].apply(find_uni)\n",
    "df['stt_wiki'] = df['SelfTaughtTypes'].apply(find_wiki)\n",
    "df['stt_tut'] = df['SelfTaughtTypes'].apply(find_tut)\n",
    "df['stt_so'] = df['SelfTaughtTypes'].apply(find_so)\n",
    "df['stt_tap'] = df['SelfTaughtTypes'].apply(find_tap)\n",
    "df['stt_irc'] = df['SelfTaughtTypes'].apply(find_irc)\n",
    "df['stt_doc'] = df['SelfTaughtTypes'].apply(find_doc)\n",
    "df['stt_tohs'] = df['SelfTaughtTypes'].apply(find_tohs)\n"
   ]
  },
  {
   "cell_type": "code",
   "execution_count": 144,
   "metadata": {},
   "outputs": [
    {
     "output_type": "execute_result",
     "data": {
      "text/plain": [
       "499"
      ]
     },
     "metadata": {},
     "execution_count": 144
    }
   ],
   "source": [
    "df['LanguageWorkedWith'].isnull().sum()"
   ]
  },
  {
   "cell_type": "code",
   "execution_count": 145,
   "metadata": {},
   "outputs": [],
   "source": [
    "df['LanguageWorkedWith'] = df['LanguageWorkedWith'].apply(lambda x: str(x).split(\";\"))"
   ]
  },
  {
   "cell_type": "code",
   "execution_count": 146,
   "metadata": {},
   "outputs": [
    {
     "output_type": "execute_result",
     "data": {
      "text/plain": [
       "{'Assembly',\n",
       " 'Bash/Shell',\n",
       " 'C',\n",
       " 'C#',\n",
       " 'C++',\n",
       " 'CSS',\n",
       " 'Clojure',\n",
       " 'Cobol',\n",
       " 'CoffeeScript',\n",
       " 'Delphi/Object Pascal',\n",
       " 'Erlang',\n",
       " 'F#',\n",
       " 'Go',\n",
       " 'Groovy',\n",
       " 'HTML',\n",
       " 'Hack',\n",
       " 'Haskell',\n",
       " 'Java',\n",
       " 'JavaScript',\n",
       " 'Julia',\n",
       " 'Kotlin',\n",
       " 'Lua',\n",
       " 'Matlab',\n",
       " 'Objective-C',\n",
       " 'Ocaml',\n",
       " 'PHP',\n",
       " 'Perl',\n",
       " 'Python',\n",
       " 'R',\n",
       " 'Ruby',\n",
       " 'Rust',\n",
       " 'SQL',\n",
       " 'Scala',\n",
       " 'Swift',\n",
       " 'TypeScript',\n",
       " 'VB.NET',\n",
       " 'VBA',\n",
       " 'Visual Basic 6',\n",
       " 'nan'}"
      ]
     },
     "metadata": {},
     "execution_count": 146
    }
   ],
   "source": [
    "set(itertools.chain.from_iterable(df.LanguageWorkedWith)) "
   ]
  },
  {
   "cell_type": "code",
   "execution_count": 147,
   "metadata": {},
   "outputs": [],
   "source": [
    "def py(list_):\n",
    "    for i in list_:\n",
    "        if ('Python' in list_):\n",
    "            k = 1\n",
    "        else:\n",
    "            k = 0\n",
    "        return k\n",
    "def js(list_):\n",
    "    for i in list_:\n",
    "        if ('JavaScript' in list_):\n",
    "            k = 1\n",
    "        else:\n",
    "            k = 0\n",
    "        return k\n",
    "def java(list_):\n",
    "    for i in list_:\n",
    "        if ('Java' in list_):\n",
    "            k = 1\n",
    "        else:\n",
    "            k = 0\n",
    "        return k\n",
    "def ch(list_):\n",
    "    for i in list_:\n",
    "        if ('C#' in list_):\n",
    "            k = 1\n",
    "        else:\n",
    "            k = 0\n",
    "        return k\n",
    "def c(list_):\n",
    "    for i in list_:\n",
    "        if ('C' in list_):\n",
    "            k = 1\n",
    "        else:\n",
    "            k = 0\n",
    "        return k\n",
    "def cpp(list_):\n",
    "    for i in list_:\n",
    "        if ('C++' in list_):\n",
    "            k = 1\n",
    "        else:\n",
    "            k = 0\n",
    "        return k\n",
    "def go(list_):\n",
    "    for i in list_:\n",
    "        if ('Go' in list_):\n",
    "            k = 1\n",
    "        else:\n",
    "            k = 0\n",
    "        return k\n",
    "def r(list_):\n",
    "    for i in list_:\n",
    "        if ('R' in list_):\n",
    "            k = 1\n",
    "        else:\n",
    "            k = 0\n",
    "        return k\n",
    "def swift(list_):\n",
    "    for i in list_:\n",
    "        if ('Swift' in list_):\n",
    "            k = 1\n",
    "        else:\n",
    "            k = 0\n",
    "        return k\n",
    "def php(list_):\n",
    "    for i in list_:\n",
    "        if ('PHP' in list_):\n",
    "            k = 1\n",
    "        else:\n",
    "            k = 0\n",
    "        return k"
   ]
  },
  {
   "cell_type": "code",
   "execution_count": 148,
   "metadata": {},
   "outputs": [],
   "source": [
    "df['lww_py'] = df['LanguageWorkedWith'].apply(py)\n",
    "df['lww_js'] = df['LanguageWorkedWith'].apply(js)\n",
    "df['lww_java'] = df['LanguageWorkedWith'].apply(java)\n",
    "df['lww_ch'] = df['LanguageWorkedWith'].apply(ch)\n",
    "df['lww_c'] = df['LanguageWorkedWith'].apply(c)\n",
    "df['lww_cpp'] = df['LanguageWorkedWith'].apply(cpp)\n",
    "df['lww_go'] = df['LanguageWorkedWith'].apply(go)\n",
    "df['lww_r'] = df['LanguageWorkedWith'].apply(r)\n",
    "df['lww_swift'] = df['LanguageWorkedWith'].apply(swift)\n",
    "df['lww_php'] = df['LanguageWorkedWith'].apply(php)\n"
   ]
  },
  {
   "cell_type": "code",
   "execution_count": 149,
   "metadata": {},
   "outputs": [
    {
     "output_type": "execute_result",
     "data": {
      "text/plain": [
       "{'Amazon DynamoDB',\n",
       " 'Amazon RDS/Aurora',\n",
       " 'Amazon Redshift',\n",
       " 'Apache HBase',\n",
       " 'Apache Hive',\n",
       " 'Cassandra',\n",
       " 'Elasticsearch',\n",
       " 'Google BigQuery',\n",
       " 'Google Cloud Storage',\n",
       " 'IBM Db2',\n",
       " 'MariaDB',\n",
       " 'Memcached',\n",
       " 'Microsoft Azure (Tables, CosmosDB, SQL, etc)',\n",
       " 'MongoDB',\n",
       " 'MySQL',\n",
       " 'Neo4j',\n",
       " 'Oracle',\n",
       " 'PostgreSQL',\n",
       " 'Redis',\n",
       " 'SQL Server',\n",
       " 'SQLite',\n",
       " 'nan'}"
      ]
     },
     "metadata": {},
     "execution_count": 149
    }
   ],
   "source": [
    "df['DatabaseWorkedWith'].isnull().sum()\n",
    "df['DatabaseWorkedWith'] = df['DatabaseWorkedWith'].apply(lambda x: str(x).split(';'))\n",
    "set(itertools.chain.from_iterable(df.DatabaseWorkedWith))"
   ]
  },
  {
   "cell_type": "code",
   "execution_count": 150,
   "metadata": {},
   "outputs": [],
   "source": [
    "def SQLServer(list_):\n",
    "    for i in list_:\n",
    "        if ('SQL Server' in list_):\n",
    "            k = 1\n",
    "        else:\n",
    "            k = 0\n",
    "        return k\n",
    "def MySQL(list_):\n",
    "    for i in list_:\n",
    "        if ('MySQL' in list_):\n",
    "            k = 1\n",
    "        else:\n",
    "            k = 0\n",
    "        return k\n",
    "def Cassandra(list_):\n",
    "    for i in list_:\n",
    "        if ('Cassandra' in list_):\n",
    "            k = 1\n",
    "        else:\n",
    "            k = 0\n",
    "        return k\n",
    "def Elasticsearch(list_):\n",
    "    for i in list_:\n",
    "        if ('Elasticsearch' in list_):\n",
    "            k = 1\n",
    "        else:\n",
    "            k = 0\n",
    "        return k\n",
    "def PostgreSQL(list_):\n",
    "    for i in list_:\n",
    "        if ('PostgreSQL' in list_):\n",
    "            k = 1\n",
    "        else:\n",
    "            k = 0\n",
    "        return k"
   ]
  },
  {
   "cell_type": "code",
   "execution_count": 151,
   "metadata": {},
   "outputs": [],
   "source": [
    "df['dww_SQLServer'] = df['DatabaseWorkedWith'].apply(SQLServer)\n",
    "df['dww_MySQL'] = df['DatabaseWorkedWith'].apply(MySQL)\n",
    "df['dww_Cassandra'] = df['DatabaseWorkedWith'].apply(Cassandra)\n",
    "df['dww_Elasticsearch'] = df['DatabaseWorkedWith'].apply(Elasticsearch)\n",
    "df['dww_PostgreSQL'] = df['DatabaseWorkedWith'].apply(PostgreSQL)\n"
   ]
  },
  {
   "cell_type": "code",
   "execution_count": 152,
   "metadata": {},
   "outputs": [
    {
     "output_type": "execute_result",
     "data": {
      "text/plain": [
       "876"
      ]
     },
     "metadata": {},
     "execution_count": 152
    }
   ],
   "source": [
    "df['PlatformWorkedWith'].isnull().sum()"
   ]
  },
  {
   "cell_type": "code",
   "execution_count": 153,
   "metadata": {},
   "outputs": [],
   "source": [
    "df['PlatformWorkedWith'].value_counts()\n",
    "df['PlatformWorkedWith'] = df['PlatformWorkedWith'].apply(lambda x: str(x).split(';'))"
   ]
  },
  {
   "cell_type": "code",
   "execution_count": 154,
   "metadata": {},
   "outputs": [
    {
     "output_type": "execute_result",
     "data": {
      "text/plain": [
       "{'AWS',\n",
       " 'Amazon Echo',\n",
       " 'Android',\n",
       " 'Apple Watch or Apple TV',\n",
       " 'Arduino',\n",
       " 'Azure',\n",
       " 'Drupal',\n",
       " 'ESP8266',\n",
       " 'Firebase',\n",
       " 'Gaming console',\n",
       " 'Google Cloud Platform/App Engine',\n",
       " 'Google Home',\n",
       " 'Heroku',\n",
       " 'IBM Cloud or Watson',\n",
       " 'Linux',\n",
       " 'Mac OS',\n",
       " 'Mainframe',\n",
       " 'Predix',\n",
       " 'Raspberry Pi',\n",
       " 'Salesforce',\n",
       " 'Serverless',\n",
       " 'SharePoint',\n",
       " 'Windows Desktop or Server',\n",
       " 'Windows Phone',\n",
       " 'WordPress',\n",
       " 'iOS',\n",
       " 'nan'}"
      ]
     },
     "metadata": {},
     "execution_count": 154
    }
   ],
   "source": [
    "set(itertools.chain.from_iterable(df['PlatformWorkedWith']))"
   ]
  },
  {
   "cell_type": "code",
   "execution_count": 155,
   "metadata": {},
   "outputs": [],
   "source": [
    "def Android(list_):\n",
    "    for i in list_:\n",
    "        if ('Android' in list_):\n",
    "            k = 1\n",
    "        else:\n",
    "            k = 0\n",
    "        return k\n",
    "def Linux(list_):\n",
    "    for i in list_:\n",
    "        if ('Linux' in list_):\n",
    "            k = 1\n",
    "        else:\n",
    "            k = 0\n",
    "        return k\n",
    "def Mac(list_):\n",
    "    for i in list_:\n",
    "        if ('Mac OS' in list_):\n",
    "            k = 1\n",
    "        else:\n",
    "            k = 0\n",
    "        return k\n",
    "def Windows(list_):\n",
    "    for i in list_:\n",
    "        if ('Windows Desktop or Server' in list_) | ('Windows Phone' in list_):\n",
    "            k = 1\n",
    "        else:\n",
    "            k = 0\n",
    "        return k\n",
    "def Google(list_):\n",
    "    for i in list_:\n",
    "        if ('Google Cloud Platform/App Engine' in list_) | ('Google Home' in list_):\n",
    "            k = 1\n",
    "        else:\n",
    "            k = 0\n",
    "        return k"
   ]
  },
  {
   "cell_type": "code",
   "execution_count": 156,
   "metadata": {},
   "outputs": [],
   "source": [
    "df['pww_Android'] = df['PlatformWorkedWith'].apply(Android)\n",
    "df['pww_Linux'] = df['PlatformWorkedWith'].apply(Linux)\n",
    "df['pww_Mac'] = df['PlatformWorkedWith'].apply(Mac)\n",
    "df['pww_Windows'] = df['PlatformWorkedWith'].apply(Windows)\n",
    "df['pww_Google'] = df['PlatformWorkedWith'].apply(Google)\n"
   ]
  },
  {
   "cell_type": "code",
   "execution_count": 157,
   "metadata": {},
   "outputs": [
    {
     "output_type": "execute_result",
     "data": {
      "text/plain": [
       "1313"
      ]
     },
     "metadata": {},
     "execution_count": 157
    }
   ],
   "source": [
    "df['FrameworkWorkedWith'].isnull().sum()"
   ]
  },
  {
   "cell_type": "code",
   "execution_count": 158,
   "metadata": {},
   "outputs": [],
   "source": [
    "df['FrameworkWorkedWith'].value_counts()\n",
    "df['FrameworkWorkedWith'] = df['FrameworkWorkedWith'].apply(lambda x: str(x).split(';'))"
   ]
  },
  {
   "cell_type": "code",
   "execution_count": 159,
   "metadata": {},
   "outputs": [
    {
     "output_type": "execute_result",
     "data": {
      "text/plain": [
       "{'.NET Core',\n",
       " 'Angular',\n",
       " 'Cordova',\n",
       " 'Django',\n",
       " 'Hadoop',\n",
       " 'Node.js',\n",
       " 'React',\n",
       " 'Spark',\n",
       " 'Spring',\n",
       " 'TensorFlow',\n",
       " 'Torch/PyTorch',\n",
       " 'Xamarin',\n",
       " 'nan'}"
      ]
     },
     "metadata": {},
     "execution_count": 159
    }
   ],
   "source": [
    "set(itertools.chain.from_iterable(df.FrameworkWorkedWith))"
   ]
  },
  {
   "cell_type": "code",
   "execution_count": 160,
   "metadata": {},
   "outputs": [],
   "source": [
    "def React(list_):\n",
    "    for i in list_:\n",
    "        if ('React' in list_):\n",
    "            k = 1\n",
    "        else:\n",
    "            k = 0\n",
    "        return k\n",
    "def Angular(list_):\n",
    "    for i in list_:\n",
    "        if ('Angular' in list_):\n",
    "            k = 1\n",
    "        else:\n",
    "            k = 0\n",
    "        return k\n",
    "def Django(list_):\n",
    "    for i in list_:\n",
    "        if ('Django' in list_):\n",
    "            k = 1\n",
    "        else:\n",
    "            k = 0\n",
    "        return k\n",
    "def Cordova(list_):\n",
    "    for i in list_:\n",
    "        if ('Cordova' in list_):\n",
    "            k = 1\n",
    "        else:\n",
    "            k = 0\n",
    "        return k\n",
    "def Spark(list_):\n",
    "    for i in list_:\n",
    "        if ('Spark' in list_):\n",
    "            k = 1\n",
    "        else:\n",
    "            k = 0\n",
    "        return k"
   ]
  },
  {
   "cell_type": "code",
   "execution_count": 161,
   "metadata": {},
   "outputs": [],
   "source": [
    "df['fww_React'] = df['FrameworkWorkedWith'].apply(React)\n",
    "df['fww_Angular'] = df['FrameworkWorkedWith'].apply(Angular)\n",
    "df['fww_Django'] = df['FrameworkWorkedWith'].apply(Django)\n",
    "df['fww_Cordova'] = df['FrameworkWorkedWith'].apply(Cordova)\n",
    "df['fww_Spark'] = df['FrameworkWorkedWith'].apply(Spark)\n"
   ]
  },
  {
   "cell_type": "code",
   "execution_count": 162,
   "metadata": {},
   "outputs": [
    {
     "output_type": "execute_result",
     "data": {
      "text/plain": [
       "586"
      ]
     },
     "metadata": {},
     "execution_count": 162
    }
   ],
   "source": [
    "df['IDE'].isnull().sum()"
   ]
  },
  {
   "cell_type": "code",
   "execution_count": 163,
   "metadata": {},
   "outputs": [
    {
     "output_type": "execute_result",
     "data": {
      "text/plain": [
       "{'Android Studio',\n",
       " 'Atom',\n",
       " 'Coda',\n",
       " 'Eclipse',\n",
       " 'Emacs',\n",
       " 'IPython / Jupyter',\n",
       " 'IntelliJ',\n",
       " 'Komodo',\n",
       " 'Light Table',\n",
       " 'NetBeans',\n",
       " 'Notepad++',\n",
       " 'PHPStorm',\n",
       " 'PyCharm',\n",
       " 'RStudio',\n",
       " 'RubyMine',\n",
       " 'Sublime Text',\n",
       " 'TextMate',\n",
       " 'Vim',\n",
       " 'Visual Studio',\n",
       " 'Visual Studio Code',\n",
       " 'Xcode',\n",
       " 'Zend',\n",
       " 'nan'}"
      ]
     },
     "metadata": {},
     "execution_count": 163
    }
   ],
   "source": [
    "df['IDE'] = df['IDE'].apply(lambda x: str(x).split(';'))\n",
    "set(itertools.chain.from_iterable(df.IDE))"
   ]
  },
  {
   "cell_type": "code",
   "execution_count": 164,
   "metadata": {},
   "outputs": [],
   "source": [
    "def VSCode(list_):\n",
    "    for i in list_:\n",
    "        if ('Visual Studio Code' in list_):\n",
    "            k = 1\n",
    "        else:\n",
    "            k = 0\n",
    "        return k\n",
    "def Eclipse(list_):\n",
    "    for i in list_:\n",
    "        if ('Eclipse' in list_):\n",
    "            k = 1\n",
    "        else:\n",
    "            k = 0\n",
    "        return k\n",
    "def Studio(list_):\n",
    "    for i in list_:\n",
    "        if ('Android Studio' in list_):\n",
    "            k = 1\n",
    "        else:\n",
    "            k = 0\n",
    "        return k\n",
    "def Vim(list_):\n",
    "    for i in list_:\n",
    "        if ('Vim' in list_):\n",
    "            k = 1\n",
    "        else:\n",
    "            k = 0\n",
    "        return k\n",
    "def NetBeans(list_):\n",
    "    for i in list_:\n",
    "        if ('NetBeans' in list_):\n",
    "            k = 1\n",
    "        else:\n",
    "            k = 0\n",
    "        return k"
   ]
  },
  {
   "cell_type": "code",
   "execution_count": 165,
   "metadata": {},
   "outputs": [],
   "source": [
    "df['ide_VSCode'] = df['IDE'].apply(VSCode)\n",
    "df['ide_Eclipse'] = df['IDE'].apply(Eclipse)\n",
    "df['ide_Studio'] = df['IDE'].apply(Studio)\n",
    "df['ide_Vim'] = df['IDE'].apply(Vim)\n",
    "df['ide_NetBeans'] = df['IDE'].apply(NetBeans)\n"
   ]
  },
  {
   "cell_type": "code",
   "execution_count": 166,
   "metadata": {},
   "outputs": [
    {
     "output_type": "execute_result",
     "data": {
      "text/plain": [
       "955"
      ]
     },
     "metadata": {},
     "execution_count": 166
    }
   ],
   "source": [
    "df['Methodology'].isnull().sum()"
   ]
  },
  {
   "cell_type": "code",
   "execution_count": 167,
   "metadata": {},
   "outputs": [
    {
     "output_type": "execute_result",
     "data": {
      "text/plain": [
       "{'Agile',\n",
       " 'Evidence-based software engineering',\n",
       " 'Extreme programming (XP)',\n",
       " 'Formal standard such as ISO 9001 or IEEE 12207 (aka “waterfall” methodologies)',\n",
       " 'Kanban',\n",
       " 'Lean',\n",
       " 'Mob programming',\n",
       " 'PRINCE2',\n",
       " 'Pair programming',\n",
       " 'Scrum',\n",
       " 'nan'}"
      ]
     },
     "metadata": {},
     "execution_count": 167
    }
   ],
   "source": [
    "df['Methodology'].value_counts()\n",
    "df['Methodology'] = df['Methodology'].apply(lambda x: str(x).split(';'))\n",
    "set(itertools.chain.from_iterable(df.Methodology))"
   ]
  },
  {
   "cell_type": "code",
   "execution_count": 168,
   "metadata": {},
   "outputs": [],
   "source": [
    "def Agile(list_):\n",
    "    for i in list_:\n",
    "        if ('Agile' in list_):\n",
    "            k = 1\n",
    "        else:\n",
    "            k = 0\n",
    "        return k\n",
    "def Lean(list_):\n",
    "    for i in list_:\n",
    "        if ('Lean' in list_):\n",
    "            k = 1\n",
    "        else:\n",
    "            k = 0\n",
    "        return k\n",
    "def Extreme(list_):\n",
    "    for i in list_:\n",
    "        if ('Extreme programming (XP)' in list_):\n",
    "            k = 1\n",
    "        else:\n",
    "            k = 0\n",
    "        return k\n",
    "def Scrum(list_):\n",
    "    for i in list_:\n",
    "        if ('Scrum' in list_):\n",
    "            k = 1\n",
    "        else:\n",
    "            k = 0\n",
    "        return k\n",
    "def Formal(list_):\n",
    "    for i in list_:\n",
    "        if ('Formal standard such as ISO 9001 or IEEE 12207 (aka “waterfall” methodologies)' in list_):\n",
    "            k = 1\n",
    "        else:\n",
    "            k = 0\n",
    "        return k"
   ]
  },
  {
   "cell_type": "code",
   "execution_count": 169,
   "metadata": {},
   "outputs": [],
   "source": [
    "df['meth_agile'] = df['Methodology'].apply(Agile)\n",
    "df['meth_lean'] = df['Methodology'].apply(Lean)\n",
    "df['meth_extreme'] = df['Methodology'].apply(Extreme)\n",
    "df['meth_scrum'] = df['Methodology'].apply(Scrum)\n",
    "df['meth_formal'] = df['Methodology'].apply(Formal)\n"
   ]
  },
  {
   "cell_type": "code",
   "execution_count": 170,
   "metadata": {},
   "outputs": [
    {
     "output_type": "execute_result",
     "data": {
      "text/plain": [
       "614"
      ]
     },
     "metadata": {},
     "execution_count": 170
    }
   ],
   "source": [
    "df['VersionControl'].isnull().sum()"
   ]
  },
  {
   "cell_type": "code",
   "execution_count": 171,
   "metadata": {},
   "outputs": [
    {
     "output_type": "execute_result",
     "data": {
      "text/plain": [
       "{'Copying and pasting files to network shares',\n",
       " 'Git',\n",
       " \"I don't use version control\",\n",
       " 'Mercurial',\n",
       " 'Subversion',\n",
       " 'Team Foundation Version Control',\n",
       " 'Zip file back-ups',\n",
       " 'nan'}"
      ]
     },
     "metadata": {},
     "execution_count": 171
    }
   ],
   "source": [
    "df['VersionControl'].value_counts()\n",
    "df['VersionControl'] = df['VersionControl'].apply(lambda x: str(x).split(';'))\n",
    "set(itertools.chain.from_iterable(df.VersionControl))"
   ]
  },
  {
   "cell_type": "code",
   "execution_count": 172,
   "metadata": {},
   "outputs": [],
   "source": [
    "def Copying(list_):\n",
    "    for i in list_:\n",
    "        if ('Copying and pasting files to network shares' in list_):\n",
    "            k = 1\n",
    "        else:\n",
    "            k = 0\n",
    "        return k\n",
    "def Git(list_):\n",
    "    for i in list_:\n",
    "        if ('Git' in list_):\n",
    "            k = 1\n",
    "        else:\n",
    "            k = 0\n",
    "        return k\n",
    "def Mercurial(list_):\n",
    "    for i in list_:\n",
    "        if ('Mercurial' in list_):\n",
    "            k = 1\n",
    "        else:\n",
    "            k = 0\n",
    "        return k\n",
    "def Subversion(list_):\n",
    "    for i in list_:\n",
    "        if ('Subversion' in list_):\n",
    "            k = 1\n",
    "        else:\n",
    "            k = 0\n",
    "        return k\n",
    "def Team(list_):\n",
    "    for i in list_:\n",
    "        if ('Team Foundation Version Control' in list_):\n",
    "            k = 1\n",
    "        else:\n",
    "            k = 0\n",
    "        return k\n",
    "def Zip(list_):\n",
    "    for i in list_:\n",
    "        if ('Zip file back-ups' in list_):\n",
    "            k = 1\n",
    "        else:\n",
    "            k = 0\n",
    "        return k"
   ]
  },
  {
   "cell_type": "code",
   "execution_count": 173,
   "metadata": {},
   "outputs": [],
   "source": [
    "df['vc_Copying'] = df['VersionControl'].apply(Copying)\n",
    "df['vc_Git'] = df['VersionControl'].apply(Git)\n",
    "df['vc_Mercurial'] = df['VersionControl'].apply(Mercurial)\n",
    "df['vc_Subversion'] = df['VersionControl'].apply(Subversion)\n",
    "df['vc_Team'] = df['VersionControl'].apply(Team)\n",
    "df['vc_Zip'] = df['VersionControl'].apply(Zip)\n",
    "\n"
   ]
  },
  {
   "cell_type": "code",
   "execution_count": 174,
   "metadata": {},
   "outputs": [
    {
     "output_type": "execute_result",
     "data": {
      "text/plain": [
       "(2946, 156)"
      ]
     },
     "metadata": {},
     "execution_count": 174
    }
   ],
   "source": [
    "df.shape"
   ]
  },
  {
   "cell_type": "code",
   "execution_count": null,
   "metadata": {},
   "outputs": [],
   "source": []
  }
 ]
}